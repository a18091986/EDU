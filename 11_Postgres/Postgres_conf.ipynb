{
 "cells": [
  {
   "cell_type": "markdown",
   "id": "a135aedf-7d9d-44d7-8aa6-b1000741c329",
   "metadata": {},
   "source": [
    "# Ресурсы"
   ]
  },
  {
   "cell_type": "markdown",
   "id": "a2f89d72-48ee-4ff5-9bdd-82656e0b53bf",
   "metadata": {},
   "source": [
    "- https://techviewleo.com/how-to-install-postgresql-server-on-kali-linux/\n",
    "- https://khashtamov.com/ru/postgresql-cheatsheet/\n",
    "- https://www.linuxtechi.com/how-to-install-postgresql-on-ubuntu/"
   ]
  },
  {
   "cell_type": "markdown",
   "id": "41a32b58-c2a2-47f3-8ece-88f3437c6e44",
   "metadata": {},
   "source": [
    "- sudo apt update && sudo apt upgrade -y\n",
    "- sudo reboot\n",
    "- sudo apt install postgresql postgresql-contrib -y\n",
    "- sudo systemctl start postgresql\n",
    "- sudo systemctl status postgresql.service\n",
    "- sudo su - postgres\r",
    "- \n",
    "psql -c \"alter user postgres with password ''\"\n",
    "- psql\r",
    "- \n",
    "create user behappyman with password '';- \r\n",
    "create database behappyman;;"
   ]
  },
  {
   "cell_type": "raw",
   "id": "da853db3-2f50-4e69-97d8-2da4f1654312",
   "metadata": {},
   "source": [
    "- ERROR:  template database \"template1\" has a collation version mismatch\r\n",
    "DETAIL:  The template database was created using collation version 2.36, but the operating system provides version 2.37. HINT:  Rebuild all objects in the template database that use the default collation and run ALTER DATABASE template1 REFRESH COLLATION VERSION, or build PostgreSQL with the right library version.\r",
    "- \n",
    "\r\n",
    "psql -U postgres  -d m- sf\r\n",
    "REINDEX DATABASE m- sf;\r\n",
    "ALTER DATABASE msf REFRESH COLLATION VERSION;"
   ]
  },
  {
   "cell_type": "markdown",
   "id": "0733b8a0-d748-4bee-9f92-2d92f7358251",
   "metadata": {},
   "source": [
    "- alter user behappyman with superuser;�- �\r\n",
    "\r\n",
    "sudo nano /etc/postgresql/15/main/postgresql.- conf\r\n",
    "listen_addresses - '*'\r\n",
    "nano\n",
    "sudo vim /etc/postgresql/15/main/pg_- hba.conf\r\n",
    "host all all 0.0l-cheatsheet/"
   ]
  }
 ],
 "metadata": {
  "kernelspec": {
   "display_name": "Python 3 (ipykernel)",
   "language": "python",
   "name": "python3"
  },
  "language_info": {
   "codemirror_mode": {
    "name": "ipython",
    "version": 3
   },
   "file_extension": ".py",
   "mimetype": "text/x-python",
   "name": "python",
   "nbconvert_exporter": "python",
   "pygments_lexer": "ipython3",
   "version": "3.12.0"
  }
 },
 "nbformat": 4,
 "nbformat_minor": 5
}
