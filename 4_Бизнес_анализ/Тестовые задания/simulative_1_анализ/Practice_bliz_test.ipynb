{
 "cells": [
  {
   "cell_type": "code",
   "execution_count": 1,
   "id": "def0c349-73ab-4f20-a7d8-0238563f9eba",
   "metadata": {},
   "outputs": [],
   "source": [
    "import pandas as pd\n",
    "import numpy as np\n",
    "import warnings\n",
    "warnings.filterwarnings('ignore')\n",
    "from datetime import datetime, timedelta\n",
    "\n"
   ]
  },
  {
   "cell_type": "code",
   "execution_count": 4,
   "id": "f29c220c-b6fb-425e-bfaf-16348b4be48e",
   "metadata": {},
   "outputs": [],
   "source": [
    "sales_data = pd.read_csv('sales_data.txt')\n",
    "products_data = pd.read_csv('products_data.txt')\n",
    "\n",
    "sales_data['order_date'] = pd.to_datetime(sales_data['order_date'])"
   ]
  },
  {
   "cell_type": "code",
   "execution_count": 6,
   "id": "af108e74-e8ab-4384-9025-718d0678a1d9",
   "metadata": {},
   "outputs": [
    {
     "data": {
      "text/plain": [
       "'Восток'"
      ]
     },
     "execution_count": 6,
     "metadata": {},
     "output_type": "execute_result"
    }
   ],
   "source": [
    "#В каком регионе было продано наибольшее количество продуктов категории \"Смартфоны\"?\n",
    "\n",
    "merged_data = sales_data.merge(products_data, on='product_id')\n",
    "\n",
    "smartphones_data = merged_data[merged_data['category'] == 'Смартфоны']\n",
    "\n",
    "region_with_most_smartphone_sales = smartphones_data.groupby('region')['quantity'].sum().idxmax()\n",
    "region_with_most_smartphone_sales"
   ]
  },
  {
   "cell_type": "code",
   "execution_count": 9,
   "id": "555432d2-d576-47eb-a718-b6f341b9a3a8",
   "metadata": {},
   "outputs": [
    {
     "data": {
      "text/plain": [
       "200"
      ]
     },
     "execution_count": 9,
     "metadata": {},
     "output_type": "execute_result"
    }
   ],
   "source": [
    "#Какова разница между максимальной и минимальной средней ценой продуктов категории \"Ноутбуки\" между всеми производителями? Ответ округлите до целых.\n",
    "merged_data = sales_data.merge(products_data, on='product_id')\n",
    "\n",
    "laptops_data = merged_data[merged_data['category'] == 'Ноутбуки']\n",
    "\n",
    "manufacturer_avg_price = laptops_data.groupby('manufacturer')['price_per_unit'].mean()\n",
    "round(max(manufacturer_avg_price) - min(manufacturer_avg_price))"
   ]
  },
  {
   "cell_type": "code",
   "execution_count": 10,
   "id": "504fd9d6-54e6-406c-bdec-ec6aeba6a190",
   "metadata": {},
   "outputs": [
    {
     "data": {
      "text/plain": [
       "1003"
      ]
     },
     "execution_count": 10,
     "metadata": {},
     "output_type": "execute_result"
    }
   ],
   "source": [
    "#Какой покупатель совершил заказы на наибольшую сумму по всем временам?\n",
    "customer_total_spending = sales_data.groupby('customer_id')['total_price'].sum()\n",
    "\n",
    "top_spending_customer = customer_total_spending.idxmax()\n",
    "top_spending_customer"
   ]
  },
  {
   "cell_type": "code",
   "execution_count": 12,
   "id": "bf59cbc1-8dbd-407b-b475-bcf2218ba925",
   "metadata": {},
   "outputs": [
    {
     "data": {
      "text/plain": [
       "0.24848484848484848"
      ]
     },
     "execution_count": 12,
     "metadata": {},
     "output_type": "execute_result"
    }
   ],
   "source": [
    "#Какова доля продаж продуктов категории \"Планшеты\" от общей выручки за все время? Ответ округлите до 2 знака после запятой. Разделитель разряда - точка.\n",
    "merged_data = sales_data.merge(products_data, on='product_id')\n",
    "\n",
    "tablets_data = merged_data[merged_data['category'] == 'Планшеты']\n",
    "\n",
    "tablets_revenue_ratio = tablets_data['total_price'].sum() / merged_data['total_price'].sum()\n",
    "tablets_revenue_ratio"
   ]
  },
  {
   "cell_type": "code",
   "execution_count": 14,
   "id": "bccde4fd-0580-4881-b8bf-9b7f5db2f79e",
   "metadata": {},
   "outputs": [
    {
     "data": {
      "text/plain": [
       "275.0"
      ]
     },
     "execution_count": 14,
     "metadata": {},
     "output_type": "execute_result"
    }
   ],
   "source": [
    "#Какова разница в средней цене продуктов категории \"Смартфоны\" между двумя самыми крупными регионами по продажам? Ответ округлите до целых.\n",
    "merged_data = sales_data.merge(products_data, on='product_id')\n",
    "\n",
    "region_revenue = merged_data.groupby('region')['total_price'].sum()\n",
    "\n",
    "top_2_regions = region_revenue.nlargest(2)\n",
    "\n",
    "top_regions_smartphones = merged_data[(merged_data['region'].isin(top_2_regions.index)) & (merged_data['category'] == 'Смартфоны')]\n",
    "\n",
    "avg_price_by_region = top_regions_smartphones.groupby('region')['price_per_unit'].mean()\n",
    "\n",
    "price_difference = avg_price_by_region.diff().abs().iloc[-1]\n",
    "price_difference"
   ]
  },
  {
   "cell_type": "code",
   "execution_count": 16,
   "id": "0261310e-eba7-425e-bc7d-a8ca9becc057",
   "metadata": {},
   "outputs": [
    {
     "data": {
      "text/plain": [
       "5.0"
      ]
     },
     "execution_count": 16,
     "metadata": {},
     "output_type": "execute_result"
    }
   ],
   "source": [
    "#Сколько в среднем уникальных категорий продуктов было продано по всем регионам?\n",
    "merged_data = sales_data.merge(products_data, on='product_id')\n",
    "\n",
    "unique_categories_per_region = merged_data.groupby('region')['category'].nunique()\n",
    "unique_categories_per_region.mean()"
   ]
  },
  {
   "cell_type": "code",
   "execution_count": 18,
   "id": "0b29c9f7-eb7d-4801-9955-3c4ddf7a8d06",
   "metadata": {},
   "outputs": [
    {
     "data": {
      "text/plain": [
       "'E'"
      ]
     },
     "execution_count": 18,
     "metadata": {},
     "output_type": "execute_result"
    }
   ],
   "source": [
    "#Какой производитель представлен в наибольшем количестве различных категорий продуктов?\n",
    "merged_data = sales_data.merge(products_data, on='product_id')\n",
    "\n",
    "manufacturer_unique_categories = merged_data.groupby('manufacturer')['category'].nunique()\n",
    "\n",
    "manufacturer_with_most_unique_categories = manufacturer_unique_categories.idxmax()\n",
    "manufacturer_with_most_unique_categories"
   ]
  },
  {
   "cell_type": "code",
   "execution_count": 20,
   "id": "2401d430-76e4-4996-a35a-1a3bedd761bc",
   "metadata": {},
   "outputs": [
    {
     "data": {
      "text/plain": [
       "8"
      ]
     },
     "execution_count": 20,
     "metadata": {},
     "output_type": "execute_result"
    }
   ],
   "source": [
    "#В каком месяце было продано больше всего продуктов категории \"Планшеты\" в регионе \"Север\"?\n",
    "merged_data = sales_data.merge(products_data, on='product_id')\n",
    "\n",
    "north_tablets_data = merged_data[(merged_data['category'] == 'Планшеты') & (merged_data['region'] == 'Север')]\n",
    "\n",
    "north_tablets_data['month'] = north_tablets_data['order_date'].dt.month\n",
    "\n",
    "month_with_most_north_tablet_sales = north_tablets_data.groupby('month')['quantity'].sum().idxmax()\n",
    "month_with_most_north_tablet_sales"
   ]
  },
  {
   "cell_type": "code",
   "execution_count": 22,
   "id": "7ff63b04-9a71-4fde-8f6e-e68fbf68ef0a",
   "metadata": {},
   "outputs": [
    {
     "data": {
      "text/plain": [
       "'B'"
      ]
     },
     "execution_count": 22,
     "metadata": {},
     "output_type": "execute_result"
    }
   ],
   "source": [
    "#Какой производитель продал продукты на наибольшую сумму в регионе \"Юг\" за март 2023 года?\n",
    "merged_data = sales_data.merge(products_data, on='product_id')\n",
    "\n",
    "south_march_2023_data = merged_data[(merged_data['region'] == 'Юг') & (merged_data['order_date'].dt.month == 3) & (merged_data['order_date'].dt.year == 2023)]\n",
    "\n",
    "manufacturer_revenue_south_march_2023 = south_march_2023_data.groupby('manufacturer')['total_price'].sum()\n",
    "\n",
    "manufacturer_with_highest_revenue = manufacturer_revenue_south_march_2023.idxmax()\n",
    "manufacturer_with_highest_revenue"
   ]
  },
  {
   "cell_type": "code",
   "execution_count": 23,
   "id": "ed8e4cfc-2256-4a27-91d2-4a237c2c879c",
   "metadata": {},
   "outputs": [
    {
     "data": {
      "text/plain": [
       "1"
      ]
     },
     "execution_count": 23,
     "metadata": {},
     "output_type": "execute_result"
    }
   ],
   "source": [
    "#Сколько покупателей совершили заказы на продукты хотя бы трех разных категорий?\n",
    "merged_data = sales_data.merge(products_data, on='product_id')\n",
    "\n",
    "customer_unique_categories = merged_data.groupby('customer_id')['category'].nunique()\n",
    "\n",
    "customers_with_multiple_categories = customer_unique_categories[customer_unique_categories >= 3]\n",
    "\n",
    "num_customers_with_multiple_categories = len(customers_with_multiple_categories)\n",
    "num_customers_with_multiple_categories"
   ]
  },
  {
   "cell_type": "code",
   "execution_count": 26,
   "id": "1f9e76e4-d294-49c2-9207-7e18d64d95aa",
   "metadata": {},
   "outputs": [
    {
     "data": {
      "text/plain": [
       "0.26811594202898553"
      ]
     },
     "execution_count": 26,
     "metadata": {},
     "output_type": "execute_result"
    }
   ],
   "source": [
    "#Какова доля продаж продуктов производителя \"C\" от общей выручки за все время в регионе \"Север\"? Ответ округлите до 2 знака после запятой. В качестве разделителя разрядов используйте точку.\n",
    "merged_data = sales_data.merge(products_data, on='product_id')\n",
    "\n",
    "manufacturer_c_north_data = merged_data[(merged_data['manufacturer'] == 'C') & (merged_data['region'] == 'Север')]\n",
    "\n",
    "revenue_ratio_manufacturer_c_north = manufacturer_c_north_data['total_price'].sum() / merged_data[merged_data['region'] == 'Север']['total_price'].sum()\n",
    "revenue_ratio_manufacturer_c_north"
   ]
  },
  {
   "cell_type": "code",
   "execution_count": 27,
   "id": "fc882971-0847-46ca-bcb2-643143fcff73",
   "metadata": {},
   "outputs": [
    {
     "data": {
      "text/plain": [
       "[1001, 1003]"
      ]
     },
     "execution_count": 27,
     "metadata": {},
     "output_type": "execute_result"
    }
   ],
   "source": [
    "#Найдите покупателей, которые купили у более чем 15% уникальных производителей. Если таких покупателей несколько - напишите их через запятую с пробелом в порядке возрастания.\n",
    "#Примечание: Уникальными производителями считайте уникальную связку \"Категория = Производитель\".\n",
    "\n",
    "merged_data = sales_data.merge(products_data, on='product_id')\n",
    "\n",
    "total_manufactures = int(merged_data.groupby(['category', 'manufacturer'])['manufacturer'].agg({'nunique'}).sum())\n",
    "\n",
    "unique_manufacturers_per_customer = merged_data.groupby(['customer_id', 'category', 'manufacturer'])['manufacturer'].agg({'nunique'})\n",
    "\n",
    "percent_from_total = unique_manufacturers_per_customer.groupby('customer_id').sum().apply(lambda x: x / total_manufactures).reset_index()\n",
    "\n",
    "customers_with_more_than_15 = percent_from_total[percent_from_total['nunique'] > 0.15]\n",
    "\n",
    "customers_with_more_than_15['customer_id'].tolist()"
   ]
  },
  {
   "cell_type": "code",
   "execution_count": 29,
   "id": "15afd253-bb15-4be5-9298-df4517203c8d",
   "metadata": {},
   "outputs": [
    {
     "data": {
      "text/plain": [
       "4"
      ]
     },
     "execution_count": 29,
     "metadata": {},
     "output_type": "execute_result"
    }
   ],
   "source": [
    "# Какое максимальное количество продуктов было продано в один заказ?\n",
    "max_quantity_per_order = sales_data.groupby('order_id')['quantity'].sum().max()\n",
    "max_quantity_per_order"
   ]
  },
  {
   "cell_type": "code",
   "execution_count": 32,
   "id": "cf0087bf-fe1b-4154-9489-a5011e21a56a",
   "metadata": {},
   "outputs": [
    {
     "data": {
      "text/plain": [
       "'E'"
      ]
     },
     "execution_count": 32,
     "metadata": {},
     "output_type": "execute_result"
    }
   ],
   "source": [
    "# Какой производитель имеет самую высокую среднюю цену продукта среди всех категорий?\n",
    "merged_data = sales_data.merge(products_data, on='product_id')\n",
    "\n",
    "average_price_per_manufacturer_per_category = merged_data.groupby(['manufacturer', 'category'])['price_per_unit'].mean()\n",
    "\n",
    "manufacturer_with_highest_average_price = average_price_per_manufacturer_per_category.groupby('manufacturer').mean().idxmax()\n",
    "manufacturer_with_highest_average_price\n"
   ]
  },
  {
   "cell_type": "code",
   "execution_count": 33,
   "id": "0e2c9911-7c75-4d85-b57c-1b2eb74d6af0",
   "metadata": {},
   "outputs": [
    {
     "data": {
      "text/plain": [
       "0"
      ]
     },
     "execution_count": 33,
     "metadata": {},
     "output_type": "execute_result"
    }
   ],
   "source": [
    "# Каково общее количество уникальных производителей, чьи продукты были куплены менее чем в 3 регионах?\n",
    "merged_data = sales_data.merge(products_data, on='product_id')\n",
    "\n",
    "unique_regions_per_manufacturer = merged_data.groupby(['manufacturer', 'region'])['region'].nunique()\n",
    "\n",
    "manufacturers_with_products_in_multiple_regions = unique_regions_per_manufacturer.groupby('manufacturer').apply(lambda x: (len(x) <= 2))\n",
    "\n",
    "total_manufacturers_with_products_in_multiple_regions = manufacturers_with_products_in_multiple_regions.sum()\n",
    "total_manufacturers_with_products_in_multiple_regions"
   ]
  }
 ],
 "metadata": {
  "kernelspec": {
   "display_name": "Python 3 (ipykernel)",
   "language": "python",
   "name": "python3"
  },
  "language_info": {
   "codemirror_mode": {
    "name": "ipython",
    "version": 3
   },
   "file_extension": ".py",
   "mimetype": "text/x-python",
   "name": "python",
   "nbconvert_exporter": "python",
   "pygments_lexer": "ipython3",
   "version": "3.12.0"
  }
 },
 "nbformat": 4,
 "nbformat_minor": 5
}
