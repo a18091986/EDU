{
 "cells": [
  {
   "cell_type": "markdown",
   "id": "637ea598-5ebf-4678-b3ca-4336fb1dd29e",
   "metadata": {},
   "source": [
    "https://skillbox.ru/media/marketing/abtestirovanie-zachem-ono-nuzhno-kak-ego-provesti-i-kak-pravilno-otsenit-rezultaty/"
   ]
  }
 ],
 "metadata": {
  "kernelspec": {
   "display_name": "Python 3 (ipykernel)",
   "language": "python",
   "name": "python3"
  },
  "language_info": {
   "codemirror_mode": {
    "name": "ipython",
    "version": 3
   },
   "file_extension": ".py",
   "mimetype": "text/x-python",
   "name": "python",
   "nbconvert_exporter": "python",
   "pygments_lexer": "ipython3",
   "version": "3.12.0"
  }
 },
 "nbformat": 4,
 "nbformat_minor": 5
}
