{
 "cells": [
  {
   "cell_type": "markdown",
   "id": "cbe0d2f3-fd2e-41de-a30c-99992cacdce1",
   "metadata": {},
   "source": [
    "# Установка"
   ]
  },
  {
   "cell_type": "markdown",
   "id": "139cb271-f843-4021-8b6e-5e066a903ebf",
   "metadata": {},
   "source": [
    "- клнируем https://github.com/getredash/setup\n",
    "- запускаем setup.sh"
   ]
  },
  {
   "cell_type": "markdown",
   "id": "e59f17f8-89b1-4322-8264-35add9f50a67",
   "metadata": {},
   "source": [
    "https://shakhbanov.org/rukovodstvo-po-razvertyvaniyu-redash-na-servere-s-ispolzovaniem-docker/"
   ]
  },
  {
   "cell_type": "markdown",
   "id": "489e049b-55a1-4952-8b6f-9fccf67e0ca7",
   "metadata": {},
   "source": [
    "# Миграция"
   ]
  },
  {
   "cell_type": "markdown",
   "id": "80532cf8-17fe-4702-bd14-dc2780413b3b",
   "metadata": {},
   "source": [
    "https://gist.github.com/arikfr/d29db3617df5a8d547b4709a631f5b6a\n",
    "https://discuss.redash.io/t/how-to-backup-restore-redash-completely/8649"
   ]
  }
 ],
 "metadata": {
  "kernelspec": {
   "display_name": "Python 3 (ipykernel)",
   "language": "python",
   "name": "python3"
  },
  "language_info": {
   "codemirror_mode": {
    "name": "ipython",
    "version": 3
   },
   "file_extension": ".py",
   "mimetype": "text/x-python",
   "name": "python",
   "nbconvert_exporter": "python",
   "pygments_lexer": "ipython3",
   "version": "3.12.0"
  }
 },
 "nbformat": 4,
 "nbformat_minor": 5
}
