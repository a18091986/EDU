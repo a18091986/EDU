{
 "cells": [
  {
   "cell_type": "markdown",
   "id": "47de5b09-9a44-4c66-a935-2e72cd0815df",
   "metadata": {},
   "source": [
    "# Ресурсы"
   ]
  },
  {
   "cell_type": "code",
   "execution_count": null,
   "id": "c21bc438-0ca1-4c07-9a5e-f5f090ed033f",
   "metadata": {},
   "outputs": [],
   "source": [
    "# https://pyprog.pro/mpl/mpl_short_guide.html"
   ]
  },
  {
   "cell_type": "code",
   "execution_count": null,
   "id": "88a1fc17-69ca-4a2a-9f69-aa5887f025da",
   "metadata": {},
   "outputs": [],
   "source": []
  }
 ],
 "metadata": {
  "kernelspec": {
   "display_name": "Python 3 (ipykernel)",
   "language": "python",
   "name": "python3"
  },
  "language_info": {
   "codemirror_mode": {
    "name": "ipython",
    "version": 3
   },
   "file_extension": ".py",
   "mimetype": "text/x-python",
   "name": "python",
   "nbconvert_exporter": "python",
   "pygments_lexer": "ipython3",
   "version": "3.12.0"
  }
 },
 "nbformat": 4,
 "nbformat_minor": 5
}
