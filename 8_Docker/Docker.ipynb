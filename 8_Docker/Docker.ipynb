{
 "cells": [
  {
   "cell_type": "markdown",
   "id": "b2c57dc5-5f12-4be6-8f40-1d0d65bcd0ae",
   "metadata": {
    "editable": true,
    "slideshow": {
     "slide_type": ""
    },
    "tags": []
   },
   "source": [
    "# RESOURCES"
   ]
  },
  {
   "cell_type": "markdown",
   "id": "cd99b389-29bc-4ca3-99c8-60ae0b756520",
   "metadata": {},
   "source": [
    "- https://habr.com/ru/company/ruvds/blog/439980/\n",
    "- https://habr.com/ru/company/southbridge/blog/329138/\n",
    "- https://docs.gitlab.com/ee/ci/docker/using_kaniko.html\n"
   ]
  },
  {
   "cell_type": "markdown",
   "id": "a164538d-2a25-4d02-8e24-c22f6c013f94",
   "metadata": {},
   "source": [
    "- онлайн песочницы"
   ]
  },
  {
   "cell_type": "markdown",
   "id": "2342b38b-1c32-4c71-9874-dad25b311f84",
   "metadata": {
    "editable": true,
    "slideshow": {
     "slide_type": ""
    },
    "tags": []
   },
   "source": [
    "- https://labs.play-with-docker.com\n",
    "- https://rotoro.cloud/dashboard/"
   ]
  },
  {
   "cell_type": "markdown",
   "id": "bfaee9b9-a2c4-4c78-a7e5-57a1061c3784",
   "metadata": {},
   "source": [
    "- install-uninstall docker\n",
    "\n",
    "https://docs.docker.com/desktop/install/linux-install/\n",
    "https://linuxhint.com/install_docker_linux_mint/\n"
   ]
  },
  {
   "cell_type": "markdown",
   "id": "07c9a9a2-0e73-40ed-b14c-279c6dcd9564",
   "metadata": {},
   "source": [
    "# Основные команды"
   ]
  },
  {
   "cell_type": "raw",
   "id": "8086ece0-f0d3-461e-9f49-c86e7ab48070",
   "metadata": {},
   "source": [
    "# собрать в текущей директории докер образ\n",
    "- docker build . -t [name]:[tag] \n",
    "\n",
    "# отобразить список образов \n",
    "- docker images\n",
    "\n",
    "# запуск контейнера\n",
    "- docker run -d -p 8080:8080 [name]:[tag] \n",
    "-p порт_наружу:порт_внутри_докера \n",
    "-d запускает контейнер в фоновом режиме и выводит в консоль его ID\n",
    "-it - запуск в интерактивном режиме\n",
    "\n",
    "# присооединить запущенный контейнер к консоли \n",
    "docker attach [id | name]\n",
    "\n",
    "# посмотреть информацию обо всех контейнерах \n",
    "docker ps -a\n",
    "\n",
    "# остановить работу контейнера\n",
    "docker stop [id | name]\n",
    "docker stop $(docker ps -q) - остановка всех контейнеров\n",
    "\n",
    "# удалить остановленный контейнер\n",
    "docker rm [id | name] [id | name] [id | name] ....\n",
    "docker rm $(docker ps -aq) - удалить все контейнеры\n",
    "\n",
    "# удалить образ из системы \n",
    "docker rmi [-f] [id | name]\n",
    "\n",
    "# скачать образ на машину\n",
    "docker pull [name]\n",
    "\n",
    "# выполнить команду в запущенном контейнере\n",
    "docker exec [name | id] команда\n",
    "\n",
    "# получить детальную информацию о контейнере\n",
    "docker inspect [id] \n",
    "\n",
    "# смотреть logs \n",
    "docker logs [id]"
   ]
  },
  {
   "cell_type": "markdown",
   "id": "a6d8df66-23a1-4462-9a29-95cf7b0de767",
   "metadata": {},
   "source": [
    "## Docker Run"
   ]
  },
  {
   "cell_type": "markdown",
   "id": "fda50af3-6ee0-4146-82a4-f26e5ad8ea1c",
   "metadata": {},
   "source": [
    "- запустить определенную версию образа name:tag (default: latest)\n",
    "- -it - подключение к контейнеру в интерактивном режиме\n",
    "- -p host_port:docker_port\n",
    "- -v /opt/datadir:/var/lib/mysql - проброс папки - таким образом docker монтирует внешюю директорию в свою внутреннюю\n",
    "- "
   ]
  },
  {
   "cell_type": "markdown",
   "id": "756ae08b-e64a-4d1a-8925-5b8a874add08",
   "metadata": {},
   "source": [
    "# Delete old docker"
   ]
  },
  {
   "cell_type": "raw",
   "id": "be8621fe-c3ee-48db-b119-016ac30fc00a",
   "metadata": {},
   "source": [
    "sudo apt remove docker-desktop\n",
    "rm -r $HOME/.docker/desktop\n",
    "sudo rm /usr/local/bin/com.docker.cli\n",
    "sudo apt purge docker-desktop"
   ]
  },
  {
   "cell_type": "markdown",
   "id": "e803090c-cfff-40b6-b41b-1e63e289961e",
   "metadata": {},
   "source": [
    "# Install"
   ]
  },
  {
   "cell_type": "raw",
   "id": "e56ceae8-c095-4ed3-816a-c61f474c4486",
   "metadata": {},
   "source": [
    "# Add Docker's official GPG key:\n",
    "sudo apt-get update\n",
    "sudo apt-get install ca-certificates curl gnupg\n",
    "sudo install -m 0755 -d /etc/apt/keyrings\n",
    "curl -fsSL https://download.docker.com/linux/ubuntu/gpg | sudo gpg --dearmor -o /etc/apt/keyrings/docker.gpg\n",
    "sudo chmod a+r /etc/apt/keyrings/docker.gpg\n",
    "\n",
    "\n",
    "# Add the repository to Apt sources:\n",
    "echo \\\n",
    "  \"deb [arch=$(dpkg --print-architecture) signed-by=/etc/apt/keyrings/docker.gpg] https://download.docker.com/linux/ubuntu \\\n",
    "  $(. /etc/os-release && echo \"$VERSION_CODENAME\") stable\" | \\\n",
    "  sudo tee /etc/apt/sources.list.d/docker.list > /dev/null\n",
    "sudo apt-get update"
   ]
  },
  {
   "cell_type": "markdown",
   "id": "797c77bb-1ab6-4013-9ea5-6457241aa11c",
   "metadata": {},
   "source": [
    "sudo apt-get install docker-ce docker-ce-cli containerd.io docker-buildx-plugin docker-compose-plugin"
   ]
  },
  {
   "cell_type": "raw",
   "id": "21e0edaf-fc2c-494b-a9e3-e5ab62176e83",
   "metadata": {},
   "source": [
    "скачиваем докер https://docs.docker.com/desktop/install/ubuntu/\n",
    "\n",
    "curl https://desktop.docker.com/linux/main/amd64/docker-desktop-4.26.1-amd64.deb --output docker-desktop-4.26.1-amd64.deb"
   ]
  },
  {
   "cell_type": "markdown",
   "id": "9d07821d-e9ee-4194-80b0-a912d950175c",
   "metadata": {},
   "source": [
    "sudo apt-get install ./docker-desktop-<version>-<arch>.deb"
   ]
  },
  {
   "cell_type": "markdown",
   "id": "ec2a6d00-e49b-4c9e-b7ec-0b9bd6d5b8bd",
   "metadata": {},
   "source": [
    "systemctl --user start docker-desktop"
   ]
  },
  {
   "cell_type": "markdown",
   "id": "8f7bcbe6-5529-41e0-8a0e-610af0b71d5d",
   "metadata": {},
   "source": [
    "sudo usermod -aG docker behappyman"
   ]
  },
  {
   "cell_type": "raw",
   "id": "d6c5b48a-1db2-4570-b3cf-f54850669993",
   "metadata": {},
   "source": [
    "modprobe kvm\n",
    "kvm-ok\n",
    "ls -al /dev/kvm\n",
    "sudo usermod -aG kvm $USER"
   ]
  },
  {
   "cell_type": "markdown",
   "id": "dc0f6d40-9d60-4061-90ff-b3c5cf7082f4",
   "metadata": {},
   "source": [
    "# Создание простейшего контейнера и сборка образа"
   ]
  },
  {
   "cell_type": "raw",
   "id": "cb64cef0-f0b7-44f6-b4ad-1ca6404102a3",
   "metadata": {},
   "source": [
    "1.py\n",
    "import time\n",
    "print(\"test\")\n",
    "time.sleep(5)\n",
    "\n",
    "#Dockerfile\n",
    "FROM python:3.6-alpine3.8                 #скачиваем python-alpine\n",
    "COPY 1.py /app/                           #копируем 1.py в директорию /app образа \n",
    "WORKDIR /app                              #делаем данную директорию рабочей для следующей команды\n",
    "ENTRYPOINT [\"python3\", \"/app/1.py\"]       #говорим, что бы python запустил приложение\n",
    "\n",
    "#сборка образа\n",
    "docker build . -t py_app:v0.1"
   ]
  },
  {
   "cell_type": "raw",
   "id": "5f9387a4-8432-4a34-9f8f-50edaabf4bf1",
   "metadata": {},
   "source": []
  },
  {
   "cell_type": "markdown",
   "id": "5da12c58-d219-4702-978c-b8d32c9a6503",
   "metadata": {},
   "source": [
    "# Луковая архитектура"
   ]
  },
  {
   "cell_type": "markdown",
   "id": "101b3778-5565-41f0-94ed-4a5b4337926d",
   "metadata": {},
   "source": [
    "- каждая команда RUN, COPY, ADD, FROM создает новый слой\n",
    "- для сокращения слоёв следует использовать объединение команд: RUN apt-get update && apt-get install ca-certificates ....\n",
    "- если вышестоящий слой изменяется, то нижележащие будут пересобираться (на них не будет работать кэш), следовательно то, что меняется реже всего следует записывать как можно выше"
   ]
  },
  {
   "cell_type": "markdown",
   "id": "c6fe1354-7c0d-4ec5-a279-6dc244930360",
   "metadata": {},
   "source": [
    "# Docker Hub"
   ]
  },
  {
   "cell_type": "raw",
   "id": "04b82e83-02a7-404e-8930-285f148dd2e8",
   "metadata": {},
   "source": [
    "docker login\n",
    "- login\n",
    "- password\n",
    "\n",
    "# сопоставляем tag в соответствие с именем репозитория\n",
    "docker tag go:v0.2 a18091986edu/lesson1:v0.2\n",
    "# пушим образ в хранилище:\n",
    "docker push a18091986edu/lesson1:v0.2"
   ]
  }
 ],
 "metadata": {
  "kernelspec": {
   "display_name": "Python 3 (ipykernel)",
   "language": "python",
   "name": "python3"
  },
  "language_info": {
   "codemirror_mode": {
    "name": "ipython",
    "version": 3
   },
   "file_extension": ".py",
   "mimetype": "text/x-python",
   "name": "python",
   "nbconvert_exporter": "python",
   "pygments_lexer": "ipython3",
   "version": "3.12.0"
  }
 },
 "nbformat": 4,
 "nbformat_minor": 5
}
