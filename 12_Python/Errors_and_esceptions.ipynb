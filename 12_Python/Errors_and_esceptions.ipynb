{
 "cells": [
  {
   "cell_type": "markdown",
   "id": "06f87f92-f074-4d22-9ad4-89fec8194005",
   "metadata": {},
   "source": [
    "# Ошибки"
   ]
  },
  {
   "cell_type": "markdown",
   "id": "12f6eeba-f9e0-4b09-8293-47e250dcc214",
   "metadata": {},
   "source": [
    "- синтаксические\n",
    "- исключения"
   ]
  },
  {
   "cell_type": "code",
   "execution_count": 6,
   "id": "ba0dd58e-b18d-4599-9b64-f161b2ec0ed5",
   "metadata": {},
   "outputs": [
    {
     "name": "stdout",
     "output_type": "stream",
     "text": [
      "Zero Devision!\n",
      "End\n"
     ]
    }
   ],
   "source": [
    "try:\n",
    "    [1, 2, 3].sort()\n",
    "    4 / 0\n",
    "except TypeError:\n",
    "    print(\"Type error!\")\n",
    "except ZeroDivisionError:\n",
    "    print(\"Zero Devision!\")\n",
    "else:\n",
    "    print('ALL OK!')\n",
    "finally:\n",
    "    print('End')"
   ]
  },
  {
   "cell_type": "code",
   "execution_count": 13,
   "id": "16baf256-034e-45a6-a2b1-95a85008e444",
   "metadata": {},
   "outputs": [
    {
     "ename": "Exception",
     "evalue": "<class 'ArithmeticError'>",
     "output_type": "error",
     "traceback": [
      "\u001b[0;31m---------------------------------------------------------------------------\u001b[0m",
      "\u001b[0;31mException\u001b[0m                                 Traceback (most recent call last)",
      "Cell \u001b[0;32mIn[13], line 16\u001b[0m\n\u001b[1;32m     12\u001b[0m             \u001b[38;5;28;01massert\u001b[39;00m \u001b[38;5;241m1\u001b[39m \u001b[38;5;241m==\u001b[39m \u001b[38;5;241m2\u001b[39m\n\u001b[1;32m     15\u001b[0m \u001b[38;5;28;01mtry\u001b[39;00m:\n\u001b[0;32m---> 16\u001b[0m     \u001b[43mfoo\u001b[49m\u001b[43m(\u001b[49m\u001b[38;5;241;43m2\u001b[39;49m\u001b[43m)\u001b[49m\n\u001b[1;32m     17\u001b[0m \u001b[38;5;28;01mexcept\u001b[39;00m \u001b[38;5;167;01mZeroDivisionError\u001b[39;00m:\n\u001b[1;32m     18\u001b[0m     \u001b[38;5;28mprint\u001b[39m(\u001b[38;5;124m\"\u001b[39m\u001b[38;5;124mZeroDivisionError\u001b[39m\u001b[38;5;124m\"\u001b[39m)\n",
      "Cell \u001b[0;32mIn[13], line 10\u001b[0m, in \u001b[0;36mfoo\u001b[0;34m(val)\u001b[0m\n\u001b[1;32m      8\u001b[0m     \u001b[38;5;28;01mraise\u001b[39;00m \u001b[38;5;167;01mException\u001b[39;00m(\u001b[38;5;167;01mZeroDivisionError\u001b[39;00m)\n\u001b[1;32m      9\u001b[0m \u001b[38;5;28;01mcase\u001b[39;00m \u001b[38;5;241m2\u001b[39m:\n\u001b[0;32m---> 10\u001b[0m     \u001b[38;5;28;01mraise\u001b[39;00m \u001b[38;5;167;01mException\u001b[39;00m(\u001b[38;5;167;01mArithmeticError\u001b[39;00m)\n\u001b[1;32m     11\u001b[0m \u001b[38;5;28;01mcase\u001b[39;00m\u001b[38;5;250m \u001b[39m\u001b[38;5;28;01m_\u001b[39;00m:\n\u001b[1;32m     12\u001b[0m     \u001b[38;5;28;01massert\u001b[39;00m \u001b[38;5;241m1\u001b[39m \u001b[38;5;241m==\u001b[39m \u001b[38;5;241m2\u001b[39m\n",
      "\u001b[0;31mException\u001b[0m: <class 'ArithmeticError'>"
     ]
    }
   ],
   "source": [
    "# Вашей программе будет доступна функция foo, которая может бросать исключения.\n",
    "# Вам необходимо написать код, который запускает эту функцию, \n",
    "# затем ловит исключения ArithmeticError, AssertionError, ZeroDivisionError и выводит имя пойманного исключения.\n",
    "\n",
    "def foo(val: int):\n",
    "    match val:\n",
    "        case 1:\n",
    "            raise Exception(ZeroDivisionError)\n",
    "        case 2:\n",
    "            raise Exception(ArithmeticError)\n",
    "        case _:\n",
    "            assert 1 == 2\n",
    "    \n",
    "\n",
    "try:\n",
    "    foo(2)\n",
    "except ZeroDivisionError:\n",
    "    print(\"ZeroDivisionError\")\n",
    "except ArithmeticError:\n",
    "    print(\"ArithmeticError\")\n",
    "except AssertionError:\n",
    "    print(\"AssertionError\")\n",
    "\n",
    "\n",
    "foo(3)"
   ]
  },
  {
   "cell_type": "code",
   "execution_count": 19,
   "id": "16f90a6e-828c-47e4-a62f-7be0e2a0e1c4",
   "metadata": {},
   "outputs": [
    {
     "ename": "NonPositiveError",
     "evalue": "",
     "output_type": "error",
     "traceback": [
      "\u001b[0;31m---------------------------------------------------------------------------\u001b[0m",
      "\u001b[0;31mNonPositiveError\u001b[0m                          Traceback (most recent call last)",
      "Cell \u001b[0;32mIn[19], line 12\u001b[0m\n\u001b[1;32m      9\u001b[0m             \u001b[38;5;28msuper\u001b[39m()\u001b[38;5;241m.\u001b[39mappend(x)\n\u001b[1;32m     11\u001b[0m d \u001b[38;5;241m=\u001b[39m PositiveList()\n\u001b[0;32m---> 12\u001b[0m \u001b[43md\u001b[49m\u001b[38;5;241;43m.\u001b[39;49m\u001b[43mappend\u001b[49m\u001b[43m(\u001b[49m\u001b[38;5;241;43m-\u001b[39;49m\u001b[38;5;241;43m3\u001b[39;49m\u001b[43m)\u001b[49m\n\u001b[1;32m     13\u001b[0m d\n",
      "Cell \u001b[0;32mIn[19], line 7\u001b[0m, in \u001b[0;36mPositiveList.append\u001b[0;34m(self, x)\u001b[0m\n\u001b[1;32m      5\u001b[0m \u001b[38;5;28;01mdef\u001b[39;00m \u001b[38;5;21mappend\u001b[39m(\u001b[38;5;28mself\u001b[39m, x):\n\u001b[1;32m      6\u001b[0m     \u001b[38;5;28;01mif\u001b[39;00m x \u001b[38;5;241m<\u001b[39m\u001b[38;5;241m=\u001b[39m \u001b[38;5;241m0\u001b[39m:\n\u001b[0;32m----> 7\u001b[0m         \u001b[38;5;28;01mraise\u001b[39;00m NonPositiveError()\n\u001b[1;32m      8\u001b[0m     \u001b[38;5;28;01melse\u001b[39;00m:\n\u001b[1;32m      9\u001b[0m         \u001b[38;5;28msuper\u001b[39m()\u001b[38;5;241m.\u001b[39mappend(x)\n",
      "\u001b[0;31mNonPositiveError\u001b[0m: "
     ]
    }
   ],
   "source": [
    "class NonPositiveError(BaseException):\n",
    "    pass\n",
    "\n",
    "class PositiveList(list):\n",
    "    def append(self, x):\n",
    "        if x <= 0:\n",
    "            raise NonPositiveError()\n",
    "        else:\n",
    "            super().append(x)\n",
    "\n",
    "d = PositiveList()\n",
    "d.append(-3)\n",
    "d"
   ]
  },
  {
   "cell_type": "code",
   "execution_count": null,
   "id": "df1154b1-6b5d-4ed7-ae6b-ff65bbaa6a6c",
   "metadata": {},
   "outputs": [],
   "source": []
  }
 ],
 "metadata": {
  "kernelspec": {
   "display_name": "Python 3 (ipykernel)",
   "language": "python",
   "name": "python3"
  },
  "language_info": {
   "codemirror_mode": {
    "name": "ipython",
    "version": 3
   },
   "file_extension": ".py",
   "mimetype": "text/x-python",
   "name": "python",
   "nbconvert_exporter": "python",
   "pygments_lexer": "ipython3",
   "version": "3.12.0"
  }
 },
 "nbformat": 4,
 "nbformat_minor": 5
}
