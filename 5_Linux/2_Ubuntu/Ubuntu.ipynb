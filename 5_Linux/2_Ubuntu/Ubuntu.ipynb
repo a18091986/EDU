{
 "cells": [
  {
   "cell_type": "markdown",
   "id": "5ec2aee3-900d-4fea-92e0-a68d3a0e7adf",
   "metadata": {},
   "source": [
    "# увеличение жесткого диска"
   ]
  }
 ],
 "metadata": {
  "kernelspec": {
   "display_name": "Python 3 (ipykernel)",
   "language": "python",
   "name": "python3"
  },
  "language_info": {
   "codemirror_mode": {
    "name": "ipython",
    "version": 3
   },
   "file_extension": ".py",
   "mimetype": "text/x-python",
   "name": "python",
   "nbconvert_exporter": "python",
   "pygments_lexer": "ipython3",
   "version": "3.12.0"
  }
 },
 "nbformat": 4,
 "nbformat_minor": 5
}
