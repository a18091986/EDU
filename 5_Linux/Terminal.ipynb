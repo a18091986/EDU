{
 "cells": [
  {
   "cell_type": "markdown",
   "id": "1d097ec1-0807-4509-8716-6412129ff688",
   "metadata": {},
   "source": [
    "# Терминал"
   ]
  },
  {
   "cell_type": "markdown",
   "id": "e6665680-d5b0-4c2d-985a-99f544966275",
   "metadata": {},
   "source": [
    "- Ctrl-Alt-T - открыть новый терминал\n",
    "- Ctrl-D - закрыть терминал\n",
    "- Ctrl-Shift-C / Ctrl-Shift-V - копирование / вставка"
   ]
  },
  {
   "cell_type": "code",
   "execution_count": null,
   "id": "83c243ed-95b3-4286-ab0d-babfc5d69423",
   "metadata": {},
   "outputs": [],
   "source": [
    "\n"
   ]
  },
  {
   "cell_type": "markdown",
   "id": "b01d6628-eb20-41b8-89c8-a4441fd68e94",
   "metadata": {},
   "source": [
    "# Работа с файловой системой"
   ]
  },
  {
   "cell_type": "code",
   "execution_count": null,
   "id": "afcd9cc3-d79d-469e-ae20-a7d5185d11b3",
   "metadata": {},
   "outputs": [],
   "source": [
    "- "
   ]
  },
  {
   "cell_type": "markdown",
   "id": "c967730a-a72e-4da9-ba76-815848491710",
   "metadata": {},
   "source": [
    "# Полезные утилиты"
   ]
  },
  {
   "cell_type": "code",
   "execution_count": null,
   "id": "b16d42b9-dc39-43ca-8d24-7e60c4b10d15",
   "metadata": {},
   "outputs": [],
   "source": [
    "- apropos - для поиска утилит\n",
    "- whereis - для поиска файлов\n",
    "- convert \n",
    "(sudo apt install imagemagic)\n",
    "флаги: "
   ]
  },
  {
   "cell_type": "markdown",
   "id": "52f8fc5a-7062-4805-a24f-d4febca1fff4",
   "metadata": {},
   "source": [
    "# Скрипты"
   ]
  },
  {
   "cell_type": "markdown",
   "id": "6e332a62-c25c-4991-a83c-8c50692fe933",
   "metadata": {},
   "source": [
    "#!/bin/bash"
   ]
  },
  {
   "cell_type": "markdown",
   "id": "7e6ba6f0-5db6-4125-bfd5-3192ce954bdd",
   "metadata": {},
   "source": [
    "- read -pse \"Выводящийся текст: \" var1 var2 (p - выводимый текст до ввода, s - скрытие ввода, e - возможность перемещаться стрелками во время ввода)\n",
    "  echo var1 var2\n",
    "- set -e - добавляется в начало скрипта для его прерывания в случае возникновения ошибки на любой строке. Если какой то команде позволительно выполниться с ошибкой следует написать условие: command || true"
   ]
  },
  {
   "cell_type": "markdown",
   "id": "bb524966-2856-4fea-a981-d0e626da75de",
   "metadata": {},
   "source": [
    "# Параметры bash"
   ]
  },
  {
   "cell_type": "markdown",
   "id": "d41fdca0-6b72-4486-9ef4-43f220261ea8",
   "metadata": {},
   "source": [
    " - echo $? - выводит код возрата последней выполненной команды"
   ]
  },
  {
   "cell_type": "markdown",
   "id": "1517e72e-0118-4e1c-8006-7920686ce16d",
   "metadata": {},
   "source": [
    "# Условия"
   ]
  },
  {
   "cell_type": "raw",
   "id": "9920141f-f874-48a6-8ccb-905b05e55478",
   "metadata": {},
   "source": [
    "- command1 && command2 - command2 исполнится только если command1 завершится успешно (код возрата 0)\n",
    "- command1 || command2 - command2 исполнится только если command1 завершится с ошибкой (код возрата 1)\n",
    "\n",
    "- if condition1;\n",
    "  then\n",
    "      command1\n",
    "      command2\n",
    "  elif condition2;\n",
    "  then\n",
    "      command1\n",
    "      command2\n",
    "  else\n",
    "      command1\n",
    "  fi\n",
    "\n",
    "- if [[ $number -gt 0 && ($number -le 40 || $number -gt 60) ]]; then\n",
    "- if [[ 0 -le $number && $number -le 100 ]]; then\n",
    "- if [[ ! 0 -le \"$number\" || \"$number\" -gt 100 ]]; then\n",
    "- if [ 0 -le \"$number\" ] && [ \"$number\" -le 100 ]; then"
   ]
  },
  {
   "cell_type": "markdown",
   "id": "31bcf462-f216-4939-9d4b-5f95e321ded0",
   "metadata": {},
   "source": [
    "# Циклы"
   ]
  },
  {
   "cell_type": "code",
   "execution_count": null,
   "id": "0678faf4-7351-472b-8e44-6df2e55843b2",
   "metadata": {},
   "outputs": [],
   "source": []
  },
  {
   "cell_type": "code",
   "execution_count": null,
   "id": "e0400549-95f6-48d8-8ddb-3f420f92956e",
   "metadata": {},
   "outputs": [],
   "source": []
  }
 ],
 "metadata": {
  "kernelspec": {
   "display_name": "Python 3 (ipykernel)",
   "language": "python",
   "name": "python3"
  },
  "language_info": {
   "codemirror_mode": {
    "name": "ipython",
    "version": 3
   },
   "file_extension": ".py",
   "mimetype": "text/x-python",
   "name": "python",
   "nbconvert_exporter": "python",
   "pygments_lexer": "ipython3",
   "version": "3.12.0"
  }
 },
 "nbformat": 4,
 "nbformat_minor": 5
}
