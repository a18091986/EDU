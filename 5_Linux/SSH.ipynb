{
 "cells": [
  {
   "cell_type": "code",
   "execution_count": null,
   "id": "3b87a2fd-ece7-426d-ad34-3b4ac59730ca",
   "metadata": {},
   "outputs": [],
   "source": [
    "https://selectel.ru/blog/ssh-ubuntu-setup/\n",
    "\n",
    "sudo apt install openssh-server -y\n",
    "sudo systemctl enable ssh\n",
    "sudo nano /etc/ssh/sshd_config"
   ]
  }
 ],
 "metadata": {
  "kernelspec": {
   "display_name": "Python 3 (ipykernel)",
   "language": "python",
   "name": "python3"
  },
  "language_info": {
   "codemirror_mode": {
    "name": "ipython",
    "version": 3
   },
   "file_extension": ".py",
   "mimetype": "text/x-python",
   "name": "python",
   "nbconvert_exporter": "python",
   "pygments_lexer": "ipython3",
   "version": "3.12.0"
  }
 },
 "nbformat": 4,
 "nbformat_minor": 5
}
