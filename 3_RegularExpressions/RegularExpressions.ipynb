{
 "cells": [
  {
   "cell_type": "code",
   "execution_count": 2,
   "id": "8bcff8a8-46d1-4807-ba9d-bc72fefe4622",
   "metadata": {},
   "outputs": [],
   "source": [
    "import re"
   ]
  },
  {
   "cell_type": "code",
   "execution_count": 66,
   "id": "7358abbd-c6f6-4634-b1e9-ee4521bebc30",
   "metadata": {},
   "outputs": [],
   "source": [
    "regex = r'П.{1,5}[тТ]'\n",
    "s1 = 'Привет мир регулярок!'\n",
    "s2 = 'Привет мир регулярок! Прет! Начинаем поиск'"
   ]
  },
  {
   "cell_type": "markdown",
   "id": "5b1dd5e7-52e2-4be6-9b6e-9301ee9b3a0d",
   "metadata": {},
   "source": [
    "# Match"
   ]
  },
  {
   "cell_type": "markdown",
   "id": "88176810-5e09-4952-b86d-8e66d863c908",
   "metadata": {},
   "source": [
    "ищет совпадение обязательно с самого начала строки"
   ]
  },
  {
   "cell_type": "code",
   "execution_count": 67,
   "id": "e58f7557-fbd4-4738-bcd0-a8ea78883ece",
   "metadata": {},
   "outputs": [
    {
     "name": "stdout",
     "output_type": "stream",
     "text": [
      "<re.Match object; span=(0, 6), match='Привет'>\n",
      "<re.Match object; span=(0, 6), match='Привет'>\n"
     ]
    }
   ],
   "source": [
    "match1 = re.match(regex, s1)\n",
    "match2 = re.match(regex, s2)\n",
    "print(match1)\n",
    "print(match2)"
   ]
  },
  {
   "cell_type": "code",
   "execution_count": 68,
   "id": "8eaf6d6e-758d-4062-a422-b75c55e3dc1e",
   "metadata": {},
   "outputs": [
    {
     "name": "stdout",
     "output_type": "stream",
     "text": [
      "Привет\n",
      "Привет\n",
      "Привет\n",
      "Привет\n"
     ]
    }
   ],
   "source": [
    "print(match1.group())\n",
    "print(match1[0])\n",
    "print(match2.group())\n",
    "print(match2[0])"
   ]
  },
  {
   "cell_type": "code",
   "execution_count": 69,
   "id": "54d8d4ce-7a19-4a1b-b193-304db0354454",
   "metadata": {},
   "outputs": [
    {
     "name": "stdout",
     "output_type": "stream",
     "text": [
      "0\n",
      "6\n"
     ]
    }
   ],
   "source": [
    "print(match1.start())\n",
    "print(match2.end())"
   ]
  },
  {
   "cell_type": "code",
   "execution_count": 70,
   "id": "c8ae21d5-44a0-4fc9-a3dd-4ad91613ea17",
   "metadata": {},
   "outputs": [
    {
     "name": "stdout",
     "output_type": "stream",
     "text": [
      "(0, 6)\n",
      "(0, 6)\n"
     ]
    }
   ],
   "source": [
    "print(match1.span())\n",
    "print(match2.span())"
   ]
  },
  {
   "cell_type": "code",
   "execution_count": 71,
   "id": "a16517a8-4ff4-4538-8c02-babc96af7ce9",
   "metadata": {},
   "outputs": [
    {
     "name": "stdout",
     "output_type": "stream",
     "text": [
      "0\n",
      "21\n"
     ]
    }
   ],
   "source": [
    "print(match1.pos)\n",
    "print(match1.endpos)"
   ]
  },
  {
   "cell_type": "code",
   "execution_count": 72,
   "id": "4be547b9-5815-4a21-abad-1105502a9d0f",
   "metadata": {},
   "outputs": [
    {
     "name": "stdout",
     "output_type": "stream",
     "text": [
      "re.compile('П.{1,5}[тТ]')\n",
      "re.compile('П.{1,5}[тТ]')\n"
     ]
    }
   ],
   "source": [
    "print(match1.re)\n",
    "print(match2.re)"
   ]
  },
  {
   "cell_type": "code",
   "execution_count": 83,
   "id": "14bc90c2-7af0-4cda-b269-1af549a4206d",
   "metadata": {},
   "outputs": [
    {
     "name": "stdout",
     "output_type": "stream",
     "text": [
      "Привет мир регулярок!\n",
      "Привет мир регулярок! Прет! Начинаем поиск\n"
     ]
    }
   ],
   "source": [
    "print(match1.string)\n",
    "print(match2.string)"
   ]
  },
  {
   "cell_type": "code",
   "execution_count": 84,
   "id": "e5d5043a-718c-46cc-ade9-fc94363de0cb",
   "metadata": {},
   "outputs": [
    {
     "name": "stdin",
     "output_type": "stream",
     "text": [
      " example@sdfsdf\n"
     ]
    },
    {
     "name": "stdout",
     "output_type": "stream",
     "text": [
      "example\n"
     ]
    }
   ],
   "source": [
    "print(re.match(r'(\\w+)@', input())[1])"
   ]
  },
  {
   "cell_type": "markdown",
   "id": "8fac1af0-2fa8-4904-ab44-9a11c3e77059",
   "metadata": {},
   "source": [
    "# Search"
   ]
  },
  {
   "cell_type": "markdown",
   "id": "8235d7aa-a00b-4b5f-9b1b-2f6e819931c5",
   "metadata": {},
   "source": [
    "ищет совпадение по всей строке до первого совпадения"
   ]
  },
  {
   "cell_type": "code",
   "execution_count": 75,
   "id": "9df5b54b-7089-4a35-9eb3-f6ebc6a7b2f0",
   "metadata": {},
   "outputs": [
    {
     "data": {
      "text/plain": [
       "<re.Match object; span=(0, 6), match='Привет'>"
      ]
     },
     "execution_count": 75,
     "metadata": {},
     "output_type": "execute_result"
    }
   ],
   "source": [
    "re.search(regex, s2)"
   ]
  },
  {
   "cell_type": "code",
   "execution_count": 79,
   "id": "50b6fdaa-06eb-4198-9500-d9dbe3360031",
   "metadata": {},
   "outputs": [
    {
     "data": {
      "text/plain": [
       "'#hashtag'"
      ]
     },
     "execution_count": 79,
     "metadata": {},
     "output_type": "execute_result"
    }
   ],
   "source": [
    "re.search('#[a-z]+', 'sdfsd #hashtag #teds').group()"
   ]
  },
  {
   "cell_type": "code",
   "execution_count": 82,
   "id": "785506d7-1f3e-4295-adf1-367a82594af1",
   "metadata": {},
   "outputs": [],
   "source": [
    "import re, sys\n",
    "\n",
    "for line in sys.stdin:\n",
    "    if key := re.search(r'Activation key: (([A-Z\\d]{5}-){4}[A-Z\\d]{5})', line):\n",
    "        print(key.group(1))"
   ]
  },
  {
   "cell_type": "code",
   "execution_count": null,
   "id": "4e27a8ab-3de8-45cf-b6f7-73382356cb4a",
   "metadata": {},
   "outputs": [],
   "source": []
  }
 ],
 "metadata": {
  "kernelspec": {
   "display_name": "Python 3 (ipykernel)",
   "language": "python",
   "name": "python3"
  },
  "language_info": {
   "codemirror_mode": {
    "name": "ipython",
    "version": 3
   },
   "file_extension": ".py",
   "mimetype": "text/x-python",
   "name": "python",
   "nbconvert_exporter": "python",
   "pygments_lexer": "ipython3",
   "version": "3.12.0"
  }
 },
 "nbformat": 4,
 "nbformat_minor": 5
}
