{
 "cells": [
  {
   "cell_type": "code",
   "execution_count": 2,
   "id": "8bcff8a8-46d1-4807-ba9d-bc72fefe4622",
   "metadata": {},
   "outputs": [],
   "source": [
    "import re"
   ]
  },
  {
   "cell_type": "code",
   "execution_count": 1,
   "id": "7358abbd-c6f6-4634-b1e9-ee4521bebc30",
   "metadata": {},
   "outputs": [],
   "source": [
    "regex = r'П.{1,5}[тТ]'\n",
    "s1 = 'Привет мир регулярок!'\n",
    "s2 = 'Привет мир регулярок! Прет! Начинаем поиск'"
   ]
  },
  {
   "cell_type": "markdown",
   "id": "6bbd7d4a-81f3-482d-aa77-af692fb3f40d",
   "metadata": {},
   "source": [
    "# Операторы"
   ]
  },
  {
   "cell_type": "markdown",
   "id": "8ca19269-ed5d-485d-b946-9621e474f406",
   "metadata": {},
   "source": [
    "- \\w - любой символ слова (буквенные, цифровые, _)\n",
    "- \\W - любой символ не слова\n",
    "- . -- любой символ кроме переноса строки\n",
    "- \\d - любой цифровой символ\n",
    "- \\D - любой не цифровой символ\n",
    "- \"+\" - от 1 до бесконечности\n",
    "- \"*\" - от 0 до бесконечности\n",
    "- \"?\" - от 0 до 1 \n",
    "- \\s - пробельный символ: \\t\\n\\r\\f\\v\n",
    "- \\S - любой не пробельный символ\n",
    "\n",
    "- \\A - начало текста\n",
    "- \\Z - конец текста\n",
    "\n",
    "- \\b - границы слова. внутри символьных классов соответствует символу backspace\n",
    "- \\B - граница не слова\n",
    "\n",
    "- (?=exp) | (?!exp) - опережающая проверка lookbehind\n",
    "- (?<=exp) | (?<!exp) - ретроспективная проверка\n",
    "\n",
    "- {} - квантификаторы, мажорный режим\n",
    "- {}? - минорный режим\n",
    "- () - группирующие, сохраняющие скобки\n",
    "- (?:) - группирующие, несохраняющие скобки\n",
    "- [] - символьный класс\n",
    "- ^ - инвертирование симовльного класса | начало текста (с флагом re.MULTILINE - начало строки)\n",
    "- $ - конец текста (с флагом re.MULTILINE - позиция перед символом переноса строки)\n",
    "\n",
    "- [\\w\\W] - для включения всего, в т.ч. переноса строки\n"
   ]
  },
  {
   "cell_type": "markdown",
   "id": "5b1dd5e7-52e2-4be6-9b6e-9301ee9b3a0d",
   "metadata": {},
   "source": [
    "# Match"
   ]
  },
  {
   "cell_type": "markdown",
   "id": "88176810-5e09-4952-b86d-8e66d863c908",
   "metadata": {},
   "source": [
    "ищет совпадениев начале строки"
   ]
  },
  {
   "cell_type": "code",
   "execution_count": 67,
   "id": "e58f7557-fbd4-4738-bcd0-a8ea78883ece",
   "metadata": {},
   "outputs": [
    {
     "name": "stdout",
     "output_type": "stream",
     "text": [
      "<re.Match object; span=(0, 6), match='Привет'>\n",
      "<re.Match object; span=(0, 6), match='Привет'>\n"
     ]
    }
   ],
   "source": [
    "match1 = re.match(regex, s1)\n",
    "match2 = re.match(regex, s2)\n",
    "print(match1)\n",
    "print(match2)"
   ]
  },
  {
   "cell_type": "code",
   "execution_count": 68,
   "id": "8eaf6d6e-758d-4062-a422-b75c55e3dc1e",
   "metadata": {},
   "outputs": [
    {
     "name": "stdout",
     "output_type": "stream",
     "text": [
      "Привет\n",
      "Привет\n",
      "Привет\n",
      "Привет\n"
     ]
    }
   ],
   "source": [
    "print(match1.group())\n",
    "print(match1[0])\n",
    "print(match2.group())\n",
    "print(match2[0])"
   ]
  },
  {
   "cell_type": "code",
   "execution_count": 69,
   "id": "54d8d4ce-7a19-4a1b-b193-304db0354454",
   "metadata": {},
   "outputs": [
    {
     "name": "stdout",
     "output_type": "stream",
     "text": [
      "0\n",
      "6\n"
     ]
    }
   ],
   "source": [
    "print(match1.start())\n",
    "print(match2.end())"
   ]
  },
  {
   "cell_type": "code",
   "execution_count": 70,
   "id": "c8ae21d5-44a0-4fc9-a3dd-4ad91613ea17",
   "metadata": {},
   "outputs": [
    {
     "name": "stdout",
     "output_type": "stream",
     "text": [
      "(0, 6)\n",
      "(0, 6)\n"
     ]
    }
   ],
   "source": [
    "print(match1.span())\n",
    "print(match2.span())"
   ]
  },
  {
   "cell_type": "code",
   "execution_count": 71,
   "id": "a16517a8-4ff4-4538-8c02-babc96af7ce9",
   "metadata": {},
   "outputs": [
    {
     "name": "stdout",
     "output_type": "stream",
     "text": [
      "0\n",
      "21\n"
     ]
    }
   ],
   "source": [
    "print(match1.pos)\n",
    "print(match1.endpos)"
   ]
  },
  {
   "cell_type": "code",
   "execution_count": 72,
   "id": "4be547b9-5815-4a21-abad-1105502a9d0f",
   "metadata": {},
   "outputs": [
    {
     "name": "stdout",
     "output_type": "stream",
     "text": [
      "re.compile('П.{1,5}[тТ]')\n",
      "re.compile('П.{1,5}[тТ]')\n"
     ]
    }
   ],
   "source": [
    "print(match1.re)\n",
    "print(match2.re)"
   ]
  },
  {
   "cell_type": "code",
   "execution_count": 83,
   "id": "14bc90c2-7af0-4cda-b269-1af549a4206d",
   "metadata": {},
   "outputs": [
    {
     "name": "stdout",
     "output_type": "stream",
     "text": [
      "Привет мир регулярок!\n",
      "Привет мир регулярок! Прет! Начинаем поиск\n"
     ]
    }
   ],
   "source": [
    "print(match1.string)\n",
    "print(match2.string)"
   ]
  },
  {
   "cell_type": "code",
   "execution_count": 2,
   "id": "e5d5043a-718c-46cc-ade9-fc94363de0cb",
   "metadata": {},
   "outputs": [
    {
     "ename": "NameError",
     "evalue": "name 're' is not defined",
     "output_type": "error",
     "traceback": [
      "\u001b[0;31m---------------------------------------------------------------------------\u001b[0m",
      "\u001b[0;31mNameError\u001b[0m                                 Traceback (most recent call last)",
      "Cell \u001b[0;32mIn[2], line 1\u001b[0m\n\u001b[0;32m----> 1\u001b[0m \u001b[38;5;28mprint\u001b[39m(\u001b[43mre\u001b[49m\u001b[38;5;241m.\u001b[39mmatch(\u001b[38;5;124mr\u001b[39m\u001b[38;5;124m'\u001b[39m\u001b[38;5;124m(\u001b[39m\u001b[38;5;124m\\\u001b[39m\u001b[38;5;124mw+)@\u001b[39m\u001b[38;5;124m'\u001b[39m, \u001b[38;5;28minput\u001b[39m())[\u001b[38;5;241m1\u001b[39m])\n",
      "\u001b[0;31mNameError\u001b[0m: name 're' is not defined"
     ]
    }
   ],
   "source": [
    "print(re.match(r'(\\w+)@', input())[1])"
   ]
  },
  {
   "cell_type": "markdown",
   "id": "61651309-b7e8-446d-a0e7-e5d044065fd3",
   "metadata": {},
   "source": [
    "# Атрибуты и методы объекта Match\n",
    "- expand() - работает аналогично методу re.sub()\n",
    "- group([group1, ...) - возвращает найденное совпадение по номеру или имени группы. если не передать аргументов, то выведе нулевую группу, т.е. всё, что захватила регулярка\n",
    "  match.group(1), match[1]\n",
    "  match.group(\"name\"), match[\"name\"], match.group(0, \"name\", 1)\n",
    " \n",
    "- groups(default=None) - возвращает кортеж со всеми группами, кроме нулевой\n",
    "- groupdict(default=None) - возвращает словарь, ключи которого - имена групп, а значения - совпадения этих групп. Если именнованных групп в выражении не использовалось, вернётся пустой словарь\n",
    "  \n",
    "- start()\n",
    "- end()\n",
    "  возвращают индексы начала и конца совпадения с регулярным выражением группы, номер или имя которой были переданы в метод\n",
    "  match.start(1), match.end(\"name\")  \n",
    "\n",
    "  \n",
    "- span() - возвращает кортеж с индексами начала и конца совпадения группы, номер или имя которой были переданы в метод.\n",
    "  \n",
    "- lastindex - номер последней найденной группы\n",
    "- lastgroup - имя последней найденной именованной группы\n",
    "- pos - начальная позиция, с которой функция ищет совпадения\n",
    "- endpos - конечная позиция, до которой функция ищет совпадения\n",
    "- re - получить регулярное выражение, по которому осуществлялся поиск\n",
    "- string - получить строку, по которой осуществлялся поиск"
   ]
  },
  {
   "cell_type": "code",
   "execution_count": null,
   "id": "65dced66-a189-4220-be62-fa1aa074e623",
   "metadata": {},
   "outputs": [],
   "source": []
  },
  {
   "cell_type": "markdown",
   "id": "8fac1af0-2fa8-4904-ab44-9a11c3e77059",
   "metadata": {},
   "source": [
    "# Search"
   ]
  },
  {
   "cell_type": "markdown",
   "id": "8235d7aa-a00b-4b5f-9b1b-2f6e819931c5",
   "metadata": {},
   "source": [
    "ищет совпадение по всей строке до первого совпадения"
   ]
  },
  {
   "cell_type": "code",
   "execution_count": 75,
   "id": "9df5b54b-7089-4a35-9eb3-f6ebc6a7b2f0",
   "metadata": {},
   "outputs": [
    {
     "data": {
      "text/plain": [
       "<re.Match object; span=(0, 6), match='Привет'>"
      ]
     },
     "execution_count": 75,
     "metadata": {},
     "output_type": "execute_result"
    }
   ],
   "source": [
    "re.search(regex, s2)"
   ]
  },
  {
   "cell_type": "code",
   "execution_count": 79,
   "id": "50b6fdaa-06eb-4198-9500-d9dbe3360031",
   "metadata": {},
   "outputs": [
    {
     "data": {
      "text/plain": [
       "'#hashtag'"
      ]
     },
     "execution_count": 79,
     "metadata": {},
     "output_type": "execute_result"
    }
   ],
   "source": [
    "re.search('#[a-z]+', 'sdfsd #hashtag #teds').group()"
   ]
  },
  {
   "cell_type": "code",
   "execution_count": 82,
   "id": "785506d7-1f3e-4295-adf1-367a82594af1",
   "metadata": {},
   "outputs": [],
   "source": [
    "import re, sys\n",
    "\n",
    "for line in sys.stdin:\n",
    "    if key := re.search(r'Activation key: (([A-Z\\d]{5}-){4}[A-Z\\d]{5})', line):\n",
    "        print(key.group(1))"
   ]
  },
  {
   "cell_type": "markdown",
   "id": "d7f27798-651c-402c-ab4d-1cbddb014440",
   "metadata": {},
   "source": [
    "# Fullmatch"
   ]
  },
  {
   "cell_type": "markdown",
   "id": "79c6978f-7e6e-4a4f-b6c3-62aa9f9ec2f7",
   "metadata": {},
   "source": [
    "определяет соответствие строки переданному шаблону. если вся строка соответствует ему - возвращает объект Match"
   ]
  },
  {
   "cell_type": "markdown",
   "id": "bcc8a267-0f40-43e9-bee3-492ad0d2e62f",
   "metadata": {},
   "source": [
    "# Finditer\n",
    "\n",
    "возвращает итератор Match объектов"
   ]
  },
  {
   "cell_type": "markdown",
   "id": "8e088665-2c2b-4081-a222-96065799ecac",
   "metadata": {},
   "source": [
    "# Findall\n",
    "\n",
    "возвращает список всех найденных совпадений"
   ]
  },
  {
   "cell_type": "markdown",
   "id": "5230acdb-d91f-4a5b-87c6-1fd69a487fdf",
   "metadata": {},
   "source": [
    "# Sub\n",
    "\n",
    "для замены"
   ]
  },
  {
   "cell_type": "markdown",
   "id": "33e42c54-0ce5-4596-bf24-e53d31031739",
   "metadata": {},
   "source": [
    "# Split\n",
    "\n",
    "разбивает строки по заданному паттерну\n",
    "\n",
    "- pattern\n",
    "- string\n",
    "- maxsplit - максмимальное количество делений строки\n",
    "- flags"
   ]
  },
  {
   "cell_type": "markdown",
   "id": "ad000f6d-ef9d-4e69-b77d-a513abda233d",
   "metadata": {},
   "source": [
    "# Sub\n",
    "\n",
    "re.sub(pattern, replace, string, count=0, flags=0)\n",
    "\n",
    "pattern - регулярное выражение\r\n",
    "replace - то, на что нужно заменить найденное вхождение\r\n",
    "string - строка, к которой нужно применить регулярное выражение\r\n",
    "count - необязательный аргумент, максимальное число вхождений, подлежащих замене. Если этот параметр опущен или равен нулю, то произойдет замена всех вхождений.\r\n",
    "flags - фозже"
   ]
  },
  {
   "cell_type": "markdown",
   "id": "65d8bed1-dd42-4d85-805a-4cad326987df",
   "metadata": {},
   "source": [
    "# Escape\n",
    "\n",
    "re.escape(pattern) - экранирует специальные символы в pattern"
   ]
  },
  {
   "cell_type": "markdown",
   "id": "86c683c6-22a1-49fa-ba4f-ad3bf3ee497a",
   "metadata": {},
   "source": []
  }
 ],
 "metadata": {
  "kernelspec": {
   "display_name": "Python 3 (ipykernel)",
   "language": "python",
   "name": "python3"
  },
  "language_info": {
   "codemirror_mode": {
    "name": "ipython",
    "version": 3
   },
   "file_extension": ".py",
   "mimetype": "text/x-python",
   "name": "python",
   "nbconvert_exporter": "python",
   "pygments_lexer": "ipython3",
   "version": "3.12.0"
  }
 },
 "nbformat": 4,
 "nbformat_minor": 5
}
