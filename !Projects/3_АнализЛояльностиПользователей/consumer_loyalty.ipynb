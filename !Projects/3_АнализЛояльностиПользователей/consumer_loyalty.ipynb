{
 "cells": [
  {
   "cell_type": "code",
   "execution_count": null,
   "id": "d87ab742-391f-4623-8de8-8d57e00e4e36",
   "metadata": {},
   "outputs": [],
   "source": [
    "# проверяется гипотеза о наличии у пользователей предпочтений в покупках (склонность к покупкам товаров одного бренда)\n",
    "# критерий - если пользователь совершил n покупок, то из них какая то часть должна быть одного бренда"
   ]
  },
  {
   "cell_type": "code",
   "execution_count": 88,
   "id": "d0cb0cda-70b9-4016-a853-640d0fb748c3",
   "metadata": {},
   "outputs": [],
   "source": [
    "import pandas as pd\n",
    "import seaborn as sns\n",
    "import matplotlib.pyplot as plt\n",
    "%matplotlib inline"
   ]
  },
  {
   "cell_type": "code",
   "execution_count": 13,
   "id": "681a9a7a-f8c1-4b9b-8af1-45c1537fdce3",
   "metadata": {},
   "outputs": [
    {
     "data": {
      "text/html": [
       "<div>\n",
       "<style scoped>\n",
       "    .dataframe tbody tr th:only-of-type {\n",
       "        vertical-align: middle;\n",
       "    }\n",
       "\n",
       "    .dataframe tbody tr th {\n",
       "        vertical-align: top;\n",
       "    }\n",
       "\n",
       "    .dataframe thead th {\n",
       "        text-align: right;\n",
       "    }\n",
       "</style>\n",
       "<table border=\"1\" class=\"dataframe\">\n",
       "  <thead>\n",
       "    <tr style=\"text-align: right;\">\n",
       "      <th></th>\n",
       "      <th>tk</th>\n",
       "      <th>pl</th>\n",
       "      <th>dia</th>\n",
       "      <th>hs</th>\n",
       "      <th>tc</th>\n",
       "      <th>cta</th>\n",
       "      <th>id_art</th>\n",
       "      <th>id_subsubfam</th>\n",
       "      <th>id_subfam</th>\n",
       "      <th>id_fam</th>\n",
       "      <th>id_famn</th>\n",
       "      <th>id_seccion</th>\n",
       "      <th>id_subagr</th>\n",
       "      <th>id_agr</th>\n",
       "      <th>vta</th>\n",
       "      <th>uni</th>\n",
       "      <th>id_artn</th>\n",
       "      <th>art_sp</th>\n",
       "      <th>fam_sp</th>\n",
       "      <th>fam_en</th>\n",
       "    </tr>\n",
       "  </thead>\n",
       "  <tbody>\n",
       "    <tr>\n",
       "      <th>0</th>\n",
       "      <td>120071109002055793</td>\n",
       "      <td>1</td>\n",
       "      <td>2007/11/09</td>\n",
       "      <td>0.505729</td>\n",
       "      <td>110000761</td>\n",
       "      <td>11000076</td>\n",
       "      <td>21895</td>\n",
       "      <td>101070640100</td>\n",
       "      <td>1010706401</td>\n",
       "      <td>10107064</td>\n",
       "      <td>10107064</td>\n",
       "      <td>10107</td>\n",
       "      <td>101</td>\n",
       "      <td>1</td>\n",
       "      <td>0.68</td>\n",
       "      <td>1.0</td>\n",
       "      <td>21895</td>\n",
       "      <td>MARAVILLA        500 G Store_Brand</td>\n",
       "      <td>PASTA ALIMENTICIA SE</td>\n",
       "      <td>pasta</td>\n",
       "    </tr>\n",
       "  </tbody>\n",
       "</table>\n",
       "</div>"
      ],
      "text/plain": [
       "                   tk  pl         dia        hs         tc       cta  id_art  \\\n",
       "0  120071109002055793   1  2007/11/09  0.505729  110000761  11000076   21895   \n",
       "\n",
       "   id_subsubfam   id_subfam    id_fam   id_famn  id_seccion  id_subagr  \\\n",
       "0  101070640100  1010706401  10107064  10107064       10107        101   \n",
       "\n",
       "   id_agr   vta  uni  id_artn                              art_sp  \\\n",
       "0       1  0.68  1.0    21895  MARAVILLA        500 G Store_Brand   \n",
       "\n",
       "                 fam_sp fam_en  \n",
       "0  PASTA ALIMENTICIA SE  pasta  "
      ]
     },
     "execution_count": 13,
     "metadata": {},
     "output_type": "execute_result"
    }
   ],
   "source": [
    "df = pd.read_csv('https://stepik.org/media/attachments/lesson/383523/lesson_3_data__1_.csv', \n",
    "                 encoding='windows-1251',\n",
    "                 usecols=[i for i in range(1,21)]\n",
    "                )\n",
    "df.head(1)"
   ]
  },
  {
   "cell_type": "code",
   "execution_count": 16,
   "id": "9afb369f-3f8d-47a3-bccb-54ae54167a02",
   "metadata": {},
   "outputs": [
    {
     "data": {
      "text/html": [
       "<div>\n",
       "<style scoped>\n",
       "    .dataframe tbody tr th:only-of-type {\n",
       "        vertical-align: middle;\n",
       "    }\n",
       "\n",
       "    .dataframe tbody tr th {\n",
       "        vertical-align: top;\n",
       "    }\n",
       "\n",
       "    .dataframe thead th {\n",
       "        text-align: right;\n",
       "    }\n",
       "</style>\n",
       "<table border=\"1\" class=\"dataframe\">\n",
       "  <thead>\n",
       "    <tr style=\"text-align: right;\">\n",
       "      <th></th>\n",
       "      <th>user_id</th>\n",
       "      <th>brand_info</th>\n",
       "    </tr>\n",
       "  </thead>\n",
       "  <tbody>\n",
       "    <tr>\n",
       "      <th>0</th>\n",
       "      <td>110000761</td>\n",
       "      <td>MARAVILLA        500 G Store_Brand</td>\n",
       "    </tr>\n",
       "    <tr>\n",
       "      <th>1</th>\n",
       "      <td>110000761</td>\n",
       "      <td>FIDEO CABELLIN   500 G Store_Brand</td>\n",
       "    </tr>\n",
       "  </tbody>\n",
       "</table>\n",
       "</div>"
      ],
      "text/plain": [
       "     user_id                          brand_info\n",
       "0  110000761  MARAVILLA        500 G Store_Brand\n",
       "1  110000761  FIDEO CABELLIN   500 G Store_Brand"
      ]
     },
     "execution_count": 16,
     "metadata": {},
     "output_type": "execute_result"
    }
   ],
   "source": [
    "user_df = df[['tc', 'art_sp']]\n",
    "user_df = user_df.rename(columns={'tc': 'user_id', 'art_sp':'brand_info'})\n",
    "user_df.head(2)"
   ]
  },
  {
   "cell_type": "code",
   "execution_count": 37,
   "id": "2941663e-2c7e-43e0-9c18-c2bd617cb1cb",
   "metadata": {},
   "outputs": [
    {
     "data": {
      "text/html": [
       "<div>\n",
       "<style scoped>\n",
       "    .dataframe tbody tr th:only-of-type {\n",
       "        vertical-align: middle;\n",
       "    }\n",
       "\n",
       "    .dataframe tbody tr th {\n",
       "        vertical-align: top;\n",
       "    }\n",
       "\n",
       "    .dataframe thead th {\n",
       "        text-align: right;\n",
       "    }\n",
       "</style>\n",
       "<table border=\"1\" class=\"dataframe\">\n",
       "  <thead>\n",
       "    <tr style=\"text-align: right;\">\n",
       "      <th></th>\n",
       "      <th>user_id</th>\n",
       "      <th>brand_info</th>\n",
       "      <th>brand</th>\n",
       "    </tr>\n",
       "  </thead>\n",
       "  <tbody>\n",
       "    <tr>\n",
       "      <th>0</th>\n",
       "      <td>110000761</td>\n",
       "      <td>MARAVILLA        500 G Store_Brand</td>\n",
       "      <td>Store_Brand</td>\n",
       "    </tr>\n",
       "    <tr>\n",
       "      <th>1</th>\n",
       "      <td>110000761</td>\n",
       "      <td>FIDEO CABELLIN   500 G Store_Brand</td>\n",
       "      <td>Store_Brand</td>\n",
       "    </tr>\n",
       "  </tbody>\n",
       "</table>\n",
       "</div>"
      ],
      "text/plain": [
       "     user_id                          brand_info        brand\n",
       "0  110000761  MARAVILLA        500 G Store_Brand  Store_Brand\n",
       "1  110000761  FIDEO CABELLIN   500 G Store_Brand  Store_Brand"
      ]
     },
     "execution_count": 37,
     "metadata": {},
     "output_type": "execute_result"
    }
   ],
   "source": [
    "user_df['brand'] = user_df.brand_info.apply(lambda x: x.split(' ')[-1])\n",
    "user_df.head(2)"
   ]
  },
  {
   "cell_type": "code",
   "execution_count": 39,
   "id": "5a18c8b0-82f8-4324-a898-a378e3c8313d",
   "metadata": {},
   "outputs": [
    {
     "data": {
      "text/plain": [
       "(11764, (48129, 3))"
      ]
     },
     "execution_count": 39,
     "metadata": {},
     "output_type": "execute_result"
    }
   ],
   "source": [
    "user_df['user_id'].nunique(), user_df.shape"
   ]
  },
  {
   "cell_type": "code",
   "execution_count": 49,
   "id": "b4db5103-3044-4c35-9a8e-20514effb3bc",
   "metadata": {},
   "outputs": [
    {
     "data": {
      "text/html": [
       "<div>\n",
       "<style scoped>\n",
       "    .dataframe tbody tr th:only-of-type {\n",
       "        vertical-align: middle;\n",
       "    }\n",
       "\n",
       "    .dataframe tbody tr th {\n",
       "        vertical-align: top;\n",
       "    }\n",
       "\n",
       "    .dataframe thead th {\n",
       "        text-align: right;\n",
       "    }\n",
       "</style>\n",
       "<table border=\"1\" class=\"dataframe\">\n",
       "  <thead>\n",
       "    <tr style=\"text-align: right;\">\n",
       "      <th></th>\n",
       "      <th>user_id</th>\n",
       "      <th>purchases</th>\n",
       "    </tr>\n",
       "  </thead>\n",
       "  <tbody>\n",
       "    <tr>\n",
       "      <th>0</th>\n",
       "      <td>-1236394515</td>\n",
       "      <td>1</td>\n",
       "    </tr>\n",
       "    <tr>\n",
       "      <th>1</th>\n",
       "      <td>1031</td>\n",
       "      <td>6</td>\n",
       "    </tr>\n",
       "  </tbody>\n",
       "</table>\n",
       "</div>"
      ],
      "text/plain": [
       "      user_id  purchases\n",
       "0 -1236394515          1\n",
       "1        1031          6"
      ]
     },
     "execution_count": 49,
     "metadata": {},
     "output_type": "execute_result"
    }
   ],
   "source": [
    "users_purchases = user_df.groupby('user_id', as_index=False)\\\n",
    "                    .agg({'brand':'count'})\\\n",
    "                    .rename(columns={'brand': 'purchases'})\n",
    "\n",
    "users_purchases.head(2)"
   ]
  },
  {
   "cell_type": "code",
   "execution_count": 43,
   "id": "dc26d2bf-8524-4a24-9237-8d84cb14e01e",
   "metadata": {},
   "outputs": [
    {
     "data": {
      "text/plain": [
       "(11764, 2.0, 5.0)"
      ]
     },
     "execution_count": 43,
     "metadata": {},
     "output_type": "execute_result"
    }
   ],
   "source": [
    "users_purchases['user_id'].nunique(), users_purchases['purchases'].median(), users_purchases.purchases.quantile(0.75)"
   ]
  },
  {
   "cell_type": "code",
   "execution_count": 51,
   "id": "0aafbaa7-8ace-4413-9474-d14342c689ab",
   "metadata": {},
   "outputs": [
    {
     "name": "stdout",
     "output_type": "stream",
     "text": [
      "(3383, 2)\n"
     ]
    },
    {
     "data": {
      "text/html": [
       "<div>\n",
       "<style scoped>\n",
       "    .dataframe tbody tr th:only-of-type {\n",
       "        vertical-align: middle;\n",
       "    }\n",
       "\n",
       "    .dataframe tbody tr th {\n",
       "        vertical-align: top;\n",
       "    }\n",
       "\n",
       "    .dataframe thead th {\n",
       "        text-align: right;\n",
       "    }\n",
       "</style>\n",
       "<table border=\"1\" class=\"dataframe\">\n",
       "  <thead>\n",
       "    <tr style=\"text-align: right;\">\n",
       "      <th></th>\n",
       "      <th>user_id</th>\n",
       "      <th>purchases</th>\n",
       "    </tr>\n",
       "  </thead>\n",
       "  <tbody>\n",
       "    <tr>\n",
       "      <th>count</th>\n",
       "      <td>3.383000e+03</td>\n",
       "      <td>3383.000000</td>\n",
       "    </tr>\n",
       "    <tr>\n",
       "      <th>mean</th>\n",
       "      <td>6.421500e+07</td>\n",
       "      <td>9.320130</td>\n",
       "    </tr>\n",
       "    <tr>\n",
       "      <th>std</th>\n",
       "      <td>1.504830e+08</td>\n",
       "      <td>5.623993</td>\n",
       "    </tr>\n",
       "    <tr>\n",
       "      <th>min</th>\n",
       "      <td>1.031000e+03</td>\n",
       "      <td>5.000000</td>\n",
       "    </tr>\n",
       "    <tr>\n",
       "      <th>25%</th>\n",
       "      <td>8.871271e+06</td>\n",
       "      <td>6.000000</td>\n",
       "    </tr>\n",
       "    <tr>\n",
       "      <th>50%</th>\n",
       "      <td>2.842547e+07</td>\n",
       "      <td>7.000000</td>\n",
       "    </tr>\n",
       "    <tr>\n",
       "      <th>75%</th>\n",
       "      <td>8.542964e+07</td>\n",
       "      <td>11.000000</td>\n",
       "    </tr>\n",
       "    <tr>\n",
       "      <th>max</th>\n",
       "      <td>1.408810e+09</td>\n",
       "      <td>60.000000</td>\n",
       "    </tr>\n",
       "  </tbody>\n",
       "</table>\n",
       "</div>"
      ],
      "text/plain": [
       "            user_id    purchases\n",
       "count  3.383000e+03  3383.000000\n",
       "mean   6.421500e+07     9.320130\n",
       "std    1.504830e+08     5.623993\n",
       "min    1.031000e+03     5.000000\n",
       "25%    8.871271e+06     6.000000\n",
       "50%    2.842547e+07     7.000000\n",
       "75%    8.542964e+07    11.000000\n",
       "max    1.408810e+09    60.000000"
      ]
     },
     "execution_count": 51,
     "metadata": {},
     "output_type": "execute_result"
    }
   ],
   "source": [
    "# будем проводить исследование пользователей, количество покупок котороых превышает 75 перцентиль\n",
    "users_purchases = users_purchases.loc[users_purchases['purchases'] >= 5]\n",
    "print(users_purchases.shape)\n",
    "users_purchases.describe()"
   ]
  },
  {
   "cell_type": "code",
   "execution_count": 69,
   "id": "382b7683-7d4e-4b68-9e86-4774a9ac7aa4",
   "metadata": {},
   "outputs": [
    {
     "data": {
      "text/html": [
       "<div>\n",
       "<style scoped>\n",
       "    .dataframe tbody tr th:only-of-type {\n",
       "        vertical-align: middle;\n",
       "    }\n",
       "\n",
       "    .dataframe tbody tr th {\n",
       "        vertical-align: top;\n",
       "    }\n",
       "\n",
       "    .dataframe thead th {\n",
       "        text-align: right;\n",
       "    }\n",
       "</style>\n",
       "<table border=\"1\" class=\"dataframe\">\n",
       "  <thead>\n",
       "    <tr style=\"text-align: right;\">\n",
       "      <th></th>\n",
       "      <th>user_id</th>\n",
       "      <th>lovely_brand</th>\n",
       "      <th>lovely_brand_purchases</th>\n",
       "    </tr>\n",
       "  </thead>\n",
       "  <tbody>\n",
       "    <tr>\n",
       "      <th>18187</th>\n",
       "      <td>1408849249</td>\n",
       "      <td>Store_Brand</td>\n",
       "      <td>1</td>\n",
       "    </tr>\n",
       "    <tr>\n",
       "      <th>18186</th>\n",
       "      <td>1408840919</td>\n",
       "      <td>Store_Brand</td>\n",
       "      <td>1</td>\n",
       "    </tr>\n",
       "    <tr>\n",
       "      <th>18185</th>\n",
       "      <td>1408832719</td>\n",
       "      <td>Brand_4</td>\n",
       "      <td>3</td>\n",
       "    </tr>\n",
       "  </tbody>\n",
       "</table>\n",
       "</div>"
      ],
      "text/plain": [
       "          user_id lovely_brand  lovely_brand_purchases\n",
       "18187  1408849249  Store_Brand                       1\n",
       "18186  1408840919  Store_Brand                       1\n",
       "18185  1408832719      Brand_4                       3"
      ]
     },
     "execution_count": 69,
     "metadata": {},
     "output_type": "execute_result"
    }
   ],
   "source": [
    "lovely_brand_purchases_df = user_df.groupby(['user_id', 'brand'], as_index=False)\\\n",
    "        .agg({'brand_info': 'count'})\\\n",
    "        .rename(columns={'brand_info':'purchase_count'})\\\n",
    "        .sort_values(['user_id', 'purchase_count'], ascending=[False, False])\\\n",
    "        .groupby(['user_id']).head(1)\\\n",
    "        .rename(columns={'brand': 'lovely_brand', 'purchase_count': 'lovely_brand_purchases'})\n",
    "lovely_brand_purchases_df.head(3)"
   ]
  },
  {
   "cell_type": "code",
   "execution_count": 76,
   "id": "1041420f-222e-4940-b9d0-83d7f5e8390c",
   "metadata": {},
   "outputs": [
    {
     "data": {
      "text/html": [
       "<div>\n",
       "<style scoped>\n",
       "    .dataframe tbody tr th:only-of-type {\n",
       "        vertical-align: middle;\n",
       "    }\n",
       "\n",
       "    .dataframe tbody tr th {\n",
       "        vertical-align: top;\n",
       "    }\n",
       "\n",
       "    .dataframe thead th {\n",
       "        text-align: right;\n",
       "    }\n",
       "</style>\n",
       "<table border=\"1\" class=\"dataframe\">\n",
       "  <thead>\n",
       "    <tr style=\"text-align: right;\">\n",
       "      <th></th>\n",
       "      <th>user_id</th>\n",
       "      <th>unique_brands</th>\n",
       "    </tr>\n",
       "  </thead>\n",
       "  <tbody>\n",
       "    <tr>\n",
       "      <th>0</th>\n",
       "      <td>-1236394515</td>\n",
       "      <td>1</td>\n",
       "    </tr>\n",
       "    <tr>\n",
       "      <th>1</th>\n",
       "      <td>1031</td>\n",
       "      <td>2</td>\n",
       "    </tr>\n",
       "    <tr>\n",
       "      <th>2</th>\n",
       "      <td>4241</td>\n",
       "      <td>2</td>\n",
       "    </tr>\n",
       "    <tr>\n",
       "      <th>3</th>\n",
       "      <td>17311</td>\n",
       "      <td>1</td>\n",
       "    </tr>\n",
       "    <tr>\n",
       "      <th>4</th>\n",
       "      <td>17312</td>\n",
       "      <td>2</td>\n",
       "    </tr>\n",
       "  </tbody>\n",
       "</table>\n",
       "</div>"
      ],
      "text/plain": [
       "      user_id  unique_brands\n",
       "0 -1236394515              1\n",
       "1        1031              2\n",
       "2        4241              2\n",
       "3       17311              1\n",
       "4       17312              2"
      ]
     },
     "execution_count": 76,
     "metadata": {},
     "output_type": "execute_result"
    }
   ],
   "source": [
    "users_unique_brands = user_df.groupby('user_id', as_index=False) \\\n",
    "                        .agg({'brand': pd.Series.nunique}) \\\n",
    "                        .rename(columns={'brand': 'unique_brands'})\n",
    "users_unique_brands.head()"
   ]
  },
  {
   "cell_type": "code",
   "execution_count": 82,
   "id": "c39c8770-7034-42aa-aa8c-63814cef8898",
   "metadata": {},
   "outputs": [
    {
     "data": {
      "text/html": [
       "<div>\n",
       "<style scoped>\n",
       "    .dataframe tbody tr th:only-of-type {\n",
       "        vertical-align: middle;\n",
       "    }\n",
       "\n",
       "    .dataframe tbody tr th {\n",
       "        vertical-align: top;\n",
       "    }\n",
       "\n",
       "    .dataframe thead th {\n",
       "        text-align: right;\n",
       "    }\n",
       "</style>\n",
       "<table border=\"1\" class=\"dataframe\">\n",
       "  <thead>\n",
       "    <tr style=\"text-align: right;\">\n",
       "      <th></th>\n",
       "      <th>user_id</th>\n",
       "      <th>purchases</th>\n",
       "      <th>unique_brands</th>\n",
       "      <th>lovely_brand</th>\n",
       "      <th>lovely_brand_purchases</th>\n",
       "    </tr>\n",
       "  </thead>\n",
       "  <tbody>\n",
       "    <tr>\n",
       "      <th>0</th>\n",
       "      <td>1031</td>\n",
       "      <td>6</td>\n",
       "      <td>2</td>\n",
       "      <td>Store_Brand</td>\n",
       "      <td>5</td>\n",
       "    </tr>\n",
       "    <tr>\n",
       "      <th>1</th>\n",
       "      <td>4241</td>\n",
       "      <td>5</td>\n",
       "      <td>2</td>\n",
       "      <td>Brand_4</td>\n",
       "      <td>3</td>\n",
       "    </tr>\n",
       "    <tr>\n",
       "      <th>2</th>\n",
       "      <td>25971</td>\n",
       "      <td>7</td>\n",
       "      <td>2</td>\n",
       "      <td>Store_Brand</td>\n",
       "      <td>5</td>\n",
       "    </tr>\n",
       "    <tr>\n",
       "      <th>3</th>\n",
       "      <td>40911</td>\n",
       "      <td>27</td>\n",
       "      <td>5</td>\n",
       "      <td>Brand_4</td>\n",
       "      <td>19</td>\n",
       "    </tr>\n",
       "    <tr>\n",
       "      <th>4</th>\n",
       "      <td>45181</td>\n",
       "      <td>5</td>\n",
       "      <td>4</td>\n",
       "      <td>Store_Brand</td>\n",
       "      <td>2</td>\n",
       "    </tr>\n",
       "  </tbody>\n",
       "</table>\n",
       "</div>"
      ],
      "text/plain": [
       "   user_id  purchases  unique_brands lovely_brand  lovely_brand_purchases\n",
       "0     1031          6              2  Store_Brand                       5\n",
       "1     4241          5              2      Brand_4                       3\n",
       "2    25971          7              2  Store_Brand                       5\n",
       "3    40911         27              5      Brand_4                      19\n",
       "4    45181          5              4  Store_Brand                       2"
      ]
     },
     "execution_count": 82,
     "metadata": {},
     "output_type": "execute_result"
    }
   ],
   "source": [
    "loyalty_df = users_purchases.merge(right=users_unique_brands, on='user_id', how='inner')\\\n",
    "                .merge(right=lovely_brand_purchases_df, on='user_id', how='inner')\n",
    "loyalty_df.head()"
   ]
  },
  {
   "cell_type": "code",
   "execution_count": 84,
   "id": "d032d3ad-4640-427e-80a1-21e5b4e6316a",
   "metadata": {},
   "outputs": [
    {
     "data": {
      "text/plain": [
       "(911, 5)"
      ]
     },
     "execution_count": 84,
     "metadata": {},
     "output_type": "execute_result"
    }
   ],
   "source": [
    "full_loyal_users = loyalty_df[loyalty_df.unique_brands == 1]\n",
    "full_loyal_users.shape"
   ]
  },
  {
   "cell_type": "code",
   "execution_count": 94,
   "id": "e92d4ed4-b263-48cc-9bc5-8866a370cb19",
   "metadata": {},
   "outputs": [
    {
     "data": {
      "image/png": "[encoded data removed]",
      "text/plain": [
       "<Figure size 500x500 with 1 Axes>"
      ]
     },
     "metadata": {},
     "output_type": "display_data"
    }
   ],
   "source": [
    "# будем считать пользователя лояльным, если он \n",
    "loyalty_df['loyalty_score'] = loyalty_df.lovely_brand_purchases / loyalty_df.purchases\n",
    "loyalty_df.head()\n",
    "sns.displot(loyalty_df['loyalty_score'], kde=False);"
   ]
  },
  {
   "cell_type": "code",
   "execution_count": 108,
   "id": "4158ebdd-f9de-432c-b1ac-f1d152638cf2",
   "metadata": {},
   "outputs": [
    {
     "data": {
      "image/png": "[encoded data removed]",
      "text/plain": [
       "<Figure size 640x480 with 1 Axes>"
      ]
     },
     "metadata": {},
     "output_type": "display_data"
    }
   ],
   "source": [
    "brand_loyalty = loyalty_df.groupby('lovely_brand', as_index=False)\\\n",
    "            .agg({'loyalty_score': 'median', 'user_id': 'count'})\\\n",
    "            .rename(columns={'loyalty_score':'loyalty_score_median', \n",
    "                            'user_id':'user_count'})\n",
    "\n",
    "sns.barplot(data = brand_loyalty, x='lovely_brand', y='loyalty_score_median');"
   ]
  },
  {
   "cell_type": "code",
   "execution_count": 107,
   "id": "5632e051-6a5c-4029-acae-6cc5b909f73d",
   "metadata": {},
   "outputs": [
    {
     "data": {
      "image/png": "[encoded data removed]",
      "text/plain": [
       "<Figure size 900x600 with 1 Axes>"
      ]
     },
     "metadata": {},
     "output_type": "display_data"
    }
   ],
   "source": [
    "plt.figure(figsize=(9,6))\n",
    "sns.barplot(data = brand_loyalty, x='lovely_brand', y='user_count');"
   ]
  }
 ],
 "metadata": {
  "kernelspec": {
   "display_name": "Python 3 (ipykernel)",
   "language": "python",
   "name": "python3"
  },
  "language_info": {
   "codemirror_mode": {
    "name": "ipython",
    "version": 3
   },
   "file_extension": ".py",
   "mimetype": "text/x-python",
   "name": "python",
   "nbconvert_exporter": "python",
   "pygments_lexer": "ipython3",
   "version": "3.12.0"
  }
 },
 "nbformat": 4,
 "nbformat_minor": 5
}
