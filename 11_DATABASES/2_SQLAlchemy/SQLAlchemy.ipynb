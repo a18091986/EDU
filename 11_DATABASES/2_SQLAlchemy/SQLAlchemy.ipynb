{
 "cells": [
  {
   "cell_type": "markdown",
   "id": "952490a8-1a52-4e49-a9fc-8a4ae426d47e",
   "metadata": {},
   "source": [
    "https://pythonru.com/biblioteki/shemy-sqlalchemy-core"
   ]
  },
  {
   "cell_type": "markdown",
   "id": "98fc1efe-022d-44e8-8d18-f59b2b60fa93",
   "metadata": {},
   "source": [
    "https://pythonru.com/biblioteki/shemy-v-sqlalchemy-orm"
   ]
  },
  {
   "cell_type": "code",
   "execution_count": null,
   "id": "fba095b4-eb5a-43f9-b999-00a89f39ea5f",
   "metadata": {},
   "outputs": [],
   "source": []
  }
 ],
 "metadata": {
  "kernelspec": {
   "display_name": "Python 3 (ipykernel)",
   "language": "python",
   "name": "python3"
  },
  "language_info": {
   "codemirror_mode": {
    "name": "ipython",
    "version": 3
   },
   "file_extension": ".py",
   "mimetype": "text/x-python",
   "name": "python",
   "nbconvert_exporter": "python",
   "pygments_lexer": "ipython3",
   "version": "3.12.0"
  }
 },
 "nbformat": 4,
 "nbformat_minor": 5
}
