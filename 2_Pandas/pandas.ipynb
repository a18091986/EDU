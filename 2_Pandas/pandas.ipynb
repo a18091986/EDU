{
 "cells": [
  {
   "cell_type": "code",
   "execution_count": 124,
   "id": "bde62dca-ea20-4e5d-adbe-3988bcfb261e",
   "metadata": {},
   "outputs": [
    {
     "name": "stdout",
     "output_type": "stream",
     "text": [
      "\n",
      "     active environment : pandas_edu\n",
      "    active env location : /home/behappyman/anaconda3/envs/pandas_edu\n",
      "            shell level : 2\n",
      "       user config file : /home/behappyman/.condarc\n",
      " populated config files : \n",
      "          conda version : 23.7.4\n",
      "    conda-build version : 3.26.1\n",
      "         python version : 3.11.5.final.0\n",
      "       virtual packages : __archspec=1=x86_64\n",
      "                          __glibc=2.35=0\n",
      "                          __linux=5.15.0=0\n",
      "                          __unix=0=0\n",
      "       base environment : /home/behappyman/anaconda3  (writable)\n",
      "      conda av data dir : /home/behappyman/anaconda3/etc/conda\n",
      "  conda av metadata url : None\n",
      "           channel URLs : https://repo.anaconda.com/pkgs/main/linux-64\n",
      "                          https://repo.anaconda.com/pkgs/main/noarch\n",
      "                          https://repo.anaconda.com/pkgs/r/linux-64\n",
      "                          https://repo.anaconda.com/pkgs/r/noarch\n",
      "          package cache : /home/behappyman/anaconda3/pkgs\n",
      "                          /home/behappyman/.conda/pkgs\n",
      "       envs directories : /home/behappyman/anaconda3/envs\n",
      "                          /home/behappyman/.conda/envs\n",
      "               platform : linux-64\n",
      "             user-agent : conda/23.7.4 requests/2.31.0 CPython/3.11.5 Linux/5.15.0-79-generic linuxmint/21.2 glibc/2.35 aau/0.4.2 c/gOjIcH-Rk4f-gHYMfQy9QA s/JmD5Ezlq-OYxa72Xz7_f_g e/mhF8q_V8lIIlbDODyTc72g\n",
      "                UID:GID : 1000:1000\n",
      "             netrc file : None\n",
      "           offline mode : False\n",
      "\n",
      "\n"
     ]
    }
   ],
   "source": [
    "!conda info"
   ]
  },
  {
   "cell_type": "code",
   "execution_count": 125,
   "id": "e9daf34b-4aa1-4df6-9405-bd69ace9e431",
   "metadata": {},
   "outputs": [],
   "source": [
    "import pandas as pd\n",
    "import numpy as np"
   ]
  },
  {
   "cell_type": "markdown",
   "id": "e989c95c-79c7-48da-a54d-155af4909100",
   "metadata": {},
   "source": [
    "# Pandas"
   ]
  },
  {
   "cell_type": "markdown",
   "id": "b99ed669-9cce-4cd3-a3bc-40a87bd851aa",
   "metadata": {},
   "source": [
    "## Series"
   ]
  },
  {
   "cell_type": "markdown",
   "id": "491ea4c6-b8bc-420b-9697-5315f54bdb24",
   "metadata": {},
   "source": [
    "### Созданиe"
   ]
  },
  {
   "cell_type": "code",
   "execution_count": 126,
   "id": "29f79ddf-51fa-4884-9fbf-01410c237409",
   "metadata": {},
   "outputs": [
    {
     "data": {
      "text/plain": [
       "Moscow              123\n",
       "Saint-Petersburg    100\n",
       "Penza                15\n",
       "Name: cities_area, dtype: int64"
      ]
     },
     "execution_count": 126,
     "metadata": {},
     "output_type": "execute_result"
    }
   ],
   "source": [
    "cities = ['Moscow', 'Saint-Petersburg', 'Penza']\n",
    "area = [123, 100, 15]\n",
    "cities_area_series = pd.Series(data=area, index=cities, name='cities_area')\n",
    "cities_area_series"
   ]
  },
  {
   "cell_type": "code",
   "execution_count": 127,
   "id": "43407c1f-49b4-4fef-aad5-f01b533dc139",
   "metadata": {},
   "outputs": [
    {
     "data": {
      "text/plain": [
       "geely    2000000.0\n",
       "haval    2500000.0\n",
       "Name: cars_price, dtype: float64"
      ]
     },
     "execution_count": 127,
     "metadata": {},
     "output_type": "execute_result"
    }
   ],
   "source": [
    "cars_price = {'geely': 2_000_000, 'haval': 2.5*1E6}\n",
    "pd.Series(cars_price, name='cars_price')"
   ]
  },
  {
   "cell_type": "markdown",
   "id": "523014d0-e6fc-41af-8b2c-cca162814a60",
   "metadata": {},
   "source": [
    "### Получение данных"
   ]
  },
  {
   "cell_type": "code",
   "execution_count": 128,
   "id": "f92dda93-3a68-4ab0-a5f0-02a08af495aa",
   "metadata": {},
   "outputs": [
    {
     "name": "stdout",
     "output_type": "stream",
     "text": [
      "123 123\n"
     ]
    }
   ],
   "source": [
    "print(cities_area_series['Moscow'], cities_area_series.iloc[0])"
   ]
  },
  {
   "cell_type": "code",
   "execution_count": 129,
   "id": "b00aefec-f34d-428c-af0d-f49ad66253bb",
   "metadata": {},
   "outputs": [
    {
     "data": {
      "text/plain": [
       "Moscow              123\n",
       "Saint-Petersburg    100\n",
       "Name: cities_area, dtype: int64"
      ]
     },
     "execution_count": 129,
     "metadata": {},
     "output_type": "execute_result"
    }
   ],
   "source": [
    "cities_area_series[cities_area_series >= 100]"
   ]
  },
  {
   "cell_type": "markdown",
   "id": "6e2b56ed-56e6-46ec-8f08-f413189a4911",
   "metadata": {},
   "source": [
    "### Изменение данных"
   ]
  },
  {
   "cell_type": "code",
   "execution_count": 130,
   "id": "734d663d-9bb4-46f2-8622-74e137a6e2d4",
   "metadata": {},
   "outputs": [
    {
     "name": "stdout",
     "output_type": "stream",
     "text": [
      "250\n"
     ]
    }
   ],
   "source": [
    "cities_area_series['Moscow'] = 250\n",
    "print(cities_area_series['Moscow'])"
   ]
  },
  {
   "cell_type": "code",
   "execution_count": 131,
   "id": "d2fd0ab9-6053-472d-b5cc-c5f66ea5f951",
   "metadata": {},
   "outputs": [
    {
     "data": {
      "text/plain": [
       "London       250\n",
       "Paris        100\n",
       "Amsterdam     15\n",
       "Name: cities_area, dtype: int64"
      ]
     },
     "execution_count": 131,
     "metadata": {},
     "output_type": "execute_result"
    }
   ],
   "source": [
    "cities_area_series.index=['London', 'Paris', 'Amsterdam']\n",
    "cities_area_series"
   ]
  },
  {
   "cell_type": "code",
   "execution_count": 132,
   "id": "d61c5e8c-1bb8-45cd-ab66-4f3a6059d997",
   "metadata": {},
   "outputs": [
    {
     "data": {
      "text/plain": [
       "London       252\n",
       "Paris        102\n",
       "Amsterdam     17\n",
       "Name: cities_area, dtype: int64"
      ]
     },
     "execution_count": 132,
     "metadata": {},
     "output_type": "execute_result"
    }
   ],
   "source": [
    "def increase_by_two(x):\n",
    "    return x + 2\n",
    "\n",
    "cities_area_series = cities_area_series.apply(increase_by_two)\n",
    "cities_area_series"
   ]
  },
  {
   "cell_type": "markdown",
   "id": "367d7c9d-7512-4f62-813b-685e8982a9f1",
   "metadata": {},
   "source": [
    "## DataFrame"
   ]
  },
  {
   "cell_type": "markdown",
   "id": "4a2c707b-e54a-4f43-96bb-a9e3f50fed1d",
   "metadata": {
    "jp-MarkdownHeadingCollapsed": true
   },
   "source": [
    "### Создание"
   ]
  },
  {
   "cell_type": "code",
   "execution_count": 133,
   "id": "451b7f13-ab53-4c43-99c3-f4abd9722244",
   "metadata": {},
   "outputs": [
    {
     "data": {
      "text/html": [
       "<div>\n",
       "<style scoped>\n",
       "    .dataframe tbody tr th:only-of-type {\n",
       "        vertical-align: middle;\n",
       "    }\n",
       "\n",
       "    .dataframe tbody tr th {\n",
       "        vertical-align: top;\n",
       "    }\n",
       "\n",
       "    .dataframe thead th {\n",
       "        text-align: right;\n",
       "    }\n",
       "</style>\n",
       "<table border=\"1\" class=\"dataframe\">\n",
       "  <thead>\n",
       "    <tr style=\"text-align: right;\">\n",
       "      <th></th>\n",
       "      <th>age</th>\n",
       "      <th>height</th>\n",
       "      <th>weight</th>\n",
       "    </tr>\n",
       "  </thead>\n",
       "  <tbody>\n",
       "    <tr>\n",
       "      <th>0</th>\n",
       "      <td>25</td>\n",
       "      <td>180</td>\n",
       "      <td>78</td>\n",
       "    </tr>\n",
       "    <tr>\n",
       "      <th>1</th>\n",
       "      <td>35</td>\n",
       "      <td>190</td>\n",
       "      <td>95</td>\n",
       "    </tr>\n",
       "  </tbody>\n",
       "</table>\n",
       "</div>"
      ],
      "text/plain": [
       "   age  height  weight\n",
       "0   25     180      78\n",
       "1   35     190      95"
      ]
     },
     "execution_count": 133,
     "metadata": {},
     "output_type": "execute_result"
    }
   ],
   "source": [
    "people_info = [dict(age=25, height=180, weight=78), dict(age=35, height=190, weight=95)]\n",
    "pd.DataFrame(people_info)"
   ]
  },
  {
   "cell_type": "code",
   "execution_count": 134,
   "id": "7f90a8cf-65d1-4d36-beba-db69ea78d097",
   "metadata": {},
   "outputs": [
    {
     "data": {
      "text/html": [
       "<div>\n",
       "<style scoped>\n",
       "    .dataframe tbody tr th:only-of-type {\n",
       "        vertical-align: middle;\n",
       "    }\n",
       "\n",
       "    .dataframe tbody tr th {\n",
       "        vertical-align: top;\n",
       "    }\n",
       "\n",
       "    .dataframe thead th {\n",
       "        text-align: right;\n",
       "    }\n",
       "</style>\n",
       "<table border=\"1\" class=\"dataframe\">\n",
       "  <thead>\n",
       "    <tr style=\"text-align: right;\">\n",
       "      <th></th>\n",
       "      <th>Bob</th>\n",
       "      <th>Ann</th>\n",
       "    </tr>\n",
       "  </thead>\n",
       "  <tbody>\n",
       "    <tr>\n",
       "      <th>age</th>\n",
       "      <td>25</td>\n",
       "      <td>45</td>\n",
       "    </tr>\n",
       "    <tr>\n",
       "      <th>height</th>\n",
       "      <td>180</td>\n",
       "      <td>150</td>\n",
       "    </tr>\n",
       "    <tr>\n",
       "      <th>weight</th>\n",
       "      <td>78</td>\n",
       "      <td>99</td>\n",
       "    </tr>\n",
       "  </tbody>\n",
       "</table>\n",
       "</div>"
      ],
      "text/plain": [
       "        Bob  Ann\n",
       "age      25   45\n",
       "height  180  150\n",
       "weight   78   99"
      ]
     },
     "execution_count": 134,
     "metadata": {},
     "output_type": "execute_result"
    }
   ],
   "source": [
    "people_info = dict(Bob=dict(age=25, height=180, weight=78), Ann=dict(age=45, height=150, weight=99))\n",
    "pd.DataFrame(people_info)"
   ]
  },
  {
   "cell_type": "code",
   "execution_count": 135,
   "id": "1a07eb65-124a-4e89-9647-3dfff8f62412",
   "metadata": {},
   "outputs": [],
   "source": [
    "people_names = ['Bob', 'Ann', 'Max']\n",
    "people_description = [dict(age=25, height=180, weight=78), \n",
    "                      dict(age=35, height=190, weight=95),\n",
    "                      dict(age=7, height=120, weight=40)]\n",
    "\n",
    "people = pd.DataFrame(data=people_description, index=people_names)"
   ]
  },
  {
   "cell_type": "markdown",
   "id": "ae1e7cce-14f1-4964-a10f-280e6526158a",
   "metadata": {
    "jp-MarkdownHeadingCollapsed": true
   },
   "source": [
    "### Получение данных"
   ]
  },
  {
   "cell_type": "code",
   "execution_count": 136,
   "id": "ab7535e8-eeeb-4073-be83-a89633bad0a5",
   "metadata": {},
   "outputs": [
    {
     "data": {
      "text/html": [
       "<div>\n",
       "<style scoped>\n",
       "    .dataframe tbody tr th:only-of-type {\n",
       "        vertical-align: middle;\n",
       "    }\n",
       "\n",
       "    .dataframe tbody tr th {\n",
       "        vertical-align: top;\n",
       "    }\n",
       "\n",
       "    .dataframe thead th {\n",
       "        text-align: right;\n",
       "    }\n",
       "</style>\n",
       "<table border=\"1\" class=\"dataframe\">\n",
       "  <thead>\n",
       "    <tr style=\"text-align: right;\">\n",
       "      <th></th>\n",
       "      <th>age</th>\n",
       "      <th>height</th>\n",
       "      <th>weight</th>\n",
       "    </tr>\n",
       "  </thead>\n",
       "  <tbody>\n",
       "    <tr>\n",
       "      <th>Bob</th>\n",
       "      <td>25</td>\n",
       "      <td>180</td>\n",
       "      <td>78</td>\n",
       "    </tr>\n",
       "    <tr>\n",
       "      <th>Ann</th>\n",
       "      <td>35</td>\n",
       "      <td>190</td>\n",
       "      <td>95</td>\n",
       "    </tr>\n",
       "    <tr>\n",
       "      <th>Max</th>\n",
       "      <td>7</td>\n",
       "      <td>120</td>\n",
       "      <td>40</td>\n",
       "    </tr>\n",
       "  </tbody>\n",
       "</table>\n",
       "</div>"
      ],
      "text/plain": [
       "     age  height  weight\n",
       "Bob   25     180      78\n",
       "Ann   35     190      95\n",
       "Max    7     120      40"
      ]
     },
     "execution_count": 136,
     "metadata": {},
     "output_type": "execute_result"
    }
   ],
   "source": [
    "people"
   ]
  },
  {
   "cell_type": "code",
   "execution_count": 137,
   "id": "95c23ad8-b420-49cc-9d57-846f0eb74369",
   "metadata": {},
   "outputs": [
    {
     "data": {
      "text/html": [
       "<div>\n",
       "<style scoped>\n",
       "    .dataframe tbody tr th:only-of-type {\n",
       "        vertical-align: middle;\n",
       "    }\n",
       "\n",
       "    .dataframe tbody tr th {\n",
       "        vertical-align: top;\n",
       "    }\n",
       "\n",
       "    .dataframe thead th {\n",
       "        text-align: right;\n",
       "    }\n",
       "</style>\n",
       "<table border=\"1\" class=\"dataframe\">\n",
       "  <thead>\n",
       "    <tr style=\"text-align: right;\">\n",
       "      <th></th>\n",
       "      <th>age</th>\n",
       "      <th>height</th>\n",
       "      <th>weight</th>\n",
       "    </tr>\n",
       "  </thead>\n",
       "  <tbody>\n",
       "    <tr>\n",
       "      <th>Bob</th>\n",
       "      <td>25</td>\n",
       "      <td>180</td>\n",
       "      <td>78</td>\n",
       "    </tr>\n",
       "    <tr>\n",
       "      <th>Ann</th>\n",
       "      <td>35</td>\n",
       "      <td>190</td>\n",
       "      <td>95</td>\n",
       "    </tr>\n",
       "  </tbody>\n",
       "</table>\n",
       "</div>"
      ],
      "text/plain": [
       "     age  height  weight\n",
       "Bob   25     180      78\n",
       "Ann   35     190      95"
      ]
     },
     "execution_count": 137,
     "metadata": {},
     "output_type": "execute_result"
    }
   ],
   "source": [
    "people.iloc[0:2]"
   ]
  },
  {
   "cell_type": "code",
   "execution_count": 138,
   "id": "6950226b-e313-46f9-b060-acbcbcba9f14",
   "metadata": {},
   "outputs": [
    {
     "data": {
      "text/html": [
       "<div>\n",
       "<style scoped>\n",
       "    .dataframe tbody tr th:only-of-type {\n",
       "        vertical-align: middle;\n",
       "    }\n",
       "\n",
       "    .dataframe tbody tr th {\n",
       "        vertical-align: top;\n",
       "    }\n",
       "\n",
       "    .dataframe thead th {\n",
       "        text-align: right;\n",
       "    }\n",
       "</style>\n",
       "<table border=\"1\" class=\"dataframe\">\n",
       "  <thead>\n",
       "    <tr style=\"text-align: right;\">\n",
       "      <th></th>\n",
       "      <th>age</th>\n",
       "      <th>height</th>\n",
       "      <th>weight</th>\n",
       "    </tr>\n",
       "  </thead>\n",
       "  <tbody>\n",
       "    <tr>\n",
       "      <th>Bob</th>\n",
       "      <td>25</td>\n",
       "      <td>180</td>\n",
       "      <td>78</td>\n",
       "    </tr>\n",
       "    <tr>\n",
       "      <th>Ann</th>\n",
       "      <td>35</td>\n",
       "      <td>190</td>\n",
       "      <td>95</td>\n",
       "    </tr>\n",
       "    <tr>\n",
       "      <th>Max</th>\n",
       "      <td>7</td>\n",
       "      <td>120</td>\n",
       "      <td>40</td>\n",
       "    </tr>\n",
       "  </tbody>\n",
       "</table>\n",
       "</div>"
      ],
      "text/plain": [
       "     age  height  weight\n",
       "Bob   25     180      78\n",
       "Ann   35     190      95\n",
       "Max    7     120      40"
      ]
     },
     "execution_count": 138,
     "metadata": {},
     "output_type": "execute_result"
    }
   ],
   "source": [
    "people.loc['Bob':'Max']"
   ]
  },
  {
   "cell_type": "code",
   "execution_count": 139,
   "id": "31c9d93d-d1a8-4968-b5d0-71cf184af6c8",
   "metadata": {},
   "outputs": [
    {
     "data": {
      "text/html": [
       "<div>\n",
       "<style scoped>\n",
       "    .dataframe tbody tr th:only-of-type {\n",
       "        vertical-align: middle;\n",
       "    }\n",
       "\n",
       "    .dataframe tbody tr th {\n",
       "        vertical-align: top;\n",
       "    }\n",
       "\n",
       "    .dataframe thead th {\n",
       "        text-align: right;\n",
       "    }\n",
       "</style>\n",
       "<table border=\"1\" class=\"dataframe\">\n",
       "  <thead>\n",
       "    <tr style=\"text-align: right;\">\n",
       "      <th></th>\n",
       "      <th>height</th>\n",
       "      <th>weight</th>\n",
       "    </tr>\n",
       "  </thead>\n",
       "  <tbody>\n",
       "    <tr>\n",
       "      <th>Bob</th>\n",
       "      <td>180</td>\n",
       "      <td>78</td>\n",
       "    </tr>\n",
       "    <tr>\n",
       "      <th>Ann</th>\n",
       "      <td>190</td>\n",
       "      <td>95</td>\n",
       "    </tr>\n",
       "  </tbody>\n",
       "</table>\n",
       "</div>"
      ],
      "text/plain": [
       "     height  weight\n",
       "Bob     180      78\n",
       "Ann     190      95"
      ]
     },
     "execution_count": 139,
     "metadata": {},
     "output_type": "execute_result"
    }
   ],
   "source": [
    "people.loc['Bob':'Ann', 'height':'weight']"
   ]
  },
  {
   "cell_type": "code",
   "execution_count": 140,
   "id": "2f0a904d-56e5-4d79-a478-3d1544d79f22",
   "metadata": {},
   "outputs": [
    {
     "data": {
      "text/html": [
       "<div>\n",
       "<style scoped>\n",
       "    .dataframe tbody tr th:only-of-type {\n",
       "        vertical-align: middle;\n",
       "    }\n",
       "\n",
       "    .dataframe tbody tr th {\n",
       "        vertical-align: top;\n",
       "    }\n",
       "\n",
       "    .dataframe thead th {\n",
       "        text-align: right;\n",
       "    }\n",
       "</style>\n",
       "<table border=\"1\" class=\"dataframe\">\n",
       "  <thead>\n",
       "    <tr style=\"text-align: right;\">\n",
       "      <th></th>\n",
       "      <th>age</th>\n",
       "      <th>height</th>\n",
       "      <th>weight</th>\n",
       "    </tr>\n",
       "  </thead>\n",
       "  <tbody>\n",
       "    <tr>\n",
       "      <th>Bob</th>\n",
       "      <td>25</td>\n",
       "      <td>180</td>\n",
       "      <td>78</td>\n",
       "    </tr>\n",
       "    <tr>\n",
       "      <th>Ann</th>\n",
       "      <td>35</td>\n",
       "      <td>190</td>\n",
       "      <td>95</td>\n",
       "    </tr>\n",
       "  </tbody>\n",
       "</table>\n",
       "</div>"
      ],
      "text/plain": [
       "     age  height  weight\n",
       "Bob   25     180      78\n",
       "Ann   35     190      95"
      ]
     },
     "execution_count": 140,
     "metadata": {},
     "output_type": "execute_result"
    }
   ],
   "source": [
    "people.loc[people['height'] > 130]"
   ]
  },
  {
   "cell_type": "code",
   "execution_count": 141,
   "id": "24688824-9a04-4313-abc5-53a66d33ee43",
   "metadata": {},
   "outputs": [
    {
     "data": {
      "text/html": [
       "<div>\n",
       "<style scoped>\n",
       "    .dataframe tbody tr th:only-of-type {\n",
       "        vertical-align: middle;\n",
       "    }\n",
       "\n",
       "    .dataframe tbody tr th {\n",
       "        vertical-align: top;\n",
       "    }\n",
       "\n",
       "    .dataframe thead th {\n",
       "        text-align: right;\n",
       "    }\n",
       "</style>\n",
       "<table border=\"1\" class=\"dataframe\">\n",
       "  <thead>\n",
       "    <tr style=\"text-align: right;\">\n",
       "      <th></th>\n",
       "      <th>age</th>\n",
       "      <th>height</th>\n",
       "      <th>weight</th>\n",
       "    </tr>\n",
       "  </thead>\n",
       "  <tbody>\n",
       "    <tr>\n",
       "      <th>Ann</th>\n",
       "      <td>35</td>\n",
       "      <td>190</td>\n",
       "      <td>95</td>\n",
       "    </tr>\n",
       "  </tbody>\n",
       "</table>\n",
       "</div>"
      ],
      "text/plain": [
       "     age  height  weight\n",
       "Ann   35     190      95"
      ]
     },
     "execution_count": 141,
     "metadata": {},
     "output_type": "execute_result"
    }
   ],
   "source": [
    "height_and_weight_verification = (people.height > 130) & (people.weight > 80)\n",
    "people.loc[height_and_weight_verification]"
   ]
  },
  {
   "cell_type": "markdown",
   "id": "0054f063-685d-45fb-afec-4d2687e992bb",
   "metadata": {},
   "source": [
    "### Изменение даннных"
   ]
  },
  {
   "cell_type": "code",
   "execution_count": 142,
   "id": "d97f18d1-2aaa-49b4-bf3b-3d562d1a288e",
   "metadata": {},
   "outputs": [
    {
     "data": {
      "text/html": [
       "<div>\n",
       "<style scoped>\n",
       "    .dataframe tbody tr th:only-of-type {\n",
       "        vertical-align: middle;\n",
       "    }\n",
       "\n",
       "    .dataframe tbody tr th {\n",
       "        vertical-align: top;\n",
       "    }\n",
       "\n",
       "    .dataframe thead th {\n",
       "        text-align: right;\n",
       "    }\n",
       "</style>\n",
       "<table border=\"1\" class=\"dataframe\">\n",
       "  <thead>\n",
       "    <tr style=\"text-align: right;\">\n",
       "      <th></th>\n",
       "      <th>age</th>\n",
       "      <th>height</th>\n",
       "      <th>weight</th>\n",
       "    </tr>\n",
       "  </thead>\n",
       "  <tbody>\n",
       "    <tr>\n",
       "      <th>Bob</th>\n",
       "      <td>25</td>\n",
       "      <td>180</td>\n",
       "      <td>78</td>\n",
       "    </tr>\n",
       "    <tr>\n",
       "      <th>Ann</th>\n",
       "      <td>35</td>\n",
       "      <td>190</td>\n",
       "      <td>150</td>\n",
       "    </tr>\n",
       "    <tr>\n",
       "      <th>Max</th>\n",
       "      <td>7</td>\n",
       "      <td>120</td>\n",
       "      <td>40</td>\n",
       "    </tr>\n",
       "  </tbody>\n",
       "</table>\n",
       "</div>"
      ],
      "text/plain": [
       "     age  height  weight\n",
       "Bob   25     180      78\n",
       "Ann   35     190     150\n",
       "Max    7     120      40"
      ]
     },
     "execution_count": 142,
     "metadata": {},
     "output_type": "execute_result"
    }
   ],
   "source": [
    "people.loc[height_and_weight_verification, 'weight'] = 150\n",
    "people"
   ]
  },
  {
   "cell_type": "code",
   "execution_count": 151,
   "id": "f10c0a5a-80c9-45ca-8c41-a9179bd27696",
   "metadata": {},
   "outputs": [
    {
     "name": "stderr",
     "output_type": "stream",
     "text": [
      "/tmp/ipykernel_451505/1791569594.py:5: FutureWarning: Setting an item of incompatible dtype is deprecated and will raise in a future error of pandas. Value '2.666666666666668' has dtype incompatible with int64, please explicitly cast to a compatible dtype first.\n",
      "  row.age -= avg_age\n",
      "/tmp/ipykernel_451505/1791569594.py:5: FutureWarning: Setting an item of incompatible dtype is deprecated and will raise in a future error of pandas. Value '12.666666666666668' has dtype incompatible with int64, please explicitly cast to a compatible dtype first.\n",
      "  row.age -= avg_age\n",
      "/tmp/ipykernel_451505/1791569594.py:5: FutureWarning: Setting an item of incompatible dtype is deprecated and will raise in a future error of pandas. Value '-15.333333333333332' has dtype incompatible with int64, please explicitly cast to a compatible dtype first.\n",
      "  row.age -= avg_age\n"
     ]
    }
   ],
   "source": [
    "def add_two(x):\n",
    "    return x + 2\n",
    "\n",
    "def difference_between_avg(row):\n",
    "    row.age -= avg_age\n",
    "    row.height -= avg_height\n",
    "    row.weight -= avg_weight\n",
    "    return row\n",
    "\n",
    "people['age'].apply(lambda x: x+2)\n",
    "people['weight'].map(add_two)\n",
    "avg_age = people.age.mean()\n",
    "avg_height = people.height.mean()\n",
    "avg_weight = people.weight.mean()\n",
    "\n",
    "people_dif = pd.DataFrame(columns=['dif_age', 'dif_height', 'dif_weight'])"
   ]
  },
  {
   "cell_type": "code",
   "execution_count": 152,
   "id": "970fbed6-92d3-4188-aa22-1dde0e307830",
   "metadata": {},
   "outputs": [
    {
     "name": "stderr",
     "output_type": "stream",
     "text": [
      "/tmp/ipykernel_451505/1791569594.py:5: FutureWarning: Setting an item of incompatible dtype is deprecated and will raise in a future error of pandas. Value '2.666666666666668' has dtype incompatible with int64, please explicitly cast to a compatible dtype first.\n",
      "  row.age -= avg_age\n",
      "/tmp/ipykernel_451505/1791569594.py:5: FutureWarning: Setting an item of incompatible dtype is deprecated and will raise in a future error of pandas. Value '12.666666666666668' has dtype incompatible with int64, please explicitly cast to a compatible dtype first.\n",
      "  row.age -= avg_age\n",
      "/tmp/ipykernel_451505/1791569594.py:5: FutureWarning: Setting an item of incompatible dtype is deprecated and will raise in a future error of pandas. Value '-15.333333333333332' has dtype incompatible with int64, please explicitly cast to a compatible dtype first.\n",
      "  row.age -= avg_age\n"
     ]
    }
   ],
   "source": [
    "people_dif[['dif_age', 'dif_height', 'dif_weight']] = people.apply(difference_between_avg, axis='columns')"
   ]
  },
  {
   "cell_type": "code",
   "execution_count": 153,
   "id": "6ce28889-2cf5-4940-a79e-65015706bb45",
   "metadata": {},
   "outputs": [
    {
     "data": {
      "text/html": [
       "<div>\n",
       "<style scoped>\n",
       "    .dataframe tbody tr th:only-of-type {\n",
       "        vertical-align: middle;\n",
       "    }\n",
       "\n",
       "    .dataframe tbody tr th {\n",
       "        vertical-align: top;\n",
       "    }\n",
       "\n",
       "    .dataframe thead th {\n",
       "        text-align: right;\n",
       "    }\n",
       "</style>\n",
       "<table border=\"1\" class=\"dataframe\">\n",
       "  <thead>\n",
       "    <tr style=\"text-align: right;\">\n",
       "      <th></th>\n",
       "      <th>dif_age</th>\n",
       "      <th>dif_height</th>\n",
       "      <th>dif_weight</th>\n",
       "    </tr>\n",
       "  </thead>\n",
       "  <tbody>\n",
       "    <tr>\n",
       "      <th>Bob</th>\n",
       "      <td>2.666667</td>\n",
       "      <td>16.666667</td>\n",
       "      <td>-11.333333</td>\n",
       "    </tr>\n",
       "    <tr>\n",
       "      <th>Ann</th>\n",
       "      <td>12.666667</td>\n",
       "      <td>26.666667</td>\n",
       "      <td>60.666667</td>\n",
       "    </tr>\n",
       "    <tr>\n",
       "      <th>Max</th>\n",
       "      <td>-15.333333</td>\n",
       "      <td>-43.333333</td>\n",
       "      <td>-49.333333</td>\n",
       "    </tr>\n",
       "  </tbody>\n",
       "</table>\n",
       "</div>"
      ],
      "text/plain": [
       "       dif_age  dif_height  dif_weight\n",
       "Bob   2.666667   16.666667  -11.333333\n",
       "Ann  12.666667   26.666667   60.666667\n",
       "Max -15.333333  -43.333333  -49.333333"
      ]
     },
     "execution_count": 153,
     "metadata": {},
     "output_type": "execute_result"
    }
   ],
   "source": [
    "people_dif"
   ]
  },
  {
   "cell_type": "code",
   "execution_count": 155,
   "id": "82afb4a0-fbf0-4a2e-adca-3fc79c0bc192",
   "metadata": {},
   "outputs": [
    {
     "name": "stderr",
     "output_type": "stream",
     "text": [
      "/tmp/ipykernel_451505/1463681103.py:1: FutureWarning: DataFrame.applymap has been deprecated. Use DataFrame.map instead.\n",
      "  people_dif.applymap(lambda x: x + 100)\n"
     ]
    },
    {
     "data": {
      "text/html": [
       "<div>\n",
       "<style scoped>\n",
       "    .dataframe tbody tr th:only-of-type {\n",
       "        vertical-align: middle;\n",
       "    }\n",
       "\n",
       "    .dataframe tbody tr th {\n",
       "        vertical-align: top;\n",
       "    }\n",
       "\n",
       "    .dataframe thead th {\n",
       "        text-align: right;\n",
       "    }\n",
       "</style>\n",
       "<table border=\"1\" class=\"dataframe\">\n",
       "  <thead>\n",
       "    <tr style=\"text-align: right;\">\n",
       "      <th></th>\n",
       "      <th>dif_age</th>\n",
       "      <th>dif_height</th>\n",
       "      <th>dif_weight</th>\n",
       "    </tr>\n",
       "  </thead>\n",
       "  <tbody>\n",
       "    <tr>\n",
       "      <th>Bob</th>\n",
       "      <td>102.666667</td>\n",
       "      <td>116.666667</td>\n",
       "      <td>88.666667</td>\n",
       "    </tr>\n",
       "    <tr>\n",
       "      <th>Ann</th>\n",
       "      <td>112.666667</td>\n",
       "      <td>126.666667</td>\n",
       "      <td>160.666667</td>\n",
       "    </tr>\n",
       "    <tr>\n",
       "      <th>Max</th>\n",
       "      <td>84.666667</td>\n",
       "      <td>56.666667</td>\n",
       "      <td>50.666667</td>\n",
       "    </tr>\n",
       "  </tbody>\n",
       "</table>\n",
       "</div>"
      ],
      "text/plain": [
       "        dif_age  dif_height  dif_weight\n",
       "Bob  102.666667  116.666667   88.666667\n",
       "Ann  112.666667  126.666667  160.666667\n",
       "Max   84.666667   56.666667   50.666667"
      ]
     },
     "execution_count": 155,
     "metadata": {},
     "output_type": "execute_result"
    }
   ],
   "source": [
    "people_dif.applymap(lambda x: x + 100)"
   ]
  },
  {
   "cell_type": "code",
   "execution_count": 156,
   "id": "9296ea92-4605-493a-80ef-eaf3055d17d9",
   "metadata": {},
   "outputs": [
    {
     "data": {
      "text/html": [
       "<div>\n",
       "<style scoped>\n",
       "    .dataframe tbody tr th:only-of-type {\n",
       "        vertical-align: middle;\n",
       "    }\n",
       "\n",
       "    .dataframe tbody tr th {\n",
       "        vertical-align: top;\n",
       "    }\n",
       "\n",
       "    .dataframe thead th {\n",
       "        text-align: right;\n",
       "    }\n",
       "</style>\n",
       "<table border=\"1\" class=\"dataframe\">\n",
       "  <thead>\n",
       "    <tr style=\"text-align: right;\">\n",
       "      <th></th>\n",
       "      <th>age</th>\n",
       "      <th>height</th>\n",
       "      <th>weight</th>\n",
       "    </tr>\n",
       "  </thead>\n",
       "  <tbody>\n",
       "    <tr>\n",
       "      <th>Bob</th>\n",
       "      <td>25</td>\n",
       "      <td>180</td>\n",
       "      <td>78</td>\n",
       "    </tr>\n",
       "    <tr>\n",
       "      <th>Ann</th>\n",
       "      <td>35</td>\n",
       "      <td>190</td>\n",
       "      <td>150</td>\n",
       "    </tr>\n",
       "    <tr>\n",
       "      <th>Max</th>\n",
       "      <td>7</td>\n",
       "      <td>120</td>\n",
       "      <td>40</td>\n",
       "    </tr>\n",
       "  </tbody>\n",
       "</table>\n",
       "</div>"
      ],
      "text/plain": [
       "     age  height  weight\n",
       "Bob   25     180      78\n",
       "Ann   35     190     150\n",
       "Max    7     120      40"
      ]
     },
     "execution_count": 156,
     "metadata": {},
     "output_type": "execute_result"
    }
   ],
   "source": [
    "people"
   ]
  },
  {
   "cell_type": "markdown",
   "id": "fe70cc4c-4c46-419b-b10c-a39e82809a7d",
   "metadata": {},
   "source": [
    "### groupby"
   ]
  },
  {
   "cell_type": "code",
   "execution_count": 160,
   "id": "a03dd49e-cc7b-4b07-9ad5-272e32e13a0e",
   "metadata": {},
   "outputs": [
    {
     "data": {
      "text/html": [
       "<div>\n",
       "<style scoped>\n",
       "    .dataframe tbody tr th:only-of-type {\n",
       "        vertical-align: middle;\n",
       "    }\n",
       "\n",
       "    .dataframe tbody tr th {\n",
       "        vertical-align: top;\n",
       "    }\n",
       "\n",
       "    .dataframe thead th {\n",
       "        text-align: right;\n",
       "    }\n",
       "</style>\n",
       "<table border=\"1\" class=\"dataframe\">\n",
       "  <thead>\n",
       "    <tr style=\"text-align: right;\">\n",
       "      <th></th>\n",
       "      <th>height</th>\n",
       "      <th>weight</th>\n",
       "    </tr>\n",
       "    <tr>\n",
       "      <th>age</th>\n",
       "      <th></th>\n",
       "      <th></th>\n",
       "    </tr>\n",
       "  </thead>\n",
       "  <tbody>\n",
       "    <tr>\n",
       "      <th>7</th>\n",
       "      <td>120.0</td>\n",
       "      <td>40.0</td>\n",
       "    </tr>\n",
       "    <tr>\n",
       "      <th>25</th>\n",
       "      <td>180.0</td>\n",
       "      <td>78.0</td>\n",
       "    </tr>\n",
       "    <tr>\n",
       "      <th>35</th>\n",
       "      <td>190.0</td>\n",
       "      <td>150.0</td>\n",
       "    </tr>\n",
       "  </tbody>\n",
       "</table>\n",
       "</div>"
      ],
      "text/plain": [
       "     height  weight\n",
       "age                \n",
       "7     120.0    40.0\n",
       "25    180.0    78.0\n",
       "35    190.0   150.0"
      ]
     },
     "execution_count": 160,
     "metadata": {},
     "output_type": "execute_result"
    }
   ],
   "source": [
    "people.groupby('age').mean()"
   ]
  },
  {
   "cell_type": "code",
   "execution_count": 166,
   "id": "98c16c40-06ed-470a-a4bb-cfbcc2c383b8",
   "metadata": {},
   "outputs": [
    {
     "data": {
      "text/html": [
       "<div>\n",
       "<style scoped>\n",
       "    .dataframe tbody tr th:only-of-type {\n",
       "        vertical-align: middle;\n",
       "    }\n",
       "\n",
       "    .dataframe tbody tr th {\n",
       "        vertical-align: top;\n",
       "    }\n",
       "\n",
       "    .dataframe thead th {\n",
       "        text-align: right;\n",
       "    }\n",
       "</style>\n",
       "<table border=\"1\" class=\"dataframe\">\n",
       "  <thead>\n",
       "    <tr style=\"text-align: right;\">\n",
       "      <th></th>\n",
       "      <th>min</th>\n",
       "      <th>max</th>\n",
       "    </tr>\n",
       "    <tr>\n",
       "      <th>age</th>\n",
       "      <th></th>\n",
       "      <th></th>\n",
       "    </tr>\n",
       "  </thead>\n",
       "  <tbody>\n",
       "    <tr>\n",
       "      <th>7</th>\n",
       "      <td>120</td>\n",
       "      <td>120</td>\n",
       "    </tr>\n",
       "    <tr>\n",
       "      <th>25</th>\n",
       "      <td>180</td>\n",
       "      <td>180</td>\n",
       "    </tr>\n",
       "    <tr>\n",
       "      <th>35</th>\n",
       "      <td>190</td>\n",
       "      <td>190</td>\n",
       "    </tr>\n",
       "  </tbody>\n",
       "</table>\n",
       "</div>"
      ],
      "text/plain": [
       "     min  max\n",
       "age          \n",
       "7    120  120\n",
       "25   180  180\n",
       "35   190  190"
      ]
     },
     "execution_count": 166,
     "metadata": {},
     "output_type": "execute_result"
    }
   ],
   "source": [
    "people.groupby('age')['height'].agg(['min', 'max'])"
   ]
  },
  {
   "cell_type": "code",
   "execution_count": 168,
   "id": "11ca0ac2-b534-49d3-bf0b-8d3a70a07859",
   "metadata": {},
   "outputs": [
    {
     "data": {
      "text/html": [
       "<div>\n",
       "<style scoped>\n",
       "    .dataframe tbody tr th:only-of-type {\n",
       "        vertical-align: middle;\n",
       "    }\n",
       "\n",
       "    .dataframe tbody tr th {\n",
       "        vertical-align: top;\n",
       "    }\n",
       "\n",
       "    .dataframe thead th {\n",
       "        text-align: right;\n",
       "    }\n",
       "</style>\n",
       "<table border=\"1\" class=\"dataframe\">\n",
       "  <thead>\n",
       "    <tr style=\"text-align: right;\">\n",
       "      <th></th>\n",
       "      <th>height</th>\n",
       "      <th>weight</th>\n",
       "    </tr>\n",
       "    <tr>\n",
       "      <th>age</th>\n",
       "      <th></th>\n",
       "      <th></th>\n",
       "    </tr>\n",
       "  </thead>\n",
       "  <tbody>\n",
       "    <tr>\n",
       "      <th>7</th>\n",
       "      <td>120</td>\n",
       "      <td>40</td>\n",
       "    </tr>\n",
       "    <tr>\n",
       "      <th>25</th>\n",
       "      <td>180</td>\n",
       "      <td>78</td>\n",
       "    </tr>\n",
       "    <tr>\n",
       "      <th>35</th>\n",
       "      <td>190</td>\n",
       "      <td>150</td>\n",
       "    </tr>\n",
       "  </tbody>\n",
       "</table>\n",
       "</div>"
      ],
      "text/plain": [
       "     height  weight\n",
       "age                \n",
       "7       120      40\n",
       "25      180      78\n",
       "35      190     150"
      ]
     },
     "execution_count": 168,
     "metadata": {},
     "output_type": "execute_result"
    }
   ],
   "source": [
    "people.groupby('age').agg({'height': 'max', 'weight': 'min'})"
   ]
  },
  {
   "cell_type": "code",
   "execution_count": 169,
   "id": "ed5e9ca1-d647-475f-a1a5-c3437438d616",
   "metadata": {},
   "outputs": [
    {
     "data": {
      "text/html": [
       "<div>\n",
       "<style scoped>\n",
       "    .dataframe tbody tr th:only-of-type {\n",
       "        vertical-align: middle;\n",
       "    }\n",
       "\n",
       "    .dataframe tbody tr th {\n",
       "        vertical-align: top;\n",
       "    }\n",
       "\n",
       "    .dataframe thead th {\n",
       "        text-align: right;\n",
       "    }\n",
       "</style>\n",
       "<table border=\"1\" class=\"dataframe\">\n",
       "  <thead>\n",
       "    <tr style=\"text-align: right;\">\n",
       "      <th></th>\n",
       "      <th>height</th>\n",
       "      <th>weight</th>\n",
       "    </tr>\n",
       "    <tr>\n",
       "      <th>age</th>\n",
       "      <th></th>\n",
       "      <th></th>\n",
       "    </tr>\n",
       "  </thead>\n",
       "  <tbody>\n",
       "    <tr>\n",
       "      <th>7</th>\n",
       "      <td>14400</td>\n",
       "      <td>1600</td>\n",
       "    </tr>\n",
       "    <tr>\n",
       "      <th>25</th>\n",
       "      <td>32400</td>\n",
       "      <td>6084</td>\n",
       "    </tr>\n",
       "    <tr>\n",
       "      <th>35</th>\n",
       "      <td>36100</td>\n",
       "      <td>22500</td>\n",
       "    </tr>\n",
       "  </tbody>\n",
       "</table>\n",
       "</div>"
      ],
      "text/plain": [
       "     height  weight\n",
       "age                \n",
       "7     14400    1600\n",
       "25    32400    6084\n",
       "35    36100   22500"
      ]
     },
     "execution_count": 169,
     "metadata": {},
     "output_type": "execute_result"
    }
   ],
   "source": [
    "def square_calc(x):\n",
    "    return x**2\n",
    "\n",
    "people.groupby('age').agg(square_calc)"
   ]
  }
 ],
 "metadata": {
  "kernelspec": {
   "display_name": "pandas_edu",
   "language": "python",
   "name": "pandas_edu"
  },
  "language_info": {
   "codemirror_mode": {
    "name": "ipython",
    "version": 3
   },
   "file_extension": ".py",
   "mimetype": "text/x-python",
   "name": "python",
   "nbconvert_exporter": "python",
   "pygments_lexer": "ipython3",
   "version": "3.12.0"
  }
 },
 "nbformat": 4,
 "nbformat_minor": 5
}
