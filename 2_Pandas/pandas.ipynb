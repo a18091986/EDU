{
 "cells": [
  {
   "cell_type": "code",
   "execution_count": 265,
   "id": "e9daf34b-4aa1-4df6-9405-bd69ace9e431",
   "metadata": {},
   "outputs": [],
   "source": [
    "import pandas as pd\n",
    "import numpy as np\n",
    "import seaborn as sns\n",
    "import matplotlib.pyplot as plt"
   ]
  },
  {
   "cell_type": "markdown",
   "id": "e989c95c-79c7-48da-a54d-155af4909100",
   "metadata": {},
   "source": [
    "# Pandas"
   ]
  },
  {
   "cell_type": "markdown",
   "id": "97b481fc-a57d-4bde-8500-55f7e104b22c",
   "metadata": {},
   "source": [
    "## Конфигурирование"
   ]
  },
  {
   "cell_type": "code",
   "execution_count": 89,
   "id": "c5f1940b-6a09-4e95-b96b-a93e8274cf83",
   "metadata": {},
   "outputs": [],
   "source": [
    "pd.set_option('display.max_columns', 40)\n",
    "pd.set_option('display.float_format', '{:.2f}'.format)"
   ]
  },
  {
   "cell_type": "code",
   "execution_count": 90,
   "id": "1356a619-723f-463a-8a55-cf34b260a8ab",
   "metadata": {},
   "outputs": [
    {
     "data": {
      "text/plain": [
       "40"
      ]
     },
     "execution_count": 90,
     "metadata": {},
     "output_type": "execute_result"
    }
   ],
   "source": [
    "#pd.describe_option()\n",
    "pd.get_option('display.max_columns')"
   ]
  },
  {
   "cell_type": "markdown",
   "id": "b99ed669-9cce-4cd3-a3bc-40a87bd851aa",
   "metadata": {
    "jp-MarkdownHeadingCollapsed": true
   },
   "source": [
    "## Series"
   ]
  },
  {
   "cell_type": "markdown",
   "id": "491ea4c6-b8bc-420b-9697-5315f54bdb24",
   "metadata": {},
   "source": [
    "### Созданиe"
   ]
  },
  {
   "cell_type": "code",
   "execution_count": 91,
   "id": "29f79ddf-51fa-4884-9fbf-01410c237409",
   "metadata": {},
   "outputs": [
    {
     "data": {
      "text/plain": [
       "Moscow              123\n",
       "Saint-Petersburg    100\n",
       "Penza                15\n",
       "Name: cities_area, dtype: int64"
      ]
     },
     "execution_count": 91,
     "metadata": {},
     "output_type": "execute_result"
    }
   ],
   "source": [
    "cities = ['Moscow', 'Saint-Petersburg', 'Penza']\n",
    "area = [123, 100, 15]\n",
    "cities_area_series = pd.Series(data=area, index=cities, name='cities_area')\n",
    "cities_area_series"
   ]
  },
  {
   "cell_type": "code",
   "execution_count": 92,
   "id": "43407c1f-49b4-4fef-aad5-f01b533dc139",
   "metadata": {},
   "outputs": [
    {
     "data": {
      "text/plain": [
       "geely   2000000.00\n",
       "haval   2500000.00\n",
       "Name: cars_price, dtype: float64"
      ]
     },
     "execution_count": 92,
     "metadata": {},
     "output_type": "execute_result"
    }
   ],
   "source": [
    "cars_price = {'geely': 2_000_000, 'haval': 2.5*1E6}\n",
    "pd.Series(cars_price, name='cars_price')"
   ]
  },
  {
   "cell_type": "markdown",
   "id": "523014d0-e6fc-41af-8b2c-cca162814a60",
   "metadata": {},
   "source": [
    "### Получение данных"
   ]
  },
  {
   "cell_type": "code",
   "execution_count": 93,
   "id": "f92dda93-3a68-4ab0-a5f0-02a08af495aa",
   "metadata": {},
   "outputs": [
    {
     "name": "stdout",
     "output_type": "stream",
     "text": [
      "123 123\n"
     ]
    }
   ],
   "source": [
    "print(cities_area_series['Moscow'], cities_area_series.iloc[0])"
   ]
  },
  {
   "cell_type": "code",
   "execution_count": 94,
   "id": "b00aefec-f34d-428c-af0d-f49ad66253bb",
   "metadata": {},
   "outputs": [
    {
     "data": {
      "text/plain": [
       "Moscow              123\n",
       "Saint-Petersburg    100\n",
       "Name: cities_area, dtype: int64"
      ]
     },
     "execution_count": 94,
     "metadata": {},
     "output_type": "execute_result"
    }
   ],
   "source": [
    "cities_area_series[cities_area_series >= 100]"
   ]
  },
  {
   "cell_type": "markdown",
   "id": "6e2b56ed-56e6-46ec-8f08-f413189a4911",
   "metadata": {},
   "source": [
    "### Изменение данных"
   ]
  },
  {
   "cell_type": "code",
   "execution_count": 95,
   "id": "734d663d-9bb4-46f2-8622-74e137a6e2d4",
   "metadata": {},
   "outputs": [
    {
     "name": "stdout",
     "output_type": "stream",
     "text": [
      "250\n"
     ]
    }
   ],
   "source": [
    "cities_area_series['Moscow'] = 250\n",
    "print(cities_area_series['Moscow'])"
   ]
  },
  {
   "cell_type": "code",
   "execution_count": 96,
   "id": "d2fd0ab9-6053-472d-b5cc-c5f66ea5f951",
   "metadata": {},
   "outputs": [
    {
     "data": {
      "text/plain": [
       "London       250\n",
       "Paris        100\n",
       "Amsterdam     15\n",
       "Name: cities_area, dtype: int64"
      ]
     },
     "execution_count": 96,
     "metadata": {},
     "output_type": "execute_result"
    }
   ],
   "source": [
    "cities_area_series.index=['London', 'Paris', 'Amsterdam']\n",
    "cities_area_series"
   ]
  },
  {
   "cell_type": "code",
   "execution_count": 97,
   "id": "d61c5e8c-1bb8-45cd-ab66-4f3a6059d997",
   "metadata": {},
   "outputs": [
    {
     "data": {
      "text/plain": [
       "London       252\n",
       "Paris        102\n",
       "Amsterdam     17\n",
       "Name: cities_area, dtype: int64"
      ]
     },
     "execution_count": 97,
     "metadata": {},
     "output_type": "execute_result"
    }
   ],
   "source": [
    "def increase_by_two(x):\n",
    "    return x + 2\n",
    "\n",
    "cities_area_series = cities_area_series.apply(increase_by_two)\n",
    "cities_area_series"
   ]
  },
  {
   "cell_type": "markdown",
   "id": "367d7c9d-7512-4f62-813b-685e8982a9f1",
   "metadata": {},
   "source": [
    "## DataFrame"
   ]
  },
  {
   "cell_type": "code",
   "execution_count": 223,
   "id": "b59fa9d7-dd9c-44ff-af96-a1ad53b29fbe",
   "metadata": {},
   "outputs": [
    {
     "data": {
      "text/html": [
       "<div>\n",
       "<style scoped>\n",
       "    .dataframe tbody tr th:only-of-type {\n",
       "        vertical-align: middle;\n",
       "    }\n",
       "\n",
       "    .dataframe tbody tr th {\n",
       "        vertical-align: top;\n",
       "    }\n",
       "\n",
       "    .dataframe thead th {\n",
       "        text-align: right;\n",
       "    }\n",
       "</style>\n",
       "<table border=\"1\" class=\"dataframe\">\n",
       "  <thead>\n",
       "    <tr style=\"text-align: right;\">\n",
       "      <th></th>\n",
       "      <th>dt</th>\n",
       "      <th>price</th>\n",
       "      <th>change</th>\n",
       "      <th>change_percent</th>\n",
       "      <th>volume</th>\n",
       "    </tr>\n",
       "  </thead>\n",
       "  <tbody>\n",
       "    <tr>\n",
       "      <th>0</th>\n",
       "      <td>2023-01-03 16:00:00</td>\n",
       "      <td>3.49</td>\n",
       "      <td>0.00</td>\n",
       "      <td>0.00</td>\n",
       "      <td>7668027.00</td>\n",
       "    </tr>\n",
       "    <tr>\n",
       "      <th>1</th>\n",
       "      <td>2023-01-04 16:00:00</td>\n",
       "      <td>3.64</td>\n",
       "      <td>0.15</td>\n",
       "      <td>0.04</td>\n",
       "      <td>4858879.00</td>\n",
       "    </tr>\n",
       "    <tr>\n",
       "      <th>2</th>\n",
       "      <td>2023-01-05 16:00:00</td>\n",
       "      <td>3.66</td>\n",
       "      <td>0.17</td>\n",
       "      <td>0.05</td>\n",
       "      <td>5262860.00</td>\n",
       "    </tr>\n",
       "    <tr>\n",
       "      <th>3</th>\n",
       "      <td>2023-01-06 16:00:00</td>\n",
       "      <td>3.69</td>\n",
       "      <td>0.20</td>\n",
       "      <td>0.06</td>\n",
       "      <td>4090692.00</td>\n",
       "    </tr>\n",
       "    <tr>\n",
       "      <th>4</th>\n",
       "      <td>2023-01-09 16:00:00</td>\n",
       "      <td>3.91</td>\n",
       "      <td>0.42</td>\n",
       "      <td>0.12</td>\n",
       "      <td>10357731.00</td>\n",
       "    </tr>\n",
       "  </tbody>\n",
       "</table>\n",
       "</div>"
      ],
      "text/plain": [
       "                   dt  price  change  change_percent      volume\n",
       "0 2023-01-03 16:00:00   3.49    0.00            0.00  7668027.00\n",
       "1 2023-01-04 16:00:00   3.64    0.15            0.04  4858879.00\n",
       "2 2023-01-05 16:00:00   3.66    0.17            0.05  5262860.00\n",
       "3 2023-01-06 16:00:00   3.69    0.20            0.06  4090692.00\n",
       "4 2023-01-09 16:00:00   3.91    0.42            0.12 10357731.00"
      ]
     },
     "execution_count": 223,
     "metadata": {},
     "output_type": "execute_result"
    }
   ],
   "source": [
    "stock_price = pd.read_csv(\"SPCE_stock.csv\", parse_dates=['dt'], skiprows=0)\n",
    "stock_price.head()"
   ]
  },
  {
   "cell_type": "markdown",
   "id": "59fb415d-87e7-4ab2-9331-039771072963",
   "metadata": {},
   "source": [
    "### Создание новых столбцов"
   ]
  },
  {
   "cell_type": "code",
   "execution_count": 245,
   "id": "ee0610b1-b72a-432d-8560-3ec21000a749",
   "metadata": {},
   "outputs": [
    {
     "data": {
      "text/plain": [
       "season\n",
       "spring   0.28\n",
       "summer   0.28\n",
       "autumn   0.27\n",
       "winter   0.18\n",
       "Name: proportion, dtype: float64"
      ]
     },
     "execution_count": 245,
     "metadata": {},
     "output_type": "execute_result"
    }
   ],
   "source": [
    "# добавление столбца с временем года на основании даты\n",
    "def season(t_val):\n",
    "    if t_val.month in (12,1,2):\n",
    "        return 'winter'\n",
    "    elif t_val.month in (3,4,5):\n",
    "        return 'spring'\n",
    "    elif t_val.month in (6,7,8):\n",
    "        return \"summer\"\n",
    "    else:\n",
    "        return \"autumn\"\n",
    "    \n",
    "\n",
    "stock_price['season'] = stock_price['dt'].apply(season)\n",
    "stock_price['season'].value_counts(normalize=True, dropna=False)"
   ]
  },
  {
   "cell_type": "code",
   "execution_count": 246,
   "id": "6c936434-9aba-4a15-9a0b-83e329c9980e",
   "metadata": {},
   "outputs": [
    {
     "data": {
      "text/plain": [
       "время года\n",
       "весна   0.28\n",
       "лето    0.28\n",
       "осень   0.27\n",
       "зима    0.18\n",
       "Name: proportion, dtype: float64"
      ]
     },
     "execution_count": 246,
     "metadata": {},
     "output_type": "execute_result"
    }
   ],
   "source": [
    "# np.select\n",
    "conditions = [(stock_price['season'] == \"spring\"), (stock_price['season'] == \"summer\"), (stock_price['season'] == \"autumn\"), (stock_price['season'] == \"winter\")]\n",
    "values = ['весна', 'лето', 'осень', 'зима']\n",
    "\n",
    "stock_price['время года'] = np.select(conditions, values)\n",
    "stock_price['время года'].value_counts(normalize=True, dropna=False)"
   ]
  },
  {
   "cell_type": "code",
   "execution_count": 230,
   "id": "ab1e0c84-d187-4acb-a06d-5b23aa228d2a",
   "metadata": {},
   "outputs": [
    {
     "data": {
      "text/plain": [
       "price_more_then_median\n",
       "меньше медианы   0.50\n",
       "больше медианы   0.50\n",
       "равно медиане    0.01\n",
       "Name: proportion, dtype: float64"
      ]
     },
     "execution_count": 230,
     "metadata": {},
     "output_type": "execute_result"
    }
   ],
   "source": [
    "# введение столбца на основании условия к другому столбцу\n",
    "median_price = stock_price.price.median()\n",
    "stock_price['price_more_then_median'] = ['больше медианы' if price_value > median_price \\\n",
    "                                         else 'равно медиане' if price_value == median_price \\\n",
    "                                         else 'меньше медианы' for price_value in stock_price.price] \n",
    "stock_price.price_more_then_median.value_counts(normalize=True)"
   ]
  },
  {
   "cell_type": "code",
   "execution_count": 235,
   "id": "6d113318-5b7b-45b8-8e4d-bcc8d147ae58",
   "metadata": {},
   "outputs": [
    {
     "data": {
      "text/plain": [
       "is_positive_trend\n",
       "позитивный тренд   0.50\n",
       "NaN                0.44\n",
       "неопределенность   0.07\n",
       "Name: proportion, dtype: float64"
      ]
     },
     "execution_count": 235,
     "metadata": {},
     "output_type": "execute_result"
    }
   ],
   "source": [
    "# введение столбца на основании условий к значений из нескольких столбцов\n",
    "stock_price['is_positive_trend'] = ['позитивный тренд' if p > median_price and cp > 0 \n",
    "                                    else 'неопределенность' if p <= median_price and cp > 0 \n",
    "                                    else np.nan for p, cp in zip(stock_price['price'], stock_price.change_percent)]\n",
    "stock_price.is_positive_trend.value_counts(normalize=True, dropna=False)"
   ]
  },
  {
   "cell_type": "code",
   "execution_count": 237,
   "id": "d34a146e-0bfb-452c-8759-5708dd4ce408",
   "metadata": {},
   "outputs": [
    {
     "data": {
      "text/plain": [
       "volume_2_cat\n",
       "Малый объем     0.90\n",
       "Большой объем   0.10\n",
       "Name: proportion, dtype: float64"
      ]
     },
     "execution_count": 237,
     "metadata": {},
     "output_type": "execute_result"
    }
   ],
   "source": [
    "# np.where\n",
    "stock_price['volume_2_cat'] = np.where(stock_price.volume > stock_price.volume.quantile(.9), 'Большой объем', 'Малый объем')\n",
    "stock_price['volume_2_cat'].value_counts(normalize=True)"
   ]
  },
  {
   "cell_type": "code",
   "execution_count": 269,
   "id": "b270c67d-2960-4347-b9cd-a94256e4fab3",
   "metadata": {},
   "outputs": [
    {
     "data": {
      "text/plain": [
       "volume_2_cat_bool\n",
       "False   0.90\n",
       "True    0.10\n",
       "Name: proportion, dtype: float64"
      ]
     },
     "execution_count": 269,
     "metadata": {},
     "output_type": "execute_result"
    }
   ],
   "source": [
    "# c использование словаря\n",
    "stock_price['volume_2_cat_bool'] = stock_price['volume_2_cat'].map({'Большой объем': True, 'Малый объем': False})\n",
    "stock_price['volume_2_cat_bool'].value_counts(normalize=True, dropna=False)"
   ]
  },
  {
   "cell_type": "markdown",
   "id": "f283b2ea-ab1f-4a5d-8365-8ecc0c6ca9de",
   "metadata": {},
   "source": [
    "### Полезные методы и атрибуты"
   ]
  },
  {
   "cell_type": "code",
   "execution_count": 247,
   "id": "5c833517-fc87-4ac0-abe4-5f3d4adad52e",
   "metadata": {},
   "outputs": [
    {
     "data": {
      "text/html": [
       "<div>\n",
       "<style scoped>\n",
       "    .dataframe tbody tr th:only-of-type {\n",
       "        vertical-align: middle;\n",
       "    }\n",
       "\n",
       "    .dataframe tbody tr th {\n",
       "        vertical-align: top;\n",
       "    }\n",
       "\n",
       "    .dataframe thead th {\n",
       "        text-align: right;\n",
       "    }\n",
       "</style>\n",
       "<table border=\"1\" class=\"dataframe\">\n",
       "  <thead>\n",
       "    <tr style=\"text-align: right;\">\n",
       "      <th></th>\n",
       "      <th>dt</th>\n",
       "      <th>price</th>\n",
       "      <th>change</th>\n",
       "      <th>change_percent</th>\n",
       "      <th>volume</th>\n",
       "      <th>price_more_then_median</th>\n",
       "      <th>is_positive_trend</th>\n",
       "      <th>volume_2_cat</th>\n",
       "      <th>volume_2_cat_bool</th>\n",
       "      <th>season</th>\n",
       "      <th>время года</th>\n",
       "    </tr>\n",
       "  </thead>\n",
       "  <tbody>\n",
       "    <tr>\n",
       "      <th>0</th>\n",
       "      <td>2023-01-03 16:00:00</td>\n",
       "      <td>3.49</td>\n",
       "      <td>0.00</td>\n",
       "      <td>0.00</td>\n",
       "      <td>7668027.00</td>\n",
       "      <td>меньше медианы</td>\n",
       "      <td>NaN</td>\n",
       "      <td>Малый объем</td>\n",
       "      <td>False</td>\n",
       "      <td>winter</td>\n",
       "      <td>зима</td>\n",
       "    </tr>\n",
       "    <tr>\n",
       "      <th>1</th>\n",
       "      <td>2023-01-04 16:00:00</td>\n",
       "      <td>3.64</td>\n",
       "      <td>0.15</td>\n",
       "      <td>0.04</td>\n",
       "      <td>4858879.00</td>\n",
       "      <td>меньше медианы</td>\n",
       "      <td>неопределенность</td>\n",
       "      <td>Малый объем</td>\n",
       "      <td>False</td>\n",
       "      <td>winter</td>\n",
       "      <td>зима</td>\n",
       "    </tr>\n",
       "    <tr>\n",
       "      <th>2</th>\n",
       "      <td>2023-01-05 16:00:00</td>\n",
       "      <td>3.66</td>\n",
       "      <td>0.17</td>\n",
       "      <td>0.05</td>\n",
       "      <td>5262860.00</td>\n",
       "      <td>меньше медианы</td>\n",
       "      <td>неопределенность</td>\n",
       "      <td>Малый объем</td>\n",
       "      <td>False</td>\n",
       "      <td>winter</td>\n",
       "      <td>зима</td>\n",
       "    </tr>\n",
       "  </tbody>\n",
       "</table>\n",
       "</div>"
      ],
      "text/plain": [
       "                   dt  price  change  change_percent     volume  \\\n",
       "0 2023-01-03 16:00:00   3.49    0.00            0.00 7668027.00   \n",
       "1 2023-01-04 16:00:00   3.64    0.15            0.04 4858879.00   \n",
       "2 2023-01-05 16:00:00   3.66    0.17            0.05 5262860.00   \n",
       "\n",
       "  price_more_then_median is_positive_trend volume_2_cat  volume_2_cat_bool  \\\n",
       "0         меньше медианы               NaN  Малый объем              False   \n",
       "1         меньше медианы  неопределенность  Малый объем              False   \n",
       "2         меньше медианы  неопределенность  Малый объем              False   \n",
       "\n",
       "   season время года  \n",
       "0  winter       зима  \n",
       "1  winter       зима  \n",
       "2  winter       зима  "
      ]
     },
     "execution_count": 247,
     "metadata": {},
     "output_type": "execute_result"
    }
   ],
   "source": [
    "stock_price.head(3)"
   ]
  },
  {
   "cell_type": "code",
   "execution_count": 212,
   "id": "7a5010af-0e58-4bb2-895d-8c242468118c",
   "metadata": {},
   "outputs": [
    {
     "name": "stdout",
     "output_type": "stream",
     "text": [
      "**************************************************\n",
      "dtype - типы данных по столбцам\n",
      "**************************************************\n",
      "dt                datetime64[ns]\n",
      "price                    float64\n",
      "change                   float64\n",
      "change_percent           float64\n",
      "volume                   float64\n",
      "dtype: object\n",
      "**************************************************\n",
      "shape - форма\n",
      "**************************************************\n",
      "(232, 5)\n",
      "**************************************************\n",
      "size - количество элементов\n",
      "**************************************************\n",
      "1160\n",
      "**************************************************\n",
      "index - индекс\n",
      "**************************************************\n",
      "RangeIndex(start=0, stop=232, step=1)\n",
      "**************************************************\n",
      "unique - уникальные значения\n",
      "**************************************************\n",
      "[ 0.    0.15  0.17  0.2   0.42  0.54  0.8   1.13  1.7   2.1   1.42  1.37\n",
      "  1.82  1.83  1.87  1.89  2.22  2.03  2.13  2.85  2.59  2.45  2.46  2.08\n",
      "  1.69  1.49  1.68  1.8   2.52  2.49  2.88  2.26  2.3   2.27  1.99  2.01\n",
      "  2.25  1.24  1.65  1.92  1.61  1.59  1.51  1.14  1.1   0.67  0.61  0.63\n",
      "  0.57  0.41  0.55  0.56  0.39 -0.06 -0.3  -0.34 -0.03  0.09 -0.22 -0.04\n",
      " -0.16 -0.02  0.04  0.12  0.02 -0.05 -0.33  0.08  0.59  0.6   0.68  0.52\n",
      "  0.51  0.72  1.01  1.    0.87  1.44  0.92 -0.11  0.26  0.33  0.31  0.5\n",
      "  0.62  0.7   0.74  0.91  0.85  0.65  1.25  0.28  0.19  0.18  0.29  0.38\n",
      "  0.53  0.3   0.49  0.34  0.44  0.79  0.47  0.23 -0.25 -0.6  -0.72 -0.76\n",
      " -0.64 -0.7  -0.74 -0.73 -0.91 -0.95 -0.9  -0.81 -0.84 -0.97 -0.94 -1.01\n",
      " -1.15 -1.2  -1.43 -1.44 -1.58 -1.5  -1.62 -1.48 -1.68 -1.78 -1.81 -1.86\n",
      " -1.84 -1.77 -1.69 -1.72 -1.83 -1.87 -1.96 -1.79 -1.94 -1.85 -1.74 -1.66\n",
      " -1.95 -2.07 -2.01 -2.11 -2.05 -2.   -1.64 -1.8  -1.75 -1.93 -1.63 -1.7\n",
      " -1.6  -1.36 -1.3  -1.41 -1.24 -1.39 -1.42 -1.37 -1.29 -1.26 -1.53]\n",
      "**************************************************\n",
      "unique - количество уникальных значений\n",
      "**************************************************\n",
      "167\n",
      "**************************************************\n",
      "value_counts - сколько каких значений\n",
      "**************************************************\n",
      "price\n",
      "3.46   0.02\n",
      "4.06   0.02\n",
      "3.80   0.02\n",
      "3.90   0.01\n",
      "3.91   0.01\n",
      "       ... \n",
      "3.57   0.00\n",
      "3.16   0.00\n",
      "3.47   0.00\n",
      "3.33   0.00\n",
      "1.96   0.00\n",
      "Name: proportion, Length: 167, dtype: float64\n",
      "\n"
     ]
    }
   ],
   "source": [
    "print(f\"{'*'*50}\\ndtype - типы данных по столбцам\\n{'*'*50}\\n\\\n",
    "{stock_price.dtypes}\\n\\\n",
    "{'*'*50}\\nshape - форма\\n{'*'*50}\\n\\\n",
    "{stock_price.shape}\\n\\\n",
    "{'*'*50}\\nsize - количество элементов\\n{'*'*50}\\n\\\n",
    "{stock_price.size}\\n\\\n",
    "{'*'*50}\\nindex - индекс\\n{'*'*50}\\n\\\n",
    "{stock_price.index}\\n\\\n",
    "{'*'*50}\\nunique - уникальные значения\\n{'*'*50}\\n\\\n",
    "{stock_price.change.unique()}\\n\\\n",
    "{'*'*50}\\nunique - количество уникальных значений\\n{'*'*50}\\n\\\n",
    "{stock_price.change.nunique()}\\n\\\n",
    "{'*'*50}\\nvalue_counts - сколько каких значений\\n{'*'*50}\\n\\\n",
    "{stock_price.price.value_counts(normalize=True)}\\n\\\n",
    "\")"
   ]
  },
  {
   "cell_type": "markdown",
   "id": "b8f8057b-6e87-4fe0-a913-8f918259fd19",
   "metadata": {},
   "source": [
    "### Описательные статистики"
   ]
  },
  {
   "cell_type": "code",
   "execution_count": 204,
   "id": "d26f13de-83ef-4adc-88cc-4e21ea30c12e",
   "metadata": {},
   "outputs": [
    {
     "name": "stdout",
     "output_type": "stream",
     "text": [
      "<class 'pandas.core.frame.DataFrame'>\n",
      "RangeIndex: 232 entries, 0 to 231\n",
      "Data columns (total 5 columns):\n",
      " #   Column          Non-Null Count  Dtype         \n",
      "---  ------          --------------  -----         \n",
      " 0   dt              232 non-null    datetime64[ns]\n",
      " 1   price           232 non-null    float64       \n",
      " 2   change          232 non-null    float64       \n",
      " 3   change_percent  232 non-null    float64       \n",
      " 4   volume          231 non-null    float64       \n",
      "dtypes: datetime64[ns](1), float64(4)\n",
      "memory usage: 9.2 KB\n"
     ]
    }
   ],
   "source": [
    "stock_price.info()"
   ]
  },
  {
   "cell_type": "code",
   "execution_count": 210,
   "id": "98337c84-a8c7-4318-852b-59378248a6ef",
   "metadata": {},
   "outputs": [
    {
     "data": {
      "text/html": [
       "<div>\n",
       "<style scoped>\n",
       "    .dataframe tbody tr th:only-of-type {\n",
       "        vertical-align: middle;\n",
       "    }\n",
       "\n",
       "    .dataframe tbody tr th {\n",
       "        vertical-align: top;\n",
       "    }\n",
       "\n",
       "    .dataframe thead th {\n",
       "        text-align: right;\n",
       "    }\n",
       "</style>\n",
       "<table border=\"1\" class=\"dataframe\">\n",
       "  <thead>\n",
       "    <tr style=\"text-align: right;\">\n",
       "      <th></th>\n",
       "      <th>price</th>\n",
       "      <th>change</th>\n",
       "      <th>change_percent</th>\n",
       "      <th>volume</th>\n",
       "    </tr>\n",
       "  </thead>\n",
       "  <tbody>\n",
       "    <tr>\n",
       "      <th>count</th>\n",
       "      <td>232.00</td>\n",
       "      <td>232.00</td>\n",
       "      <td>232.00</td>\n",
       "      <td>231.00</td>\n",
       "    </tr>\n",
       "    <tr>\n",
       "      <th>mean</th>\n",
       "      <td>3.55</td>\n",
       "      <td>0.06</td>\n",
       "      <td>0.02</td>\n",
       "      <td>14453558.23</td>\n",
       "    </tr>\n",
       "    <tr>\n",
       "      <th>std</th>\n",
       "      <td>1.31</td>\n",
       "      <td>1.31</td>\n",
       "      <td>0.38</td>\n",
       "      <td>15419267.33</td>\n",
       "    </tr>\n",
       "    <tr>\n",
       "      <th>min</th>\n",
       "      <td>1.38</td>\n",
       "      <td>-2.11</td>\n",
       "      <td>-0.60</td>\n",
       "      <td>3952252.00</td>\n",
       "    </tr>\n",
       "    <tr>\n",
       "      <th>25%</th>\n",
       "      <td>2.25</td>\n",
       "      <td>-1.25</td>\n",
       "      <td>-0.36</td>\n",
       "      <td>7746060.00</td>\n",
       "    </tr>\n",
       "    <tr>\n",
       "      <th>50%</th>\n",
       "      <td>3.69</td>\n",
       "      <td>0.20</td>\n",
       "      <td>0.06</td>\n",
       "      <td>10377471.00</td>\n",
       "    </tr>\n",
       "    <tr>\n",
       "      <th>75%</th>\n",
       "      <td>4.30</td>\n",
       "      <td>0.81</td>\n",
       "      <td>0.23</td>\n",
       "      <td>15249423.50</td>\n",
       "    </tr>\n",
       "    <tr>\n",
       "      <th>max</th>\n",
       "      <td>6.37</td>\n",
       "      <td>2.88</td>\n",
       "      <td>0.83</td>\n",
       "      <td>152662990.00</td>\n",
       "    </tr>\n",
       "  </tbody>\n",
       "</table>\n",
       "</div>"
      ],
      "text/plain": [
       "       price  change  change_percent       volume\n",
       "count 232.00  232.00          232.00       231.00\n",
       "mean    3.55    0.06            0.02  14453558.23\n",
       "std     1.31    1.31            0.38  15419267.33\n",
       "min     1.38   -2.11           -0.60   3952252.00\n",
       "25%     2.25   -1.25           -0.36   7746060.00\n",
       "50%     3.69    0.20            0.06  10377471.00\n",
       "75%     4.30    0.81            0.23  15249423.50\n",
       "max     6.37    2.88            0.83 152662990.00"
      ]
     },
     "execution_count": 210,
     "metadata": {},
     "output_type": "execute_result"
    }
   ],
   "source": [
    "# описательные статистики для числовых данных\n",
    "stock_price.describe(exclude=['datetime'])"
   ]
  },
  {
   "cell_type": "code",
   "execution_count": null,
   "id": "e0f08434-ec73-4c11-8dd8-bbdc15d86567",
   "metadata": {},
   "outputs": [],
   "source": []
  },
  {
   "cell_type": "markdown",
   "id": "27b1c832-6dba-4497-8fa2-4a637a7fb563",
   "metadata": {},
   "source": [
    "### Изменение типа данных"
   ]
  },
  {
   "cell_type": "code",
   "execution_count": 100,
   "id": "53c29777-1f57-4971-bc44-087899a7c8d1",
   "metadata": {},
   "outputs": [
    {
     "name": "stdout",
     "output_type": "stream",
     "text": [
      "float64\n",
      "object\n",
      "object\n",
      "float64\n"
     ]
    }
   ],
   "source": [
    "print(stock_price['change'].dtype)\n",
    "stock_price.change = stock_price.change.astype('object')\n",
    "print(stock_price['change'].dtype)\n",
    "stock_price.change = stock_price.change.astype('str')\n",
    "print(stock_price['change'].dtype)\n",
    "stock_price.change = stock_price.change.astype('float')\n",
    "print(stock_price['change'].dtype)"
   ]
  },
  {
   "cell_type": "markdown",
   "id": "27eb892c-2aab-49ac-be59-9444451ec69a",
   "metadata": {},
   "source": [
    "### Пропуски"
   ]
  },
  {
   "cell_type": "code",
   "execution_count": 172,
   "id": "e0b451d6-16ca-4b8e-976a-11266416b9e3",
   "metadata": {},
   "outputs": [],
   "source": [
    "stock_price.iloc[21, 1:3] = np.nan"
   ]
  },
  {
   "cell_type": "code",
   "execution_count": 173,
   "id": "dca58bb9-2082-4bba-95ef-7867844fb60e",
   "metadata": {},
   "outputs": [
    {
     "data": {
      "text/plain": [
       "dt                False\n",
       "price              True\n",
       "change             True\n",
       "change_percent    False\n",
       "volume             True\n",
       "dtype: bool"
      ]
     },
     "execution_count": 173,
     "metadata": {},
     "output_type": "execute_result"
    }
   ],
   "source": [
    "stock_price.isna().any()"
   ]
  },
  {
   "cell_type": "code",
   "execution_count": 174,
   "id": "9f08a9b6-ecdf-45fa-853e-b607afe472d4",
   "metadata": {},
   "outputs": [
    {
     "data": {
      "text/plain": [
       "dt                0\n",
       "price             1\n",
       "change            1\n",
       "change_percent    0\n",
       "volume            1\n",
       "dtype: int64"
      ]
     },
     "execution_count": 174,
     "metadata": {},
     "output_type": "execute_result"
    }
   ],
   "source": [
    "stock_price.isna().sum()"
   ]
  },
  {
   "cell_type": "code",
   "execution_count": 175,
   "id": "1963d60c-9b2a-4f0f-8e11-d2baad4739a7",
   "metadata": {},
   "outputs": [
    {
     "data": {
      "text/html": [
       "<div>\n",
       "<style scoped>\n",
       "    .dataframe tbody tr th:only-of-type {\n",
       "        vertical-align: middle;\n",
       "    }\n",
       "\n",
       "    .dataframe tbody tr th {\n",
       "        vertical-align: top;\n",
       "    }\n",
       "\n",
       "    .dataframe thead th {\n",
       "        text-align: right;\n",
       "    }\n",
       "</style>\n",
       "<table border=\"1\" class=\"dataframe\">\n",
       "  <thead>\n",
       "    <tr style=\"text-align: right;\">\n",
       "      <th></th>\n",
       "      <th>dt</th>\n",
       "      <th>price</th>\n",
       "      <th>change</th>\n",
       "      <th>change_percent</th>\n",
       "      <th>volume</th>\n",
       "    </tr>\n",
       "  </thead>\n",
       "  <tbody>\n",
       "    <tr>\n",
       "      <th>21</th>\n",
       "      <td>2023-02-02 16:00:00</td>\n",
       "      <td>NaN</td>\n",
       "      <td>NaN</td>\n",
       "      <td>0.82</td>\n",
       "      <td>20903003.00</td>\n",
       "    </tr>\n",
       "    <tr>\n",
       "      <th>231</th>\n",
       "      <td>2023-12-04 13:14:00</td>\n",
       "      <td>1.96</td>\n",
       "      <td>-1.53</td>\n",
       "      <td>-0.44</td>\n",
       "      <td>NaN</td>\n",
       "    </tr>\n",
       "  </tbody>\n",
       "</table>\n",
       "</div>"
      ],
      "text/plain": [
       "                     dt  price  change  change_percent      volume\n",
       "21  2023-02-02 16:00:00    NaN     NaN            0.82 20903003.00\n",
       "231 2023-12-04 13:14:00   1.96   -1.53           -0.44         NaN"
      ]
     },
     "execution_count": 175,
     "metadata": {},
     "output_type": "execute_result"
    }
   ],
   "source": [
    "stock_price[stock_price.isna().values.any(axis=1)]"
   ]
  },
  {
   "cell_type": "code",
   "execution_count": 177,
   "id": "dc09a265-412a-4ddc-abd5-98de635258d5",
   "metadata": {},
   "outputs": [],
   "source": [
    "stock_price.price.fillna(0, inplace=True)"
   ]
  },
  {
   "cell_type": "code",
   "execution_count": 184,
   "id": "726a3b5d-0f5f-4588-bff5-3a6c2fbf2a27",
   "metadata": {},
   "outputs": [
    {
     "data": {
      "text/html": [
       "<div>\n",
       "<style scoped>\n",
       "    .dataframe tbody tr th:only-of-type {\n",
       "        vertical-align: middle;\n",
       "    }\n",
       "\n",
       "    .dataframe tbody tr th {\n",
       "        vertical-align: top;\n",
       "    }\n",
       "\n",
       "    .dataframe thead th {\n",
       "        text-align: right;\n",
       "    }\n",
       "</style>\n",
       "<table border=\"1\" class=\"dataframe\">\n",
       "  <thead>\n",
       "    <tr style=\"text-align: right;\">\n",
       "      <th></th>\n",
       "      <th>dt</th>\n",
       "      <th>price</th>\n",
       "      <th>change</th>\n",
       "      <th>change_percent</th>\n",
       "      <th>volume</th>\n",
       "    </tr>\n",
       "  </thead>\n",
       "  <tbody>\n",
       "    <tr>\n",
       "      <th>231</th>\n",
       "      <td>2023-12-04 13:14:00</td>\n",
       "      <td>1.96</td>\n",
       "      <td>-1.53</td>\n",
       "      <td>-0.44</td>\n",
       "      <td>NaN</td>\n",
       "    </tr>\n",
       "  </tbody>\n",
       "</table>\n",
       "</div>"
      ],
      "text/plain": [
       "                     dt  price  change  change_percent  volume\n",
       "231 2023-12-04 13:14:00   1.96   -1.53           -0.44     NaN"
      ]
     },
     "execution_count": 184,
     "metadata": {},
     "output_type": "execute_result"
    }
   ],
   "source": [
    "stock_price[stock_price.isna().values.any(axis=1)]"
   ]
  },
  {
   "cell_type": "code",
   "execution_count": 185,
   "id": "b9325443-d90a-49d3-8274-682e2b09b5d4",
   "metadata": {},
   "outputs": [],
   "source": [
    "stock_price.change.interpolate('linear', inplace=True)"
   ]
  },
  {
   "cell_type": "code",
   "execution_count": 191,
   "id": "0848e8b4-7bea-49ba-9ace-db6567f3ff68",
   "metadata": {},
   "outputs": [
    {
     "data": {
      "text/plain": [
       "(231, 5)"
      ]
     },
     "execution_count": 191,
     "metadata": {},
     "output_type": "execute_result"
    }
   ],
   "source": [
    "stock_price.dropna(axis=0).shape"
   ]
  },
  {
   "cell_type": "markdown",
   "id": "65d4ea3a-79d6-4002-95b0-256628ff6f8f",
   "metadata": {},
   "source": [
    "### Изменение порядка следования столбцов"
   ]
  },
  {
   "cell_type": "code",
   "execution_count": 101,
   "id": "aedc82da-807b-4818-af16-a4dfa0bbcff2",
   "metadata": {},
   "outputs": [
    {
     "name": "stdout",
     "output_type": "stream",
     "text": [
      "Index(['dt', 'price', 'change', 'change_percent', 'volume'], dtype='object')\n"
     ]
    },
    {
     "data": {
      "text/html": [
       "<div>\n",
       "<style scoped>\n",
       "    .dataframe tbody tr th:only-of-type {\n",
       "        vertical-align: middle;\n",
       "    }\n",
       "\n",
       "    .dataframe tbody tr th {\n",
       "        vertical-align: top;\n",
       "    }\n",
       "\n",
       "    .dataframe thead th {\n",
       "        text-align: right;\n",
       "    }\n",
       "</style>\n",
       "<table border=\"1\" class=\"dataframe\">\n",
       "  <thead>\n",
       "    <tr style=\"text-align: right;\">\n",
       "      <th></th>\n",
       "      <th>dt</th>\n",
       "      <th>change_percent</th>\n",
       "      <th>change</th>\n",
       "    </tr>\n",
       "  </thead>\n",
       "  <tbody>\n",
       "    <tr>\n",
       "      <th>0</th>\n",
       "      <td>2023-01-03 16:00:00</td>\n",
       "      <td>0.00</td>\n",
       "      <td>0.00</td>\n",
       "    </tr>\n",
       "    <tr>\n",
       "      <th>1</th>\n",
       "      <td>2023-01-04 16:00:00</td>\n",
       "      <td>0.04</td>\n",
       "      <td>0.15</td>\n",
       "    </tr>\n",
       "    <tr>\n",
       "      <th>2</th>\n",
       "      <td>2023-01-05 16:00:00</td>\n",
       "      <td>0.05</td>\n",
       "      <td>0.17</td>\n",
       "    </tr>\n",
       "    <tr>\n",
       "      <th>3</th>\n",
       "      <td>2023-01-06 16:00:00</td>\n",
       "      <td>0.06</td>\n",
       "      <td>0.20</td>\n",
       "    </tr>\n",
       "    <tr>\n",
       "      <th>4</th>\n",
       "      <td>2023-01-09 16:00:00</td>\n",
       "      <td>0.12</td>\n",
       "      <td>0.42</td>\n",
       "    </tr>\n",
       "  </tbody>\n",
       "</table>\n",
       "</div>"
      ],
      "text/plain": [
       "                   dt  change_percent  change\n",
       "0 2023-01-03 16:00:00            0.00    0.00\n",
       "1 2023-01-04 16:00:00            0.04    0.15\n",
       "2 2023-01-05 16:00:00            0.05    0.17\n",
       "3 2023-01-06 16:00:00            0.06    0.20\n",
       "4 2023-01-09 16:00:00            0.12    0.42"
      ]
     },
     "execution_count": 101,
     "metadata": {},
     "output_type": "execute_result"
    }
   ],
   "source": [
    "print(stock_price.columns)\n",
    "new_stock = stock_price[['dt','change_percent', 'change']].copy(deep=True)\n",
    "new_stock.head()"
   ]
  },
  {
   "cell_type": "markdown",
   "id": "4a2c707b-e54a-4f43-96bb-a9e3f50fed1d",
   "metadata": {
    "jp-MarkdownHeadingCollapsed": true
   },
   "source": [
    "### Создание"
   ]
  },
  {
   "cell_type": "code",
   "execution_count": 102,
   "id": "451b7f13-ab53-4c43-99c3-f4abd9722244",
   "metadata": {},
   "outputs": [
    {
     "data": {
      "text/html": [
       "<div>\n",
       "<style scoped>\n",
       "    .dataframe tbody tr th:only-of-type {\n",
       "        vertical-align: middle;\n",
       "    }\n",
       "\n",
       "    .dataframe tbody tr th {\n",
       "        vertical-align: top;\n",
       "    }\n",
       "\n",
       "    .dataframe thead th {\n",
       "        text-align: right;\n",
       "    }\n",
       "</style>\n",
       "<table border=\"1\" class=\"dataframe\">\n",
       "  <thead>\n",
       "    <tr style=\"text-align: right;\">\n",
       "      <th></th>\n",
       "      <th>age</th>\n",
       "      <th>height</th>\n",
       "      <th>weight</th>\n",
       "    </tr>\n",
       "  </thead>\n",
       "  <tbody>\n",
       "    <tr>\n",
       "      <th>0</th>\n",
       "      <td>25</td>\n",
       "      <td>180</td>\n",
       "      <td>78</td>\n",
       "    </tr>\n",
       "    <tr>\n",
       "      <th>1</th>\n",
       "      <td>35</td>\n",
       "      <td>190</td>\n",
       "      <td>95</td>\n",
       "    </tr>\n",
       "  </tbody>\n",
       "</table>\n",
       "</div>"
      ],
      "text/plain": [
       "   age  height  weight\n",
       "0   25     180      78\n",
       "1   35     190      95"
      ]
     },
     "execution_count": 102,
     "metadata": {},
     "output_type": "execute_result"
    }
   ],
   "source": [
    "people_info = [dict(age=25, height=180, weight=78), dict(age=35, height=190, weight=95)]\n",
    "pd.DataFrame(people_info)"
   ]
  },
  {
   "cell_type": "code",
   "execution_count": 103,
   "id": "7f90a8cf-65d1-4d36-beba-db69ea78d097",
   "metadata": {},
   "outputs": [
    {
     "data": {
      "text/html": [
       "<div>\n",
       "<style scoped>\n",
       "    .dataframe tbody tr th:only-of-type {\n",
       "        vertical-align: middle;\n",
       "    }\n",
       "\n",
       "    .dataframe tbody tr th {\n",
       "        vertical-align: top;\n",
       "    }\n",
       "\n",
       "    .dataframe thead th {\n",
       "        text-align: right;\n",
       "    }\n",
       "</style>\n",
       "<table border=\"1\" class=\"dataframe\">\n",
       "  <thead>\n",
       "    <tr style=\"text-align: right;\">\n",
       "      <th></th>\n",
       "      <th>Bob</th>\n",
       "      <th>Ann</th>\n",
       "    </tr>\n",
       "  </thead>\n",
       "  <tbody>\n",
       "    <tr>\n",
       "      <th>age</th>\n",
       "      <td>25</td>\n",
       "      <td>45</td>\n",
       "    </tr>\n",
       "    <tr>\n",
       "      <th>height</th>\n",
       "      <td>180</td>\n",
       "      <td>150</td>\n",
       "    </tr>\n",
       "    <tr>\n",
       "      <th>weight</th>\n",
       "      <td>78</td>\n",
       "      <td>99</td>\n",
       "    </tr>\n",
       "  </tbody>\n",
       "</table>\n",
       "</div>"
      ],
      "text/plain": [
       "        Bob  Ann\n",
       "age      25   45\n",
       "height  180  150\n",
       "weight   78   99"
      ]
     },
     "execution_count": 103,
     "metadata": {},
     "output_type": "execute_result"
    }
   ],
   "source": [
    "people_info = dict(Bob=dict(age=25, height=180, weight=78), Ann=dict(age=45, height=150, weight=99))\n",
    "pd.DataFrame(people_info)"
   ]
  },
  {
   "cell_type": "code",
   "execution_count": 104,
   "id": "1a07eb65-124a-4e89-9647-3dfff8f62412",
   "metadata": {},
   "outputs": [],
   "source": [
    "people_names = ['Bob', 'Ann', 'Max']\n",
    "people_description = [dict(age=25, height=180, weight=78), \n",
    "                      dict(age=35, height=190, weight=95),\n",
    "                      dict(age=7, height=120, weight=40)]\n",
    "\n",
    "people = pd.DataFrame(data=people_description, index=people_names)"
   ]
  },
  {
   "cell_type": "markdown",
   "id": "ae1e7cce-14f1-4964-a10f-280e6526158a",
   "metadata": {},
   "source": [
    "### Получение данных (индексация)"
   ]
  },
  {
   "cell_type": "code",
   "execution_count": 105,
   "id": "ab7535e8-eeeb-4073-be83-a89633bad0a5",
   "metadata": {},
   "outputs": [
    {
     "data": {
      "text/html": [
       "<div>\n",
       "<style scoped>\n",
       "    .dataframe tbody tr th:only-of-type {\n",
       "        vertical-align: middle;\n",
       "    }\n",
       "\n",
       "    .dataframe tbody tr th {\n",
       "        vertical-align: top;\n",
       "    }\n",
       "\n",
       "    .dataframe thead th {\n",
       "        text-align: right;\n",
       "    }\n",
       "</style>\n",
       "<table border=\"1\" class=\"dataframe\">\n",
       "  <thead>\n",
       "    <tr style=\"text-align: right;\">\n",
       "      <th></th>\n",
       "      <th>age</th>\n",
       "      <th>height</th>\n",
       "      <th>weight</th>\n",
       "    </tr>\n",
       "  </thead>\n",
       "  <tbody>\n",
       "    <tr>\n",
       "      <th>Bob</th>\n",
       "      <td>25</td>\n",
       "      <td>180</td>\n",
       "      <td>78</td>\n",
       "    </tr>\n",
       "    <tr>\n",
       "      <th>Ann</th>\n",
       "      <td>35</td>\n",
       "      <td>190</td>\n",
       "      <td>95</td>\n",
       "    </tr>\n",
       "    <tr>\n",
       "      <th>Max</th>\n",
       "      <td>7</td>\n",
       "      <td>120</td>\n",
       "      <td>40</td>\n",
       "    </tr>\n",
       "  </tbody>\n",
       "</table>\n",
       "</div>"
      ],
      "text/plain": [
       "     age  height  weight\n",
       "Bob   25     180      78\n",
       "Ann   35     190      95\n",
       "Max    7     120      40"
      ]
     },
     "execution_count": 105,
     "metadata": {},
     "output_type": "execute_result"
    }
   ],
   "source": [
    "people"
   ]
  },
  {
   "cell_type": "code",
   "execution_count": 106,
   "id": "95c23ad8-b420-49cc-9d57-846f0eb74369",
   "metadata": {},
   "outputs": [
    {
     "data": {
      "text/html": [
       "<div>\n",
       "<style scoped>\n",
       "    .dataframe tbody tr th:only-of-type {\n",
       "        vertical-align: middle;\n",
       "    }\n",
       "\n",
       "    .dataframe tbody tr th {\n",
       "        vertical-align: top;\n",
       "    }\n",
       "\n",
       "    .dataframe thead th {\n",
       "        text-align: right;\n",
       "    }\n",
       "</style>\n",
       "<table border=\"1\" class=\"dataframe\">\n",
       "  <thead>\n",
       "    <tr style=\"text-align: right;\">\n",
       "      <th></th>\n",
       "      <th>age</th>\n",
       "      <th>height</th>\n",
       "      <th>weight</th>\n",
       "    </tr>\n",
       "  </thead>\n",
       "  <tbody>\n",
       "    <tr>\n",
       "      <th>Bob</th>\n",
       "      <td>25</td>\n",
       "      <td>180</td>\n",
       "      <td>78</td>\n",
       "    </tr>\n",
       "    <tr>\n",
       "      <th>Ann</th>\n",
       "      <td>35</td>\n",
       "      <td>190</td>\n",
       "      <td>95</td>\n",
       "    </tr>\n",
       "  </tbody>\n",
       "</table>\n",
       "</div>"
      ],
      "text/plain": [
       "     age  height  weight\n",
       "Bob   25     180      78\n",
       "Ann   35     190      95"
      ]
     },
     "execution_count": 106,
     "metadata": {},
     "output_type": "execute_result"
    }
   ],
   "source": [
    "people.iloc[0:2]"
   ]
  },
  {
   "cell_type": "code",
   "execution_count": 107,
   "id": "6950226b-e313-46f9-b060-acbcbcba9f14",
   "metadata": {},
   "outputs": [
    {
     "data": {
      "text/html": [
       "<div>\n",
       "<style scoped>\n",
       "    .dataframe tbody tr th:only-of-type {\n",
       "        vertical-align: middle;\n",
       "    }\n",
       "\n",
       "    .dataframe tbody tr th {\n",
       "        vertical-align: top;\n",
       "    }\n",
       "\n",
       "    .dataframe thead th {\n",
       "        text-align: right;\n",
       "    }\n",
       "</style>\n",
       "<table border=\"1\" class=\"dataframe\">\n",
       "  <thead>\n",
       "    <tr style=\"text-align: right;\">\n",
       "      <th></th>\n",
       "      <th>age</th>\n",
       "      <th>height</th>\n",
       "      <th>weight</th>\n",
       "    </tr>\n",
       "  </thead>\n",
       "  <tbody>\n",
       "    <tr>\n",
       "      <th>Bob</th>\n",
       "      <td>25</td>\n",
       "      <td>180</td>\n",
       "      <td>78</td>\n",
       "    </tr>\n",
       "    <tr>\n",
       "      <th>Ann</th>\n",
       "      <td>35</td>\n",
       "      <td>190</td>\n",
       "      <td>95</td>\n",
       "    </tr>\n",
       "    <tr>\n",
       "      <th>Max</th>\n",
       "      <td>7</td>\n",
       "      <td>120</td>\n",
       "      <td>40</td>\n",
       "    </tr>\n",
       "  </tbody>\n",
       "</table>\n",
       "</div>"
      ],
      "text/plain": [
       "     age  height  weight\n",
       "Bob   25     180      78\n",
       "Ann   35     190      95\n",
       "Max    7     120      40"
      ]
     },
     "execution_count": 107,
     "metadata": {},
     "output_type": "execute_result"
    }
   ],
   "source": [
    "people.loc['Bob':'Max']"
   ]
  },
  {
   "cell_type": "code",
   "execution_count": 108,
   "id": "31c9d93d-d1a8-4968-b5d0-71cf184af6c8",
   "metadata": {},
   "outputs": [
    {
     "data": {
      "text/html": [
       "<div>\n",
       "<style scoped>\n",
       "    .dataframe tbody tr th:only-of-type {\n",
       "        vertical-align: middle;\n",
       "    }\n",
       "\n",
       "    .dataframe tbody tr th {\n",
       "        vertical-align: top;\n",
       "    }\n",
       "\n",
       "    .dataframe thead th {\n",
       "        text-align: right;\n",
       "    }\n",
       "</style>\n",
       "<table border=\"1\" class=\"dataframe\">\n",
       "  <thead>\n",
       "    <tr style=\"text-align: right;\">\n",
       "      <th></th>\n",
       "      <th>height</th>\n",
       "      <th>weight</th>\n",
       "    </tr>\n",
       "  </thead>\n",
       "  <tbody>\n",
       "    <tr>\n",
       "      <th>Bob</th>\n",
       "      <td>180</td>\n",
       "      <td>78</td>\n",
       "    </tr>\n",
       "    <tr>\n",
       "      <th>Ann</th>\n",
       "      <td>190</td>\n",
       "      <td>95</td>\n",
       "    </tr>\n",
       "  </tbody>\n",
       "</table>\n",
       "</div>"
      ],
      "text/plain": [
       "     height  weight\n",
       "Bob     180      78\n",
       "Ann     190      95"
      ]
     },
     "execution_count": 108,
     "metadata": {},
     "output_type": "execute_result"
    }
   ],
   "source": [
    "people.loc['Bob':'Ann', 'height':'weight']"
   ]
  },
  {
   "cell_type": "code",
   "execution_count": 109,
   "id": "2f0a904d-56e5-4d79-a478-3d1544d79f22",
   "metadata": {},
   "outputs": [
    {
     "data": {
      "text/html": [
       "<div>\n",
       "<style scoped>\n",
       "    .dataframe tbody tr th:only-of-type {\n",
       "        vertical-align: middle;\n",
       "    }\n",
       "\n",
       "    .dataframe tbody tr th {\n",
       "        vertical-align: top;\n",
       "    }\n",
       "\n",
       "    .dataframe thead th {\n",
       "        text-align: right;\n",
       "    }\n",
       "</style>\n",
       "<table border=\"1\" class=\"dataframe\">\n",
       "  <thead>\n",
       "    <tr style=\"text-align: right;\">\n",
       "      <th></th>\n",
       "      <th>age</th>\n",
       "      <th>height</th>\n",
       "      <th>weight</th>\n",
       "    </tr>\n",
       "  </thead>\n",
       "  <tbody>\n",
       "    <tr>\n",
       "      <th>Bob</th>\n",
       "      <td>25</td>\n",
       "      <td>180</td>\n",
       "      <td>78</td>\n",
       "    </tr>\n",
       "    <tr>\n",
       "      <th>Ann</th>\n",
       "      <td>35</td>\n",
       "      <td>190</td>\n",
       "      <td>95</td>\n",
       "    </tr>\n",
       "  </tbody>\n",
       "</table>\n",
       "</div>"
      ],
      "text/plain": [
       "     age  height  weight\n",
       "Bob   25     180      78\n",
       "Ann   35     190      95"
      ]
     },
     "execution_count": 109,
     "metadata": {},
     "output_type": "execute_result"
    }
   ],
   "source": [
    "people.loc[people['height'] > 130]"
   ]
  },
  {
   "cell_type": "code",
   "execution_count": 202,
   "id": "24688824-9a04-4313-abc5-53a66d33ee43",
   "metadata": {},
   "outputs": [
    {
     "data": {
      "text/html": [
       "<div>\n",
       "<style scoped>\n",
       "    .dataframe tbody tr th:only-of-type {\n",
       "        vertical-align: middle;\n",
       "    }\n",
       "\n",
       "    .dataframe tbody tr th {\n",
       "        vertical-align: top;\n",
       "    }\n",
       "\n",
       "    .dataframe thead th {\n",
       "        text-align: right;\n",
       "    }\n",
       "</style>\n",
       "<table border=\"1\" class=\"dataframe\">\n",
       "  <thead>\n",
       "    <tr style=\"text-align: right;\">\n",
       "      <th></th>\n",
       "      <th>age</th>\n",
       "      <th>height</th>\n",
       "      <th>weight</th>\n",
       "    </tr>\n",
       "  </thead>\n",
       "  <tbody>\n",
       "    <tr>\n",
       "      <th>Ann</th>\n",
       "      <td>35</td>\n",
       "      <td>190</td>\n",
       "      <td>150</td>\n",
       "    </tr>\n",
       "  </tbody>\n",
       "</table>\n",
       "</div>"
      ],
      "text/plain": [
       "     age  height  weight\n",
       "Ann   35     190     150"
      ]
     },
     "execution_count": 202,
     "metadata": {},
     "output_type": "execute_result"
    }
   ],
   "source": [
    "height_and_weight_verification = (people.height > 130) & (people.weight > 80)\n",
    "people.loc[height_and_weight_verification]"
   ]
  },
  {
   "cell_type": "markdown",
   "id": "525af071-d323-461e-87f5-7229f207e1c8",
   "metadata": {},
   "source": [
    "### Фильтрация"
   ]
  },
  {
   "cell_type": "markdown",
   "id": "0054f063-685d-45fb-afec-4d2687e992bb",
   "metadata": {},
   "source": [
    "### Изменение даннных"
   ]
  },
  {
   "cell_type": "code",
   "execution_count": 111,
   "id": "d97f18d1-2aaa-49b4-bf3b-3d562d1a288e",
   "metadata": {},
   "outputs": [
    {
     "data": {
      "text/html": [
       "<div>\n",
       "<style scoped>\n",
       "    .dataframe tbody tr th:only-of-type {\n",
       "        vertical-align: middle;\n",
       "    }\n",
       "\n",
       "    .dataframe tbody tr th {\n",
       "        vertical-align: top;\n",
       "    }\n",
       "\n",
       "    .dataframe thead th {\n",
       "        text-align: right;\n",
       "    }\n",
       "</style>\n",
       "<table border=\"1\" class=\"dataframe\">\n",
       "  <thead>\n",
       "    <tr style=\"text-align: right;\">\n",
       "      <th></th>\n",
       "      <th>age</th>\n",
       "      <th>height</th>\n",
       "      <th>weight</th>\n",
       "    </tr>\n",
       "  </thead>\n",
       "  <tbody>\n",
       "    <tr>\n",
       "      <th>Bob</th>\n",
       "      <td>25</td>\n",
       "      <td>180</td>\n",
       "      <td>78</td>\n",
       "    </tr>\n",
       "    <tr>\n",
       "      <th>Ann</th>\n",
       "      <td>35</td>\n",
       "      <td>190</td>\n",
       "      <td>150</td>\n",
       "    </tr>\n",
       "    <tr>\n",
       "      <th>Max</th>\n",
       "      <td>7</td>\n",
       "      <td>120</td>\n",
       "      <td>40</td>\n",
       "    </tr>\n",
       "  </tbody>\n",
       "</table>\n",
       "</div>"
      ],
      "text/plain": [
       "     age  height  weight\n",
       "Bob   25     180      78\n",
       "Ann   35     190     150\n",
       "Max    7     120      40"
      ]
     },
     "execution_count": 111,
     "metadata": {},
     "output_type": "execute_result"
    }
   ],
   "source": [
    "people.loc[height_and_weight_verification, 'weight'] = 150\n",
    "people"
   ]
  },
  {
   "cell_type": "code",
   "execution_count": 112,
   "id": "f10c0a5a-80c9-45ca-8c41-a9179bd27696",
   "metadata": {},
   "outputs": [],
   "source": [
    "def add_two(x):\n",
    "    return x + 2\n",
    "\n",
    "def difference_between_avg(row):\n",
    "    row.age -= avg_age\n",
    "    row.height -= avg_height\n",
    "    row.weight -= avg_weight\n",
    "    return row\n",
    "\n",
    "people['age'].apply(lambda x: x+2)\n",
    "people['weight'].map(add_two)\n",
    "avg_age = people.age.mean()\n",
    "avg_height = people.height.mean()\n",
    "avg_weight = people.weight.mean()\n",
    "\n",
    "people_dif = pd.DataFrame(columns=['dif_age', 'dif_height', 'dif_weight'])"
   ]
  },
  {
   "cell_type": "code",
   "execution_count": 113,
   "id": "970fbed6-92d3-4188-aa22-1dde0e307830",
   "metadata": {},
   "outputs": [
    {
     "name": "stderr",
     "output_type": "stream",
     "text": [
      "/tmp/ipykernel_534780/2031750946.py:5: FutureWarning: Setting an item of incompatible dtype is deprecated and will raise in a future error of pandas. Value '2.666666666666668' has dtype incompatible with int64, please explicitly cast to a compatible dtype first.\n",
      "  row.age -= avg_age\n",
      "/tmp/ipykernel_534780/2031750946.py:5: FutureWarning: Setting an item of incompatible dtype is deprecated and will raise in a future error of pandas. Value '12.666666666666668' has dtype incompatible with int64, please explicitly cast to a compatible dtype first.\n",
      "  row.age -= avg_age\n",
      "/tmp/ipykernel_534780/2031750946.py:5: FutureWarning: Setting an item of incompatible dtype is deprecated and will raise in a future error of pandas. Value '-15.333333333333332' has dtype incompatible with int64, please explicitly cast to a compatible dtype first.\n",
      "  row.age -= avg_age\n"
     ]
    }
   ],
   "source": [
    "people_dif[['dif_age', 'dif_height', 'dif_weight']] = people.apply(difference_between_avg, axis='columns')"
   ]
  },
  {
   "cell_type": "code",
   "execution_count": 114,
   "id": "6ce28889-2cf5-4940-a79e-65015706bb45",
   "metadata": {},
   "outputs": [
    {
     "data": {
      "text/html": [
       "<div>\n",
       "<style scoped>\n",
       "    .dataframe tbody tr th:only-of-type {\n",
       "        vertical-align: middle;\n",
       "    }\n",
       "\n",
       "    .dataframe tbody tr th {\n",
       "        vertical-align: top;\n",
       "    }\n",
       "\n",
       "    .dataframe thead th {\n",
       "        text-align: right;\n",
       "    }\n",
       "</style>\n",
       "<table border=\"1\" class=\"dataframe\">\n",
       "  <thead>\n",
       "    <tr style=\"text-align: right;\">\n",
       "      <th></th>\n",
       "      <th>dif_age</th>\n",
       "      <th>dif_height</th>\n",
       "      <th>dif_weight</th>\n",
       "    </tr>\n",
       "  </thead>\n",
       "  <tbody>\n",
       "    <tr>\n",
       "      <th>Bob</th>\n",
       "      <td>2.67</td>\n",
       "      <td>16.67</td>\n",
       "      <td>-11.33</td>\n",
       "    </tr>\n",
       "    <tr>\n",
       "      <th>Ann</th>\n",
       "      <td>12.67</td>\n",
       "      <td>26.67</td>\n",
       "      <td>60.67</td>\n",
       "    </tr>\n",
       "    <tr>\n",
       "      <th>Max</th>\n",
       "      <td>-15.33</td>\n",
       "      <td>-43.33</td>\n",
       "      <td>-49.33</td>\n",
       "    </tr>\n",
       "  </tbody>\n",
       "</table>\n",
       "</div>"
      ],
      "text/plain": [
       "     dif_age  dif_height  dif_weight\n",
       "Bob     2.67       16.67      -11.33\n",
       "Ann    12.67       26.67       60.67\n",
       "Max   -15.33      -43.33      -49.33"
      ]
     },
     "execution_count": 114,
     "metadata": {},
     "output_type": "execute_result"
    }
   ],
   "source": [
    "people_dif"
   ]
  },
  {
   "cell_type": "code",
   "execution_count": 115,
   "id": "82afb4a0-fbf0-4a2e-adca-3fc79c0bc192",
   "metadata": {},
   "outputs": [
    {
     "name": "stderr",
     "output_type": "stream",
     "text": [
      "/tmp/ipykernel_534780/1463681103.py:1: FutureWarning: DataFrame.applymap has been deprecated. Use DataFrame.map instead.\n",
      "  people_dif.applymap(lambda x: x + 100)\n"
     ]
    },
    {
     "data": {
      "text/html": [
       "<div>\n",
       "<style scoped>\n",
       "    .dataframe tbody tr th:only-of-type {\n",
       "        vertical-align: middle;\n",
       "    }\n",
       "\n",
       "    .dataframe tbody tr th {\n",
       "        vertical-align: top;\n",
       "    }\n",
       "\n",
       "    .dataframe thead th {\n",
       "        text-align: right;\n",
       "    }\n",
       "</style>\n",
       "<table border=\"1\" class=\"dataframe\">\n",
       "  <thead>\n",
       "    <tr style=\"text-align: right;\">\n",
       "      <th></th>\n",
       "      <th>dif_age</th>\n",
       "      <th>dif_height</th>\n",
       "      <th>dif_weight</th>\n",
       "    </tr>\n",
       "  </thead>\n",
       "  <tbody>\n",
       "    <tr>\n",
       "      <th>Bob</th>\n",
       "      <td>102.67</td>\n",
       "      <td>116.67</td>\n",
       "      <td>88.67</td>\n",
       "    </tr>\n",
       "    <tr>\n",
       "      <th>Ann</th>\n",
       "      <td>112.67</td>\n",
       "      <td>126.67</td>\n",
       "      <td>160.67</td>\n",
       "    </tr>\n",
       "    <tr>\n",
       "      <th>Max</th>\n",
       "      <td>84.67</td>\n",
       "      <td>56.67</td>\n",
       "      <td>50.67</td>\n",
       "    </tr>\n",
       "  </tbody>\n",
       "</table>\n",
       "</div>"
      ],
      "text/plain": [
       "     dif_age  dif_height  dif_weight\n",
       "Bob   102.67      116.67       88.67\n",
       "Ann   112.67      126.67      160.67\n",
       "Max    84.67       56.67       50.67"
      ]
     },
     "execution_count": 115,
     "metadata": {},
     "output_type": "execute_result"
    }
   ],
   "source": [
    "people_dif.applymap(lambda x: x + 100)"
   ]
  },
  {
   "cell_type": "code",
   "execution_count": 116,
   "id": "9296ea92-4605-493a-80ef-eaf3055d17d9",
   "metadata": {},
   "outputs": [
    {
     "data": {
      "text/html": [
       "<div>\n",
       "<style scoped>\n",
       "    .dataframe tbody tr th:only-of-type {\n",
       "        vertical-align: middle;\n",
       "    }\n",
       "\n",
       "    .dataframe tbody tr th {\n",
       "        vertical-align: top;\n",
       "    }\n",
       "\n",
       "    .dataframe thead th {\n",
       "        text-align: right;\n",
       "    }\n",
       "</style>\n",
       "<table border=\"1\" class=\"dataframe\">\n",
       "  <thead>\n",
       "    <tr style=\"text-align: right;\">\n",
       "      <th></th>\n",
       "      <th>age</th>\n",
       "      <th>height</th>\n",
       "      <th>weight</th>\n",
       "    </tr>\n",
       "  </thead>\n",
       "  <tbody>\n",
       "    <tr>\n",
       "      <th>Bob</th>\n",
       "      <td>25</td>\n",
       "      <td>180</td>\n",
       "      <td>78</td>\n",
       "    </tr>\n",
       "    <tr>\n",
       "      <th>Ann</th>\n",
       "      <td>35</td>\n",
       "      <td>190</td>\n",
       "      <td>150</td>\n",
       "    </tr>\n",
       "    <tr>\n",
       "      <th>Max</th>\n",
       "      <td>7</td>\n",
       "      <td>120</td>\n",
       "      <td>40</td>\n",
       "    </tr>\n",
       "  </tbody>\n",
       "</table>\n",
       "</div>"
      ],
      "text/plain": [
       "     age  height  weight\n",
       "Bob   25     180      78\n",
       "Ann   35     190     150\n",
       "Max    7     120      40"
      ]
     },
     "execution_count": 116,
     "metadata": {},
     "output_type": "execute_result"
    }
   ],
   "source": [
    "people"
   ]
  },
  {
   "cell_type": "markdown",
   "id": "59b92b98-b9e1-4d59-b8d7-f65583f6c134",
   "metadata": {},
   "source": [
    "### Работа со временем"
   ]
  },
  {
   "cell_type": "code",
   "execution_count": null,
   "id": "b7702d0b-1ad0-47c4-83c4-45e38c88882e",
   "metadata": {},
   "outputs": [],
   "source": []
  },
  {
   "cell_type": "code",
   "execution_count": 121,
   "id": "b72f5a78-b6f3-41e7-92ef-352ba5b89ec1",
   "metadata": {},
   "outputs": [
    {
     "data": {
      "text/plain": [
       "dt                datetime64[ns]\n",
       "price                    float64\n",
       "change                   float64\n",
       "change_percent           float64\n",
       "volume                   float64\n",
       "dtype: object"
      ]
     },
     "execution_count": 121,
     "metadata": {},
     "output_type": "execute_result"
    }
   ],
   "source": [
    "stock_price['dt'] = pd.to_datetime(stock_price.dt)\n",
    "stock_price.dtypes"
   ]
  },
  {
   "cell_type": "code",
   "execution_count": 133,
   "id": "b9a3dadd-3772-44a3-ae50-3cbabf0ee7f3",
   "metadata": {},
   "outputs": [
    {
     "data": {
      "text/plain": [
       "0        Tuesday\n",
       "1      Wednesday\n",
       "2       Thursday\n",
       "3         Friday\n",
       "4         Monday\n",
       "         ...    \n",
       "227      Tuesday\n",
       "228    Wednesday\n",
       "229     Thursday\n",
       "230       Friday\n",
       "231       Monday\n",
       "Name: dt, Length: 232, dtype: object"
      ]
     },
     "execution_count": 133,
     "metadata": {},
     "output_type": "execute_result"
    }
   ],
   "source": [
    "stock_price['dt'].dt.day_of_week\n",
    "stock_price['dt'].dt.day\n",
    "stock_price['dt'].dt.year\n",
    "stock_price['dt'].dt.month\n",
    "stock_price['dt'].dt.day_of_year\n",
    "stock_price['dt'].dt.day_of_week\n",
    "stock_price['dt'].dt.days_in_month\n",
    "stock_price['dt'].dt.day_name()"
   ]
  },
  {
   "cell_type": "code",
   "execution_count": 273,
   "id": "8f2303bb-f3b6-45e9-804a-9da99626a73b",
   "metadata": {},
   "outputs": [
    {
     "data": {
      "text/plain": [
       "0      03.01.2023 00:16:00\n",
       "1      04.01.2023 00:16:00\n",
       "2      05.01.2023 00:16:00\n",
       "3      06.01.2023 00:16:00\n",
       "4      09.01.2023 00:16:00\n",
       "              ...         \n",
       "227    28.11.2023 00:16:00\n",
       "228    29.11.2023 00:16:00\n",
       "229    30.11.2023 00:16:00\n",
       "230    01.12.2023 00:16:00\n",
       "231    04.12.2023 14:13:00\n",
       "Name: dt, Length: 232, dtype: object"
      ]
     },
     "execution_count": 273,
     "metadata": {},
     "output_type": "execute_result"
    }
   ],
   "source": [
    "stock_price['dt'].dt.strftime(\"%d.%m.%Y %M:%H:%S\")"
   ]
  },
  {
   "cell_type": "code",
   "execution_count": 275,
   "id": "cb9c9d0f-cee2-4a36-af65-b615df3e3494",
   "metadata": {},
   "outputs": [],
   "source": [
    "stock_price['date'] = stock_price['dt'].dt.date"
   ]
  },
  {
   "cell_type": "code",
   "execution_count": 280,
   "id": "0a9062a2-a9f6-443a-96a4-ee3770f278b5",
   "metadata": {},
   "outputs": [],
   "source": [
    "stock_price['time'] = stock_price.dt.dt.time"
   ]
  },
  {
   "cell_type": "code",
   "execution_count": 282,
   "id": "283f97f7-3327-41c9-99a6-936210960220",
   "metadata": {},
   "outputs": [],
   "source": [
    "stock_price['month'] = stock_price.dt.dt.month"
   ]
  },
  {
   "cell_type": "code",
   "execution_count": 283,
   "id": "35b2f603-b1b4-4dee-95fc-5875a7320995",
   "metadata": {},
   "outputs": [
    {
     "data": {
      "text/html": [
       "<div>\n",
       "<style scoped>\n",
       "    .dataframe tbody tr th:only-of-type {\n",
       "        vertical-align: middle;\n",
       "    }\n",
       "\n",
       "    .dataframe tbody tr th {\n",
       "        vertical-align: top;\n",
       "    }\n",
       "\n",
       "    .dataframe thead th {\n",
       "        text-align: right;\n",
       "    }\n",
       "</style>\n",
       "<table border=\"1\" class=\"dataframe\">\n",
       "  <thead>\n",
       "    <tr style=\"text-align: right;\">\n",
       "      <th></th>\n",
       "      <th>dt</th>\n",
       "      <th>price</th>\n",
       "      <th>change</th>\n",
       "      <th>change_percent</th>\n",
       "      <th>volume</th>\n",
       "      <th>price_more_then_median</th>\n",
       "      <th>is_positive_trend</th>\n",
       "      <th>volume_2_cat</th>\n",
       "      <th>volume_2_cat_bool</th>\n",
       "      <th>season</th>\n",
       "      <th>время года</th>\n",
       "      <th>date</th>\n",
       "      <th>time</th>\n",
       "      <th>month</th>\n",
       "    </tr>\n",
       "  </thead>\n",
       "  <tbody>\n",
       "    <tr>\n",
       "      <th>0</th>\n",
       "      <td>2023-01-03 16:00:00</td>\n",
       "      <td>3.49</td>\n",
       "      <td>0.00</td>\n",
       "      <td>0.00</td>\n",
       "      <td>7668027.00</td>\n",
       "      <td>меньше медианы</td>\n",
       "      <td>NaN</td>\n",
       "      <td>Малый объем</td>\n",
       "      <td>False</td>\n",
       "      <td>winter</td>\n",
       "      <td>зима</td>\n",
       "      <td>2023-01-03</td>\n",
       "      <td>16:00:00</td>\n",
       "      <td>1</td>\n",
       "    </tr>\n",
       "    <tr>\n",
       "      <th>1</th>\n",
       "      <td>2023-01-04 16:00:00</td>\n",
       "      <td>3.64</td>\n",
       "      <td>0.15</td>\n",
       "      <td>0.04</td>\n",
       "      <td>4858879.00</td>\n",
       "      <td>меньше медианы</td>\n",
       "      <td>неопределенность</td>\n",
       "      <td>Малый объем</td>\n",
       "      <td>False</td>\n",
       "      <td>winter</td>\n",
       "      <td>зима</td>\n",
       "      <td>2023-01-04</td>\n",
       "      <td>16:00:00</td>\n",
       "      <td>1</td>\n",
       "    </tr>\n",
       "    <tr>\n",
       "      <th>2</th>\n",
       "      <td>2023-01-05 16:00:00</td>\n",
       "      <td>3.66</td>\n",
       "      <td>0.17</td>\n",
       "      <td>0.05</td>\n",
       "      <td>5262860.00</td>\n",
       "      <td>меньше медианы</td>\n",
       "      <td>неопределенность</td>\n",
       "      <td>Малый объем</td>\n",
       "      <td>False</td>\n",
       "      <td>winter</td>\n",
       "      <td>зима</td>\n",
       "      <td>2023-01-05</td>\n",
       "      <td>16:00:00</td>\n",
       "      <td>1</td>\n",
       "    </tr>\n",
       "  </tbody>\n",
       "</table>\n",
       "</div>"
      ],
      "text/plain": [
       "                   dt  price  change  change_percent     volume  \\\n",
       "0 2023-01-03 16:00:00   3.49    0.00            0.00 7668027.00   \n",
       "1 2023-01-04 16:00:00   3.64    0.15            0.04 4858879.00   \n",
       "2 2023-01-05 16:00:00   3.66    0.17            0.05 5262860.00   \n",
       "\n",
       "  price_more_then_median is_positive_trend volume_2_cat  volume_2_cat_bool  \\\n",
       "0         меньше медианы               NaN  Малый объем              False   \n",
       "1         меньше медианы  неопределенность  Малый объем              False   \n",
       "2         меньше медианы  неопределенность  Малый объем              False   \n",
       "\n",
       "   season время года        date      time  month  \n",
       "0  winter       зима  2023-01-03  16:00:00      1  \n",
       "1  winter       зима  2023-01-04  16:00:00      1  \n",
       "2  winter       зима  2023-01-05  16:00:00      1  "
      ]
     },
     "execution_count": 283,
     "metadata": {},
     "output_type": "execute_result"
    }
   ],
   "source": [
    "stock_price.head(3)"
   ]
  },
  {
   "cell_type": "markdown",
   "id": "fe70cc4c-4c46-419b-b10c-a39e82809a7d",
   "metadata": {},
   "source": [
    "### Группировка"
   ]
  },
  {
   "cell_type": "code",
   "execution_count": 117,
   "id": "a03dd49e-cc7b-4b07-9ad5-272e32e13a0e",
   "metadata": {},
   "outputs": [
    {
     "data": {
      "text/html": [
       "<div>\n",
       "<style scoped>\n",
       "    .dataframe tbody tr th:only-of-type {\n",
       "        vertical-align: middle;\n",
       "    }\n",
       "\n",
       "    .dataframe tbody tr th {\n",
       "        vertical-align: top;\n",
       "    }\n",
       "\n",
       "    .dataframe thead th {\n",
       "        text-align: right;\n",
       "    }\n",
       "</style>\n",
       "<table border=\"1\" class=\"dataframe\">\n",
       "  <thead>\n",
       "    <tr style=\"text-align: right;\">\n",
       "      <th></th>\n",
       "      <th>height</th>\n",
       "      <th>weight</th>\n",
       "    </tr>\n",
       "    <tr>\n",
       "      <th>age</th>\n",
       "      <th></th>\n",
       "      <th></th>\n",
       "    </tr>\n",
       "  </thead>\n",
       "  <tbody>\n",
       "    <tr>\n",
       "      <th>7</th>\n",
       "      <td>120.00</td>\n",
       "      <td>40.00</td>\n",
       "    </tr>\n",
       "    <tr>\n",
       "      <th>25</th>\n",
       "      <td>180.00</td>\n",
       "      <td>78.00</td>\n",
       "    </tr>\n",
       "    <tr>\n",
       "      <th>35</th>\n",
       "      <td>190.00</td>\n",
       "      <td>150.00</td>\n",
       "    </tr>\n",
       "  </tbody>\n",
       "</table>\n",
       "</div>"
      ],
      "text/plain": [
       "     height  weight\n",
       "age                \n",
       "7    120.00   40.00\n",
       "25   180.00   78.00\n",
       "35   190.00  150.00"
      ]
     },
     "execution_count": 117,
     "metadata": {},
     "output_type": "execute_result"
    }
   ],
   "source": [
    "people.groupby('age').mean()"
   ]
  },
  {
   "cell_type": "code",
   "execution_count": 118,
   "id": "98c16c40-06ed-470a-a4bb-cfbcc2c383b8",
   "metadata": {},
   "outputs": [
    {
     "data": {
      "text/html": [
       "<div>\n",
       "<style scoped>\n",
       "    .dataframe tbody tr th:only-of-type {\n",
       "        vertical-align: middle;\n",
       "    }\n",
       "\n",
       "    .dataframe tbody tr th {\n",
       "        vertical-align: top;\n",
       "    }\n",
       "\n",
       "    .dataframe thead th {\n",
       "        text-align: right;\n",
       "    }\n",
       "</style>\n",
       "<table border=\"1\" class=\"dataframe\">\n",
       "  <thead>\n",
       "    <tr style=\"text-align: right;\">\n",
       "      <th></th>\n",
       "      <th>min</th>\n",
       "      <th>max</th>\n",
       "    </tr>\n",
       "    <tr>\n",
       "      <th>age</th>\n",
       "      <th></th>\n",
       "      <th></th>\n",
       "    </tr>\n",
       "  </thead>\n",
       "  <tbody>\n",
       "    <tr>\n",
       "      <th>7</th>\n",
       "      <td>120</td>\n",
       "      <td>120</td>\n",
       "    </tr>\n",
       "    <tr>\n",
       "      <th>25</th>\n",
       "      <td>180</td>\n",
       "      <td>180</td>\n",
       "    </tr>\n",
       "    <tr>\n",
       "      <th>35</th>\n",
       "      <td>190</td>\n",
       "      <td>190</td>\n",
       "    </tr>\n",
       "  </tbody>\n",
       "</table>\n",
       "</div>"
      ],
      "text/plain": [
       "     min  max\n",
       "age          \n",
       "7    120  120\n",
       "25   180  180\n",
       "35   190  190"
      ]
     },
     "execution_count": 118,
     "metadata": {},
     "output_type": "execute_result"
    }
   ],
   "source": [
    "people.groupby('age')['height'].agg(['min', 'max'])"
   ]
  },
  {
   "cell_type": "code",
   "execution_count": 119,
   "id": "11ca0ac2-b534-49d3-bf0b-8d3a70a07859",
   "metadata": {},
   "outputs": [
    {
     "data": {
      "text/html": [
       "<div>\n",
       "<style scoped>\n",
       "    .dataframe tbody tr th:only-of-type {\n",
       "        vertical-align: middle;\n",
       "    }\n",
       "\n",
       "    .dataframe tbody tr th {\n",
       "        vertical-align: top;\n",
       "    }\n",
       "\n",
       "    .dataframe thead th {\n",
       "        text-align: right;\n",
       "    }\n",
       "</style>\n",
       "<table border=\"1\" class=\"dataframe\">\n",
       "  <thead>\n",
       "    <tr style=\"text-align: right;\">\n",
       "      <th></th>\n",
       "      <th>height</th>\n",
       "      <th>weight</th>\n",
       "    </tr>\n",
       "    <tr>\n",
       "      <th>age</th>\n",
       "      <th></th>\n",
       "      <th></th>\n",
       "    </tr>\n",
       "  </thead>\n",
       "  <tbody>\n",
       "    <tr>\n",
       "      <th>7</th>\n",
       "      <td>120</td>\n",
       "      <td>40</td>\n",
       "    </tr>\n",
       "    <tr>\n",
       "      <th>25</th>\n",
       "      <td>180</td>\n",
       "      <td>78</td>\n",
       "    </tr>\n",
       "    <tr>\n",
       "      <th>35</th>\n",
       "      <td>190</td>\n",
       "      <td>150</td>\n",
       "    </tr>\n",
       "  </tbody>\n",
       "</table>\n",
       "</div>"
      ],
      "text/plain": [
       "     height  weight\n",
       "age                \n",
       "7       120      40\n",
       "25      180      78\n",
       "35      190     150"
      ]
     },
     "execution_count": 119,
     "metadata": {},
     "output_type": "execute_result"
    }
   ],
   "source": [
    "people.groupby('age').agg({'height': 'max', 'weight': 'min'})"
   ]
  },
  {
   "cell_type": "code",
   "execution_count": 284,
   "id": "ed5e9ca1-d647-475f-a1a5-c3437438d616",
   "metadata": {},
   "outputs": [
    {
     "data": {
      "text/html": [
       "<div>\n",
       "<style scoped>\n",
       "    .dataframe tbody tr th:only-of-type {\n",
       "        vertical-align: middle;\n",
       "    }\n",
       "\n",
       "    .dataframe tbody tr th {\n",
       "        vertical-align: top;\n",
       "    }\n",
       "\n",
       "    .dataframe thead th {\n",
       "        text-align: right;\n",
       "    }\n",
       "</style>\n",
       "<table border=\"1\" class=\"dataframe\">\n",
       "  <thead>\n",
       "    <tr style=\"text-align: right;\">\n",
       "      <th></th>\n",
       "      <th>height</th>\n",
       "      <th>weight</th>\n",
       "    </tr>\n",
       "    <tr>\n",
       "      <th>age</th>\n",
       "      <th></th>\n",
       "      <th></th>\n",
       "    </tr>\n",
       "  </thead>\n",
       "  <tbody>\n",
       "    <tr>\n",
       "      <th>7</th>\n",
       "      <td>14400</td>\n",
       "      <td>1600</td>\n",
       "    </tr>\n",
       "    <tr>\n",
       "      <th>25</th>\n",
       "      <td>32400</td>\n",
       "      <td>6084</td>\n",
       "    </tr>\n",
       "    <tr>\n",
       "      <th>35</th>\n",
       "      <td>36100</td>\n",
       "      <td>22500</td>\n",
       "    </tr>\n",
       "  </tbody>\n",
       "</table>\n",
       "</div>"
      ],
      "text/plain": [
       "     height  weight\n",
       "age                \n",
       "7     14400    1600\n",
       "25    32400    6084\n",
       "35    36100   22500"
      ]
     },
     "execution_count": 284,
     "metadata": {},
     "output_type": "execute_result"
    }
   ],
   "source": [
    "def square_calc(x):\n",
    "    return x**2\n",
    "\n",
    "people.groupby('age').agg(square_calc)"
   ]
  },
  {
   "cell_type": "code",
   "execution_count": 289,
   "id": "f93e1b9b-1fb5-473d-8c2f-42a5411b07c1",
   "metadata": {},
   "outputs": [
    {
     "data": {
      "text/html": [
       "<div>\n",
       "<style scoped>\n",
       "    .dataframe tbody tr th:only-of-type {\n",
       "        vertical-align: middle;\n",
       "    }\n",
       "\n",
       "    .dataframe tbody tr th {\n",
       "        vertical-align: top;\n",
       "    }\n",
       "\n",
       "    .dataframe thead th {\n",
       "        text-align: right;\n",
       "    }\n",
       "</style>\n",
       "<table border=\"1\" class=\"dataframe\">\n",
       "  <thead>\n",
       "    <tr style=\"text-align: right;\">\n",
       "      <th></th>\n",
       "      <th>sum</th>\n",
       "      <th>count</th>\n",
       "    </tr>\n",
       "    <tr>\n",
       "      <th>month</th>\n",
       "      <th></th>\n",
       "      <th></th>\n",
       "    </tr>\n",
       "  </thead>\n",
       "  <tbody>\n",
       "    <tr>\n",
       "      <th>1</th>\n",
       "      <td>95.05</td>\n",
       "      <td>20</td>\n",
       "    </tr>\n",
       "    <tr>\n",
       "      <th>2</th>\n",
       "      <td>108.50</td>\n",
       "      <td>19</td>\n",
       "    </tr>\n",
       "    <tr>\n",
       "      <th>3</th>\n",
       "      <td>105.41</td>\n",
       "      <td>23</td>\n",
       "    </tr>\n",
       "    <tr>\n",
       "      <th>4</th>\n",
       "      <td>65.38</td>\n",
       "      <td>19</td>\n",
       "    </tr>\n",
       "    <tr>\n",
       "      <th>5</th>\n",
       "      <td>88.11</td>\n",
       "      <td>22</td>\n",
       "    </tr>\n",
       "    <tr>\n",
       "      <th>6</th>\n",
       "      <td>91.98</td>\n",
       "      <td>21</td>\n",
       "    </tr>\n",
       "    <tr>\n",
       "      <th>7</th>\n",
       "      <td>77.00</td>\n",
       "      <td>20</td>\n",
       "    </tr>\n",
       "    <tr>\n",
       "      <th>8</th>\n",
       "      <td>70.72</td>\n",
       "      <td>23</td>\n",
       "    </tr>\n",
       "    <tr>\n",
       "      <th>9</th>\n",
       "      <td>40.09</td>\n",
       "      <td>20</td>\n",
       "    </tr>\n",
       "    <tr>\n",
       "      <th>10</th>\n",
       "      <td>35.37</td>\n",
       "      <td>22</td>\n",
       "    </tr>\n",
       "    <tr>\n",
       "      <th>11</th>\n",
       "      <td>41.25</td>\n",
       "      <td>21</td>\n",
       "    </tr>\n",
       "    <tr>\n",
       "      <th>12</th>\n",
       "      <td>4.30</td>\n",
       "      <td>2</td>\n",
       "    </tr>\n",
       "  </tbody>\n",
       "</table>\n",
       "</div>"
      ],
      "text/plain": [
       "         sum  count\n",
       "month              \n",
       "1      95.05     20\n",
       "2     108.50     19\n",
       "3     105.41     23\n",
       "4      65.38     19\n",
       "5      88.11     22\n",
       "6      91.98     21\n",
       "7      77.00     20\n",
       "8      70.72     23\n",
       "9      40.09     20\n",
       "10     35.37     22\n",
       "11     41.25     21\n",
       "12      4.30      2"
      ]
     },
     "execution_count": 289,
     "metadata": {},
     "output_type": "execute_result"
    }
   ],
   "source": [
    "stock_price.groupby('month')['price'].agg(['sum', 'count'])"
   ]
  },
  {
   "cell_type": "markdown",
   "id": "1986e76f-f361-4e64-ade9-a480d8b7f2d3",
   "metadata": {},
   "source": [
    "### Корреляции"
   ]
  },
  {
   "cell_type": "code",
   "execution_count": 272,
   "id": "dc84f4ae-c6cd-4bda-8eb4-1a7bfc1bd94d",
   "metadata": {},
   "outputs": [
    {
     "data": {
      "text/plain": [
       "<Axes: >"
      ]
     },
     "execution_count": 272,
     "metadata": {},
     "output_type": "execute_result"
    },
    {
     "data": {
      "image/png": "[encoded data removed]",
      "text/plain": [
       "<Figure size 1600x500 with 2 Axes>"
      ]
     },
     "metadata": {},
     "output_type": "display_data"
    }
   ],
   "source": [
    "plt.rcParams['figure.figsize'] = (16, 5)\n",
    "# plt.figure(figsize=(16,5))\n",
    "number_columns = stock_price.select_dtypes('number').columns\n",
    "sns.heatmap(stock_price[number_columns].corr(), vmax=1, vmin=-1, annot=True)"
   ]
  },
  {
   "cell_type": "markdown",
   "id": "6c794c13-cade-4ee6-8d4e-f626d6fc3846",
   "metadata": {},
   "source": [
    "### Сводные таблицы"
   ]
  },
  {
   "cell_type": "markdown",
   "id": "32afc784-0e16-41a9-9ca4-4cb7809a817b",
   "metadata": {},
   "source": [
    "### Визуализации"
   ]
  },
  {
   "cell_type": "code",
   "execution_count": 290,
   "id": "6cc9426a-f6f3-474b-804a-5b9cf014f93a",
   "metadata": {},
   "outputs": [
    {
     "data": {
      "text/plain": [
       "<Axes: >"
      ]
     },
     "execution_count": 290,
     "metadata": {},
     "output_type": "execute_result"
    },
    {
     "data": {
      "image/png": "[encoded data removed]",
      "text/plain": [
       "<Figure size 1600x500 with 1 Axes>"
      ]
     },
     "metadata": {},
     "output_type": "display_data"
    }
   ],
   "source": [
    "stock_price.season.hist()"
   ]
  },
  {
   "cell_type": "code",
   "execution_count": 304,
   "id": "baa2246d-4c9e-4f66-9f8f-aefb676119b9",
   "metadata": {},
   "outputs": [
    {
     "data": {
      "text/plain": [
       "<Axes: >"
      ]
     },
     "execution_count": 304,
     "metadata": {},
     "output_type": "execute_result"
    },
    {
     "data": {
      "image/png": "[encoded data removed]",
      "text/plain": [
       "<Figure size 1600x500 with 1 Axes>"
      ]
     },
     "metadata": {},
     "output_type": "display_data"
    }
   ],
   "source": [
    "month_price_sum = stock_price.groupby('month').price.agg(price_sum='sum')\n",
    "sns.boxplot(month_price_sum, orient='h')"
   ]
  },
  {
   "cell_type": "markdown",
   "id": "a085204d-23bd-468f-80cd-49a1c05cd618",
   "metadata": {},
   "source": [
    "### Интересные методы"
   ]
  },
  {
   "cell_type": "code",
   "execution_count": 124,
   "id": "6dbea4b4-f73d-4012-a011-470e5c6ab584",
   "metadata": {},
   "outputs": [
    {
     "data": {
      "text/plain": [
       "0       7668027!!\n",
       "1       4858879!!\n",
       "2       5262860!!\n",
       "3       4090692!!\n",
       "4      10357731!!\n",
       "          ...    \n",
       "227     9996317!!\n",
       "228    10875523!!\n",
       "229    10559680!!\n",
       "230    11259913!!\n",
       "231           nan\n",
       "Name: volume, Length: 232, dtype: object"
      ]
     },
     "execution_count": 124,
     "metadata": {},
     "output_type": "execute_result"
    }
   ],
   "source": [
    "stock_price.volume.astype('str').replace('\\\\.0', '!!', regex=True)"
   ]
  }
 ],
 "metadata": {
  "kernelspec": {
   "display_name": "pandas_edu",
   "language": "python",
   "name": "pandas_edu"
  },
  "language_info": {
   "codemirror_mode": {
    "name": "ipython",
    "version": 3
   },
   "file_extension": ".py",
   "mimetype": "text/x-python",
   "name": "python",
   "nbconvert_exporter": "python",
   "pygments_lexer": "ipython3",
   "version": "3.12.0"
  }
 },
 "nbformat": 4,
 "nbformat_minor": 5
}
