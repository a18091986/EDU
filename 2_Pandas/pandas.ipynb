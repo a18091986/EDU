{
 "cells": [
  {
   "cell_type": "code",
   "execution_count": 2,
   "id": "bde62dca-ea20-4e5d-adbe-3988bcfb261e",
   "metadata": {},
   "outputs": [
    {
     "name": "stdout",
     "output_type": "stream",
     "text": [
      "\n",
      "     active environment : pandas_edu\n",
      "    active env location : /home/behappyman/anaconda3/envs/pandas_edu\n",
      "            shell level : 2\n",
      "       user config file : /home/behappyman/.condarc\n",
      " populated config files : \n",
      "          conda version : 23.7.4\n",
      "    conda-build version : 3.26.1\n",
      "         python version : 3.11.5.final.0\n",
      "       virtual packages : __archspec=1=x86_64\n",
      "                          __glibc=2.35=0\n",
      "                          __linux=5.15.0=0\n",
      "                          __unix=0=0\n",
      "       base environment : /home/behappyman/anaconda3  (writable)\n",
      "      conda av data dir : /home/behappyman/anaconda3/etc/conda\n",
      "  conda av metadata url : None\n",
      "           channel URLs : https://repo.anaconda.com/pkgs/main/linux-64\n",
      "                          https://repo.anaconda.com/pkgs/main/noarch\n",
      "                          https://repo.anaconda.com/pkgs/r/linux-64\n",
      "                          https://repo.anaconda.com/pkgs/r/noarch\n",
      "          package cache : /home/behappyman/anaconda3/pkgs\n",
      "                          /home/behappyman/.conda/pkgs\n",
      "       envs directories : /home/behappyman/anaconda3/envs\n",
      "                          /home/behappyman/.conda/envs\n",
      "               platform : linux-64\n",
      "             user-agent : conda/23.7.4 requests/2.31.0 CPython/3.11.5 Linux/5.15.0-79-generic linuxmint/21.2 glibc/2.35 aau/0.4.2 c/gOjIcH-Rk4f-gHYMfQy9QA s/sRP4NJE5RxO6FKNN_D3ICw e/mhF8q_V8lIIlbDODyTc72g\n",
      "                UID:GID : 1000:1000\n",
      "             netrc file : None\n",
      "           offline mode : False\n",
      "\n",
      "\n"
     ]
    }
   ],
   "source": [
    "!conda info"
   ]
  },
  {
   "cell_type": "code",
   "execution_count": 4,
   "id": "e9daf34b-4aa1-4df6-9405-bd69ace9e431",
   "metadata": {},
   "outputs": [],
   "source": [
    "import pandas as pd\n",
    "import numpy as np"
   ]
  },
  {
   "cell_type": "markdown",
   "id": "e989c95c-79c7-48da-a54d-155af4909100",
   "metadata": {},
   "source": [
    "# Pandas"
   ]
  },
  {
   "cell_type": "markdown",
   "id": "b99ed669-9cce-4cd3-a3bc-40a87bd851aa",
   "metadata": {},
   "source": [
    "## Series"
   ]
  },
  {
   "cell_type": "markdown",
   "id": "491ea4c6-b8bc-420b-9697-5315f54bdb24",
   "metadata": {},
   "source": [
    "### Созданиe"
   ]
  },
  {
   "cell_type": "code",
   "execution_count": 37,
   "id": "29f79ddf-51fa-4884-9fbf-01410c237409",
   "metadata": {},
   "outputs": [
    {
     "data": {
      "text/plain": [
       "Moscow              123\n",
       "Saint-Petersburg    100\n",
       "Penza                15\n",
       "Name: cities_area, dtype: int64"
      ]
     },
     "execution_count": 37,
     "metadata": {},
     "output_type": "execute_result"
    }
   ],
   "source": [
    "cities = ['Moscow', 'Saint-Petersburg', 'Penza']\n",
    "area = [123, 100, 15]\n",
    "cities_area_series = pd.Series(data=area, index=cities, name='cities_area')\n",
    "cities_area_series"
   ]
  },
  {
   "cell_type": "code",
   "execution_count": 43,
   "id": "43407c1f-49b4-4fef-aad5-f01b533dc139",
   "metadata": {},
   "outputs": [
    {
     "data": {
      "text/plain": [
       "geely    2000000.0\n",
       "haval    2500000.0\n",
       "Name: cars_price, dtype: float64"
      ]
     },
     "execution_count": 43,
     "metadata": {},
     "output_type": "execute_result"
    }
   ],
   "source": [
    "cars_price = {'geely': 2_000_000, 'haval': 2.5*1E6}\n",
    "pd.Series(cars_price, name='cars_price')"
   ]
  },
  {
   "cell_type": "markdown",
   "id": "523014d0-e6fc-41af-8b2c-cca162814a60",
   "metadata": {},
   "source": [
    "### Получение данных"
   ]
  },
  {
   "cell_type": "code",
   "execution_count": 21,
   "id": "f92dda93-3a68-4ab0-a5f0-02a08af495aa",
   "metadata": {},
   "outputs": [
    {
     "name": "stdout",
     "output_type": "stream",
     "text": [
      "123 123\n"
     ]
    }
   ],
   "source": [
    "print(cities_area_series['Moscow'], cities_area_series.iloc[0])"
   ]
  },
  {
   "cell_type": "markdown",
   "id": "6e2b56ed-56e6-46ec-8f08-f413189a4911",
   "metadata": {},
   "source": [
    "### Изменение данных"
   ]
  },
  {
   "cell_type": "code",
   "execution_count": 23,
   "id": "734d663d-9bb4-46f2-8622-74e137a6e2d4",
   "metadata": {},
   "outputs": [
    {
     "name": "stdout",
     "output_type": "stream",
     "text": [
      "250\n"
     ]
    }
   ],
   "source": [
    "cities_area_series['Moscow'] = 250\n",
    "print(cities_area_series['Moscow'])"
   ]
  },
  {
   "cell_type": "code",
   "execution_count": 35,
   "id": "d2fd0ab9-6053-472d-b5cc-c5f66ea5f951",
   "metadata": {},
   "outputs": [],
   "source": [
    "cities_area_series.index=['London', 'Paris', 'Amsterdam']"
   ]
  },
  {
   "cell_type": "code",
   "execution_count": 36,
   "id": "d61c5e8c-1bb8-45cd-ab66-4f3a6059d997",
   "metadata": {},
   "outputs": [
    {
     "data": {
      "text/plain": [
       "London       250\n",
       "Paris        100\n",
       "Amsterdam     15\n",
       "Name: cities_area, dtype: int64"
      ]
     },
     "execution_count": 36,
     "metadata": {},
     "output_type": "execute_result"
    }
   ],
   "source": [
    "cities_area_series"
   ]
  },
  {
   "cell_type": "markdown",
   "id": "367d7c9d-7512-4f62-813b-685e8982a9f1",
   "metadata": {},
   "source": [
    "## DataFrame"
   ]
  },
  {
   "cell_type": "markdown",
   "id": "4a2c707b-e54a-4f43-96bb-a9e3f50fed1d",
   "metadata": {},
   "source": [
    "### Создание"
   ]
  },
  {
   "cell_type": "code",
   "execution_count": 49,
   "id": "451b7f13-ab53-4c43-99c3-f4abd9722244",
   "metadata": {},
   "outputs": [
    {
     "data": {
      "text/html": [
       "<div>\n",
       "<style scoped>\n",
       "    .dataframe tbody tr th:only-of-type {\n",
       "        vertical-align: middle;\n",
       "    }\n",
       "\n",
       "    .dataframe tbody tr th {\n",
       "        vertical-align: top;\n",
       "    }\n",
       "\n",
       "    .dataframe thead th {\n",
       "        text-align: right;\n",
       "    }\n",
       "</style>\n",
       "<table border=\"1\" class=\"dataframe\">\n",
       "  <thead>\n",
       "    <tr style=\"text-align: right;\">\n",
       "      <th></th>\n",
       "      <th>age</th>\n",
       "      <th>height</th>\n",
       "      <th>weight</th>\n",
       "    </tr>\n",
       "  </thead>\n",
       "  <tbody>\n",
       "    <tr>\n",
       "      <th>0</th>\n",
       "      <td>25</td>\n",
       "      <td>180</td>\n",
       "      <td>78</td>\n",
       "    </tr>\n",
       "    <tr>\n",
       "      <th>1</th>\n",
       "      <td>35</td>\n",
       "      <td>190</td>\n",
       "      <td>95</td>\n",
       "    </tr>\n",
       "  </tbody>\n",
       "</table>\n",
       "</div>"
      ],
      "text/plain": [
       "   age  height  weight\n",
       "0   25     180      78\n",
       "1   35     190      95"
      ]
     },
     "execution_count": 49,
     "metadata": {},
     "output_type": "execute_result"
    }
   ],
   "source": [
    "people_info = [dict(age=25, height=180, weight=78), dict(age=35, height=190, weight=95)]\n",
    "pd.DataFrame(people_info)"
   ]
  },
  {
   "cell_type": "code",
   "execution_count": 53,
   "id": "7f90a8cf-65d1-4d36-beba-db69ea78d097",
   "metadata": {},
   "outputs": [
    {
     "data": {
      "text/html": [
       "<div>\n",
       "<style scoped>\n",
       "    .dataframe tbody tr th:only-of-type {\n",
       "        vertical-align: middle;\n",
       "    }\n",
       "\n",
       "    .dataframe tbody tr th {\n",
       "        vertical-align: top;\n",
       "    }\n",
       "\n",
       "    .dataframe thead th {\n",
       "        text-align: right;\n",
       "    }\n",
       "</style>\n",
       "<table border=\"1\" class=\"dataframe\">\n",
       "  <thead>\n",
       "    <tr style=\"text-align: right;\">\n",
       "      <th></th>\n",
       "      <th>Bob</th>\n",
       "      <th>Ann</th>\n",
       "    </tr>\n",
       "  </thead>\n",
       "  <tbody>\n",
       "    <tr>\n",
       "      <th>age</th>\n",
       "      <td>25</td>\n",
       "      <td>45</td>\n",
       "    </tr>\n",
       "    <tr>\n",
       "      <th>height</th>\n",
       "      <td>180</td>\n",
       "      <td>150</td>\n",
       "    </tr>\n",
       "    <tr>\n",
       "      <th>weight</th>\n",
       "      <td>78</td>\n",
       "      <td>99</td>\n",
       "    </tr>\n",
       "  </tbody>\n",
       "</table>\n",
       "</div>"
      ],
      "text/plain": [
       "        Bob  Ann\n",
       "age      25   45\n",
       "height  180  150\n",
       "weight   78   99"
      ]
     },
     "execution_count": 53,
     "metadata": {},
     "output_type": "execute_result"
    }
   ],
   "source": [
    "people_info = dict(Bob=dict(age=25, height=180, weight=78), Ann=dict(age=45, height=150, weight=99))\n",
    "pd.DataFrame(people_info)"
   ]
  },
  {
   "cell_type": "code",
   "execution_count": 54,
   "id": "1a07eb65-124a-4e89-9647-3dfff8f62412",
   "metadata": {},
   "outputs": [
    {
     "data": {
      "text/html": [
       "<div>\n",
       "<style scoped>\n",
       "    .dataframe tbody tr th:only-of-type {\n",
       "        vertical-align: middle;\n",
       "    }\n",
       "\n",
       "    .dataframe tbody tr th {\n",
       "        vertical-align: top;\n",
       "    }\n",
       "\n",
       "    .dataframe thead th {\n",
       "        text-align: right;\n",
       "    }\n",
       "</style>\n",
       "<table border=\"1\" class=\"dataframe\">\n",
       "  <thead>\n",
       "    <tr style=\"text-align: right;\">\n",
       "      <th></th>\n",
       "      <th>age</th>\n",
       "      <th>height</th>\n",
       "      <th>weight</th>\n",
       "    </tr>\n",
       "  </thead>\n",
       "  <tbody>\n",
       "    <tr>\n",
       "      <th>Bob</th>\n",
       "      <td>25</td>\n",
       "      <td>180</td>\n",
       "      <td>78</td>\n",
       "    </tr>\n",
       "    <tr>\n",
       "      <th>Ann</th>\n",
       "      <td>35</td>\n",
       "      <td>190</td>\n",
       "      <td>95</td>\n",
       "    </tr>\n",
       "  </tbody>\n",
       "</table>\n",
       "</div>"
      ],
      "text/plain": [
       "     age  height  weight\n",
       "Bob   25     180      78\n",
       "Ann   35     190      95"
      ]
     },
     "execution_count": 54,
     "metadata": {},
     "output_type": "execute_result"
    }
   ],
   "source": [
    "people_names = ['Bob', 'Ann']\n",
    "people_description = [dict(age=25, height=180, weight=78), dict(age=35, height=190, weight=95)]\n",
    "\n",
    "pd.DataFrame(data=people_description, index=people_names)"
   ]
  },
  {
   "cell_type": "markdown",
   "id": "ae1e7cce-14f1-4964-a10f-280e6526158a",
   "metadata": {},
   "source": [
    "### Получение данных"
   ]
  },
  {
   "cell_type": "markdown",
   "id": "0054f063-685d-45fb-afec-4d2687e992bb",
   "metadata": {},
   "source": [
    "### Изменение даннных"
   ]
  }
 ],
 "metadata": {
  "kernelspec": {
   "display_name": "pandas_edu",
   "language": "python",
   "name": "pandas_edu"
  },
  "language_info": {
   "codemirror_mode": {
    "name": "ipython",
    "version": 3
   },
   "file_extension": ".py",
   "mimetype": "text/x-python",
   "name": "python",
   "nbconvert_exporter": "python",
   "pygments_lexer": "ipython3",
   "version": "3.12.0"
  }
 },
 "nbformat": 4,
 "nbformat_minor": 5
}
