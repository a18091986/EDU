{
 "cells": [
  {
   "cell_type": "code",
   "execution_count": 1,
   "id": "e9daf34b-4aa1-4df6-9405-bd69ace9e431",
   "metadata": {},
   "outputs": [],
   "source": [
    "import pandas as pd\n",
    "import numpy as np\n",
    "import seaborn as sns\n",
    "import matplotlib.pyplot as plt\n",
    "import warnings\n",
    "warnings.filterwarnings(\"ignore\")"
   ]
  },
  {
   "cell_type": "markdown",
   "id": "e989c95c-79c7-48da-a54d-155af4909100",
   "metadata": {},
   "source": [
    "# Pandas"
   ]
  },
  {
   "cell_type": "markdown",
   "id": "97b481fc-a57d-4bde-8500-55f7e104b22c",
   "metadata": {},
   "source": [
    "## Конфигурирование"
   ]
  },
  {
   "cell_type": "code",
   "execution_count": 2,
   "id": "c5f1940b-6a09-4e95-b96b-a93e8274cf83",
   "metadata": {},
   "outputs": [],
   "source": [
    "pd.set_option('display.max_columns', 40)\n",
    "# pd.set_option('display.max_rows', 500)\n",
    "pd.set_option('display.float_format', '{:.2f}'.format)"
   ]
  },
  {
   "cell_type": "code",
   "execution_count": 3,
   "id": "1356a619-723f-463a-8a55-cf34b260a8ab",
   "metadata": {},
   "outputs": [
    {
     "data": {
      "text/plain": [
       "40"
      ]
     },
     "execution_count": 3,
     "metadata": {},
     "output_type": "execute_result"
    }
   ],
   "source": [
    "#pd.describe_option()\n",
    "pd.get_option('display.max_columns')"
   ]
  },
  {
   "cell_type": "markdown",
   "id": "b99ed669-9cce-4cd3-a3bc-40a87bd851aa",
   "metadata": {
    "jp-MarkdownHeadingCollapsed": true
   },
   "source": [
    "## Series"
   ]
  },
  {
   "cell_type": "markdown",
   "id": "491ea4c6-b8bc-420b-9697-5315f54bdb24",
   "metadata": {},
   "source": [
    "### Созданиe"
   ]
  },
  {
   "cell_type": "code",
   "execution_count": 4,
   "id": "29f79ddf-51fa-4884-9fbf-01410c237409",
   "metadata": {},
   "outputs": [
    {
     "data": {
      "text/plain": [
       "Moscow              123\n",
       "Saint-Petersburg    100\n",
       "Penza                15\n",
       "Name: cities_area, dtype: int64"
      ]
     },
     "execution_count": 4,
     "metadata": {},
     "output_type": "execute_result"
    }
   ],
   "source": [
    "cities = ['Moscow', 'Saint-Petersburg', 'Penza']\n",
    "area = [123, 100, 15]\n",
    "cities_area_series = pd.Series(data=area, index=cities, name='cities_area')\n",
    "cities_area_series"
   ]
  },
  {
   "cell_type": "code",
   "execution_count": 5,
   "id": "43407c1f-49b4-4fef-aad5-f01b533dc139",
   "metadata": {},
   "outputs": [
    {
     "data": {
      "text/plain": [
       "geely   2000000.00\n",
       "haval   2500000.00\n",
       "Name: cars_price, dtype: float64"
      ]
     },
     "execution_count": 5,
     "metadata": {},
     "output_type": "execute_result"
    }
   ],
   "source": [
    "cars_price = {'geely': 2_000_000, 'haval': 2.5*1E6}\n",
    "pd.Series(cars_price, name='cars_price')"
   ]
  },
  {
   "cell_type": "markdown",
   "id": "523014d0-e6fc-41af-8b2c-cca162814a60",
   "metadata": {},
   "source": [
    "### Получение данных"
   ]
  },
  {
   "cell_type": "code",
   "execution_count": 6,
   "id": "f92dda93-3a68-4ab0-a5f0-02a08af495aa",
   "metadata": {},
   "outputs": [
    {
     "name": "stdout",
     "output_type": "stream",
     "text": [
      "123 123\n"
     ]
    }
   ],
   "source": [
    "print(cities_area_series['Moscow'], cities_area_series.iloc[0])"
   ]
  },
  {
   "cell_type": "code",
   "execution_count": 7,
   "id": "b00aefec-f34d-428c-af0d-f49ad66253bb",
   "metadata": {},
   "outputs": [
    {
     "data": {
      "text/plain": [
       "Moscow              123\n",
       "Saint-Petersburg    100\n",
       "Name: cities_area, dtype: int64"
      ]
     },
     "execution_count": 7,
     "metadata": {},
     "output_type": "execute_result"
    }
   ],
   "source": [
    "cities_area_series[cities_area_series >= 100]"
   ]
  },
  {
   "cell_type": "markdown",
   "id": "6e2b56ed-56e6-46ec-8f08-f413189a4911",
   "metadata": {},
   "source": [
    "### Изменение данных"
   ]
  },
  {
   "cell_type": "code",
   "execution_count": 8,
   "id": "734d663d-9bb4-46f2-8622-74e137a6e2d4",
   "metadata": {},
   "outputs": [
    {
     "name": "stdout",
     "output_type": "stream",
     "text": [
      "250\n"
     ]
    }
   ],
   "source": [
    "cities_area_series['Moscow'] = 250\n",
    "print(cities_area_series['Moscow'])"
   ]
  },
  {
   "cell_type": "code",
   "execution_count": 9,
   "id": "d2fd0ab9-6053-472d-b5cc-c5f66ea5f951",
   "metadata": {},
   "outputs": [
    {
     "data": {
      "text/plain": [
       "London       250\n",
       "Paris        100\n",
       "Amsterdam     15\n",
       "Name: cities_area, dtype: int64"
      ]
     },
     "execution_count": 9,
     "metadata": {},
     "output_type": "execute_result"
    }
   ],
   "source": [
    "cities_area_series.index=['London', 'Paris', 'Amsterdam']\n",
    "cities_area_series"
   ]
  },
  {
   "cell_type": "code",
   "execution_count": 10,
   "id": "d61c5e8c-1bb8-45cd-ab66-4f3a6059d997",
   "metadata": {},
   "outputs": [
    {
     "data": {
      "text/plain": [
       "London       252\n",
       "Paris        102\n",
       "Amsterdam     17\n",
       "Name: cities_area, dtype: int64"
      ]
     },
     "execution_count": 10,
     "metadata": {},
     "output_type": "execute_result"
    }
   ],
   "source": [
    "def increase_by_two(x):\n",
    "    return x + 2\n",
    "\n",
    "cities_area_series = cities_area_series.apply(increase_by_two)\n",
    "cities_area_series"
   ]
  },
  {
   "cell_type": "markdown",
   "id": "367d7c9d-7512-4f62-813b-685e8982a9f1",
   "metadata": {},
   "source": [
    "## DataFrame"
   ]
  },
  {
   "cell_type": "code",
   "execution_count": 11,
   "id": "3a03b78f-1d4e-4ddb-b00e-e575256fbc06",
   "metadata": {},
   "outputs": [],
   "source": [
    "stock_price = pd.DataFrame()\n",
    "for ticker in ['SPCE', 'KEX', 'AAPL', 'TSLA', 'AMZN']:\n",
    "    df = pd.read_csv(f\"data/{ticker}_stock.csv\", parse_dates=['dt'], skiprows=0)\n",
    "    df['ticker'] = ticker\n",
    "    if stock_price.empty:\n",
    "        stock_price = df.copy()\n",
    "        continue\n",
    "    stock_price = pd.concat([stock_price, df])\n",
    "stock_price=stock_price.reset_index(drop=True)"
   ]
  },
  {
   "cell_type": "code",
   "execution_count": 12,
   "id": "b59fa9d7-dd9c-44ff-af96-a1ad53b29fbe",
   "metadata": {},
   "outputs": [
    {
     "data": {
      "text/plain": [
       "(                   dt  price  change  change_percent      volume ticker\n",
       " 0 2023-01-03 16:00:00   3.49    0.00            0.00  7668027.00   SPCE\n",
       " 1 2023-01-04 16:00:00   3.64    0.15            0.04  4858879.00   SPCE\n",
       " 2 2023-01-05 16:00:00   3.66    0.17            0.05  5262860.00   SPCE\n",
       " 3 2023-01-06 16:00:00   3.69    0.20            0.06  4090692.00   SPCE\n",
       " 4 2023-01-09 16:00:00   3.91    0.42            0.12 10357731.00   SPCE,\n",
       " RangeIndex(start=0, stop=1165, step=1))"
      ]
     },
     "execution_count": 12,
     "metadata": {},
     "output_type": "execute_result"
    }
   ],
   "source": [
    "stock_price.head(), stock_price.index"
   ]
  },
  {
   "cell_type": "markdown",
   "id": "59fb415d-87e7-4ab2-9331-039771072963",
   "metadata": {},
   "source": [
    "### Создание новых столбцов"
   ]
  },
  {
   "cell_type": "code",
   "execution_count": 13,
   "id": "ee0610b1-b72a-432d-8560-3ec21000a749",
   "metadata": {},
   "outputs": [
    {
     "data": {
      "text/plain": [
       "season\n",
       "spring   0.27\n",
       "summer   0.27\n",
       "autumn   0.27\n",
       "winter   0.18\n",
       "Name: proportion, dtype: float64"
      ]
     },
     "execution_count": 13,
     "metadata": {},
     "output_type": "execute_result"
    }
   ],
   "source": [
    "# добавление столбца с временем года на основании даты\n",
    "def season(t_val):\n",
    "    if t_val.month in (12,1,2):\n",
    "        return 'winter'\n",
    "    elif t_val.month in (3,4,5):\n",
    "        return 'spring'\n",
    "    elif t_val.month in (6,7,8):\n",
    "        return \"summer\"\n",
    "    else:\n",
    "        return \"autumn\"\n",
    "    \n",
    "\n",
    "stock_price['season'] = stock_price['dt'].apply(season)\n",
    "stock_price['season'].value_counts(normalize=True, dropna=False)"
   ]
  },
  {
   "cell_type": "code",
   "execution_count": 14,
   "id": "6c936434-9aba-4a15-9a0b-83e329c9980e",
   "metadata": {},
   "outputs": [
    {
     "data": {
      "text/plain": [
       "время года\n",
       "весна   0.27\n",
       "лето    0.27\n",
       "осень   0.27\n",
       "зима    0.18\n",
       "Name: proportion, dtype: float64"
      ]
     },
     "execution_count": 14,
     "metadata": {},
     "output_type": "execute_result"
    }
   ],
   "source": [
    "# np.select\n",
    "conditions = [(stock_price['season'] == \"spring\"), (stock_price['season'] == \"summer\"), (stock_price['season'] == \"autumn\"), (stock_price['season'] == \"winter\")]\n",
    "values = ['весна', 'лето', 'осень', 'зима']\n",
    "\n",
    "stock_price['время года'] = np.select(conditions, values)\n",
    "stock_price['время года'].value_counts(normalize=True, dropna=False)"
   ]
  },
  {
   "cell_type": "code",
   "execution_count": 15,
   "id": "ab1e0c84-d187-4acb-a06d-5b23aa228d2a",
   "metadata": {},
   "outputs": [
    {
     "data": {
      "text/plain": [
       "price_more_then_median\n",
       "меньше медианы   0.50\n",
       "больше медианы   0.50\n",
       "равно медиане    0.00\n",
       "Name: proportion, dtype: float64"
      ]
     },
     "execution_count": 15,
     "metadata": {},
     "output_type": "execute_result"
    }
   ],
   "source": [
    "# введение столбца на основании условия к другому столбцу\n",
    "median_price = stock_price.price.median()\n",
    "stock_price['price_more_then_median'] = ['больше медианы' if price_value > median_price \\\n",
    "                                         else 'равно медиане' if price_value == median_price \\\n",
    "                                         else 'меньше медианы' for price_value in stock_price.price] \n",
    "stock_price.price_more_then_median.value_counts(normalize=True)"
   ]
  },
  {
   "cell_type": "code",
   "execution_count": 16,
   "id": "6d113318-5b7b-45b8-8e4d-bcc8d147ae58",
   "metadata": {},
   "outputs": [
    {
     "data": {
      "text/plain": [
       "is_positive_trend\n",
       "позитивный тренд   0.50\n",
       "неопределенность   0.40\n",
       "NaN                0.10\n",
       "Name: proportion, dtype: float64"
      ]
     },
     "execution_count": 16,
     "metadata": {},
     "output_type": "execute_result"
    }
   ],
   "source": [
    "# введение столбца на основании условий к значений из нескольких столбцов\n",
    "stock_price['is_positive_trend'] = ['позитивный тренд' if p > median_price and cp > 0 \n",
    "                                    else 'неопределенность' if p <= median_price and cp > 0 \n",
    "                                    else np.nan for p, cp in zip(stock_price['price'], stock_price.change_percent)]\n",
    "stock_price.is_positive_trend.value_counts(normalize=True, dropna=False)"
   ]
  },
  {
   "cell_type": "code",
   "execution_count": 17,
   "id": "d34a146e-0bfb-452c-8759-5708dd4ce408",
   "metadata": {},
   "outputs": [
    {
     "data": {
      "text/plain": [
       "volume_2_cat\n",
       "Малый объем     0.90\n",
       "Большой объем   0.10\n",
       "Name: proportion, dtype: float64"
      ]
     },
     "execution_count": 17,
     "metadata": {},
     "output_type": "execute_result"
    }
   ],
   "source": [
    "# np.where\n",
    "stock_price['volume_2_cat'] = np.where(stock_price.volume > stock_price.volume.quantile(.9), 'Большой объем', 'Малый объем')\n",
    "stock_price['volume_2_cat'].value_counts(normalize=True)"
   ]
  },
  {
   "cell_type": "code",
   "execution_count": 18,
   "id": "b270c67d-2960-4347-b9cd-a94256e4fab3",
   "metadata": {},
   "outputs": [
    {
     "data": {
      "text/plain": [
       "volume_2_cat_bool\n",
       "False   0.90\n",
       "True    0.10\n",
       "Name: proportion, dtype: float64"
      ]
     },
     "execution_count": 18,
     "metadata": {},
     "output_type": "execute_result"
    }
   ],
   "source": [
    "# c использование словаря\n",
    "stock_price['volume_2_cat_bool'] = stock_price['volume_2_cat'].map({'Большой объем': True, 'Малый объем': False})\n",
    "stock_price['volume_2_cat_bool'].value_counts(normalize=True, dropna=False)"
   ]
  },
  {
   "cell_type": "markdown",
   "id": "f283b2ea-ab1f-4a5d-8365-8ecc0c6ca9de",
   "metadata": {},
   "source": [
    "### Полезные методы и атрибуты"
   ]
  },
  {
   "cell_type": "code",
   "execution_count": 19,
   "id": "5c833517-fc87-4ac0-abe4-5f3d4adad52e",
   "metadata": {},
   "outputs": [
    {
     "data": {
      "text/html": [
       "<div>\n",
       "<style scoped>\n",
       "    .dataframe tbody tr th:only-of-type {\n",
       "        vertical-align: middle;\n",
       "    }\n",
       "\n",
       "    .dataframe tbody tr th {\n",
       "        vertical-align: top;\n",
       "    }\n",
       "\n",
       "    .dataframe thead th {\n",
       "        text-align: right;\n",
       "    }\n",
       "</style>\n",
       "<table border=\"1\" class=\"dataframe\">\n",
       "  <thead>\n",
       "    <tr style=\"text-align: right;\">\n",
       "      <th></th>\n",
       "      <th>dt</th>\n",
       "      <th>price</th>\n",
       "      <th>change</th>\n",
       "      <th>change_percent</th>\n",
       "      <th>volume</th>\n",
       "      <th>ticker</th>\n",
       "      <th>season</th>\n",
       "      <th>время года</th>\n",
       "      <th>price_more_then_median</th>\n",
       "      <th>is_positive_trend</th>\n",
       "      <th>volume_2_cat</th>\n",
       "      <th>volume_2_cat_bool</th>\n",
       "    </tr>\n",
       "  </thead>\n",
       "  <tbody>\n",
       "    <tr>\n",
       "      <th>0</th>\n",
       "      <td>2023-01-03 16:00:00</td>\n",
       "      <td>3.49</td>\n",
       "      <td>0.00</td>\n",
       "      <td>0.00</td>\n",
       "      <td>7668027.00</td>\n",
       "      <td>SPCE</td>\n",
       "      <td>winter</td>\n",
       "      <td>зима</td>\n",
       "      <td>меньше медианы</td>\n",
       "      <td>NaN</td>\n",
       "      <td>Малый объем</td>\n",
       "      <td>False</td>\n",
       "    </tr>\n",
       "    <tr>\n",
       "      <th>1</th>\n",
       "      <td>2023-01-04 16:00:00</td>\n",
       "      <td>3.64</td>\n",
       "      <td>0.15</td>\n",
       "      <td>0.04</td>\n",
       "      <td>4858879.00</td>\n",
       "      <td>SPCE</td>\n",
       "      <td>winter</td>\n",
       "      <td>зима</td>\n",
       "      <td>меньше медианы</td>\n",
       "      <td>неопределенность</td>\n",
       "      <td>Малый объем</td>\n",
       "      <td>False</td>\n",
       "    </tr>\n",
       "    <tr>\n",
       "      <th>2</th>\n",
       "      <td>2023-01-05 16:00:00</td>\n",
       "      <td>3.66</td>\n",
       "      <td>0.17</td>\n",
       "      <td>0.05</td>\n",
       "      <td>5262860.00</td>\n",
       "      <td>SPCE</td>\n",
       "      <td>winter</td>\n",
       "      <td>зима</td>\n",
       "      <td>меньше медианы</td>\n",
       "      <td>неопределенность</td>\n",
       "      <td>Малый объем</td>\n",
       "      <td>False</td>\n",
       "    </tr>\n",
       "  </tbody>\n",
       "</table>\n",
       "</div>"
      ],
      "text/plain": [
       "                   dt  price  change  change_percent     volume ticker  \\\n",
       "0 2023-01-03 16:00:00   3.49    0.00            0.00 7668027.00   SPCE   \n",
       "1 2023-01-04 16:00:00   3.64    0.15            0.04 4858879.00   SPCE   \n",
       "2 2023-01-05 16:00:00   3.66    0.17            0.05 5262860.00   SPCE   \n",
       "\n",
       "   season время года price_more_then_median is_positive_trend volume_2_cat  \\\n",
       "0  winter       зима         меньше медианы               NaN  Малый объем   \n",
       "1  winter       зима         меньше медианы  неопределенность  Малый объем   \n",
       "2  winter       зима         меньше медианы  неопределенность  Малый объем   \n",
       "\n",
       "   volume_2_cat_bool  \n",
       "0              False  \n",
       "1              False  \n",
       "2              False  "
      ]
     },
     "execution_count": 19,
     "metadata": {},
     "output_type": "execute_result"
    }
   ],
   "source": [
    "stock_price.head(3)"
   ]
  },
  {
   "cell_type": "code",
   "execution_count": 20,
   "id": "7a5010af-0e58-4bb2-895d-8c242468118c",
   "metadata": {},
   "outputs": [
    {
     "name": "stdout",
     "output_type": "stream",
     "text": [
      "**************************************************\n",
      "dtype - типы данных по столбцам\n",
      "**************************************************\n",
      "dt                        datetime64[ns]\n",
      "price                            float64\n",
      "change                           float64\n",
      "change_percent                   float64\n",
      "volume                           float64\n",
      "ticker                            object\n",
      "season                            object\n",
      "время года                        object\n",
      "price_more_then_median            object\n",
      "is_positive_trend                 object\n",
      "volume_2_cat                      object\n",
      "volume_2_cat_bool                   bool\n",
      "dtype: object\n",
      "**************************************************\n",
      "shape - форма\n",
      "**************************************************\n",
      "(1165, 12)\n",
      "**************************************************\n",
      "size - количество элементов\n",
      "**************************************************\n",
      "13980\n",
      "**************************************************\n",
      "index - индекс\n",
      "**************************************************\n",
      "RangeIndex(start=0, stop=1165, step=1)\n",
      "**************************************************\n",
      "unique - уникальные значения\n",
      "**************************************************\n",
      "[ 0.      0.15    0.17   ... 60.27   59.02   60.4868]\n",
      "**************************************************\n",
      "unique - количество уникальных значений\n",
      "**************************************************\n",
      "1035\n",
      "**************************************************\n",
      "value_counts - сколько каких значений\n",
      "**************************************************\n",
      "price\n",
      "4.06     0.00\n",
      "3.80     0.00\n",
      "3.46     0.00\n",
      "3.90     0.00\n",
      "73.07    0.00\n",
      "         ... \n",
      "141.86   0.00\n",
      "143.96   0.00\n",
      "145.93   0.00\n",
      "143.00   0.00\n",
      "146.31   0.00\n",
      "Name: proportion, Length: 1059, dtype: float64\n",
      "\n"
     ]
    }
   ],
   "source": [
    "print(f\"{'*'*50}\\ndtype - типы данных по столбцам\\n{'*'*50}\\n\\\n",
    "{stock_price.dtypes}\\n\\\n",
    "{'*'*50}\\nshape - форма\\n{'*'*50}\\n\\\n",
    "{stock_price.shape}\\n\\\n",
    "{'*'*50}\\nsize - количество элементов\\n{'*'*50}\\n\\\n",
    "{stock_price.size}\\n\\\n",
    "{'*'*50}\\nindex - индекс\\n{'*'*50}\\n\\\n",
    "{stock_price.index}\\n\\\n",
    "{'*'*50}\\nunique - уникальные значения\\n{'*'*50}\\n\\\n",
    "{stock_price.change.unique()}\\n\\\n",
    "{'*'*50}\\nunique - количество уникальных значений\\n{'*'*50}\\n\\\n",
    "{stock_price.change.nunique()}\\n\\\n",
    "{'*'*50}\\nvalue_counts - сколько каких значений\\n{'*'*50}\\n\\\n",
    "{stock_price.price.value_counts(normalize=True)}\\n\\\n",
    "\")"
   ]
  },
  {
   "cell_type": "markdown",
   "id": "b8f8057b-6e87-4fe0-a913-8f918259fd19",
   "metadata": {},
   "source": [
    "### Описательные статистики"
   ]
  },
  {
   "cell_type": "code",
   "execution_count": 21,
   "id": "d26f13de-83ef-4adc-88cc-4e21ea30c12e",
   "metadata": {},
   "outputs": [
    {
     "name": "stdout",
     "output_type": "stream",
     "text": [
      "<class 'pandas.core.frame.DataFrame'>\n",
      "RangeIndex: 1165 entries, 0 to 1164\n",
      "Data columns (total 12 columns):\n",
      " #   Column                  Non-Null Count  Dtype         \n",
      "---  ------                  --------------  -----         \n",
      " 0   dt                      1165 non-null   datetime64[ns]\n",
      " 1   price                   1165 non-null   float64       \n",
      " 2   change                  1165 non-null   float64       \n",
      " 3   change_percent          1165 non-null   float64       \n",
      " 4   volume                  1160 non-null   float64       \n",
      " 5   ticker                  1165 non-null   object        \n",
      " 6   season                  1165 non-null   object        \n",
      " 7   время года              1165 non-null   object        \n",
      " 8   price_more_then_median  1165 non-null   object        \n",
      " 9   is_positive_trend       1049 non-null   object        \n",
      " 10  volume_2_cat            1165 non-null   object        \n",
      " 11  volume_2_cat_bool       1165 non-null   bool          \n",
      "dtypes: bool(1), datetime64[ns](1), float64(4), object(6)\n",
      "memory usage: 101.4+ KB\n"
     ]
    }
   ],
   "source": [
    "stock_price.info()"
   ]
  },
  {
   "cell_type": "code",
   "execution_count": 22,
   "id": "98337c84-a8c7-4318-852b-59378248a6ef",
   "metadata": {},
   "outputs": [
    {
     "data": {
      "text/html": [
       "<div>\n",
       "<style scoped>\n",
       "    .dataframe tbody tr th:only-of-type {\n",
       "        vertical-align: middle;\n",
       "    }\n",
       "\n",
       "    .dataframe tbody tr th {\n",
       "        vertical-align: top;\n",
       "    }\n",
       "\n",
       "    .dataframe thead th {\n",
       "        text-align: right;\n",
       "    }\n",
       "</style>\n",
       "<table border=\"1\" class=\"dataframe\">\n",
       "  <thead>\n",
       "    <tr style=\"text-align: right;\">\n",
       "      <th></th>\n",
       "      <th>price</th>\n",
       "      <th>change</th>\n",
       "      <th>change_percent</th>\n",
       "      <th>volume</th>\n",
       "      <th>ticker</th>\n",
       "      <th>season</th>\n",
       "      <th>время года</th>\n",
       "      <th>price_more_then_median</th>\n",
       "      <th>is_positive_trend</th>\n",
       "      <th>volume_2_cat</th>\n",
       "      <th>volume_2_cat_bool</th>\n",
       "    </tr>\n",
       "  </thead>\n",
       "  <tbody>\n",
       "    <tr>\n",
       "      <th>count</th>\n",
       "      <td>1165.00</td>\n",
       "      <td>1165.00</td>\n",
       "      <td>1165.00</td>\n",
       "      <td>1160.00</td>\n",
       "      <td>1165</td>\n",
       "      <td>1165</td>\n",
       "      <td>1165</td>\n",
       "      <td>1165</td>\n",
       "      <td>1049</td>\n",
       "      <td>1165</td>\n",
       "      <td>1165</td>\n",
       "    </tr>\n",
       "    <tr>\n",
       "      <th>unique</th>\n",
       "      <td>NaN</td>\n",
       "      <td>NaN</td>\n",
       "      <td>NaN</td>\n",
       "      <td>NaN</td>\n",
       "      <td>5</td>\n",
       "      <td>4</td>\n",
       "      <td>4</td>\n",
       "      <td>3</td>\n",
       "      <td>2</td>\n",
       "      <td>2</td>\n",
       "      <td>2</td>\n",
       "    </tr>\n",
       "    <tr>\n",
       "      <th>top</th>\n",
       "      <td>NaN</td>\n",
       "      <td>NaN</td>\n",
       "      <td>NaN</td>\n",
       "      <td>NaN</td>\n",
       "      <td>SPCE</td>\n",
       "      <td>spring</td>\n",
       "      <td>весна</td>\n",
       "      <td>меньше медианы</td>\n",
       "      <td>позитивный тренд</td>\n",
       "      <td>Малый объем</td>\n",
       "      <td>False</td>\n",
       "    </tr>\n",
       "    <tr>\n",
       "      <th>freq</th>\n",
       "      <td>NaN</td>\n",
       "      <td>NaN</td>\n",
       "      <td>NaN</td>\n",
       "      <td>NaN</td>\n",
       "      <td>233</td>\n",
       "      <td>320</td>\n",
       "      <td>320</td>\n",
       "      <td>582</td>\n",
       "      <td>580</td>\n",
       "      <td>1049</td>\n",
       "      <td>1049</td>\n",
       "    </tr>\n",
       "    <tr>\n",
       "      <th>mean</th>\n",
       "      <td>116.75</td>\n",
       "      <td>39.59</td>\n",
       "      <td>0.39</td>\n",
       "      <td>54677280.42</td>\n",
       "      <td>NaN</td>\n",
       "      <td>NaN</td>\n",
       "      <td>NaN</td>\n",
       "      <td>NaN</td>\n",
       "      <td>NaN</td>\n",
       "      <td>NaN</td>\n",
       "      <td>NaN</td>\n",
       "    </tr>\n",
       "    <tr>\n",
       "      <th>std</th>\n",
       "      <td>77.02</td>\n",
       "      <td>43.42</td>\n",
       "      <td>0.43</td>\n",
       "      <td>52988840.32</td>\n",
       "      <td>NaN</td>\n",
       "      <td>NaN</td>\n",
       "      <td>NaN</td>\n",
       "      <td>NaN</td>\n",
       "      <td>NaN</td>\n",
       "      <td>NaN</td>\n",
       "      <td>NaN</td>\n",
       "    </tr>\n",
       "    <tr>\n",
       "      <th>min</th>\n",
       "      <td>1.38</td>\n",
       "      <td>-2.72</td>\n",
       "      <td>-0.60</td>\n",
       "      <td>68536.00</td>\n",
       "      <td>NaN</td>\n",
       "      <td>NaN</td>\n",
       "      <td>NaN</td>\n",
       "      <td>NaN</td>\n",
       "      <td>NaN</td>\n",
       "      <td>NaN</td>\n",
       "      <td>NaN</td>\n",
       "    </tr>\n",
       "    <tr>\n",
       "      <th>25%</th>\n",
       "      <td>70.99</td>\n",
       "      <td>5.77</td>\n",
       "      <td>0.15</td>\n",
       "      <td>7752859.00</td>\n",
       "      <td>NaN</td>\n",
       "      <td>NaN</td>\n",
       "      <td>NaN</td>\n",
       "      <td>NaN</td>\n",
       "      <td>NaN</td>\n",
       "      <td>NaN</td>\n",
       "      <td>NaN</td>\n",
       "    </tr>\n",
       "    <tr>\n",
       "      <th>50%</th>\n",
       "      <td>123.56</td>\n",
       "      <td>21.63</td>\n",
       "      <td>0.32</td>\n",
       "      <td>47989936.00</td>\n",
       "      <td>NaN</td>\n",
       "      <td>NaN</td>\n",
       "      <td>NaN</td>\n",
       "      <td>NaN</td>\n",
       "      <td>NaN</td>\n",
       "      <td>NaN</td>\n",
       "      <td>NaN</td>\n",
       "    </tr>\n",
       "    <tr>\n",
       "      <th>75%</th>\n",
       "      <td>176.57</td>\n",
       "      <td>56.40</td>\n",
       "      <td>0.55</td>\n",
       "      <td>77416972.25</td>\n",
       "      <td>NaN</td>\n",
       "      <td>NaN</td>\n",
       "      <td>NaN</td>\n",
       "      <td>NaN</td>\n",
       "      <td>NaN</td>\n",
       "      <td>NaN</td>\n",
       "      <td>NaN</td>\n",
       "    </tr>\n",
       "    <tr>\n",
       "      <th>max</th>\n",
       "      <td>293.34</td>\n",
       "      <td>185.24</td>\n",
       "      <td>1.71</td>\n",
       "      <td>306590613.00</td>\n",
       "      <td>NaN</td>\n",
       "      <td>NaN</td>\n",
       "      <td>NaN</td>\n",
       "      <td>NaN</td>\n",
       "      <td>NaN</td>\n",
       "      <td>NaN</td>\n",
       "      <td>NaN</td>\n",
       "    </tr>\n",
       "  </tbody>\n",
       "</table>\n",
       "</div>"
      ],
      "text/plain": [
       "         price  change  change_percent       volume ticker  season время года  \\\n",
       "count  1165.00 1165.00         1165.00      1160.00   1165    1165       1165   \n",
       "unique     NaN     NaN             NaN          NaN      5       4          4   \n",
       "top        NaN     NaN             NaN          NaN   SPCE  spring      весна   \n",
       "freq       NaN     NaN             NaN          NaN    233     320        320   \n",
       "mean    116.75   39.59            0.39  54677280.42    NaN     NaN        NaN   \n",
       "std      77.02   43.42            0.43  52988840.32    NaN     NaN        NaN   \n",
       "min       1.38   -2.72           -0.60     68536.00    NaN     NaN        NaN   \n",
       "25%      70.99    5.77            0.15   7752859.00    NaN     NaN        NaN   \n",
       "50%     123.56   21.63            0.32  47989936.00    NaN     NaN        NaN   \n",
       "75%     176.57   56.40            0.55  77416972.25    NaN     NaN        NaN   \n",
       "max     293.34  185.24            1.71 306590613.00    NaN     NaN        NaN   \n",
       "\n",
       "       price_more_then_median is_positive_trend volume_2_cat volume_2_cat_bool  \n",
       "count                    1165              1049         1165              1165  \n",
       "unique                      3                 2            2                 2  \n",
       "top            меньше медианы  позитивный тренд  Малый объем             False  \n",
       "freq                      582               580         1049              1049  \n",
       "mean                      NaN               NaN          NaN               NaN  \n",
       "std                       NaN               NaN          NaN               NaN  \n",
       "min                       NaN               NaN          NaN               NaN  \n",
       "25%                       NaN               NaN          NaN               NaN  \n",
       "50%                       NaN               NaN          NaN               NaN  \n",
       "75%                       NaN               NaN          NaN               NaN  \n",
       "max                       NaN               NaN          NaN               NaN  "
      ]
     },
     "execution_count": 22,
     "metadata": {},
     "output_type": "execute_result"
    }
   ],
   "source": [
    "# описательные статистики для числовых данных\n",
    "stock_price.describe(exclude=['datetime'])"
   ]
  },
  {
   "cell_type": "code",
   "execution_count": null,
   "id": "e0f08434-ec73-4c11-8dd8-bbdc15d86567",
   "metadata": {},
   "outputs": [],
   "source": []
  },
  {
   "cell_type": "markdown",
   "id": "27b1c832-6dba-4497-8fa2-4a637a7fb563",
   "metadata": {},
   "source": [
    "### Изменение типа данных"
   ]
  },
  {
   "cell_type": "code",
   "execution_count": 23,
   "id": "53c29777-1f57-4971-bc44-087899a7c8d1",
   "metadata": {},
   "outputs": [
    {
     "name": "stdout",
     "output_type": "stream",
     "text": [
      "float64\n",
      "object\n",
      "object\n",
      "float64\n"
     ]
    }
   ],
   "source": [
    "print(stock_price['change'].dtype)\n",
    "stock_price.change = stock_price.change.astype('object')\n",
    "print(stock_price['change'].dtype)\n",
    "stock_price.change = stock_price.change.astype('str')\n",
    "print(stock_price['change'].dtype)\n",
    "stock_price.change = stock_price.change.astype('float')\n",
    "print(stock_price['change'].dtype)"
   ]
  },
  {
   "cell_type": "markdown",
   "id": "27eb892c-2aab-49ac-be59-9444451ec69a",
   "metadata": {},
   "source": [
    "### Пропуски"
   ]
  },
  {
   "cell_type": "code",
   "execution_count": 24,
   "id": "e0b451d6-16ca-4b8e-976a-11266416b9e3",
   "metadata": {},
   "outputs": [],
   "source": [
    "stock_price.iloc[21, 1:3] = np.nan"
   ]
  },
  {
   "cell_type": "code",
   "execution_count": 25,
   "id": "dca58bb9-2082-4bba-95ef-7867844fb60e",
   "metadata": {},
   "outputs": [
    {
     "data": {
      "text/plain": [
       "dt                        False\n",
       "price                      True\n",
       "change                     True\n",
       "change_percent            False\n",
       "volume                     True\n",
       "ticker                    False\n",
       "season                    False\n",
       "время года                False\n",
       "price_more_then_median    False\n",
       "is_positive_trend          True\n",
       "volume_2_cat              False\n",
       "volume_2_cat_bool         False\n",
       "dtype: bool"
      ]
     },
     "execution_count": 25,
     "metadata": {},
     "output_type": "execute_result"
    }
   ],
   "source": [
    "stock_price.isna().any()"
   ]
  },
  {
   "cell_type": "code",
   "execution_count": 26,
   "id": "9f08a9b6-ecdf-45fa-853e-b607afe472d4",
   "metadata": {},
   "outputs": [
    {
     "data": {
      "text/plain": [
       "dt                          0\n",
       "price                       1\n",
       "change                      1\n",
       "change_percent              0\n",
       "volume                      5\n",
       "ticker                      0\n",
       "season                      0\n",
       "время года                  0\n",
       "price_more_then_median      0\n",
       "is_positive_trend         116\n",
       "volume_2_cat                0\n",
       "volume_2_cat_bool           0\n",
       "dtype: int64"
      ]
     },
     "execution_count": 26,
     "metadata": {},
     "output_type": "execute_result"
    }
   ],
   "source": [
    "stock_price.isna().sum()"
   ]
  },
  {
   "cell_type": "code",
   "execution_count": 27,
   "id": "1963d60c-9b2a-4f0f-8e11-d2baad4739a7",
   "metadata": {},
   "outputs": [
    {
     "data": {
      "text/html": [
       "<div>\n",
       "<style scoped>\n",
       "    .dataframe tbody tr th:only-of-type {\n",
       "        vertical-align: middle;\n",
       "    }\n",
       "\n",
       "    .dataframe tbody tr th {\n",
       "        vertical-align: top;\n",
       "    }\n",
       "\n",
       "    .dataframe thead th {\n",
       "        text-align: right;\n",
       "    }\n",
       "</style>\n",
       "<table border=\"1\" class=\"dataframe\">\n",
       "  <thead>\n",
       "    <tr style=\"text-align: right;\">\n",
       "      <th></th>\n",
       "      <th>dt</th>\n",
       "      <th>price</th>\n",
       "      <th>change</th>\n",
       "      <th>change_percent</th>\n",
       "      <th>volume</th>\n",
       "      <th>ticker</th>\n",
       "      <th>season</th>\n",
       "      <th>время года</th>\n",
       "      <th>price_more_then_median</th>\n",
       "      <th>is_positive_trend</th>\n",
       "      <th>volume_2_cat</th>\n",
       "      <th>volume_2_cat_bool</th>\n",
       "    </tr>\n",
       "  </thead>\n",
       "  <tbody>\n",
       "    <tr>\n",
       "      <th>0</th>\n",
       "      <td>2023-01-03 16:00:00</td>\n",
       "      <td>3.49</td>\n",
       "      <td>0.00</td>\n",
       "      <td>0.00</td>\n",
       "      <td>7668027.00</td>\n",
       "      <td>SPCE</td>\n",
       "      <td>winter</td>\n",
       "      <td>зима</td>\n",
       "      <td>меньше медианы</td>\n",
       "      <td>NaN</td>\n",
       "      <td>Малый объем</td>\n",
       "      <td>False</td>\n",
       "    </tr>\n",
       "    <tr>\n",
       "      <th>21</th>\n",
       "      <td>2023-02-02 16:00:00</td>\n",
       "      <td>NaN</td>\n",
       "      <td>NaN</td>\n",
       "      <td>0.82</td>\n",
       "      <td>20903003.00</td>\n",
       "      <td>SPCE</td>\n",
       "      <td>winter</td>\n",
       "      <td>зима</td>\n",
       "      <td>меньше медианы</td>\n",
       "      <td>неопределенность</td>\n",
       "      <td>Малый объем</td>\n",
       "      <td>False</td>\n",
       "    </tr>\n",
       "    <tr>\n",
       "      <th>63</th>\n",
       "      <td>2023-04-04 16:00:00</td>\n",
       "      <td>3.43</td>\n",
       "      <td>-0.06</td>\n",
       "      <td>-0.02</td>\n",
       "      <td>20661229.00</td>\n",
       "      <td>SPCE</td>\n",
       "      <td>spring</td>\n",
       "      <td>весна</td>\n",
       "      <td>меньше медианы</td>\n",
       "      <td>NaN</td>\n",
       "      <td>Малый объем</td>\n",
       "      <td>False</td>\n",
       "    </tr>\n",
       "    <tr>\n",
       "      <th>64</th>\n",
       "      <td>2023-04-05 16:00:00</td>\n",
       "      <td>3.19</td>\n",
       "      <td>-0.30</td>\n",
       "      <td>-0.09</td>\n",
       "      <td>11393519.00</td>\n",
       "      <td>SPCE</td>\n",
       "      <td>spring</td>\n",
       "      <td>весна</td>\n",
       "      <td>меньше медианы</td>\n",
       "      <td>NaN</td>\n",
       "      <td>Малый объем</td>\n",
       "      <td>False</td>\n",
       "    </tr>\n",
       "    <tr>\n",
       "      <th>65</th>\n",
       "      <td>2023-04-06 16:00:00</td>\n",
       "      <td>3.15</td>\n",
       "      <td>-0.34</td>\n",
       "      <td>-0.10</td>\n",
       "      <td>13672138.00</td>\n",
       "      <td>SPCE</td>\n",
       "      <td>spring</td>\n",
       "      <td>весна</td>\n",
       "      <td>меньше медианы</td>\n",
       "      <td>NaN</td>\n",
       "      <td>Малый объем</td>\n",
       "      <td>False</td>\n",
       "    </tr>\n",
       "    <tr>\n",
       "      <th>...</th>\n",
       "      <td>...</td>\n",
       "      <td>...</td>\n",
       "      <td>...</td>\n",
       "      <td>...</td>\n",
       "      <td>...</td>\n",
       "      <td>...</td>\n",
       "      <td>...</td>\n",
       "      <td>...</td>\n",
       "      <td>...</td>\n",
       "      <td>...</td>\n",
       "      <td>...</td>\n",
       "      <td>...</td>\n",
       "    </tr>\n",
       "    <tr>\n",
       "      <th>931</th>\n",
       "      <td>2023-12-05 12:10:00</td>\n",
       "      <td>242.85</td>\n",
       "      <td>134.75</td>\n",
       "      <td>1.25</td>\n",
       "      <td>NaN</td>\n",
       "      <td>TSLA</td>\n",
       "      <td>winter</td>\n",
       "      <td>зима</td>\n",
       "      <td>больше медианы</td>\n",
       "      <td>позитивный тренд</td>\n",
       "      <td>Малый объем</td>\n",
       "      <td>False</td>\n",
       "    </tr>\n",
       "    <tr>\n",
       "      <th>932</th>\n",
       "      <td>2023-01-03 16:00:00</td>\n",
       "      <td>85.82</td>\n",
       "      <td>0.00</td>\n",
       "      <td>0.00</td>\n",
       "      <td>76706040.00</td>\n",
       "      <td>AMZN</td>\n",
       "      <td>winter</td>\n",
       "      <td>зима</td>\n",
       "      <td>меньше медианы</td>\n",
       "      <td>NaN</td>\n",
       "      <td>Малый объем</td>\n",
       "      <td>False</td>\n",
       "    </tr>\n",
       "    <tr>\n",
       "      <th>933</th>\n",
       "      <td>2023-01-04 16:00:00</td>\n",
       "      <td>85.14</td>\n",
       "      <td>-0.68</td>\n",
       "      <td>-0.01</td>\n",
       "      <td>68885123.00</td>\n",
       "      <td>AMZN</td>\n",
       "      <td>winter</td>\n",
       "      <td>зима</td>\n",
       "      <td>меньше медианы</td>\n",
       "      <td>NaN</td>\n",
       "      <td>Малый объем</td>\n",
       "      <td>False</td>\n",
       "    </tr>\n",
       "    <tr>\n",
       "      <th>934</th>\n",
       "      <td>2023-01-05 16:00:00</td>\n",
       "      <td>83.12</td>\n",
       "      <td>-2.70</td>\n",
       "      <td>-0.03</td>\n",
       "      <td>67930825.00</td>\n",
       "      <td>AMZN</td>\n",
       "      <td>winter</td>\n",
       "      <td>зима</td>\n",
       "      <td>меньше медианы</td>\n",
       "      <td>NaN</td>\n",
       "      <td>Малый объем</td>\n",
       "      <td>False</td>\n",
       "    </tr>\n",
       "    <tr>\n",
       "      <th>1164</th>\n",
       "      <td>2023-12-05 12:08:00</td>\n",
       "      <td>146.31</td>\n",
       "      <td>60.49</td>\n",
       "      <td>0.70</td>\n",
       "      <td>NaN</td>\n",
       "      <td>AMZN</td>\n",
       "      <td>winter</td>\n",
       "      <td>зима</td>\n",
       "      <td>больше медианы</td>\n",
       "      <td>позитивный тренд</td>\n",
       "      <td>Малый объем</td>\n",
       "      <td>False</td>\n",
       "    </tr>\n",
       "  </tbody>\n",
       "</table>\n",
       "<p>121 rows × 12 columns</p>\n",
       "</div>"
      ],
      "text/plain": [
       "                      dt  price  change  change_percent      volume ticker  \\\n",
       "0    2023-01-03 16:00:00   3.49    0.00            0.00  7668027.00   SPCE   \n",
       "21   2023-02-02 16:00:00    NaN     NaN            0.82 20903003.00   SPCE   \n",
       "63   2023-04-04 16:00:00   3.43   -0.06           -0.02 20661229.00   SPCE   \n",
       "64   2023-04-05 16:00:00   3.19   -0.30           -0.09 11393519.00   SPCE   \n",
       "65   2023-04-06 16:00:00   3.15   -0.34           -0.10 13672138.00   SPCE   \n",
       "...                  ...    ...     ...             ...         ...    ...   \n",
       "931  2023-12-05 12:10:00 242.85  134.75            1.25         NaN   TSLA   \n",
       "932  2023-01-03 16:00:00  85.82    0.00            0.00 76706040.00   AMZN   \n",
       "933  2023-01-04 16:00:00  85.14   -0.68           -0.01 68885123.00   AMZN   \n",
       "934  2023-01-05 16:00:00  83.12   -2.70           -0.03 67930825.00   AMZN   \n",
       "1164 2023-12-05 12:08:00 146.31   60.49            0.70         NaN   AMZN   \n",
       "\n",
       "      season время года price_more_then_median is_positive_trend volume_2_cat  \\\n",
       "0     winter       зима         меньше медианы               NaN  Малый объем   \n",
       "21    winter       зима         меньше медианы  неопределенность  Малый объем   \n",
       "63    spring      весна         меньше медианы               NaN  Малый объем   \n",
       "64    spring      весна         меньше медианы               NaN  Малый объем   \n",
       "65    spring      весна         меньше медианы               NaN  Малый объем   \n",
       "...      ...        ...                    ...               ...          ...   \n",
       "931   winter       зима         больше медианы  позитивный тренд  Малый объем   \n",
       "932   winter       зима         меньше медианы               NaN  Малый объем   \n",
       "933   winter       зима         меньше медианы               NaN  Малый объем   \n",
       "934   winter       зима         меньше медианы               NaN  Малый объем   \n",
       "1164  winter       зима         больше медианы  позитивный тренд  Малый объем   \n",
       "\n",
       "      volume_2_cat_bool  \n",
       "0                 False  \n",
       "21                False  \n",
       "63                False  \n",
       "64                False  \n",
       "65                False  \n",
       "...                 ...  \n",
       "931               False  \n",
       "932               False  \n",
       "933               False  \n",
       "934               False  \n",
       "1164              False  \n",
       "\n",
       "[121 rows x 12 columns]"
      ]
     },
     "execution_count": 27,
     "metadata": {},
     "output_type": "execute_result"
    }
   ],
   "source": [
    "stock_price[stock_price.isna().values.any(axis=1)]"
   ]
  },
  {
   "cell_type": "code",
   "execution_count": 28,
   "id": "dc09a265-412a-4ddc-abd5-98de635258d5",
   "metadata": {},
   "outputs": [],
   "source": [
    "stock_price.price.fillna(0, inplace=True)"
   ]
  },
  {
   "cell_type": "code",
   "execution_count": 29,
   "id": "726a3b5d-0f5f-4588-bff5-3a6c2fbf2a27",
   "metadata": {},
   "outputs": [
    {
     "data": {
      "text/html": [
       "<div>\n",
       "<style scoped>\n",
       "    .dataframe tbody tr th:only-of-type {\n",
       "        vertical-align: middle;\n",
       "    }\n",
       "\n",
       "    .dataframe tbody tr th {\n",
       "        vertical-align: top;\n",
       "    }\n",
       "\n",
       "    .dataframe thead th {\n",
       "        text-align: right;\n",
       "    }\n",
       "</style>\n",
       "<table border=\"1\" class=\"dataframe\">\n",
       "  <thead>\n",
       "    <tr style=\"text-align: right;\">\n",
       "      <th></th>\n",
       "      <th>dt</th>\n",
       "      <th>price</th>\n",
       "      <th>change</th>\n",
       "      <th>change_percent</th>\n",
       "      <th>volume</th>\n",
       "      <th>ticker</th>\n",
       "      <th>season</th>\n",
       "      <th>время года</th>\n",
       "      <th>price_more_then_median</th>\n",
       "      <th>is_positive_trend</th>\n",
       "      <th>volume_2_cat</th>\n",
       "      <th>volume_2_cat_bool</th>\n",
       "    </tr>\n",
       "  </thead>\n",
       "  <tbody>\n",
       "    <tr>\n",
       "      <th>0</th>\n",
       "      <td>2023-01-03 16:00:00</td>\n",
       "      <td>3.49</td>\n",
       "      <td>0.00</td>\n",
       "      <td>0.00</td>\n",
       "      <td>7668027.00</td>\n",
       "      <td>SPCE</td>\n",
       "      <td>winter</td>\n",
       "      <td>зима</td>\n",
       "      <td>меньше медианы</td>\n",
       "      <td>NaN</td>\n",
       "      <td>Малый объем</td>\n",
       "      <td>False</td>\n",
       "    </tr>\n",
       "    <tr>\n",
       "      <th>21</th>\n",
       "      <td>2023-02-02 16:00:00</td>\n",
       "      <td>0.00</td>\n",
       "      <td>NaN</td>\n",
       "      <td>0.82</td>\n",
       "      <td>20903003.00</td>\n",
       "      <td>SPCE</td>\n",
       "      <td>winter</td>\n",
       "      <td>зима</td>\n",
       "      <td>меньше медианы</td>\n",
       "      <td>неопределенность</td>\n",
       "      <td>Малый объем</td>\n",
       "      <td>False</td>\n",
       "    </tr>\n",
       "    <tr>\n",
       "      <th>63</th>\n",
       "      <td>2023-04-04 16:00:00</td>\n",
       "      <td>3.43</td>\n",
       "      <td>-0.06</td>\n",
       "      <td>-0.02</td>\n",
       "      <td>20661229.00</td>\n",
       "      <td>SPCE</td>\n",
       "      <td>spring</td>\n",
       "      <td>весна</td>\n",
       "      <td>меньше медианы</td>\n",
       "      <td>NaN</td>\n",
       "      <td>Малый объем</td>\n",
       "      <td>False</td>\n",
       "    </tr>\n",
       "    <tr>\n",
       "      <th>64</th>\n",
       "      <td>2023-04-05 16:00:00</td>\n",
       "      <td>3.19</td>\n",
       "      <td>-0.30</td>\n",
       "      <td>-0.09</td>\n",
       "      <td>11393519.00</td>\n",
       "      <td>SPCE</td>\n",
       "      <td>spring</td>\n",
       "      <td>весна</td>\n",
       "      <td>меньше медианы</td>\n",
       "      <td>NaN</td>\n",
       "      <td>Малый объем</td>\n",
       "      <td>False</td>\n",
       "    </tr>\n",
       "    <tr>\n",
       "      <th>65</th>\n",
       "      <td>2023-04-06 16:00:00</td>\n",
       "      <td>3.15</td>\n",
       "      <td>-0.34</td>\n",
       "      <td>-0.10</td>\n",
       "      <td>13672138.00</td>\n",
       "      <td>SPCE</td>\n",
       "      <td>spring</td>\n",
       "      <td>весна</td>\n",
       "      <td>меньше медианы</td>\n",
       "      <td>NaN</td>\n",
       "      <td>Малый объем</td>\n",
       "      <td>False</td>\n",
       "    </tr>\n",
       "    <tr>\n",
       "      <th>...</th>\n",
       "      <td>...</td>\n",
       "      <td>...</td>\n",
       "      <td>...</td>\n",
       "      <td>...</td>\n",
       "      <td>...</td>\n",
       "      <td>...</td>\n",
       "      <td>...</td>\n",
       "      <td>...</td>\n",
       "      <td>...</td>\n",
       "      <td>...</td>\n",
       "      <td>...</td>\n",
       "      <td>...</td>\n",
       "    </tr>\n",
       "    <tr>\n",
       "      <th>931</th>\n",
       "      <td>2023-12-05 12:10:00</td>\n",
       "      <td>242.85</td>\n",
       "      <td>134.75</td>\n",
       "      <td>1.25</td>\n",
       "      <td>NaN</td>\n",
       "      <td>TSLA</td>\n",
       "      <td>winter</td>\n",
       "      <td>зима</td>\n",
       "      <td>больше медианы</td>\n",
       "      <td>позитивный тренд</td>\n",
       "      <td>Малый объем</td>\n",
       "      <td>False</td>\n",
       "    </tr>\n",
       "    <tr>\n",
       "      <th>932</th>\n",
       "      <td>2023-01-03 16:00:00</td>\n",
       "      <td>85.82</td>\n",
       "      <td>0.00</td>\n",
       "      <td>0.00</td>\n",
       "      <td>76706040.00</td>\n",
       "      <td>AMZN</td>\n",
       "      <td>winter</td>\n",
       "      <td>зима</td>\n",
       "      <td>меньше медианы</td>\n",
       "      <td>NaN</td>\n",
       "      <td>Малый объем</td>\n",
       "      <td>False</td>\n",
       "    </tr>\n",
       "    <tr>\n",
       "      <th>933</th>\n",
       "      <td>2023-01-04 16:00:00</td>\n",
       "      <td>85.14</td>\n",
       "      <td>-0.68</td>\n",
       "      <td>-0.01</td>\n",
       "      <td>68885123.00</td>\n",
       "      <td>AMZN</td>\n",
       "      <td>winter</td>\n",
       "      <td>зима</td>\n",
       "      <td>меньше медианы</td>\n",
       "      <td>NaN</td>\n",
       "      <td>Малый объем</td>\n",
       "      <td>False</td>\n",
       "    </tr>\n",
       "    <tr>\n",
       "      <th>934</th>\n",
       "      <td>2023-01-05 16:00:00</td>\n",
       "      <td>83.12</td>\n",
       "      <td>-2.70</td>\n",
       "      <td>-0.03</td>\n",
       "      <td>67930825.00</td>\n",
       "      <td>AMZN</td>\n",
       "      <td>winter</td>\n",
       "      <td>зима</td>\n",
       "      <td>меньше медианы</td>\n",
       "      <td>NaN</td>\n",
       "      <td>Малый объем</td>\n",
       "      <td>False</td>\n",
       "    </tr>\n",
       "    <tr>\n",
       "      <th>1164</th>\n",
       "      <td>2023-12-05 12:08:00</td>\n",
       "      <td>146.31</td>\n",
       "      <td>60.49</td>\n",
       "      <td>0.70</td>\n",
       "      <td>NaN</td>\n",
       "      <td>AMZN</td>\n",
       "      <td>winter</td>\n",
       "      <td>зима</td>\n",
       "      <td>больше медианы</td>\n",
       "      <td>позитивный тренд</td>\n",
       "      <td>Малый объем</td>\n",
       "      <td>False</td>\n",
       "    </tr>\n",
       "  </tbody>\n",
       "</table>\n",
       "<p>121 rows × 12 columns</p>\n",
       "</div>"
      ],
      "text/plain": [
       "                      dt  price  change  change_percent      volume ticker  \\\n",
       "0    2023-01-03 16:00:00   3.49    0.00            0.00  7668027.00   SPCE   \n",
       "21   2023-02-02 16:00:00   0.00     NaN            0.82 20903003.00   SPCE   \n",
       "63   2023-04-04 16:00:00   3.43   -0.06           -0.02 20661229.00   SPCE   \n",
       "64   2023-04-05 16:00:00   3.19   -0.30           -0.09 11393519.00   SPCE   \n",
       "65   2023-04-06 16:00:00   3.15   -0.34           -0.10 13672138.00   SPCE   \n",
       "...                  ...    ...     ...             ...         ...    ...   \n",
       "931  2023-12-05 12:10:00 242.85  134.75            1.25         NaN   TSLA   \n",
       "932  2023-01-03 16:00:00  85.82    0.00            0.00 76706040.00   AMZN   \n",
       "933  2023-01-04 16:00:00  85.14   -0.68           -0.01 68885123.00   AMZN   \n",
       "934  2023-01-05 16:00:00  83.12   -2.70           -0.03 67930825.00   AMZN   \n",
       "1164 2023-12-05 12:08:00 146.31   60.49            0.70         NaN   AMZN   \n",
       "\n",
       "      season время года price_more_then_median is_positive_trend volume_2_cat  \\\n",
       "0     winter       зима         меньше медианы               NaN  Малый объем   \n",
       "21    winter       зима         меньше медианы  неопределенность  Малый объем   \n",
       "63    spring      весна         меньше медианы               NaN  Малый объем   \n",
       "64    spring      весна         меньше медианы               NaN  Малый объем   \n",
       "65    spring      весна         меньше медианы               NaN  Малый объем   \n",
       "...      ...        ...                    ...               ...          ...   \n",
       "931   winter       зима         больше медианы  позитивный тренд  Малый объем   \n",
       "932   winter       зима         меньше медианы               NaN  Малый объем   \n",
       "933   winter       зима         меньше медианы               NaN  Малый объем   \n",
       "934   winter       зима         меньше медианы               NaN  Малый объем   \n",
       "1164  winter       зима         больше медианы  позитивный тренд  Малый объем   \n",
       "\n",
       "      volume_2_cat_bool  \n",
       "0                 False  \n",
       "21                False  \n",
       "63                False  \n",
       "64                False  \n",
       "65                False  \n",
       "...                 ...  \n",
       "931               False  \n",
       "932               False  \n",
       "933               False  \n",
       "934               False  \n",
       "1164              False  \n",
       "\n",
       "[121 rows x 12 columns]"
      ]
     },
     "execution_count": 29,
     "metadata": {},
     "output_type": "execute_result"
    }
   ],
   "source": [
    "stock_price[stock_price.isna().values.any(axis=1)]"
   ]
  },
  {
   "cell_type": "code",
   "execution_count": 30,
   "id": "b9325443-d90a-49d3-8274-682e2b09b5d4",
   "metadata": {},
   "outputs": [],
   "source": [
    "stock_price.change.interpolate('linear', inplace=True)"
   ]
  },
  {
   "cell_type": "code",
   "execution_count": 31,
   "id": "0848e8b4-7bea-49ba-9ace-db6567f3ff68",
   "metadata": {},
   "outputs": [
    {
     "data": {
      "text/plain": [
       "(1045, 12)"
      ]
     },
     "execution_count": 31,
     "metadata": {},
     "output_type": "execute_result"
    }
   ],
   "source": [
    "stock_price.dropna(axis=0).shape"
   ]
  },
  {
   "cell_type": "code",
   "execution_count": 32,
   "id": "4537e489-900e-42c3-afc7-7d5ea8d79d38",
   "metadata": {},
   "outputs": [
    {
     "data": {
      "text/plain": [
       "0        True\n",
       "1       False\n",
       "2       False\n",
       "3       False\n",
       "4       False\n",
       "        ...  \n",
       "1160    False\n",
       "1161    False\n",
       "1162    False\n",
       "1163    False\n",
       "1164    False\n",
       "Name: is_positive_trend, Length: 1165, dtype: bool"
      ]
     },
     "execution_count": 32,
     "metadata": {},
     "output_type": "execute_result"
    }
   ],
   "source": [
    "stock_price['is_positive_trend'].isna()"
   ]
  },
  {
   "cell_type": "code",
   "execution_count": 33,
   "id": "00dc0e74-6ed9-453a-b6fb-d612bee8d967",
   "metadata": {},
   "outputs": [
    {
     "data": {
      "text/plain": [
       "True"
      ]
     },
     "execution_count": 33,
     "metadata": {},
     "output_type": "execute_result"
    }
   ],
   "source": [
    "stock_price['is_positive_trend'].isnull().any()"
   ]
  },
  {
   "cell_type": "markdown",
   "id": "65d4ea3a-79d6-4002-95b0-256628ff6f8f",
   "metadata": {},
   "source": [
    "### Изменение порядка следования столбцов"
   ]
  },
  {
   "cell_type": "code",
   "execution_count": 34,
   "id": "aedc82da-807b-4818-af16-a4dfa0bbcff2",
   "metadata": {},
   "outputs": [
    {
     "name": "stdout",
     "output_type": "stream",
     "text": [
      "Index(['dt', 'price', 'change', 'change_percent', 'volume', 'ticker', 'season',\n",
      "       'время года', 'price_more_then_median', 'is_positive_trend',\n",
      "       'volume_2_cat', 'volume_2_cat_bool'],\n",
      "      dtype='object')\n"
     ]
    },
    {
     "data": {
      "text/html": [
       "<div>\n",
       "<style scoped>\n",
       "    .dataframe tbody tr th:only-of-type {\n",
       "        vertical-align: middle;\n",
       "    }\n",
       "\n",
       "    .dataframe tbody tr th {\n",
       "        vertical-align: top;\n",
       "    }\n",
       "\n",
       "    .dataframe thead th {\n",
       "        text-align: right;\n",
       "    }\n",
       "</style>\n",
       "<table border=\"1\" class=\"dataframe\">\n",
       "  <thead>\n",
       "    <tr style=\"text-align: right;\">\n",
       "      <th></th>\n",
       "      <th>dt</th>\n",
       "      <th>change_percent</th>\n",
       "      <th>change</th>\n",
       "    </tr>\n",
       "  </thead>\n",
       "  <tbody>\n",
       "    <tr>\n",
       "      <th>0</th>\n",
       "      <td>2023-01-03 16:00:00</td>\n",
       "      <td>0.00</td>\n",
       "      <td>0.00</td>\n",
       "    </tr>\n",
       "    <tr>\n",
       "      <th>1</th>\n",
       "      <td>2023-01-04 16:00:00</td>\n",
       "      <td>0.04</td>\n",
       "      <td>0.15</td>\n",
       "    </tr>\n",
       "    <tr>\n",
       "      <th>2</th>\n",
       "      <td>2023-01-05 16:00:00</td>\n",
       "      <td>0.05</td>\n",
       "      <td>0.17</td>\n",
       "    </tr>\n",
       "    <tr>\n",
       "      <th>3</th>\n",
       "      <td>2023-01-06 16:00:00</td>\n",
       "      <td>0.06</td>\n",
       "      <td>0.20</td>\n",
       "    </tr>\n",
       "    <tr>\n",
       "      <th>4</th>\n",
       "      <td>2023-01-09 16:00:00</td>\n",
       "      <td>0.12</td>\n",
       "      <td>0.42</td>\n",
       "    </tr>\n",
       "  </tbody>\n",
       "</table>\n",
       "</div>"
      ],
      "text/plain": [
       "                   dt  change_percent  change\n",
       "0 2023-01-03 16:00:00            0.00    0.00\n",
       "1 2023-01-04 16:00:00            0.04    0.15\n",
       "2 2023-01-05 16:00:00            0.05    0.17\n",
       "3 2023-01-06 16:00:00            0.06    0.20\n",
       "4 2023-01-09 16:00:00            0.12    0.42"
      ]
     },
     "execution_count": 34,
     "metadata": {},
     "output_type": "execute_result"
    }
   ],
   "source": [
    "print(stock_price.columns)\n",
    "new_stock = stock_price[['dt','change_percent', 'change']].copy(deep=True)\n",
    "new_stock.head()"
   ]
  },
  {
   "cell_type": "markdown",
   "id": "4a2c707b-e54a-4f43-96bb-a9e3f50fed1d",
   "metadata": {},
   "source": [
    "### Создание DF вручную"
   ]
  },
  {
   "cell_type": "code",
   "execution_count": 35,
   "id": "6feb191d-ad4c-4f4e-80ff-a831dca64751",
   "metadata": {},
   "outputs": [
    {
     "data": {
      "text/html": [
       "<div>\n",
       "<style scoped>\n",
       "    .dataframe tbody tr th:only-of-type {\n",
       "        vertical-align: middle;\n",
       "    }\n",
       "\n",
       "    .dataframe tbody tr th {\n",
       "        vertical-align: top;\n",
       "    }\n",
       "\n",
       "    .dataframe thead th {\n",
       "        text-align: right;\n",
       "    }\n",
       "</style>\n",
       "<table border=\"1\" class=\"dataframe\">\n",
       "  <thead>\n",
       "    <tr style=\"text-align: right;\">\n",
       "      <th></th>\n",
       "      <th>test1</th>\n",
       "      <th>test2</th>\n",
       "    </tr>\n",
       "  </thead>\n",
       "  <tbody>\n",
       "    <tr>\n",
       "      <th>0</th>\n",
       "      <td>1</td>\n",
       "      <td>4</td>\n",
       "    </tr>\n",
       "    <tr>\n",
       "      <th>1</th>\n",
       "      <td>2</td>\n",
       "      <td>5</td>\n",
       "    </tr>\n",
       "    <tr>\n",
       "      <th>2</th>\n",
       "      <td>3</td>\n",
       "      <td>6</td>\n",
       "    </tr>\n",
       "  </tbody>\n",
       "</table>\n",
       "</div>"
      ],
      "text/plain": [
       "   test1  test2\n",
       "0      1      4\n",
       "1      2      5\n",
       "2      3      6"
      ]
     },
     "execution_count": 35,
     "metadata": {},
     "output_type": "execute_result"
    }
   ],
   "source": [
    "test_df = {\n",
    "    'test1': [1, 2, 3],\n",
    "    'test2': [4, 5, 6]\n",
    "}\n",
    "pd.DataFrame(test_df)"
   ]
  },
  {
   "cell_type": "code",
   "execution_count": 36,
   "id": "451b7f13-ab53-4c43-99c3-f4abd9722244",
   "metadata": {},
   "outputs": [
    {
     "data": {
      "text/html": [
       "<div>\n",
       "<style scoped>\n",
       "    .dataframe tbody tr th:only-of-type {\n",
       "        vertical-align: middle;\n",
       "    }\n",
       "\n",
       "    .dataframe tbody tr th {\n",
       "        vertical-align: top;\n",
       "    }\n",
       "\n",
       "    .dataframe thead th {\n",
       "        text-align: right;\n",
       "    }\n",
       "</style>\n",
       "<table border=\"1\" class=\"dataframe\">\n",
       "  <thead>\n",
       "    <tr style=\"text-align: right;\">\n",
       "      <th></th>\n",
       "      <th>age</th>\n",
       "      <th>height</th>\n",
       "      <th>weight</th>\n",
       "    </tr>\n",
       "  </thead>\n",
       "  <tbody>\n",
       "    <tr>\n",
       "      <th>0</th>\n",
       "      <td>25</td>\n",
       "      <td>180</td>\n",
       "      <td>78</td>\n",
       "    </tr>\n",
       "    <tr>\n",
       "      <th>1</th>\n",
       "      <td>35</td>\n",
       "      <td>190</td>\n",
       "      <td>95</td>\n",
       "    </tr>\n",
       "  </tbody>\n",
       "</table>\n",
       "</div>"
      ],
      "text/plain": [
       "   age  height  weight\n",
       "0   25     180      78\n",
       "1   35     190      95"
      ]
     },
     "execution_count": 36,
     "metadata": {},
     "output_type": "execute_result"
    }
   ],
   "source": [
    "people_info = [dict(age=25, height=180, weight=78), dict(age=35, height=190, weight=95)]\n",
    "pd.DataFrame(people_info)"
   ]
  },
  {
   "cell_type": "code",
   "execution_count": 37,
   "id": "7f90a8cf-65d1-4d36-beba-db69ea78d097",
   "metadata": {},
   "outputs": [
    {
     "data": {
      "text/html": [
       "<div>\n",
       "<style scoped>\n",
       "    .dataframe tbody tr th:only-of-type {\n",
       "        vertical-align: middle;\n",
       "    }\n",
       "\n",
       "    .dataframe tbody tr th {\n",
       "        vertical-align: top;\n",
       "    }\n",
       "\n",
       "    .dataframe thead th {\n",
       "        text-align: right;\n",
       "    }\n",
       "</style>\n",
       "<table border=\"1\" class=\"dataframe\">\n",
       "  <thead>\n",
       "    <tr style=\"text-align: right;\">\n",
       "      <th></th>\n",
       "      <th>Bob</th>\n",
       "      <th>Ann</th>\n",
       "    </tr>\n",
       "  </thead>\n",
       "  <tbody>\n",
       "    <tr>\n",
       "      <th>age</th>\n",
       "      <td>25</td>\n",
       "      <td>45</td>\n",
       "    </tr>\n",
       "    <tr>\n",
       "      <th>height</th>\n",
       "      <td>180</td>\n",
       "      <td>150</td>\n",
       "    </tr>\n",
       "    <tr>\n",
       "      <th>weight</th>\n",
       "      <td>78</td>\n",
       "      <td>99</td>\n",
       "    </tr>\n",
       "  </tbody>\n",
       "</table>\n",
       "</div>"
      ],
      "text/plain": [
       "        Bob  Ann\n",
       "age      25   45\n",
       "height  180  150\n",
       "weight   78   99"
      ]
     },
     "execution_count": 37,
     "metadata": {},
     "output_type": "execute_result"
    }
   ],
   "source": [
    "people_info = dict(Bob=dict(age=25, height=180, weight=78), Ann=dict(age=45, height=150, weight=99))\n",
    "pd.DataFrame(people_info)"
   ]
  },
  {
   "cell_type": "code",
   "execution_count": 38,
   "id": "1a07eb65-124a-4e89-9647-3dfff8f62412",
   "metadata": {},
   "outputs": [],
   "source": [
    "people_names = ['Bob', 'Ann', 'Max']\n",
    "people_description = [dict(age=25, height=180, weight=78), \n",
    "                      dict(age=35, height=190, weight=95),\n",
    "                      dict(age=7, height=120, weight=40)]\n",
    "\n",
    "people = pd.DataFrame(data=people_description, index=people_names)"
   ]
  },
  {
   "cell_type": "markdown",
   "id": "ae1e7cce-14f1-4964-a10f-280e6526158a",
   "metadata": {},
   "source": [
    "### Индексация"
   ]
  },
  {
   "cell_type": "code",
   "execution_count": 39,
   "id": "ab7535e8-eeeb-4073-be83-a89633bad0a5",
   "metadata": {},
   "outputs": [
    {
     "data": {
      "text/html": [
       "<div>\n",
       "<style scoped>\n",
       "    .dataframe tbody tr th:only-of-type {\n",
       "        vertical-align: middle;\n",
       "    }\n",
       "\n",
       "    .dataframe tbody tr th {\n",
       "        vertical-align: top;\n",
       "    }\n",
       "\n",
       "    .dataframe thead th {\n",
       "        text-align: right;\n",
       "    }\n",
       "</style>\n",
       "<table border=\"1\" class=\"dataframe\">\n",
       "  <thead>\n",
       "    <tr style=\"text-align: right;\">\n",
       "      <th></th>\n",
       "      <th>age</th>\n",
       "      <th>height</th>\n",
       "      <th>weight</th>\n",
       "    </tr>\n",
       "  </thead>\n",
       "  <tbody>\n",
       "    <tr>\n",
       "      <th>Bob</th>\n",
       "      <td>25</td>\n",
       "      <td>180</td>\n",
       "      <td>78</td>\n",
       "    </tr>\n",
       "    <tr>\n",
       "      <th>Ann</th>\n",
       "      <td>35</td>\n",
       "      <td>190</td>\n",
       "      <td>95</td>\n",
       "    </tr>\n",
       "    <tr>\n",
       "      <th>Max</th>\n",
       "      <td>7</td>\n",
       "      <td>120</td>\n",
       "      <td>40</td>\n",
       "    </tr>\n",
       "  </tbody>\n",
       "</table>\n",
       "</div>"
      ],
      "text/plain": [
       "     age  height  weight\n",
       "Bob   25     180      78\n",
       "Ann   35     190      95\n",
       "Max    7     120      40"
      ]
     },
     "execution_count": 39,
     "metadata": {},
     "output_type": "execute_result"
    }
   ],
   "source": [
    "people"
   ]
  },
  {
   "cell_type": "code",
   "execution_count": 40,
   "id": "95c23ad8-b420-49cc-9d57-846f0eb74369",
   "metadata": {},
   "outputs": [
    {
     "data": {
      "text/html": [
       "<div>\n",
       "<style scoped>\n",
       "    .dataframe tbody tr th:only-of-type {\n",
       "        vertical-align: middle;\n",
       "    }\n",
       "\n",
       "    .dataframe tbody tr th {\n",
       "        vertical-align: top;\n",
       "    }\n",
       "\n",
       "    .dataframe thead th {\n",
       "        text-align: right;\n",
       "    }\n",
       "</style>\n",
       "<table border=\"1\" class=\"dataframe\">\n",
       "  <thead>\n",
       "    <tr style=\"text-align: right;\">\n",
       "      <th></th>\n",
       "      <th>age</th>\n",
       "      <th>height</th>\n",
       "      <th>weight</th>\n",
       "    </tr>\n",
       "  </thead>\n",
       "  <tbody>\n",
       "    <tr>\n",
       "      <th>Bob</th>\n",
       "      <td>25</td>\n",
       "      <td>180</td>\n",
       "      <td>78</td>\n",
       "    </tr>\n",
       "    <tr>\n",
       "      <th>Ann</th>\n",
       "      <td>35</td>\n",
       "      <td>190</td>\n",
       "      <td>95</td>\n",
       "    </tr>\n",
       "  </tbody>\n",
       "</table>\n",
       "</div>"
      ],
      "text/plain": [
       "     age  height  weight\n",
       "Bob   25     180      78\n",
       "Ann   35     190      95"
      ]
     },
     "execution_count": 40,
     "metadata": {},
     "output_type": "execute_result"
    }
   ],
   "source": [
    "people.iloc[0:2]"
   ]
  },
  {
   "cell_type": "code",
   "execution_count": 41,
   "id": "6950226b-e313-46f9-b060-acbcbcba9f14",
   "metadata": {},
   "outputs": [
    {
     "data": {
      "text/html": [
       "<div>\n",
       "<style scoped>\n",
       "    .dataframe tbody tr th:only-of-type {\n",
       "        vertical-align: middle;\n",
       "    }\n",
       "\n",
       "    .dataframe tbody tr th {\n",
       "        vertical-align: top;\n",
       "    }\n",
       "\n",
       "    .dataframe thead th {\n",
       "        text-align: right;\n",
       "    }\n",
       "</style>\n",
       "<table border=\"1\" class=\"dataframe\">\n",
       "  <thead>\n",
       "    <tr style=\"text-align: right;\">\n",
       "      <th></th>\n",
       "      <th>age</th>\n",
       "      <th>height</th>\n",
       "      <th>weight</th>\n",
       "    </tr>\n",
       "  </thead>\n",
       "  <tbody>\n",
       "    <tr>\n",
       "      <th>Bob</th>\n",
       "      <td>25</td>\n",
       "      <td>180</td>\n",
       "      <td>78</td>\n",
       "    </tr>\n",
       "    <tr>\n",
       "      <th>Ann</th>\n",
       "      <td>35</td>\n",
       "      <td>190</td>\n",
       "      <td>95</td>\n",
       "    </tr>\n",
       "    <tr>\n",
       "      <th>Max</th>\n",
       "      <td>7</td>\n",
       "      <td>120</td>\n",
       "      <td>40</td>\n",
       "    </tr>\n",
       "  </tbody>\n",
       "</table>\n",
       "</div>"
      ],
      "text/plain": [
       "     age  height  weight\n",
       "Bob   25     180      78\n",
       "Ann   35     190      95\n",
       "Max    7     120      40"
      ]
     },
     "execution_count": 41,
     "metadata": {},
     "output_type": "execute_result"
    }
   ],
   "source": [
    "people.loc['Bob':'Max']"
   ]
  },
  {
   "cell_type": "code",
   "execution_count": 42,
   "id": "31c9d93d-d1a8-4968-b5d0-71cf184af6c8",
   "metadata": {},
   "outputs": [
    {
     "data": {
      "text/html": [
       "<div>\n",
       "<style scoped>\n",
       "    .dataframe tbody tr th:only-of-type {\n",
       "        vertical-align: middle;\n",
       "    }\n",
       "\n",
       "    .dataframe tbody tr th {\n",
       "        vertical-align: top;\n",
       "    }\n",
       "\n",
       "    .dataframe thead th {\n",
       "        text-align: right;\n",
       "    }\n",
       "</style>\n",
       "<table border=\"1\" class=\"dataframe\">\n",
       "  <thead>\n",
       "    <tr style=\"text-align: right;\">\n",
       "      <th></th>\n",
       "      <th>height</th>\n",
       "      <th>weight</th>\n",
       "    </tr>\n",
       "  </thead>\n",
       "  <tbody>\n",
       "    <tr>\n",
       "      <th>Bob</th>\n",
       "      <td>180</td>\n",
       "      <td>78</td>\n",
       "    </tr>\n",
       "    <tr>\n",
       "      <th>Ann</th>\n",
       "      <td>190</td>\n",
       "      <td>95</td>\n",
       "    </tr>\n",
       "  </tbody>\n",
       "</table>\n",
       "</div>"
      ],
      "text/plain": [
       "     height  weight\n",
       "Bob     180      78\n",
       "Ann     190      95"
      ]
     },
     "execution_count": 42,
     "metadata": {},
     "output_type": "execute_result"
    }
   ],
   "source": [
    "people.loc['Bob':'Ann', 'height':'weight']"
   ]
  },
  {
   "cell_type": "code",
   "execution_count": 43,
   "id": "60e69093-fd40-48a6-b886-6b7bc657a328",
   "metadata": {},
   "outputs": [
    {
     "data": {
      "text/html": [
       "<div>\n",
       "<style scoped>\n",
       "    .dataframe tbody tr th:only-of-type {\n",
       "        vertical-align: middle;\n",
       "    }\n",
       "\n",
       "    .dataframe tbody tr th {\n",
       "        vertical-align: top;\n",
       "    }\n",
       "\n",
       "    .dataframe thead th {\n",
       "        text-align: right;\n",
       "    }\n",
       "</style>\n",
       "<table border=\"1\" class=\"dataframe\">\n",
       "  <thead>\n",
       "    <tr style=\"text-align: right;\">\n",
       "      <th></th>\n",
       "      <th>dt</th>\n",
       "      <th>price</th>\n",
       "      <th>change</th>\n",
       "      <th>change_percent</th>\n",
       "      <th>volume</th>\n",
       "      <th>ticker</th>\n",
       "      <th>season</th>\n",
       "      <th>время года</th>\n",
       "      <th>price_more_then_median</th>\n",
       "      <th>is_positive_trend</th>\n",
       "      <th>volume_2_cat</th>\n",
       "      <th>volume_2_cat_bool</th>\n",
       "    </tr>\n",
       "  </thead>\n",
       "  <tbody>\n",
       "    <tr>\n",
       "      <th>0</th>\n",
       "      <td>2023-01-03 16:00:00</td>\n",
       "      <td>3.49</td>\n",
       "      <td>0.00</td>\n",
       "      <td>0.00</td>\n",
       "      <td>7668027.00</td>\n",
       "      <td>SPCE</td>\n",
       "      <td>winter</td>\n",
       "      <td>зима</td>\n",
       "      <td>меньше медианы</td>\n",
       "      <td>NaN</td>\n",
       "      <td>Малый объем</td>\n",
       "      <td>False</td>\n",
       "    </tr>\n",
       "  </tbody>\n",
       "</table>\n",
       "</div>"
      ],
      "text/plain": [
       "                   dt  price  change  change_percent     volume ticker  \\\n",
       "0 2023-01-03 16:00:00   3.49    0.00            0.00 7668027.00   SPCE   \n",
       "\n",
       "   season время года price_more_then_median is_positive_trend volume_2_cat  \\\n",
       "0  winter       зима         меньше медианы               NaN  Малый объем   \n",
       "\n",
       "   volume_2_cat_bool  \n",
       "0              False  "
      ]
     },
     "execution_count": 43,
     "metadata": {},
     "output_type": "execute_result"
    }
   ],
   "source": [
    "stock_price.head(1)"
   ]
  },
  {
   "cell_type": "code",
   "execution_count": 44,
   "id": "9adb8111-4b8c-4b75-b531-b81c529ef847",
   "metadata": {},
   "outputs": [
    {
     "data": {
      "text/html": [
       "<div>\n",
       "<style scoped>\n",
       "    .dataframe tbody tr th:only-of-type {\n",
       "        vertical-align: middle;\n",
       "    }\n",
       "\n",
       "    .dataframe tbody tr th {\n",
       "        vertical-align: top;\n",
       "    }\n",
       "\n",
       "    .dataframe thead th {\n",
       "        text-align: right;\n",
       "    }\n",
       "</style>\n",
       "<table border=\"1\" class=\"dataframe\">\n",
       "  <thead>\n",
       "    <tr style=\"text-align: right;\">\n",
       "      <th></th>\n",
       "      <th>price</th>\n",
       "      <th>change</th>\n",
       "    </tr>\n",
       "  </thead>\n",
       "  <tbody>\n",
       "    <tr>\n",
       "      <th>2</th>\n",
       "      <td>3.66</td>\n",
       "      <td>0.17</td>\n",
       "    </tr>\n",
       "    <tr>\n",
       "      <th>3</th>\n",
       "      <td>3.69</td>\n",
       "      <td>0.20</td>\n",
       "    </tr>\n",
       "    <tr>\n",
       "      <th>4</th>\n",
       "      <td>3.91</td>\n",
       "      <td>0.42</td>\n",
       "    </tr>\n",
       "  </tbody>\n",
       "</table>\n",
       "</div>"
      ],
      "text/plain": [
       "   price  change\n",
       "2   3.66    0.17\n",
       "3   3.69    0.20\n",
       "4   3.91    0.42"
      ]
     },
     "execution_count": 44,
     "metadata": {},
     "output_type": "execute_result"
    }
   ],
   "source": [
    "stock_price.iloc[2:5, 1:3]"
   ]
  },
  {
   "cell_type": "code",
   "execution_count": 45,
   "id": "3186d9bb-cf39-4a69-8593-e6c4f6327092",
   "metadata": {},
   "outputs": [
    {
     "data": {
      "text/html": [
       "<div>\n",
       "<style scoped>\n",
       "    .dataframe tbody tr th:only-of-type {\n",
       "        vertical-align: middle;\n",
       "    }\n",
       "\n",
       "    .dataframe tbody tr th {\n",
       "        vertical-align: top;\n",
       "    }\n",
       "\n",
       "    .dataframe thead th {\n",
       "        text-align: right;\n",
       "    }\n",
       "</style>\n",
       "<table border=\"1\" class=\"dataframe\">\n",
       "  <thead>\n",
       "    <tr style=\"text-align: right;\">\n",
       "      <th></th>\n",
       "      <th>change</th>\n",
       "      <th>price</th>\n",
       "    </tr>\n",
       "  </thead>\n",
       "  <tbody>\n",
       "    <tr>\n",
       "      <th>2</th>\n",
       "      <td>0.17</td>\n",
       "      <td>3.66</td>\n",
       "    </tr>\n",
       "    <tr>\n",
       "      <th>3</th>\n",
       "      <td>0.20</td>\n",
       "      <td>3.69</td>\n",
       "    </tr>\n",
       "  </tbody>\n",
       "</table>\n",
       "</div>"
      ],
      "text/plain": [
       "   change  price\n",
       "2    0.17   3.66\n",
       "3    0.20   3.69"
      ]
     },
     "execution_count": 45,
     "metadata": {},
     "output_type": "execute_result"
    }
   ],
   "source": [
    "stock_price.loc[[2 ,3], ['change', 'price']]"
   ]
  },
  {
   "cell_type": "code",
   "execution_count": 46,
   "id": "7128ae55-8587-473b-8850-4396e5a2511c",
   "metadata": {},
   "outputs": [
    {
     "data": {
      "text/html": [
       "<div>\n",
       "<style scoped>\n",
       "    .dataframe tbody tr th:only-of-type {\n",
       "        vertical-align: middle;\n",
       "    }\n",
       "\n",
       "    .dataframe tbody tr th {\n",
       "        vertical-align: top;\n",
       "    }\n",
       "\n",
       "    .dataframe thead th {\n",
       "        text-align: right;\n",
       "    }\n",
       "</style>\n",
       "<table border=\"1\" class=\"dataframe\">\n",
       "  <thead>\n",
       "    <tr style=\"text-align: right;\">\n",
       "      <th></th>\n",
       "      <th>dt</th>\n",
       "      <th>price</th>\n",
       "      <th>change</th>\n",
       "      <th>change_percent</th>\n",
       "      <th>volume</th>\n",
       "      <th>ticker</th>\n",
       "      <th>season</th>\n",
       "      <th>время года</th>\n",
       "      <th>price_more_then_median</th>\n",
       "      <th>is_positive_trend</th>\n",
       "      <th>volume_2_cat</th>\n",
       "      <th>volume_2_cat_bool</th>\n",
       "    </tr>\n",
       "  </thead>\n",
       "  <tbody>\n",
       "    <tr>\n",
       "      <th>2</th>\n",
       "      <td>2023-01-05 16:00:00</td>\n",
       "      <td>3.66</td>\n",
       "      <td>0.17</td>\n",
       "      <td>0.05</td>\n",
       "      <td>5262860.00</td>\n",
       "      <td>SPCE</td>\n",
       "      <td>winter</td>\n",
       "      <td>зима</td>\n",
       "      <td>меньше медианы</td>\n",
       "      <td>неопределенность</td>\n",
       "      <td>Малый объем</td>\n",
       "      <td>False</td>\n",
       "    </tr>\n",
       "    <tr>\n",
       "      <th>3</th>\n",
       "      <td>2023-01-06 16:00:00</td>\n",
       "      <td>3.69</td>\n",
       "      <td>0.20</td>\n",
       "      <td>0.06</td>\n",
       "      <td>4090692.00</td>\n",
       "      <td>SPCE</td>\n",
       "      <td>winter</td>\n",
       "      <td>зима</td>\n",
       "      <td>меньше медианы</td>\n",
       "      <td>неопределенность</td>\n",
       "      <td>Малый объем</td>\n",
       "      <td>False</td>\n",
       "    </tr>\n",
       "    <tr>\n",
       "      <th>4</th>\n",
       "      <td>2023-01-09 16:00:00</td>\n",
       "      <td>3.91</td>\n",
       "      <td>0.42</td>\n",
       "      <td>0.12</td>\n",
       "      <td>10357731.00</td>\n",
       "      <td>SPCE</td>\n",
       "      <td>winter</td>\n",
       "      <td>зима</td>\n",
       "      <td>меньше медианы</td>\n",
       "      <td>неопределенность</td>\n",
       "      <td>Малый объем</td>\n",
       "      <td>False</td>\n",
       "    </tr>\n",
       "    <tr>\n",
       "      <th>5</th>\n",
       "      <td>2023-01-10 16:00:00</td>\n",
       "      <td>4.03</td>\n",
       "      <td>0.54</td>\n",
       "      <td>0.15</td>\n",
       "      <td>7897886.00</td>\n",
       "      <td>SPCE</td>\n",
       "      <td>winter</td>\n",
       "      <td>зима</td>\n",
       "      <td>меньше медианы</td>\n",
       "      <td>неопределенность</td>\n",
       "      <td>Малый объем</td>\n",
       "      <td>False</td>\n",
       "    </tr>\n",
       "    <tr>\n",
       "      <th>6</th>\n",
       "      <td>2023-01-11 16:00:00</td>\n",
       "      <td>4.29</td>\n",
       "      <td>0.80</td>\n",
       "      <td>0.23</td>\n",
       "      <td>8752365.00</td>\n",
       "      <td>SPCE</td>\n",
       "      <td>winter</td>\n",
       "      <td>зима</td>\n",
       "      <td>меньше медианы</td>\n",
       "      <td>неопределенность</td>\n",
       "      <td>Малый объем</td>\n",
       "      <td>False</td>\n",
       "    </tr>\n",
       "    <tr>\n",
       "      <th>7</th>\n",
       "      <td>2023-01-12 16:00:00</td>\n",
       "      <td>4.62</td>\n",
       "      <td>1.13</td>\n",
       "      <td>0.32</td>\n",
       "      <td>15111957.00</td>\n",
       "      <td>SPCE</td>\n",
       "      <td>winter</td>\n",
       "      <td>зима</td>\n",
       "      <td>меньше медианы</td>\n",
       "      <td>неопределенность</td>\n",
       "      <td>Малый объем</td>\n",
       "      <td>False</td>\n",
       "    </tr>\n",
       "    <tr>\n",
       "      <th>8</th>\n",
       "      <td>2023-01-13 16:00:00</td>\n",
       "      <td>5.19</td>\n",
       "      <td>1.70</td>\n",
       "      <td>0.49</td>\n",
       "      <td>46228829.00</td>\n",
       "      <td>SPCE</td>\n",
       "      <td>winter</td>\n",
       "      <td>зима</td>\n",
       "      <td>меньше медианы</td>\n",
       "      <td>неопределенность</td>\n",
       "      <td>Малый объем</td>\n",
       "      <td>False</td>\n",
       "    </tr>\n",
       "    <tr>\n",
       "      <th>9</th>\n",
       "      <td>2023-01-17 16:00:00</td>\n",
       "      <td>5.59</td>\n",
       "      <td>2.10</td>\n",
       "      <td>0.60</td>\n",
       "      <td>20166082.00</td>\n",
       "      <td>SPCE</td>\n",
       "      <td>winter</td>\n",
       "      <td>зима</td>\n",
       "      <td>меньше медианы</td>\n",
       "      <td>неопределенность</td>\n",
       "      <td>Малый объем</td>\n",
       "      <td>False</td>\n",
       "    </tr>\n",
       "    <tr>\n",
       "      <th>10</th>\n",
       "      <td>2023-01-18 16:00:00</td>\n",
       "      <td>4.91</td>\n",
       "      <td>1.42</td>\n",
       "      <td>0.41</td>\n",
       "      <td>18005284.00</td>\n",
       "      <td>SPCE</td>\n",
       "      <td>winter</td>\n",
       "      <td>зима</td>\n",
       "      <td>меньше медианы</td>\n",
       "      <td>неопределенность</td>\n",
       "      <td>Малый объем</td>\n",
       "      <td>False</td>\n",
       "    </tr>\n",
       "  </tbody>\n",
       "</table>\n",
       "</div>"
      ],
      "text/plain": [
       "                    dt  price  change  change_percent      volume ticker  \\\n",
       "2  2023-01-05 16:00:00   3.66    0.17            0.05  5262860.00   SPCE   \n",
       "3  2023-01-06 16:00:00   3.69    0.20            0.06  4090692.00   SPCE   \n",
       "4  2023-01-09 16:00:00   3.91    0.42            0.12 10357731.00   SPCE   \n",
       "5  2023-01-10 16:00:00   4.03    0.54            0.15  7897886.00   SPCE   \n",
       "6  2023-01-11 16:00:00   4.29    0.80            0.23  8752365.00   SPCE   \n",
       "7  2023-01-12 16:00:00   4.62    1.13            0.32 15111957.00   SPCE   \n",
       "8  2023-01-13 16:00:00   5.19    1.70            0.49 46228829.00   SPCE   \n",
       "9  2023-01-17 16:00:00   5.59    2.10            0.60 20166082.00   SPCE   \n",
       "10 2023-01-18 16:00:00   4.91    1.42            0.41 18005284.00   SPCE   \n",
       "\n",
       "    season время года price_more_then_median is_positive_trend volume_2_cat  \\\n",
       "2   winter       зима         меньше медианы  неопределенность  Малый объем   \n",
       "3   winter       зима         меньше медианы  неопределенность  Малый объем   \n",
       "4   winter       зима         меньше медианы  неопределенность  Малый объем   \n",
       "5   winter       зима         меньше медианы  неопределенность  Малый объем   \n",
       "6   winter       зима         меньше медианы  неопределенность  Малый объем   \n",
       "7   winter       зима         меньше медианы  неопределенность  Малый объем   \n",
       "8   winter       зима         меньше медианы  неопределенность  Малый объем   \n",
       "9   winter       зима         меньше медианы  неопределенность  Малый объем   \n",
       "10  winter       зима         меньше медианы  неопределенность  Малый объем   \n",
       "\n",
       "    volume_2_cat_bool  \n",
       "2               False  \n",
       "3               False  \n",
       "4               False  \n",
       "5               False  \n",
       "6               False  \n",
       "7               False  \n",
       "8               False  \n",
       "9               False  \n",
       "10              False  "
      ]
     },
     "execution_count": 46,
     "metadata": {},
     "output_type": "execute_result"
    }
   ],
   "source": [
    "stock_price.loc[2:10]"
   ]
  },
  {
   "cell_type": "code",
   "execution_count": 47,
   "id": "aa0c9371-b0db-47b3-ba39-0d14d871cf52",
   "metadata": {},
   "outputs": [
    {
     "data": {
      "text/plain": [
       "3.66"
      ]
     },
     "execution_count": 47,
     "metadata": {},
     "output_type": "execute_result"
    }
   ],
   "source": [
    "stock_price.at[2, 'price'] # берет только 1 значение, работает быстрее"
   ]
  },
  {
   "cell_type": "code",
   "execution_count": 48,
   "id": "b74ab955-ad8e-4a3a-93e6-239a190acd5b",
   "metadata": {},
   "outputs": [
    {
     "data": {
      "text/plain": [
       "0.17"
      ]
     },
     "execution_count": 48,
     "metadata": {},
     "output_type": "execute_result"
    }
   ],
   "source": [
    "stock_price.iat[2, 2]"
   ]
  },
  {
   "cell_type": "markdown",
   "id": "7a8ccd7c-2426-4916-b5b0-1d3f554669d2",
   "metadata": {},
   "source": [
    "### Итерация по DF"
   ]
  },
  {
   "cell_type": "code",
   "execution_count": 49,
   "id": "67a6c2f6-4b8b-4f0d-b424-6bb7c3ffce4b",
   "metadata": {},
   "outputs": [
    {
     "name": "stdout",
     "output_type": "stream",
     "text": [
      "Номер строки 0, ticker: SPCE, тип: <class 'pandas.core.series.Series'>\n",
      "Номер строки 1, ticker: SPCE, тип: <class 'pandas.core.series.Series'>\n",
      "Номер строки 2, ticker: SPCE, тип: <class 'pandas.core.series.Series'>\n"
     ]
    }
   ],
   "source": [
    "for i, row in stock_price.iterrows():\n",
    "    print(f'Номер строки {i}, ticker: {row.ticker}, тип: {type(row)}')\n",
    "    if i == 2:\n",
    "        break"
   ]
  },
  {
   "cell_type": "markdown",
   "id": "525af071-d323-461e-87f5-7229f207e1c8",
   "metadata": {},
   "source": [
    "### Фильтрация"
   ]
  },
  {
   "cell_type": "code",
   "execution_count": 50,
   "id": "b94c28b5-9f10-4cbf-92c8-85a51cbb70cf",
   "metadata": {},
   "outputs": [
    {
     "data": {
      "text/html": [
       "<div>\n",
       "<style scoped>\n",
       "    .dataframe tbody tr th:only-of-type {\n",
       "        vertical-align: middle;\n",
       "    }\n",
       "\n",
       "    .dataframe tbody tr th {\n",
       "        vertical-align: top;\n",
       "    }\n",
       "\n",
       "    .dataframe thead th {\n",
       "        text-align: right;\n",
       "    }\n",
       "</style>\n",
       "<table border=\"1\" class=\"dataframe\">\n",
       "  <thead>\n",
       "    <tr style=\"text-align: right;\">\n",
       "      <th></th>\n",
       "      <th>age</th>\n",
       "      <th>height</th>\n",
       "      <th>weight</th>\n",
       "    </tr>\n",
       "  </thead>\n",
       "  <tbody>\n",
       "    <tr>\n",
       "      <th>Bob</th>\n",
       "      <td>25</td>\n",
       "      <td>180</td>\n",
       "      <td>78</td>\n",
       "    </tr>\n",
       "  </tbody>\n",
       "</table>\n",
       "</div>"
      ],
      "text/plain": [
       "     age  height  weight\n",
       "Bob   25     180      78"
      ]
     },
     "execution_count": 50,
     "metadata": {},
     "output_type": "execute_result"
    }
   ],
   "source": [
    "people.filter(regex='b$', axis=0)"
   ]
  },
  {
   "cell_type": "code",
   "execution_count": 51,
   "id": "0bc5fa6a-4cfe-4e86-81b6-bd957543c45c",
   "metadata": {},
   "outputs": [
    {
     "data": {
      "text/html": [
       "<div>\n",
       "<style scoped>\n",
       "    .dataframe tbody tr th:only-of-type {\n",
       "        vertical-align: middle;\n",
       "    }\n",
       "\n",
       "    .dataframe tbody tr th {\n",
       "        vertical-align: top;\n",
       "    }\n",
       "\n",
       "    .dataframe thead th {\n",
       "        text-align: right;\n",
       "    }\n",
       "</style>\n",
       "<table border=\"1\" class=\"dataframe\">\n",
       "  <thead>\n",
       "    <tr style=\"text-align: right;\">\n",
       "      <th></th>\n",
       "      <th>age</th>\n",
       "    </tr>\n",
       "  </thead>\n",
       "  <tbody>\n",
       "    <tr>\n",
       "      <th>Bob</th>\n",
       "      <td>25</td>\n",
       "    </tr>\n",
       "    <tr>\n",
       "      <th>Ann</th>\n",
       "      <td>35</td>\n",
       "    </tr>\n",
       "    <tr>\n",
       "      <th>Max</th>\n",
       "      <td>7</td>\n",
       "    </tr>\n",
       "  </tbody>\n",
       "</table>\n",
       "</div>"
      ],
      "text/plain": [
       "     age\n",
       "Bob   25\n",
       "Ann   35\n",
       "Max    7"
      ]
     },
     "execution_count": 51,
     "metadata": {},
     "output_type": "execute_result"
    }
   ],
   "source": [
    "people.filter(like=r'ag')"
   ]
  },
  {
   "cell_type": "code",
   "execution_count": 52,
   "id": "2f0a904d-56e5-4d79-a478-3d1544d79f22",
   "metadata": {},
   "outputs": [
    {
     "data": {
      "text/html": [
       "<div>\n",
       "<style scoped>\n",
       "    .dataframe tbody tr th:only-of-type {\n",
       "        vertical-align: middle;\n",
       "    }\n",
       "\n",
       "    .dataframe tbody tr th {\n",
       "        vertical-align: top;\n",
       "    }\n",
       "\n",
       "    .dataframe thead th {\n",
       "        text-align: right;\n",
       "    }\n",
       "</style>\n",
       "<table border=\"1\" class=\"dataframe\">\n",
       "  <thead>\n",
       "    <tr style=\"text-align: right;\">\n",
       "      <th></th>\n",
       "      <th>age</th>\n",
       "      <th>height</th>\n",
       "      <th>weight</th>\n",
       "    </tr>\n",
       "  </thead>\n",
       "  <tbody>\n",
       "    <tr>\n",
       "      <th>Bob</th>\n",
       "      <td>25</td>\n",
       "      <td>180</td>\n",
       "      <td>78</td>\n",
       "    </tr>\n",
       "    <tr>\n",
       "      <th>Ann</th>\n",
       "      <td>35</td>\n",
       "      <td>190</td>\n",
       "      <td>95</td>\n",
       "    </tr>\n",
       "  </tbody>\n",
       "</table>\n",
       "</div>"
      ],
      "text/plain": [
       "     age  height  weight\n",
       "Bob   25     180      78\n",
       "Ann   35     190      95"
      ]
     },
     "execution_count": 52,
     "metadata": {},
     "output_type": "execute_result"
    }
   ],
   "source": [
    "people.loc[people['height'] > 130]"
   ]
  },
  {
   "cell_type": "code",
   "execution_count": 53,
   "id": "24688824-9a04-4313-abc5-53a66d33ee43",
   "metadata": {
    "scrolled": true
   },
   "outputs": [
    {
     "data": {
      "text/html": [
       "<div>\n",
       "<style scoped>\n",
       "    .dataframe tbody tr th:only-of-type {\n",
       "        vertical-align: middle;\n",
       "    }\n",
       "\n",
       "    .dataframe tbody tr th {\n",
       "        vertical-align: top;\n",
       "    }\n",
       "\n",
       "    .dataframe thead th {\n",
       "        text-align: right;\n",
       "    }\n",
       "</style>\n",
       "<table border=\"1\" class=\"dataframe\">\n",
       "  <thead>\n",
       "    <tr style=\"text-align: right;\">\n",
       "      <th></th>\n",
       "      <th>age</th>\n",
       "      <th>height</th>\n",
       "      <th>weight</th>\n",
       "    </tr>\n",
       "  </thead>\n",
       "  <tbody>\n",
       "    <tr>\n",
       "      <th>Ann</th>\n",
       "      <td>35</td>\n",
       "      <td>190</td>\n",
       "      <td>95</td>\n",
       "    </tr>\n",
       "  </tbody>\n",
       "</table>\n",
       "</div>"
      ],
      "text/plain": [
       "     age  height  weight\n",
       "Ann   35     190      95"
      ]
     },
     "execution_count": 53,
     "metadata": {},
     "output_type": "execute_result"
    }
   ],
   "source": [
    "height_and_weight_verification = (people.height > 130) & (people.weight > 80)\n",
    "people.loc[height_and_weight_verification]"
   ]
  },
  {
   "cell_type": "code",
   "execution_count": 54,
   "id": "cdfd36d9-9f1e-4a22-b431-e39cb92f0bf5",
   "metadata": {},
   "outputs": [
    {
     "data": {
      "text/html": [
       "<div>\n",
       "<style scoped>\n",
       "    .dataframe tbody tr th:only-of-type {\n",
       "        vertical-align: middle;\n",
       "    }\n",
       "\n",
       "    .dataframe tbody tr th {\n",
       "        vertical-align: top;\n",
       "    }\n",
       "\n",
       "    .dataframe thead th {\n",
       "        text-align: right;\n",
       "    }\n",
       "</style>\n",
       "<table border=\"1\" class=\"dataframe\">\n",
       "  <thead>\n",
       "    <tr style=\"text-align: right;\">\n",
       "      <th></th>\n",
       "      <th>dt</th>\n",
       "      <th>price</th>\n",
       "      <th>change</th>\n",
       "      <th>change_percent</th>\n",
       "      <th>volume</th>\n",
       "      <th>ticker</th>\n",
       "      <th>season</th>\n",
       "      <th>время года</th>\n",
       "      <th>price_more_then_median</th>\n",
       "      <th>is_positive_trend</th>\n",
       "      <th>volume_2_cat</th>\n",
       "      <th>volume_2_cat_bool</th>\n",
       "    </tr>\n",
       "  </thead>\n",
       "  <tbody>\n",
       "    <tr>\n",
       "      <th>0</th>\n",
       "      <td>2023-01-03 16:00:00</td>\n",
       "      <td>3.49</td>\n",
       "      <td>0.00</td>\n",
       "      <td>0.00</td>\n",
       "      <td>7668027.00</td>\n",
       "      <td>SPCE</td>\n",
       "      <td>winter</td>\n",
       "      <td>зима</td>\n",
       "      <td>меньше медианы</td>\n",
       "      <td>NaN</td>\n",
       "      <td>Малый объем</td>\n",
       "      <td>False</td>\n",
       "    </tr>\n",
       "    <tr>\n",
       "      <th>1</th>\n",
       "      <td>2023-01-04 16:00:00</td>\n",
       "      <td>3.64</td>\n",
       "      <td>0.15</td>\n",
       "      <td>0.04</td>\n",
       "      <td>4858879.00</td>\n",
       "      <td>SPCE</td>\n",
       "      <td>winter</td>\n",
       "      <td>зима</td>\n",
       "      <td>меньше медианы</td>\n",
       "      <td>неопределенность</td>\n",
       "      <td>Малый объем</td>\n",
       "      <td>False</td>\n",
       "    </tr>\n",
       "    <tr>\n",
       "      <th>2</th>\n",
       "      <td>2023-01-05 16:00:00</td>\n",
       "      <td>3.66</td>\n",
       "      <td>0.17</td>\n",
       "      <td>0.05</td>\n",
       "      <td>5262860.00</td>\n",
       "      <td>SPCE</td>\n",
       "      <td>winter</td>\n",
       "      <td>зима</td>\n",
       "      <td>меньше медианы</td>\n",
       "      <td>неопределенность</td>\n",
       "      <td>Малый объем</td>\n",
       "      <td>False</td>\n",
       "    </tr>\n",
       "    <tr>\n",
       "      <th>3</th>\n",
       "      <td>2023-01-06 16:00:00</td>\n",
       "      <td>3.69</td>\n",
       "      <td>0.20</td>\n",
       "      <td>0.06</td>\n",
       "      <td>4090692.00</td>\n",
       "      <td>SPCE</td>\n",
       "      <td>winter</td>\n",
       "      <td>зима</td>\n",
       "      <td>меньше медианы</td>\n",
       "      <td>неопределенность</td>\n",
       "      <td>Малый объем</td>\n",
       "      <td>False</td>\n",
       "    </tr>\n",
       "    <tr>\n",
       "      <th>4</th>\n",
       "      <td>2023-01-09 16:00:00</td>\n",
       "      <td>3.91</td>\n",
       "      <td>0.42</td>\n",
       "      <td>0.12</td>\n",
       "      <td>10357731.00</td>\n",
       "      <td>SPCE</td>\n",
       "      <td>winter</td>\n",
       "      <td>зима</td>\n",
       "      <td>меньше медианы</td>\n",
       "      <td>неопределенность</td>\n",
       "      <td>Малый объем</td>\n",
       "      <td>False</td>\n",
       "    </tr>\n",
       "  </tbody>\n",
       "</table>\n",
       "</div>"
      ],
      "text/plain": [
       "                   dt  price  change  change_percent      volume ticker  \\\n",
       "0 2023-01-03 16:00:00   3.49    0.00            0.00  7668027.00   SPCE   \n",
       "1 2023-01-04 16:00:00   3.64    0.15            0.04  4858879.00   SPCE   \n",
       "2 2023-01-05 16:00:00   3.66    0.17            0.05  5262860.00   SPCE   \n",
       "3 2023-01-06 16:00:00   3.69    0.20            0.06  4090692.00   SPCE   \n",
       "4 2023-01-09 16:00:00   3.91    0.42            0.12 10357731.00   SPCE   \n",
       "\n",
       "   season время года price_more_then_median is_positive_trend volume_2_cat  \\\n",
       "0  winter       зима         меньше медианы               NaN  Малый объем   \n",
       "1  winter       зима         меньше медианы  неопределенность  Малый объем   \n",
       "2  winter       зима         меньше медианы  неопределенность  Малый объем   \n",
       "3  winter       зима         меньше медианы  неопределенность  Малый объем   \n",
       "4  winter       зима         меньше медианы  неопределенность  Малый объем   \n",
       "\n",
       "   volume_2_cat_bool  \n",
       "0              False  \n",
       "1              False  \n",
       "2              False  \n",
       "3              False  \n",
       "4              False  "
      ]
     },
     "execution_count": 54,
     "metadata": {},
     "output_type": "execute_result"
    }
   ],
   "source": [
    "stock_price[stock_price['season'].isin(['summer', 'winter'])].head()"
   ]
  },
  {
   "cell_type": "code",
   "execution_count": 55,
   "id": "044218c1-8f85-49ef-9026-466c48d35010",
   "metadata": {},
   "outputs": [
    {
     "data": {
      "text/html": [
       "<div>\n",
       "<style scoped>\n",
       "    .dataframe tbody tr th:only-of-type {\n",
       "        vertical-align: middle;\n",
       "    }\n",
       "\n",
       "    .dataframe tbody tr th {\n",
       "        vertical-align: top;\n",
       "    }\n",
       "\n",
       "    .dataframe thead th {\n",
       "        text-align: right;\n",
       "    }\n",
       "</style>\n",
       "<table border=\"1\" class=\"dataframe\">\n",
       "  <thead>\n",
       "    <tr style=\"text-align: right;\">\n",
       "      <th></th>\n",
       "      <th>dt</th>\n",
       "      <th>price</th>\n",
       "      <th>change</th>\n",
       "      <th>change_percent</th>\n",
       "      <th>volume</th>\n",
       "      <th>ticker</th>\n",
       "      <th>season</th>\n",
       "      <th>время года</th>\n",
       "      <th>price_more_then_median</th>\n",
       "      <th>is_positive_trend</th>\n",
       "      <th>volume_2_cat</th>\n",
       "      <th>volume_2_cat_bool</th>\n",
       "    </tr>\n",
       "  </thead>\n",
       "  <tbody>\n",
       "    <tr>\n",
       "      <th>39</th>\n",
       "      <td>2023-03-01 16:00:00</td>\n",
       "      <td>4.73</td>\n",
       "      <td>1.24</td>\n",
       "      <td>0.36</td>\n",
       "      <td>18461814.00</td>\n",
       "      <td>SPCE</td>\n",
       "      <td>spring</td>\n",
       "      <td>весна</td>\n",
       "      <td>меньше медианы</td>\n",
       "      <td>неопределенность</td>\n",
       "      <td>Малый объем</td>\n",
       "      <td>False</td>\n",
       "    </tr>\n",
       "    <tr>\n",
       "      <th>40</th>\n",
       "      <td>2023-03-02 16:00:00</td>\n",
       "      <td>5.14</td>\n",
       "      <td>1.65</td>\n",
       "      <td>0.47</td>\n",
       "      <td>11817593.00</td>\n",
       "      <td>SPCE</td>\n",
       "      <td>spring</td>\n",
       "      <td>весна</td>\n",
       "      <td>меньше медианы</td>\n",
       "      <td>неопределенность</td>\n",
       "      <td>Малый объем</td>\n",
       "      <td>False</td>\n",
       "    </tr>\n",
       "    <tr>\n",
       "      <th>41</th>\n",
       "      <td>2023-03-03 16:00:00</td>\n",
       "      <td>5.50</td>\n",
       "      <td>2.01</td>\n",
       "      <td>0.58</td>\n",
       "      <td>11241951.00</td>\n",
       "      <td>SPCE</td>\n",
       "      <td>spring</td>\n",
       "      <td>весна</td>\n",
       "      <td>меньше медианы</td>\n",
       "      <td>неопределенность</td>\n",
       "      <td>Малый объем</td>\n",
       "      <td>False</td>\n",
       "    </tr>\n",
       "    <tr>\n",
       "      <th>42</th>\n",
       "      <td>2023-03-06 16:00:00</td>\n",
       "      <td>5.41</td>\n",
       "      <td>1.92</td>\n",
       "      <td>0.55</td>\n",
       "      <td>7699815.00</td>\n",
       "      <td>SPCE</td>\n",
       "      <td>spring</td>\n",
       "      <td>весна</td>\n",
       "      <td>меньше медианы</td>\n",
       "      <td>неопределенность</td>\n",
       "      <td>Малый объем</td>\n",
       "      <td>False</td>\n",
       "    </tr>\n",
       "    <tr>\n",
       "      <th>43</th>\n",
       "      <td>2023-03-07 16:00:00</td>\n",
       "      <td>5.31</td>\n",
       "      <td>1.82</td>\n",
       "      <td>0.52</td>\n",
       "      <td>6220768.00</td>\n",
       "      <td>SPCE</td>\n",
       "      <td>spring</td>\n",
       "      <td>весна</td>\n",
       "      <td>меньше медианы</td>\n",
       "      <td>неопределенность</td>\n",
       "      <td>Малый объем</td>\n",
       "      <td>False</td>\n",
       "    </tr>\n",
       "  </tbody>\n",
       "</table>\n",
       "</div>"
      ],
      "text/plain": [
       "                    dt  price  change  change_percent      volume ticker  \\\n",
       "39 2023-03-01 16:00:00   4.73    1.24            0.36 18461814.00   SPCE   \n",
       "40 2023-03-02 16:00:00   5.14    1.65            0.47 11817593.00   SPCE   \n",
       "41 2023-03-03 16:00:00   5.50    2.01            0.58 11241951.00   SPCE   \n",
       "42 2023-03-06 16:00:00   5.41    1.92            0.55  7699815.00   SPCE   \n",
       "43 2023-03-07 16:00:00   5.31    1.82            0.52  6220768.00   SPCE   \n",
       "\n",
       "    season время года price_more_then_median is_positive_trend volume_2_cat  \\\n",
       "39  spring      весна         меньше медианы  неопределенность  Малый объем   \n",
       "40  spring      весна         меньше медианы  неопределенность  Малый объем   \n",
       "41  spring      весна         меньше медианы  неопределенность  Малый объем   \n",
       "42  spring      весна         меньше медианы  неопределенность  Малый объем   \n",
       "43  spring      весна         меньше медианы  неопределенность  Малый объем   \n",
       "\n",
       "    volume_2_cat_bool  \n",
       "39              False  \n",
       "40              False  \n",
       "41              False  \n",
       "42              False  \n",
       "43              False  "
      ]
     },
     "execution_count": 55,
     "metadata": {},
     "output_type": "execute_result"
    }
   ],
   "source": [
    "stock_price[~stock_price['season'].isin(['summer', 'winter'])].head()"
   ]
  },
  {
   "cell_type": "markdown",
   "id": "0054f063-685d-45fb-afec-4d2687e992bb",
   "metadata": {},
   "source": [
    "### Изменение даннных"
   ]
  },
  {
   "cell_type": "code",
   "execution_count": 56,
   "id": "d97f18d1-2aaa-49b4-bf3b-3d562d1a288e",
   "metadata": {},
   "outputs": [
    {
     "data": {
      "text/html": [
       "<div>\n",
       "<style scoped>\n",
       "    .dataframe tbody tr th:only-of-type {\n",
       "        vertical-align: middle;\n",
       "    }\n",
       "\n",
       "    .dataframe tbody tr th {\n",
       "        vertical-align: top;\n",
       "    }\n",
       "\n",
       "    .dataframe thead th {\n",
       "        text-align: right;\n",
       "    }\n",
       "</style>\n",
       "<table border=\"1\" class=\"dataframe\">\n",
       "  <thead>\n",
       "    <tr style=\"text-align: right;\">\n",
       "      <th></th>\n",
       "      <th>age</th>\n",
       "      <th>height</th>\n",
       "      <th>weight</th>\n",
       "    </tr>\n",
       "  </thead>\n",
       "  <tbody>\n",
       "    <tr>\n",
       "      <th>Bob</th>\n",
       "      <td>25</td>\n",
       "      <td>180</td>\n",
       "      <td>78</td>\n",
       "    </tr>\n",
       "    <tr>\n",
       "      <th>Ann</th>\n",
       "      <td>35</td>\n",
       "      <td>190</td>\n",
       "      <td>150</td>\n",
       "    </tr>\n",
       "    <tr>\n",
       "      <th>Max</th>\n",
       "      <td>7</td>\n",
       "      <td>120</td>\n",
       "      <td>40</td>\n",
       "    </tr>\n",
       "  </tbody>\n",
       "</table>\n",
       "</div>"
      ],
      "text/plain": [
       "     age  height  weight\n",
       "Bob   25     180      78\n",
       "Ann   35     190     150\n",
       "Max    7     120      40"
      ]
     },
     "execution_count": 56,
     "metadata": {},
     "output_type": "execute_result"
    }
   ],
   "source": [
    "people.loc[height_and_weight_verification, 'weight'] = 150\n",
    "people"
   ]
  },
  {
   "cell_type": "code",
   "execution_count": 57,
   "id": "f10c0a5a-80c9-45ca-8c41-a9179bd27696",
   "metadata": {},
   "outputs": [],
   "source": [
    "def add_two(x):\n",
    "    return x + 2\n",
    "\n",
    "def difference_between_avg(row):\n",
    "    row.age -= avg_age\n",
    "    row.height -= avg_height\n",
    "    row.weight -= avg_weight\n",
    "    return row\n",
    "\n",
    "people['age'].apply(lambda x: x+2)\n",
    "people['weight'].map(add_two)\n",
    "avg_age = people.age.mean()\n",
    "avg_height = people.height.mean()\n",
    "avg_weight = people.weight.mean()\n",
    "\n",
    "people_dif = pd.DataFrame(columns=['dif_age', 'dif_height', 'dif_weight'])"
   ]
  },
  {
   "cell_type": "code",
   "execution_count": 58,
   "id": "970fbed6-92d3-4188-aa22-1dde0e307830",
   "metadata": {},
   "outputs": [],
   "source": [
    "people_dif[['dif_age', 'dif_height', 'dif_weight']] = people.apply(difference_between_avg, axis='columns')"
   ]
  },
  {
   "cell_type": "code",
   "execution_count": 59,
   "id": "6ce28889-2cf5-4940-a79e-65015706bb45",
   "metadata": {},
   "outputs": [
    {
     "data": {
      "text/html": [
       "<div>\n",
       "<style scoped>\n",
       "    .dataframe tbody tr th:only-of-type {\n",
       "        vertical-align: middle;\n",
       "    }\n",
       "\n",
       "    .dataframe tbody tr th {\n",
       "        vertical-align: top;\n",
       "    }\n",
       "\n",
       "    .dataframe thead th {\n",
       "        text-align: right;\n",
       "    }\n",
       "</style>\n",
       "<table border=\"1\" class=\"dataframe\">\n",
       "  <thead>\n",
       "    <tr style=\"text-align: right;\">\n",
       "      <th></th>\n",
       "      <th>dif_age</th>\n",
       "      <th>dif_height</th>\n",
       "      <th>dif_weight</th>\n",
       "    </tr>\n",
       "  </thead>\n",
       "  <tbody>\n",
       "    <tr>\n",
       "      <th>Bob</th>\n",
       "      <td>2.67</td>\n",
       "      <td>16.67</td>\n",
       "      <td>-11.33</td>\n",
       "    </tr>\n",
       "    <tr>\n",
       "      <th>Ann</th>\n",
       "      <td>12.67</td>\n",
       "      <td>26.67</td>\n",
       "      <td>60.67</td>\n",
       "    </tr>\n",
       "    <tr>\n",
       "      <th>Max</th>\n",
       "      <td>-15.33</td>\n",
       "      <td>-43.33</td>\n",
       "      <td>-49.33</td>\n",
       "    </tr>\n",
       "  </tbody>\n",
       "</table>\n",
       "</div>"
      ],
      "text/plain": [
       "     dif_age  dif_height  dif_weight\n",
       "Bob     2.67       16.67      -11.33\n",
       "Ann    12.67       26.67       60.67\n",
       "Max   -15.33      -43.33      -49.33"
      ]
     },
     "execution_count": 59,
     "metadata": {},
     "output_type": "execute_result"
    }
   ],
   "source": [
    "people_dif"
   ]
  },
  {
   "cell_type": "code",
   "execution_count": 60,
   "id": "82afb4a0-fbf0-4a2e-adca-3fc79c0bc192",
   "metadata": {},
   "outputs": [
    {
     "data": {
      "text/html": [
       "<div>\n",
       "<style scoped>\n",
       "    .dataframe tbody tr th:only-of-type {\n",
       "        vertical-align: middle;\n",
       "    }\n",
       "\n",
       "    .dataframe tbody tr th {\n",
       "        vertical-align: top;\n",
       "    }\n",
       "\n",
       "    .dataframe thead th {\n",
       "        text-align: right;\n",
       "    }\n",
       "</style>\n",
       "<table border=\"1\" class=\"dataframe\">\n",
       "  <thead>\n",
       "    <tr style=\"text-align: right;\">\n",
       "      <th></th>\n",
       "      <th>dif_age</th>\n",
       "      <th>dif_height</th>\n",
       "      <th>dif_weight</th>\n",
       "    </tr>\n",
       "  </thead>\n",
       "  <tbody>\n",
       "    <tr>\n",
       "      <th>Bob</th>\n",
       "      <td>102.67</td>\n",
       "      <td>116.67</td>\n",
       "      <td>88.67</td>\n",
       "    </tr>\n",
       "    <tr>\n",
       "      <th>Ann</th>\n",
       "      <td>112.67</td>\n",
       "      <td>126.67</td>\n",
       "      <td>160.67</td>\n",
       "    </tr>\n",
       "    <tr>\n",
       "      <th>Max</th>\n",
       "      <td>84.67</td>\n",
       "      <td>56.67</td>\n",
       "      <td>50.67</td>\n",
       "    </tr>\n",
       "  </tbody>\n",
       "</table>\n",
       "</div>"
      ],
      "text/plain": [
       "     dif_age  dif_height  dif_weight\n",
       "Bob   102.67      116.67       88.67\n",
       "Ann   112.67      126.67      160.67\n",
       "Max    84.67       56.67       50.67"
      ]
     },
     "execution_count": 60,
     "metadata": {},
     "output_type": "execute_result"
    }
   ],
   "source": [
    "people_dif.applymap(lambda x: x + 100)"
   ]
  },
  {
   "cell_type": "code",
   "execution_count": 61,
   "id": "9296ea92-4605-493a-80ef-eaf3055d17d9",
   "metadata": {},
   "outputs": [
    {
     "data": {
      "text/html": [
       "<div>\n",
       "<style scoped>\n",
       "    .dataframe tbody tr th:only-of-type {\n",
       "        vertical-align: middle;\n",
       "    }\n",
       "\n",
       "    .dataframe tbody tr th {\n",
       "        vertical-align: top;\n",
       "    }\n",
       "\n",
       "    .dataframe thead th {\n",
       "        text-align: right;\n",
       "    }\n",
       "</style>\n",
       "<table border=\"1\" class=\"dataframe\">\n",
       "  <thead>\n",
       "    <tr style=\"text-align: right;\">\n",
       "      <th></th>\n",
       "      <th>age</th>\n",
       "      <th>height</th>\n",
       "      <th>weight</th>\n",
       "    </tr>\n",
       "  </thead>\n",
       "  <tbody>\n",
       "    <tr>\n",
       "      <th>Bob</th>\n",
       "      <td>25</td>\n",
       "      <td>180</td>\n",
       "      <td>78</td>\n",
       "    </tr>\n",
       "    <tr>\n",
       "      <th>Ann</th>\n",
       "      <td>35</td>\n",
       "      <td>190</td>\n",
       "      <td>150</td>\n",
       "    </tr>\n",
       "    <tr>\n",
       "      <th>Max</th>\n",
       "      <td>7</td>\n",
       "      <td>120</td>\n",
       "      <td>40</td>\n",
       "    </tr>\n",
       "  </tbody>\n",
       "</table>\n",
       "</div>"
      ],
      "text/plain": [
       "     age  height  weight\n",
       "Bob   25     180      78\n",
       "Ann   35     190     150\n",
       "Max    7     120      40"
      ]
     },
     "execution_count": 61,
     "metadata": {},
     "output_type": "execute_result"
    }
   ],
   "source": [
    "people"
   ]
  },
  {
   "cell_type": "markdown",
   "id": "d35ea9df-0e52-470b-8fb8-2309e5279369",
   "metadata": {},
   "source": [
    "### MAP"
   ]
  },
  {
   "cell_type": "code",
   "execution_count": 62,
   "id": "24cadb70-c955-4498-a099-5f0e566b0aa5",
   "metadata": {},
   "outputs": [
    {
     "data": {
      "text/plain": [
       "Bob    sdf\n",
       "Ann     45\n",
       "Max      8\n",
       "Name: age, dtype: object"
      ]
     },
     "execution_count": 62,
     "metadata": {},
     "output_type": "execute_result"
    }
   ],
   "source": [
    "d = {35: 45, 7: 8, 25: 'sdf'}\n",
    "people.age.map(d)\n"
   ]
  },
  {
   "cell_type": "markdown",
   "id": "5bb1789f-915d-4586-81c0-387dd20c1714",
   "metadata": {
    "jp-MarkdownHeadingCollapsed": true
   },
   "source": [
    "### Shift"
   ]
  },
  {
   "cell_type": "code",
   "execution_count": 63,
   "id": "d6568e1a-f9a9-49bf-8864-344e8d81ba4e",
   "metadata": {},
   "outputs": [
    {
     "data": {
      "text/html": [
       "<div>\n",
       "<style scoped>\n",
       "    .dataframe tbody tr th:only-of-type {\n",
       "        vertical-align: middle;\n",
       "    }\n",
       "\n",
       "    .dataframe tbody tr th {\n",
       "        vertical-align: top;\n",
       "    }\n",
       "\n",
       "    .dataframe thead th {\n",
       "        text-align: right;\n",
       "    }\n",
       "</style>\n",
       "<table border=\"1\" class=\"dataframe\">\n",
       "  <thead>\n",
       "    <tr style=\"text-align: right;\">\n",
       "      <th></th>\n",
       "      <th>dt</th>\n",
       "      <th>price</th>\n",
       "      <th>change</th>\n",
       "      <th>change_percent</th>\n",
       "      <th>volume</th>\n",
       "      <th>ticker</th>\n",
       "      <th>season</th>\n",
       "      <th>время года</th>\n",
       "      <th>price_more_then_median</th>\n",
       "      <th>is_positive_trend</th>\n",
       "      <th>volume_2_cat</th>\n",
       "      <th>volume_2_cat_bool</th>\n",
       "    </tr>\n",
       "  </thead>\n",
       "  <tbody>\n",
       "    <tr>\n",
       "      <th>0</th>\n",
       "      <td>2023-01-03 16:00:00</td>\n",
       "      <td>3.49</td>\n",
       "      <td>0.00</td>\n",
       "      <td>0.00</td>\n",
       "      <td>7668027.00</td>\n",
       "      <td>SPCE</td>\n",
       "      <td>winter</td>\n",
       "      <td>зима</td>\n",
       "      <td>меньше медианы</td>\n",
       "      <td>NaN</td>\n",
       "      <td>Малый объем</td>\n",
       "      <td>False</td>\n",
       "    </tr>\n",
       "    <tr>\n",
       "      <th>1</th>\n",
       "      <td>2023-01-04 16:00:00</td>\n",
       "      <td>3.64</td>\n",
       "      <td>0.15</td>\n",
       "      <td>0.04</td>\n",
       "      <td>4858879.00</td>\n",
       "      <td>SPCE</td>\n",
       "      <td>winter</td>\n",
       "      <td>зима</td>\n",
       "      <td>меньше медианы</td>\n",
       "      <td>неопределенность</td>\n",
       "      <td>Малый объем</td>\n",
       "      <td>False</td>\n",
       "    </tr>\n",
       "  </tbody>\n",
       "</table>\n",
       "</div>"
      ],
      "text/plain": [
       "                   dt  price  change  change_percent     volume ticker  \\\n",
       "0 2023-01-03 16:00:00   3.49    0.00            0.00 7668027.00   SPCE   \n",
       "1 2023-01-04 16:00:00   3.64    0.15            0.04 4858879.00   SPCE   \n",
       "\n",
       "   season время года price_more_then_median is_positive_trend volume_2_cat  \\\n",
       "0  winter       зима         меньше медианы               NaN  Малый объем   \n",
       "1  winter       зима         меньше медианы  неопределенность  Малый объем   \n",
       "\n",
       "   volume_2_cat_bool  \n",
       "0              False  \n",
       "1              False  "
      ]
     },
     "execution_count": 63,
     "metadata": {},
     "output_type": "execute_result"
    }
   ],
   "source": [
    "stock_price.head(2)"
   ]
  },
  {
   "cell_type": "code",
   "execution_count": 64,
   "id": "f119d1c0-0363-46d2-9323-bd6d255a0278",
   "metadata": {},
   "outputs": [
    {
     "ename": "KeyError",
     "evalue": "'month'",
     "output_type": "error",
     "traceback": [
      "\u001b[0;31m---------------------------------------------------------------------------\u001b[0m",
      "\u001b[0;31mKeyError\u001b[0m                                  Traceback (most recent call last)",
      "Cell \u001b[0;32mIn[64], line 2\u001b[0m\n\u001b[1;32m      1\u001b[0m aapl \u001b[38;5;241m=\u001b[39m stock_price\u001b[38;5;241m.\u001b[39mloc[stock_price[\u001b[38;5;124m'\u001b[39m\u001b[38;5;124mticker\u001b[39m\u001b[38;5;124m'\u001b[39m] \u001b[38;5;241m==\u001b[39m \u001b[38;5;124m'\u001b[39m\u001b[38;5;124mAAPL\u001b[39m\u001b[38;5;124m'\u001b[39m]\n\u001b[0;32m----> 2\u001b[0m aapl \u001b[38;5;241m=\u001b[39m \u001b[43maapl\u001b[49m\u001b[38;5;241;43m.\u001b[39;49m\u001b[43mgroupby\u001b[49m\u001b[43m(\u001b[49m\u001b[38;5;124;43m'\u001b[39;49m\u001b[38;5;124;43mmonth\u001b[39;49m\u001b[38;5;124;43m'\u001b[39;49m\u001b[43m)\u001b[49m[[\u001b[38;5;124m'\u001b[39m\u001b[38;5;124mprice\u001b[39m\u001b[38;5;124m'\u001b[39m]]\u001b[38;5;241m.\u001b[39msum()\u001b[38;5;241m.\u001b[39mreset_index()\n\u001b[1;32m      3\u001b[0m aapl\u001b[38;5;241m.\u001b[39mhead()\n",
      "File \u001b[0;32m~/anaconda3/envs/pandas_edu/lib/python3.12/site-packages/pandas/core/frame.py:8869\u001b[0m, in \u001b[0;36mDataFrame.groupby\u001b[0;34m(self, by, axis, level, as_index, sort, group_keys, observed, dropna)\u001b[0m\n\u001b[1;32m   8866\u001b[0m \u001b[38;5;28;01mif\u001b[39;00m level \u001b[38;5;129;01mis\u001b[39;00m \u001b[38;5;28;01mNone\u001b[39;00m \u001b[38;5;129;01mand\u001b[39;00m by \u001b[38;5;129;01mis\u001b[39;00m \u001b[38;5;28;01mNone\u001b[39;00m:\n\u001b[1;32m   8867\u001b[0m     \u001b[38;5;28;01mraise\u001b[39;00m \u001b[38;5;167;01mTypeError\u001b[39;00m(\u001b[38;5;124m\"\u001b[39m\u001b[38;5;124mYou have to supply one of \u001b[39m\u001b[38;5;124m'\u001b[39m\u001b[38;5;124mby\u001b[39m\u001b[38;5;124m'\u001b[39m\u001b[38;5;124m and \u001b[39m\u001b[38;5;124m'\u001b[39m\u001b[38;5;124mlevel\u001b[39m\u001b[38;5;124m'\u001b[39m\u001b[38;5;124m\"\u001b[39m)\n\u001b[0;32m-> 8869\u001b[0m \u001b[38;5;28;01mreturn\u001b[39;00m \u001b[43mDataFrameGroupBy\u001b[49m\u001b[43m(\u001b[49m\n\u001b[1;32m   8870\u001b[0m \u001b[43m    \u001b[49m\u001b[43mobj\u001b[49m\u001b[38;5;241;43m=\u001b[39;49m\u001b[38;5;28;43mself\u001b[39;49m\u001b[43m,\u001b[49m\n\u001b[1;32m   8871\u001b[0m \u001b[43m    \u001b[49m\u001b[43mkeys\u001b[49m\u001b[38;5;241;43m=\u001b[39;49m\u001b[43mby\u001b[49m\u001b[43m,\u001b[49m\n\u001b[1;32m   8872\u001b[0m \u001b[43m    \u001b[49m\u001b[43maxis\u001b[49m\u001b[38;5;241;43m=\u001b[39;49m\u001b[43maxis\u001b[49m\u001b[43m,\u001b[49m\n\u001b[1;32m   8873\u001b[0m \u001b[43m    \u001b[49m\u001b[43mlevel\u001b[49m\u001b[38;5;241;43m=\u001b[39;49m\u001b[43mlevel\u001b[49m\u001b[43m,\u001b[49m\n\u001b[1;32m   8874\u001b[0m \u001b[43m    \u001b[49m\u001b[43mas_index\u001b[49m\u001b[38;5;241;43m=\u001b[39;49m\u001b[43mas_index\u001b[49m\u001b[43m,\u001b[49m\n\u001b[1;32m   8875\u001b[0m \u001b[43m    \u001b[49m\u001b[43msort\u001b[49m\u001b[38;5;241;43m=\u001b[39;49m\u001b[43msort\u001b[49m\u001b[43m,\u001b[49m\n\u001b[1;32m   8876\u001b[0m \u001b[43m    \u001b[49m\u001b[43mgroup_keys\u001b[49m\u001b[38;5;241;43m=\u001b[39;49m\u001b[43mgroup_keys\u001b[49m\u001b[43m,\u001b[49m\n\u001b[1;32m   8877\u001b[0m \u001b[43m    \u001b[49m\u001b[43mobserved\u001b[49m\u001b[38;5;241;43m=\u001b[39;49m\u001b[43mobserved\u001b[49m\u001b[43m,\u001b[49m\n\u001b[1;32m   8878\u001b[0m \u001b[43m    \u001b[49m\u001b[43mdropna\u001b[49m\u001b[38;5;241;43m=\u001b[39;49m\u001b[43mdropna\u001b[49m\u001b[43m,\u001b[49m\n\u001b[1;32m   8879\u001b[0m \u001b[43m\u001b[49m\u001b[43m)\u001b[49m\n",
      "File \u001b[0;32m~/anaconda3/envs/pandas_edu/lib/python3.12/site-packages/pandas/core/groupby/groupby.py:1278\u001b[0m, in \u001b[0;36mGroupBy.__init__\u001b[0;34m(self, obj, keys, axis, level, grouper, exclusions, selection, as_index, sort, group_keys, observed, dropna)\u001b[0m\n\u001b[1;32m   1275\u001b[0m \u001b[38;5;28mself\u001b[39m\u001b[38;5;241m.\u001b[39mdropna \u001b[38;5;241m=\u001b[39m dropna\n\u001b[1;32m   1277\u001b[0m \u001b[38;5;28;01mif\u001b[39;00m grouper \u001b[38;5;129;01mis\u001b[39;00m \u001b[38;5;28;01mNone\u001b[39;00m:\n\u001b[0;32m-> 1278\u001b[0m     grouper, exclusions, obj \u001b[38;5;241m=\u001b[39m \u001b[43mget_grouper\u001b[49m\u001b[43m(\u001b[49m\n\u001b[1;32m   1279\u001b[0m \u001b[43m        \u001b[49m\u001b[43mobj\u001b[49m\u001b[43m,\u001b[49m\n\u001b[1;32m   1280\u001b[0m \u001b[43m        \u001b[49m\u001b[43mkeys\u001b[49m\u001b[43m,\u001b[49m\n\u001b[1;32m   1281\u001b[0m \u001b[43m        \u001b[49m\u001b[43maxis\u001b[49m\u001b[38;5;241;43m=\u001b[39;49m\u001b[43maxis\u001b[49m\u001b[43m,\u001b[49m\n\u001b[1;32m   1282\u001b[0m \u001b[43m        \u001b[49m\u001b[43mlevel\u001b[49m\u001b[38;5;241;43m=\u001b[39;49m\u001b[43mlevel\u001b[49m\u001b[43m,\u001b[49m\n\u001b[1;32m   1283\u001b[0m \u001b[43m        \u001b[49m\u001b[43msort\u001b[49m\u001b[38;5;241;43m=\u001b[39;49m\u001b[43msort\u001b[49m\u001b[43m,\u001b[49m\n\u001b[1;32m   1284\u001b[0m \u001b[43m        \u001b[49m\u001b[43mobserved\u001b[49m\u001b[38;5;241;43m=\u001b[39;49m\u001b[38;5;28;43;01mFalse\u001b[39;49;00m\u001b[43m \u001b[49m\u001b[38;5;28;43;01mif\u001b[39;49;00m\u001b[43m \u001b[49m\u001b[43mobserved\u001b[49m\u001b[43m \u001b[49m\u001b[38;5;129;43;01mis\u001b[39;49;00m\u001b[43m \u001b[49m\u001b[43mlib\u001b[49m\u001b[38;5;241;43m.\u001b[39;49m\u001b[43mno_default\u001b[49m\u001b[43m \u001b[49m\u001b[38;5;28;43;01melse\u001b[39;49;00m\u001b[43m \u001b[49m\u001b[43mobserved\u001b[49m\u001b[43m,\u001b[49m\n\u001b[1;32m   1285\u001b[0m \u001b[43m        \u001b[49m\u001b[43mdropna\u001b[49m\u001b[38;5;241;43m=\u001b[39;49m\u001b[38;5;28;43mself\u001b[39;49m\u001b[38;5;241;43m.\u001b[39;49m\u001b[43mdropna\u001b[49m\u001b[43m,\u001b[49m\n\u001b[1;32m   1286\u001b[0m \u001b[43m    \u001b[49m\u001b[43m)\u001b[49m\n\u001b[1;32m   1288\u001b[0m \u001b[38;5;28;01mif\u001b[39;00m observed \u001b[38;5;129;01mis\u001b[39;00m lib\u001b[38;5;241m.\u001b[39mno_default:\n\u001b[1;32m   1289\u001b[0m     \u001b[38;5;28;01mif\u001b[39;00m \u001b[38;5;28many\u001b[39m(ping\u001b[38;5;241m.\u001b[39m_passed_categorical \u001b[38;5;28;01mfor\u001b[39;00m ping \u001b[38;5;129;01min\u001b[39;00m grouper\u001b[38;5;241m.\u001b[39mgroupings):\n",
      "File \u001b[0;32m~/anaconda3/envs/pandas_edu/lib/python3.12/site-packages/pandas/core/groupby/grouper.py:1009\u001b[0m, in \u001b[0;36mget_grouper\u001b[0;34m(obj, key, axis, level, sort, observed, validate, dropna)\u001b[0m\n\u001b[1;32m   1007\u001b[0m         in_axis, level, gpr \u001b[38;5;241m=\u001b[39m \u001b[38;5;28;01mFalse\u001b[39;00m, gpr, \u001b[38;5;28;01mNone\u001b[39;00m\n\u001b[1;32m   1008\u001b[0m     \u001b[38;5;28;01melse\u001b[39;00m:\n\u001b[0;32m-> 1009\u001b[0m         \u001b[38;5;28;01mraise\u001b[39;00m \u001b[38;5;167;01mKeyError\u001b[39;00m(gpr)\n\u001b[1;32m   1010\u001b[0m \u001b[38;5;28;01melif\u001b[39;00m \u001b[38;5;28misinstance\u001b[39m(gpr, Grouper) \u001b[38;5;129;01mand\u001b[39;00m gpr\u001b[38;5;241m.\u001b[39mkey \u001b[38;5;129;01mis\u001b[39;00m \u001b[38;5;129;01mnot\u001b[39;00m \u001b[38;5;28;01mNone\u001b[39;00m:\n\u001b[1;32m   1011\u001b[0m     \u001b[38;5;66;03m# Add key to exclusions\u001b[39;00m\n\u001b[1;32m   1012\u001b[0m     exclusions\u001b[38;5;241m.\u001b[39madd(gpr\u001b[38;5;241m.\u001b[39mkey)\n",
      "\u001b[0;31mKeyError\u001b[0m: 'month'"
     ]
    }
   ],
   "source": [
    "aapl = stock_price.loc[stock_price['ticker'] == 'AAPL']\n",
    "aapl = aapl.groupby('month')[['price']].sum().reset_index()\n",
    "aapl.head()"
   ]
  },
  {
   "cell_type": "code",
   "execution_count": null,
   "id": "14cdd2c0-ea7e-4822-9799-ad8c1ed25f75",
   "metadata": {},
   "outputs": [],
   "source": [
    "aapl['price_shift'] = aapl.price.shift(1)\n",
    "aapl"
   ]
  },
  {
   "cell_type": "code",
   "execution_count": null,
   "id": "4ea4feea-5d8d-4354-9593-36b3a95ebdc3",
   "metadata": {},
   "outputs": [],
   "source": [
    "aapl['price_d1'] = (aapl.price - aapl.price_shift) / aapl.price_shift\n",
    "aapl"
   ]
  },
  {
   "cell_type": "markdown",
   "id": "b372bea5-f79b-4e2e-8f83-2ec9000c4e78",
   "metadata": {},
   "source": [
    "### PCTchange"
   ]
  },
  {
   "cell_type": "code",
   "execution_count": null,
   "id": "46b990e4-4160-407a-94aa-156b961aaca8",
   "metadata": {},
   "outputs": [],
   "source": [
    "aapl['price_d2'] = aapl.price.pct_change(1)\n",
    "aapl"
   ]
  },
  {
   "cell_type": "code",
   "execution_count": null,
   "id": "8c26a0a7-cc98-4fb8-b397-61428ab27a7c",
   "metadata": {},
   "outputs": [],
   "source": []
  },
  {
   "cell_type": "markdown",
   "id": "eaa4a125-a10c-4a2e-af90-f939d30fd85b",
   "metadata": {},
   "source": [
    "### Merge"
   ]
  },
  {
   "cell_type": "code",
   "execution_count": null,
   "id": "10b060c7-825d-45b2-91a1-d6828cde0aae",
   "metadata": {},
   "outputs": [],
   "source": [
    "spce = stock_price.loc[stock_price['ticker'] == 'SPCE']\n",
    "print(spce.shape)\n",
    "amzn = stock_price.loc[stock_price['ticker'] == 'AMZN']\n",
    "print(amzn.shape)\n",
    "\n",
    "spce.merge(amzn, on='dt').shape"
   ]
  },
  {
   "cell_type": "markdown",
   "id": "59b92b98-b9e1-4d59-b8d7-f65583f6c134",
   "metadata": {},
   "source": [
    "### Работа со временем"
   ]
  },
  {
   "cell_type": "code",
   "execution_count": null,
   "id": "b72f5a78-b6f3-41e7-92ef-352ba5b89ec1",
   "metadata": {},
   "outputs": [],
   "source": [
    "stock_price['dt'] = pd.to_datetime(stock_price.dt)\n",
    "stock_price.dtypes"
   ]
  },
  {
   "cell_type": "code",
   "execution_count": null,
   "id": "b9a3dadd-3772-44a3-ae50-3cbabf0ee7f3",
   "metadata": {},
   "outputs": [],
   "source": [
    "stock_price['dt'].dt.day_of_week\n",
    "stock_price['dt'].dt.day\n",
    "stock_price['dt'].dt.year\n",
    "stock_price['dt'].dt.month\n",
    "stock_price['dt'].dt.day_of_year\n",
    "stock_price['dt'].dt.day_of_week\n",
    "stock_price['dt'].dt.days_in_month\n",
    "stock_price['dt'].dt.day_name()"
   ]
  },
  {
   "cell_type": "code",
   "execution_count": null,
   "id": "8f2303bb-f3b6-45e9-804a-9da99626a73b",
   "metadata": {},
   "outputs": [],
   "source": [
    "stock_price['dt'].dt.strftime(\"%d.%m.%Y %M:%H:%S\")"
   ]
  },
  {
   "cell_type": "code",
   "execution_count": null,
   "id": "cb9c9d0f-cee2-4a36-af65-b615df3e3494",
   "metadata": {},
   "outputs": [],
   "source": [
    "stock_price['date'] = stock_price['dt'].dt.date"
   ]
  },
  {
   "cell_type": "code",
   "execution_count": null,
   "id": "0a9062a2-a9f6-443a-96a4-ee3770f278b5",
   "metadata": {},
   "outputs": [],
   "source": [
    "stock_price['time'] = stock_price.dt.dt.time"
   ]
  },
  {
   "cell_type": "code",
   "execution_count": null,
   "id": "283f97f7-3327-41c9-99a6-936210960220",
   "metadata": {},
   "outputs": [],
   "source": [
    "stock_price['month'] = stock_price.dt.dt.month"
   ]
  },
  {
   "cell_type": "code",
   "execution_count": null,
   "id": "e3968054-f207-4821-a0af-79b1fce549f1",
   "metadata": {},
   "outputs": [],
   "source": [
    "stock_price['week'] = stock_price.dt.dt.isocalendar().week"
   ]
  },
  {
   "cell_type": "code",
   "execution_count": 76,
   "id": "35b2f603-b1b4-4dee-95fc-5875a7320995",
   "metadata": {},
   "outputs": [
    {
     "data": {
      "text/html": [
       "<div>\n",
       "<style scoped>\n",
       "    .dataframe tbody tr th:only-of-type {\n",
       "        vertical-align: middle;\n",
       "    }\n",
       "\n",
       "    .dataframe tbody tr th {\n",
       "        vertical-align: top;\n",
       "    }\n",
       "\n",
       "    .dataframe thead th {\n",
       "        text-align: right;\n",
       "    }\n",
       "</style>\n",
       "<table border=\"1\" class=\"dataframe\">\n",
       "  <thead>\n",
       "    <tr style=\"text-align: right;\">\n",
       "      <th></th>\n",
       "      <th>dt</th>\n",
       "      <th>price</th>\n",
       "      <th>change</th>\n",
       "      <th>change_percent</th>\n",
       "      <th>volume</th>\n",
       "      <th>ticker</th>\n",
       "      <th>season</th>\n",
       "      <th>время года</th>\n",
       "      <th>price_more_then_median</th>\n",
       "      <th>is_positive_trend</th>\n",
       "      <th>volume_2_cat</th>\n",
       "      <th>volume_2_cat_bool</th>\n",
       "    </tr>\n",
       "  </thead>\n",
       "  <tbody>\n",
       "    <tr>\n",
       "      <th>0</th>\n",
       "      <td>2023-01-03 16:00:00</td>\n",
       "      <td>3.49</td>\n",
       "      <td>0.00</td>\n",
       "      <td>0.00</td>\n",
       "      <td>7668027.00</td>\n",
       "      <td>SPCE</td>\n",
       "      <td>winter</td>\n",
       "      <td>зима</td>\n",
       "      <td>меньше медианы</td>\n",
       "      <td>NaN</td>\n",
       "      <td>Малый объем</td>\n",
       "      <td>False</td>\n",
       "    </tr>\n",
       "    <tr>\n",
       "      <th>1</th>\n",
       "      <td>2023-01-04 16:00:00</td>\n",
       "      <td>3.64</td>\n",
       "      <td>0.15</td>\n",
       "      <td>0.04</td>\n",
       "      <td>4858879.00</td>\n",
       "      <td>SPCE</td>\n",
       "      <td>winter</td>\n",
       "      <td>зима</td>\n",
       "      <td>меньше медианы</td>\n",
       "      <td>неопределенность</td>\n",
       "      <td>Малый объем</td>\n",
       "      <td>False</td>\n",
       "    </tr>\n",
       "    <tr>\n",
       "      <th>2</th>\n",
       "      <td>2023-01-05 16:00:00</td>\n",
       "      <td>3.66</td>\n",
       "      <td>0.17</td>\n",
       "      <td>0.05</td>\n",
       "      <td>5262860.00</td>\n",
       "      <td>SPCE</td>\n",
       "      <td>winter</td>\n",
       "      <td>зима</td>\n",
       "      <td>меньше медианы</td>\n",
       "      <td>неопределенность</td>\n",
       "      <td>Малый объем</td>\n",
       "      <td>False</td>\n",
       "    </tr>\n",
       "    <tr>\n",
       "      <th>3</th>\n",
       "      <td>2023-01-06 16:00:00</td>\n",
       "      <td>3.69</td>\n",
       "      <td>0.20</td>\n",
       "      <td>0.06</td>\n",
       "      <td>4090692.00</td>\n",
       "      <td>SPCE</td>\n",
       "      <td>winter</td>\n",
       "      <td>зима</td>\n",
       "      <td>меньше медианы</td>\n",
       "      <td>неопределенность</td>\n",
       "      <td>Малый объем</td>\n",
       "      <td>False</td>\n",
       "    </tr>\n",
       "    <tr>\n",
       "      <th>4</th>\n",
       "      <td>2023-01-09 16:00:00</td>\n",
       "      <td>3.91</td>\n",
       "      <td>0.42</td>\n",
       "      <td>0.12</td>\n",
       "      <td>10357731.00</td>\n",
       "      <td>SPCE</td>\n",
       "      <td>winter</td>\n",
       "      <td>зима</td>\n",
       "      <td>меньше медианы</td>\n",
       "      <td>неопределенность</td>\n",
       "      <td>Малый объем</td>\n",
       "      <td>False</td>\n",
       "    </tr>\n",
       "    <tr>\n",
       "      <th>5</th>\n",
       "      <td>2023-01-10 16:00:00</td>\n",
       "      <td>4.03</td>\n",
       "      <td>0.54</td>\n",
       "      <td>0.15</td>\n",
       "      <td>7897886.00</td>\n",
       "      <td>SPCE</td>\n",
       "      <td>winter</td>\n",
       "      <td>зима</td>\n",
       "      <td>меньше медианы</td>\n",
       "      <td>неопределенность</td>\n",
       "      <td>Малый объем</td>\n",
       "      <td>False</td>\n",
       "    </tr>\n",
       "    <tr>\n",
       "      <th>6</th>\n",
       "      <td>2023-01-11 16:00:00</td>\n",
       "      <td>4.29</td>\n",
       "      <td>0.80</td>\n",
       "      <td>0.23</td>\n",
       "      <td>8752365.00</td>\n",
       "      <td>SPCE</td>\n",
       "      <td>winter</td>\n",
       "      <td>зима</td>\n",
       "      <td>меньше медианы</td>\n",
       "      <td>неопределенность</td>\n",
       "      <td>Малый объем</td>\n",
       "      <td>False</td>\n",
       "    </tr>\n",
       "    <tr>\n",
       "      <th>7</th>\n",
       "      <td>2023-01-12 16:00:00</td>\n",
       "      <td>4.62</td>\n",
       "      <td>1.13</td>\n",
       "      <td>0.32</td>\n",
       "      <td>15111957.00</td>\n",
       "      <td>SPCE</td>\n",
       "      <td>winter</td>\n",
       "      <td>зима</td>\n",
       "      <td>меньше медианы</td>\n",
       "      <td>неопределенность</td>\n",
       "      <td>Малый объем</td>\n",
       "      <td>False</td>\n",
       "    </tr>\n",
       "    <tr>\n",
       "      <th>8</th>\n",
       "      <td>2023-01-13 16:00:00</td>\n",
       "      <td>5.19</td>\n",
       "      <td>1.70</td>\n",
       "      <td>0.49</td>\n",
       "      <td>46228829.00</td>\n",
       "      <td>SPCE</td>\n",
       "      <td>winter</td>\n",
       "      <td>зима</td>\n",
       "      <td>меньше медианы</td>\n",
       "      <td>неопределенность</td>\n",
       "      <td>Малый объем</td>\n",
       "      <td>False</td>\n",
       "    </tr>\n",
       "    <tr>\n",
       "      <th>9</th>\n",
       "      <td>2023-01-17 16:00:00</td>\n",
       "      <td>5.59</td>\n",
       "      <td>2.10</td>\n",
       "      <td>0.60</td>\n",
       "      <td>20166082.00</td>\n",
       "      <td>SPCE</td>\n",
       "      <td>winter</td>\n",
       "      <td>зима</td>\n",
       "      <td>меньше медианы</td>\n",
       "      <td>неопределенность</td>\n",
       "      <td>Малый объем</td>\n",
       "      <td>False</td>\n",
       "    </tr>\n",
       "  </tbody>\n",
       "</table>\n",
       "</div>"
      ],
      "text/plain": [
       "                   dt  price  change  change_percent      volume ticker  \\\n",
       "0 2023-01-03 16:00:00   3.49    0.00            0.00  7668027.00   SPCE   \n",
       "1 2023-01-04 16:00:00   3.64    0.15            0.04  4858879.00   SPCE   \n",
       "2 2023-01-05 16:00:00   3.66    0.17            0.05  5262860.00   SPCE   \n",
       "3 2023-01-06 16:00:00   3.69    0.20            0.06  4090692.00   SPCE   \n",
       "4 2023-01-09 16:00:00   3.91    0.42            0.12 10357731.00   SPCE   \n",
       "5 2023-01-10 16:00:00   4.03    0.54            0.15  7897886.00   SPCE   \n",
       "6 2023-01-11 16:00:00   4.29    0.80            0.23  8752365.00   SPCE   \n",
       "7 2023-01-12 16:00:00   4.62    1.13            0.32 15111957.00   SPCE   \n",
       "8 2023-01-13 16:00:00   5.19    1.70            0.49 46228829.00   SPCE   \n",
       "9 2023-01-17 16:00:00   5.59    2.10            0.60 20166082.00   SPCE   \n",
       "\n",
       "   season время года price_more_then_median is_positive_trend volume_2_cat  \\\n",
       "0  winter       зима         меньше медианы               NaN  Малый объем   \n",
       "1  winter       зима         меньше медианы  неопределенность  Малый объем   \n",
       "2  winter       зима         меньше медианы  неопределенность  Малый объем   \n",
       "3  winter       зима         меньше медианы  неопределенность  Малый объем   \n",
       "4  winter       зима         меньше медианы  неопределенность  Малый объем   \n",
       "5  winter       зима         меньше медианы  неопределенность  Малый объем   \n",
       "6  winter       зима         меньше медианы  неопределенность  Малый объем   \n",
       "7  winter       зима         меньше медианы  неопределенность  Малый объем   \n",
       "8  winter       зима         меньше медианы  неопределенность  Малый объем   \n",
       "9  winter       зима         меньше медианы  неопределенность  Малый объем   \n",
       "\n",
       "   volume_2_cat_bool  \n",
       "0              False  \n",
       "1              False  \n",
       "2              False  \n",
       "3              False  \n",
       "4              False  \n",
       "5              False  \n",
       "6              False  \n",
       "7              False  \n",
       "8              False  \n",
       "9              False  "
      ]
     },
     "execution_count": 76,
     "metadata": {},
     "output_type": "execute_result"
    }
   ],
   "source": [
    "stock_price.head(10)"
   ]
  },
  {
   "cell_type": "markdown",
   "id": "42e0c358-734f-47e6-ab7c-3b0049ae76bb",
   "metadata": {},
   "source": [
    "#### Группировка по времени"
   ]
  },
  {
   "cell_type": "code",
   "execution_count": 82,
   "id": "b1065243-df8f-4ca3-95b0-275ff4f7332e",
   "metadata": {},
   "outputs": [
    {
     "data": {
      "text/plain": [
       "dt\n",
       "2023-01-31   1443652725.00\n",
       "2023-02-28   1307294493.00\n",
       "2023-03-31   1520461315.00\n",
       "2023-04-30    969776368.00\n",
       "2023-05-31   1275364523.00\n",
       "2023-06-30   1297863403.00\n",
       "2023-07-31    996368613.00\n",
       "2023-08-31   1323817340.00\n",
       "2023-09-30   1337873796.00\n",
       "2023-10-31   1172845791.00\n",
       "2023-11-30   1099760711.00\n",
       "2023-12-31     89094342.00\n",
       "Freq: M, Name: volume, dtype: float64"
      ]
     },
     "execution_count": 82,
     "metadata": {},
     "output_type": "execute_result"
    }
   ],
   "source": [
    "aapl.set_index('dt')['volume'].resample('M').sum()"
   ]
  },
  {
   "cell_type": "code",
   "execution_count": 84,
   "id": "e050f80e-50ff-4439-888a-264ee69a5c3e",
   "metadata": {},
   "outputs": [
    {
     "data": {
      "text/plain": [
       "dt\n",
       "2023-12-31   13834173420.00\n",
       "Freq: A-DEC, Name: volume, dtype: float64"
      ]
     },
     "execution_count": 84,
     "metadata": {},
     "output_type": "execute_result"
    }
   ],
   "source": [
    "aapl.set_index('dt')['volume'].resample('Y').sum()"
   ]
  },
  {
   "cell_type": "code",
   "execution_count": 85,
   "id": "ae32faa1-1927-41e2-bdeb-e95fda02d5e2",
   "metadata": {},
   "outputs": [
    {
     "data": {
      "text/plain": [
       "dt\n",
       "2023-01-03   112117471.00\n",
       "2023-01-04    89113633.00\n",
       "2023-01-05    80962708.00\n",
       "2023-01-06    87754715.00\n",
       "2023-01-07           0.00\n",
       "                 ...     \n",
       "2023-12-01    45704823.00\n",
       "2023-12-02           0.00\n",
       "2023-12-03           0.00\n",
       "2023-12-04    43389519.00\n",
       "2023-12-05           0.00\n",
       "Freq: D, Name: volume, Length: 337, dtype: float64"
      ]
     },
     "execution_count": 85,
     "metadata": {},
     "output_type": "execute_result"
    }
   ],
   "source": [
    "aapl.set_index('dt')['volume'].resample('D').sum()"
   ]
  },
  {
   "cell_type": "markdown",
   "id": "fe70cc4c-4c46-419b-b10c-a39e82809a7d",
   "metadata": {},
   "source": [
    "### Группировка"
   ]
  },
  {
   "cell_type": "code",
   "execution_count": null,
   "id": "a03dd49e-cc7b-4b07-9ad5-272e32e13a0e",
   "metadata": {},
   "outputs": [],
   "source": [
    "people.groupby('age').mean()"
   ]
  },
  {
   "cell_type": "code",
   "execution_count": null,
   "id": "98c16c40-06ed-470a-a4bb-cfbcc2c383b8",
   "metadata": {},
   "outputs": [],
   "source": [
    "people.groupby('age')['height'].agg(['min', 'max'])"
   ]
  },
  {
   "cell_type": "code",
   "execution_count": null,
   "id": "11ca0ac2-b534-49d3-bf0b-8d3a70a07859",
   "metadata": {},
   "outputs": [],
   "source": [
    "people.groupby('age').agg({'height': 'max', 'weight': 'min'})"
   ]
  },
  {
   "cell_type": "code",
   "execution_count": null,
   "id": "ed5e9ca1-d647-475f-a1a5-c3437438d616",
   "metadata": {},
   "outputs": [],
   "source": [
    "def square_calc(x):\n",
    "    return x**2\n",
    "\n",
    "people.groupby('age').agg(square_calc)"
   ]
  },
  {
   "cell_type": "code",
   "execution_count": null,
   "id": "f93e1b9b-1fb5-473d-8c2f-42a5411b07c1",
   "metadata": {},
   "outputs": [],
   "source": [
    "stock_price.groupby('month')['price'].agg(['sum', 'count'])"
   ]
  },
  {
   "cell_type": "code",
   "execution_count": null,
   "id": "0613f038-e7bd-4204-adf1-a6516c7ed1e4",
   "metadata": {},
   "outputs": [],
   "source": [
    "mult_ind_df = stock_price.groupby(['month', 'week'])[['price', 'volume_2_cat']].agg(\n",
    "    {\n",
    "        'price': ['sum', 'mean'],\n",
    "        'volume_2_cat': ['count', lambda x: x]\n",
    "    }\n",
    ")\n",
    "mult_ind_df.head()"
   ]
  },
  {
   "cell_type": "code",
   "execution_count": null,
   "id": "07ee5fb2-f9f1-448f-a6c3-9d8b44598180",
   "metadata": {},
   "outputs": [],
   "source": [
    "stock_price.groupby(['month', 'week'])[['volume', 'price']].apply(lambda row: sum(row['volume'] * row['price'])).head(10)"
   ]
  },
  {
   "cell_type": "code",
   "execution_count": null,
   "id": "e5f45128-c1d3-41c4-adb1-e59b873327e6",
   "metadata": {},
   "outputs": [],
   "source": [
    "import numpy as np\n",
    "stock_price.groupby(['ticker', 'month'])[['volume', 'price']].agg(\n",
    "    {\n",
    "        'volume': [np.mean, np.median],\n",
    "        'price': [np.max, np.min]        \n",
    "    }\n",
    ").head()"
   ]
  },
  {
   "cell_type": "markdown",
   "id": "5e15bbb2-0cdf-4f2a-ad20-47c900697060",
   "metadata": {},
   "source": [
    "### Мультииндекс"
   ]
  },
  {
   "cell_type": "code",
   "execution_count": null,
   "id": "250ad6fb-897c-4bc6-b1b4-cd8436f8e062",
   "metadata": {},
   "outputs": [],
   "source": [
    "mult_ind_df = stock_price.groupby(['month', 'week'])[['price', 'volume_2_cat']].agg(\n",
    "    {\n",
    "        'price': ['sum', 'mean'],\n",
    "        'volume_2_cat': ['count', lambda x: x]\n",
    "    }\n",
    ")\n",
    "mult_ind_df.head()"
   ]
  },
  {
   "cell_type": "code",
   "execution_count": null,
   "id": "e802e9d7-2a35-42e6-9024-b95b4b1ff4c3",
   "metadata": {},
   "outputs": [],
   "source": [
    "mult_ind_df.columns = ['_'.join(col) if isinstance(col, tuple) else col for col in mult_ind_df.columns]"
   ]
  },
  {
   "cell_type": "code",
   "execution_count": null,
   "id": "a496069c-2ddf-4f17-b184-c3f434208166",
   "metadata": {},
   "outputs": [],
   "source": [
    "mult_ind_df.head()"
   ]
  },
  {
   "cell_type": "code",
   "execution_count": null,
   "id": "2a60d4ff-2b4d-4847-b019-0b793a2f6b1f",
   "metadata": {},
   "outputs": [],
   "source": [
    "df=stock_price.pivot_table(values='price', index=['season', 'ticker'], columns=['month'], aggfunc=sum)\n",
    "df=df.reset_index()\n",
    "df.head()"
   ]
  },
  {
   "cell_type": "code",
   "execution_count": null,
   "id": "6937a941-bc59-4673-bd89-7d150ff0ef4c",
   "metadata": {},
   "outputs": [],
   "source": [
    "df.index, df.columns\n",
    "# df.columns = ['season', 'ticker', ('min', 'price'), ('max', 'price')]\n",
    "# df"
   ]
  },
  {
   "cell_type": "code",
   "execution_count": null,
   "id": "a0a13f10-f067-4740-93c0-856d7ea9b081",
   "metadata": {},
   "outputs": [],
   "source": [
    "df.melt(id_vars=['season', 'ticker'], value_vars=[1, 2, 3, 4, 5, 6, 7, 8, 9, 10, 11, 12])"
   ]
  },
  {
   "cell_type": "markdown",
   "id": "3b8b241d-2ebc-4798-8833-9ae8ba4e347b",
   "metadata": {},
   "source": [
    "### Биннинг данных"
   ]
  },
  {
   "cell_type": "code",
   "execution_count": 69,
   "id": "8ccf2106-634a-4ce8-896e-17c620e0fdc2",
   "metadata": {},
   "outputs": [
    {
     "data": {
      "text/plain": [
       "(24048344.0, 154357337.0)"
      ]
     },
     "execution_count": 69,
     "metadata": {},
     "output_type": "execute_result"
    }
   ],
   "source": [
    "aapl['volume'].min(), aapl.volume.max()"
   ]
  },
  {
   "cell_type": "code",
   "execution_count": 73,
   "id": "52b479fe-919b-4d52-a501-38111d1a7990",
   "metadata": {},
   "outputs": [
    {
     "data": {
      "text/plain": [
       "volume_bins_cut\n",
       "B    151\n",
       "A     72\n",
       "C      8\n",
       "Name: count, dtype: int64"
      ]
     },
     "execution_count": 73,
     "metadata": {},
     "output_type": "execute_result"
    }
   ],
   "source": [
    "aapl['volume_bins_cut'] = pd.cut(aapl.volume, bins=[20E6, 50E6, 100E6, 150E6], labels=['A', 'B', 'C'])\n",
    "aapl['volume_bins_cut'].value_counts()"
   ]
  },
  {
   "cell_type": "code",
   "execution_count": 75,
   "id": "aea894e8-5105-4492-aaa2-e09920bfc471",
   "metadata": {},
   "outputs": [
    {
     "data": {
      "text/plain": [
       "volume_bins_quant\n",
       "A    78\n",
       "B    77\n",
       "C    77\n",
       "Name: count, dtype: int64"
      ]
     },
     "execution_count": 75,
     "metadata": {},
     "output_type": "execute_result"
    }
   ],
   "source": [
    "aapl['volume_bins_quant'] = pd.qcut(aapl.volume, q=3, labels=['A', 'B', 'C'])\n",
    "aapl['volume_bins_quant'].value_counts()"
   ]
  },
  {
   "cell_type": "markdown",
   "id": "1986e76f-f361-4e64-ade9-a480d8b7f2d3",
   "metadata": {},
   "source": [
    "### Корреляции"
   ]
  },
  {
   "cell_type": "code",
   "execution_count": null,
   "id": "dc84f4ae-c6cd-4bda-8eb4-1a7bfc1bd94d",
   "metadata": {},
   "outputs": [],
   "source": [
    "plt.rcParams['figure.figsize'] = (16, 5)\n",
    "# plt.figure(figsize=(16,5))\n",
    "number_columns = stock_price.select_dtypes('number').columns\n",
    "sns.heatmap(stock_price[number_columns].corr(), vmax=1, vmin=-1, annot=True)"
   ]
  },
  {
   "cell_type": "markdown",
   "id": "6c794c13-cade-4ee6-8d4e-f626d6fc3846",
   "metadata": {},
   "source": [
    "### Сводные таблицы"
   ]
  },
  {
   "cell_type": "code",
   "execution_count": null,
   "id": "9fa4e5a6-f1fd-4cbd-99d1-c0000a443e9e",
   "metadata": {},
   "outputs": [],
   "source": [
    "df = stock_price.groupby(['ticker', 'season'])[['volume', 'price']].agg(np.mean).reset_index()\n",
    "df"
   ]
  },
  {
   "cell_type": "code",
   "execution_count": null,
   "id": "d6733667-6f46-40e5-92ae-9c69a65b5e61",
   "metadata": {},
   "outputs": [],
   "source": [
    "df.pivot_table(values=['price', 'volume'], index=['season'], columns=['ticker'])"
   ]
  },
  {
   "cell_type": "code",
   "execution_count": null,
   "id": "53fc3843-da40-4203-9acf-588d1cc6f9f7",
   "metadata": {},
   "outputs": [],
   "source": [
    "df = stock_price.pivot_table(values=['price', 'volume'], index='season', columns=['ticker'], aggfunc=[np.min, np.max])\n",
    "# df.columns = ['_'.join(col) if isinstance(col, tuple) else col for col in df.columns]\n",
    "# df = df.reset_index()\n",
    "df"
   ]
  },
  {
   "cell_type": "markdown",
   "id": "32afc784-0e16-41a9-9ca4-4cb7809a817b",
   "metadata": {},
   "source": [
    "### Визуализации"
   ]
  },
  {
   "cell_type": "code",
   "execution_count": null,
   "id": "6cc9426a-f6f3-474b-804a-5b9cf014f93a",
   "metadata": {},
   "outputs": [],
   "source": [
    "stock_price.season.hist()"
   ]
  },
  {
   "cell_type": "code",
   "execution_count": null,
   "id": "baa2246d-4c9e-4f66-9f8f-aefb676119b9",
   "metadata": {},
   "outputs": [],
   "source": [
    "month_price_sum = stock_price.groupby('month').price.agg(price_sum='sum')\n",
    "sns.boxplot(month_price_sum, orient='h')"
   ]
  },
  {
   "cell_type": "code",
   "execution_count": null,
   "id": "b80abbaf-c2f4-407b-8956-4a0714bc19ef",
   "metadata": {},
   "outputs": [],
   "source": [
    "df = stock_price.groupby(['ticker', 'month'])[['volume', 'price']].agg(\n",
    "    {\n",
    "        'volume': [np.mean, np.median],\n",
    "        'price': [np.max, np.min]        \n",
    "    }\n",
    ")\n",
    "df = df.reset_index()\n",
    "\n",
    "df.columns = ['_'.join(col) if isinstance(col, tuple) else col for col in df.columns]\n",
    "df.head()\n",
    "\n",
    "sns.scatterplot(x=df['month_'], y=df['volume_mean'], hue=df.ticker_)"
   ]
  },
  {
   "cell_type": "code",
   "execution_count": null,
   "id": "bd8e14d0-1e08-44e3-83bc-9e42488eb544",
   "metadata": {},
   "outputs": [],
   "source": [
    "sns.jointplot(data=df, x='month_', y='volume_mean', hue=df.ticker_)"
   ]
  },
  {
   "cell_type": "code",
   "execution_count": null,
   "id": "f7e9c9e2-036a-4b14-bdbc-11655dbb43ae",
   "metadata": {},
   "outputs": [],
   "source": [
    "sns.barplot(data=df, x='month_', y='price_max', hue=df.ticker_, fill=False)"
   ]
  },
  {
   "cell_type": "markdown",
   "id": "89f16df0-fee3-4bdc-a171-8fe04014d9a0",
   "metadata": {},
   "source": [
    "### Оконные функции"
   ]
  },
  {
   "cell_type": "code",
   "execution_count": null,
   "id": "f27a08e7-56d3-4728-a8db-d86722a581bc",
   "metadata": {},
   "outputs": [],
   "source": [
    "df = stock_price.groupby(['month', 'ticker']).agg({'price': sum})\n",
    "df.head(7)"
   ]
  },
  {
   "cell_type": "code",
   "execution_count": null,
   "id": "f63b4b55-da00-4756-9aa0-fee974ffccf1",
   "metadata": {},
   "outputs": [],
   "source": [
    "df = stock_price.groupby(['ticker', 'month']).agg({'price': sum})\n",
    "df.head(13)"
   ]
  },
  {
   "cell_type": "code",
   "execution_count": null,
   "id": "92b10ae5-8128-4617-ac6d-969568652e2b",
   "metadata": {},
   "outputs": [],
   "source": [
    "df.rolling(2).sum().head(7)"
   ]
  },
  {
   "cell_type": "code",
   "execution_count": null,
   "id": "30c1cd19-f974-4ee0-9618-6d5155906b4f",
   "metadata": {},
   "outputs": [],
   "source": [
    "df['change'] = df['price'].rolling(2, min_periods=1).apply(lambda x: round((x[1] - x[0]) * 100 / x[0], 2) if len(x) == 2 else 0)\n",
    "df['change'] = df['change'].map(str)\n",
    "df['change']"
   ]
  },
  {
   "cell_type": "markdown",
   "id": "a085204d-23bd-468f-80cd-49a1c05cd618",
   "metadata": {},
   "source": [
    "### Интересные методы"
   ]
  },
  {
   "cell_type": "code",
   "execution_count": null,
   "id": "6dbea4b4-f73d-4012-a011-470e5c6ab584",
   "metadata": {},
   "outputs": [],
   "source": [
    "stock_price.volume.astype('str').replace('\\\\.0', '!!', regex=True)"
   ]
  },
  {
   "cell_type": "markdown",
   "id": "cde710f1-a59a-44a9-afe2-3b6155fdcb19",
   "metadata": {},
   "source": [
    "### Сравнение DF"
   ]
  },
  {
   "cell_type": "code",
   "execution_count": null,
   "id": "1997d0d3-53e3-46c9-af48-c7c85e391769",
   "metadata": {},
   "outputs": [],
   "source": [
    "people.equals(people)"
   ]
  },
  {
   "cell_type": "code",
   "execution_count": null,
   "id": "a1bc0a62-6644-408e-87f2-1d0393f90f46",
   "metadata": {},
   "outputs": [],
   "source": [
    "(people == people).all()"
   ]
  },
  {
   "cell_type": "markdown",
   "id": "747903a9-c16c-4913-93d8-803c3790c997",
   "metadata": {},
   "source": [
    "### Выбор случайных записей"
   ]
  },
  {
   "cell_type": "code",
   "execution_count": null,
   "id": "8fc79f06-8e3d-4e0e-93f2-57e1f93f2f4e",
   "metadata": {
    "scrolled": true
   },
   "outputs": [],
   "source": [
    "stock_price.sample(100)"
   ]
  },
  {
   "cell_type": "markdown",
   "id": "879a2097-06a7-43d6-99f4-d95271f9c5ba",
   "metadata": {},
   "source": [
    "### Сохранение DF"
   ]
  },
  {
   "cell_type": "code",
   "execution_count": null,
   "id": "84792235-0c01-4ad6-af62-dcf5ab68b1c3",
   "metadata": {},
   "outputs": [],
   "source": [
    "tickers = stock_price.ticker.unique().tolist()\n",
    "tickers"
   ]
  },
  {
   "cell_type": "code",
   "execution_count": null,
   "id": "00f5819c-0fed-45bd-8d99-412f05ae161c",
   "metadata": {},
   "outputs": [],
   "source": [
    "#!pip install openpyxl -y -q\n",
    "from pathlib import Path\n",
    "Path.mkdir(Path('test_save_df'), exist_ok=True)\n",
    "for t in tickers:\n",
    "    print(t)\n",
    "    tdf = stock_price.loc[stock_price['ticker'] == ticker]\n",
    "    tdf.to_excel(f'test_save_df/{t}.xlsx', sheet_name=ticker, index=False)"
   ]
  },
  {
   "cell_type": "markdown",
   "id": "8bbee5f9-b4cf-4716-83cf-d4f49655e0b6",
   "metadata": {},
   "source": [
    "### Загрузка DF"
   ]
  },
  {
   "cell_type": "code",
   "execution_count": 86,
   "id": "6a6417b0-5101-45c4-b66e-029ea504449c",
   "metadata": {},
   "outputs": [
    {
     "data": {
      "text/html": [
       "<div>\n",
       "<style scoped>\n",
       "    .dataframe tbody tr th:only-of-type {\n",
       "        vertical-align: middle;\n",
       "    }\n",
       "\n",
       "    .dataframe tbody tr th {\n",
       "        vertical-align: top;\n",
       "    }\n",
       "\n",
       "    .dataframe thead th {\n",
       "        text-align: right;\n",
       "    }\n",
       "</style>\n",
       "<table border=\"1\" class=\"dataframe\">\n",
       "  <thead>\n",
       "    <tr style=\"text-align: right;\">\n",
       "      <th></th>\n",
       "      <th>dt</th>\n",
       "      <th>price</th>\n",
       "      <th>change</th>\n",
       "      <th>change_percent</th>\n",
       "      <th>volume</th>\n",
       "      <th>ticker</th>\n",
       "      <th>season</th>\n",
       "      <th>время года</th>\n",
       "      <th>price_more_then_median</th>\n",
       "      <th>is_positive_trend</th>\n",
       "      <th>volume_2_cat</th>\n",
       "      <th>volume_2_cat_bool</th>\n",
       "      <th>date</th>\n",
       "      <th>time</th>\n",
       "      <th>month</th>\n",
       "      <th>week</th>\n",
       "    </tr>\n",
       "  </thead>\n",
       "  <tbody>\n",
       "    <tr>\n",
       "      <th>0</th>\n",
       "      <td>2023-01-03 16:00:00</td>\n",
       "      <td>85.82</td>\n",
       "      <td>0.00</td>\n",
       "      <td>0.00</td>\n",
       "      <td>76706040.00</td>\n",
       "      <td>AMZN</td>\n",
       "      <td>winter</td>\n",
       "      <td>зима</td>\n",
       "      <td>меньше медианы</td>\n",
       "      <td>NaN</td>\n",
       "      <td>Малый объем</td>\n",
       "      <td>False</td>\n",
       "      <td>2023-01-03</td>\n",
       "      <td>16:00:00</td>\n",
       "      <td>1</td>\n",
       "      <td>1</td>\n",
       "    </tr>\n",
       "    <tr>\n",
       "      <th>1</th>\n",
       "      <td>2023-01-04 16:00:00</td>\n",
       "      <td>85.14</td>\n",
       "      <td>-0.68</td>\n",
       "      <td>-0.01</td>\n",
       "      <td>68885123.00</td>\n",
       "      <td>AMZN</td>\n",
       "      <td>winter</td>\n",
       "      <td>зима</td>\n",
       "      <td>меньше медианы</td>\n",
       "      <td>NaN</td>\n",
       "      <td>Малый объем</td>\n",
       "      <td>False</td>\n",
       "      <td>2023-01-04</td>\n",
       "      <td>16:00:00</td>\n",
       "      <td>1</td>\n",
       "      <td>1</td>\n",
       "    </tr>\n",
       "    <tr>\n",
       "      <th>2</th>\n",
       "      <td>2023-01-05 16:00:00</td>\n",
       "      <td>83.12</td>\n",
       "      <td>-2.70</td>\n",
       "      <td>-0.03</td>\n",
       "      <td>67930825.00</td>\n",
       "      <td>AMZN</td>\n",
       "      <td>winter</td>\n",
       "      <td>зима</td>\n",
       "      <td>меньше медианы</td>\n",
       "      <td>NaN</td>\n",
       "      <td>Малый объем</td>\n",
       "      <td>False</td>\n",
       "      <td>2023-01-05</td>\n",
       "      <td>16:00:00</td>\n",
       "      <td>1</td>\n",
       "      <td>1</td>\n",
       "    </tr>\n",
       "    <tr>\n",
       "      <th>3</th>\n",
       "      <td>2023-01-06 16:00:00</td>\n",
       "      <td>86.08</td>\n",
       "      <td>0.26</td>\n",
       "      <td>0.00</td>\n",
       "      <td>83303361.00</td>\n",
       "      <td>AMZN</td>\n",
       "      <td>winter</td>\n",
       "      <td>зима</td>\n",
       "      <td>меньше медианы</td>\n",
       "      <td>неопределенность</td>\n",
       "      <td>Малый объем</td>\n",
       "      <td>False</td>\n",
       "      <td>2023-01-06</td>\n",
       "      <td>16:00:00</td>\n",
       "      <td>1</td>\n",
       "      <td>1</td>\n",
       "    </tr>\n",
       "    <tr>\n",
       "      <th>4</th>\n",
       "      <td>2023-01-09 16:00:00</td>\n",
       "      <td>87.36</td>\n",
       "      <td>1.54</td>\n",
       "      <td>0.02</td>\n",
       "      <td>65266056.00</td>\n",
       "      <td>AMZN</td>\n",
       "      <td>winter</td>\n",
       "      <td>зима</td>\n",
       "      <td>меньше медианы</td>\n",
       "      <td>неопределенность</td>\n",
       "      <td>Малый объем</td>\n",
       "      <td>False</td>\n",
       "      <td>2023-01-09</td>\n",
       "      <td>16:00:00</td>\n",
       "      <td>1</td>\n",
       "      <td>2</td>\n",
       "    </tr>\n",
       "    <tr>\n",
       "      <th>...</th>\n",
       "      <td>...</td>\n",
       "      <td>...</td>\n",
       "      <td>...</td>\n",
       "      <td>...</td>\n",
       "      <td>...</td>\n",
       "      <td>...</td>\n",
       "      <td>...</td>\n",
       "      <td>...</td>\n",
       "      <td>...</td>\n",
       "      <td>...</td>\n",
       "      <td>...</td>\n",
       "      <td>...</td>\n",
       "      <td>...</td>\n",
       "      <td>...</td>\n",
       "      <td>...</td>\n",
       "      <td>...</td>\n",
       "    </tr>\n",
       "    <tr>\n",
       "      <th>1160</th>\n",
       "      <td>2023-11-29 16:00:00</td>\n",
       "      <td>146.32</td>\n",
       "      <td>60.50</td>\n",
       "      <td>0.70</td>\n",
       "      <td>40610907.00</td>\n",
       "      <td>AMZN</td>\n",
       "      <td>autumn</td>\n",
       "      <td>осень</td>\n",
       "      <td>больше медианы</td>\n",
       "      <td>позитивный тренд</td>\n",
       "      <td>Малый объем</td>\n",
       "      <td>False</td>\n",
       "      <td>2023-11-29</td>\n",
       "      <td>16:00:00</td>\n",
       "      <td>11</td>\n",
       "      <td>48</td>\n",
       "    </tr>\n",
       "    <tr>\n",
       "      <th>1161</th>\n",
       "      <td>2023-11-30 16:00:00</td>\n",
       "      <td>146.09</td>\n",
       "      <td>60.27</td>\n",
       "      <td>0.70</td>\n",
       "      <td>65814022.00</td>\n",
       "      <td>AMZN</td>\n",
       "      <td>autumn</td>\n",
       "      <td>осень</td>\n",
       "      <td>больше медианы</td>\n",
       "      <td>позитивный тренд</td>\n",
       "      <td>Малый объем</td>\n",
       "      <td>False</td>\n",
       "      <td>2023-11-30</td>\n",
       "      <td>16:00:00</td>\n",
       "      <td>11</td>\n",
       "      <td>48</td>\n",
       "    </tr>\n",
       "    <tr>\n",
       "      <th>1162</th>\n",
       "      <td>2023-12-01 16:00:00</td>\n",
       "      <td>147.03</td>\n",
       "      <td>61.21</td>\n",
       "      <td>0.71</td>\n",
       "      <td>39951833.00</td>\n",
       "      <td>AMZN</td>\n",
       "      <td>winter</td>\n",
       "      <td>зима</td>\n",
       "      <td>больше медианы</td>\n",
       "      <td>позитивный тренд</td>\n",
       "      <td>Малый объем</td>\n",
       "      <td>False</td>\n",
       "      <td>2023-12-01</td>\n",
       "      <td>16:00:00</td>\n",
       "      <td>12</td>\n",
       "      <td>48</td>\n",
       "    </tr>\n",
       "    <tr>\n",
       "      <th>1163</th>\n",
       "      <td>2023-12-04 16:00:00</td>\n",
       "      <td>144.84</td>\n",
       "      <td>59.02</td>\n",
       "      <td>0.69</td>\n",
       "      <td>48294244.00</td>\n",
       "      <td>AMZN</td>\n",
       "      <td>winter</td>\n",
       "      <td>зима</td>\n",
       "      <td>больше медианы</td>\n",
       "      <td>позитивный тренд</td>\n",
       "      <td>Малый объем</td>\n",
       "      <td>False</td>\n",
       "      <td>2023-12-04</td>\n",
       "      <td>16:00:00</td>\n",
       "      <td>12</td>\n",
       "      <td>49</td>\n",
       "    </tr>\n",
       "    <tr>\n",
       "      <th>1164</th>\n",
       "      <td>2023-12-05 12:08:00</td>\n",
       "      <td>146.31</td>\n",
       "      <td>60.49</td>\n",
       "      <td>0.70</td>\n",
       "      <td>NaN</td>\n",
       "      <td>AMZN</td>\n",
       "      <td>winter</td>\n",
       "      <td>зима</td>\n",
       "      <td>больше медианы</td>\n",
       "      <td>позитивный тренд</td>\n",
       "      <td>Малый объем</td>\n",
       "      <td>False</td>\n",
       "      <td>2023-12-05</td>\n",
       "      <td>12:08:00</td>\n",
       "      <td>12</td>\n",
       "      <td>49</td>\n",
       "    </tr>\n",
       "  </tbody>\n",
       "</table>\n",
       "<p>1165 rows × 16 columns</p>\n",
       "</div>"
      ],
      "text/plain": [
       "                      dt  price  change  change_percent      volume ticker  \\\n",
       "0    2023-01-03 16:00:00  85.82    0.00            0.00 76706040.00   AMZN   \n",
       "1    2023-01-04 16:00:00  85.14   -0.68           -0.01 68885123.00   AMZN   \n",
       "2    2023-01-05 16:00:00  83.12   -2.70           -0.03 67930825.00   AMZN   \n",
       "3    2023-01-06 16:00:00  86.08    0.26            0.00 83303361.00   AMZN   \n",
       "4    2023-01-09 16:00:00  87.36    1.54            0.02 65266056.00   AMZN   \n",
       "...                  ...    ...     ...             ...         ...    ...   \n",
       "1160 2023-11-29 16:00:00 146.32   60.50            0.70 40610907.00   AMZN   \n",
       "1161 2023-11-30 16:00:00 146.09   60.27            0.70 65814022.00   AMZN   \n",
       "1162 2023-12-01 16:00:00 147.03   61.21            0.71 39951833.00   AMZN   \n",
       "1163 2023-12-04 16:00:00 144.84   59.02            0.69 48294244.00   AMZN   \n",
       "1164 2023-12-05 12:08:00 146.31   60.49            0.70         NaN   AMZN   \n",
       "\n",
       "      season время года price_more_then_median is_positive_trend volume_2_cat  \\\n",
       "0     winter       зима         меньше медианы               NaN  Малый объем   \n",
       "1     winter       зима         меньше медианы               NaN  Малый объем   \n",
       "2     winter       зима         меньше медианы               NaN  Малый объем   \n",
       "3     winter       зима         меньше медианы  неопределенность  Малый объем   \n",
       "4     winter       зима         меньше медианы  неопределенность  Малый объем   \n",
       "...      ...        ...                    ...               ...          ...   \n",
       "1160  autumn      осень         больше медианы  позитивный тренд  Малый объем   \n",
       "1161  autumn      осень         больше медианы  позитивный тренд  Малый объем   \n",
       "1162  winter       зима         больше медианы  позитивный тренд  Малый объем   \n",
       "1163  winter       зима         больше медианы  позитивный тренд  Малый объем   \n",
       "1164  winter       зима         больше медианы  позитивный тренд  Малый объем   \n",
       "\n",
       "      volume_2_cat_bool       date      time  month  week  \n",
       "0                 False 2023-01-03  16:00:00      1     1  \n",
       "1                 False 2023-01-04  16:00:00      1     1  \n",
       "2                 False 2023-01-05  16:00:00      1     1  \n",
       "3                 False 2023-01-06  16:00:00      1     1  \n",
       "4                 False 2023-01-09  16:00:00      1     2  \n",
       "...                 ...        ...       ...    ...   ...  \n",
       "1160              False 2023-11-29  16:00:00     11    48  \n",
       "1161              False 2023-11-30  16:00:00     11    48  \n",
       "1162              False 2023-12-01  16:00:00     12    48  \n",
       "1163              False 2023-12-04  16:00:00     12    49  \n",
       "1164              False 2023-12-05  12:08:00     12    49  \n",
       "\n",
       "[1165 rows x 16 columns]"
      ]
     },
     "execution_count": 86,
     "metadata": {},
     "output_type": "execute_result"
    }
   ],
   "source": [
    "import glob\n",
    "df_list = []\n",
    "for f in glob.glob('test_save_df/*.xlsx'):\n",
    "    df_list.append(pd.read_excel(f))\n",
    "\n",
    "df = pd.concat(df_list, ignore_index=True)\n",
    "df"
   ]
  },
  {
   "cell_type": "markdown",
   "id": "b7ddf52a-bbc7-4529-8bc9-e837b57f6335",
   "metadata": {},
   "source": [
    "### Pipes"
   ]
  },
  {
   "cell_type": "code",
   "execution_count": 99,
   "id": "62bd0dd6-12a4-43e7-92cf-024d885f4095",
   "metadata": {},
   "outputs": [
    {
     "data": {
      "text/html": [
       "<div>\n",
       "<style scoped>\n",
       "    .dataframe tbody tr th:only-of-type {\n",
       "        vertical-align: middle;\n",
       "    }\n",
       "\n",
       "    .dataframe tbody tr th {\n",
       "        vertical-align: top;\n",
       "    }\n",
       "\n",
       "    .dataframe thead th {\n",
       "        text-align: right;\n",
       "    }\n",
       "</style>\n",
       "<table border=\"1\" class=\"dataframe\">\n",
       "  <thead>\n",
       "    <tr style=\"text-align: right;\">\n",
       "      <th></th>\n",
       "      <th>price</th>\n",
       "      <th>season</th>\n",
       "      <th>время года</th>\n",
       "      <th>ru_eng_season</th>\n",
       "      <th>volume_pct_change</th>\n",
       "    </tr>\n",
       "  </thead>\n",
       "  <tbody>\n",
       "    <tr>\n",
       "      <th>466</th>\n",
       "      <td>125.07</td>\n",
       "      <td>winter</td>\n",
       "      <td>зима</td>\n",
       "      <td>winterзима</td>\n",
       "      <td>0.00</td>\n",
       "    </tr>\n",
       "    <tr>\n",
       "      <th>467</th>\n",
       "      <td>126.36</td>\n",
       "      <td>winter</td>\n",
       "      <td>зима</td>\n",
       "      <td>winterзима</td>\n",
       "      <td>0.00</td>\n",
       "    </tr>\n",
       "    <tr>\n",
       "      <th>468</th>\n",
       "      <td>125.02</td>\n",
       "      <td>winter</td>\n",
       "      <td>зима</td>\n",
       "      <td>winterзима</td>\n",
       "      <td>-0.00</td>\n",
       "    </tr>\n",
       "    <tr>\n",
       "      <th>469</th>\n",
       "      <td>129.62</td>\n",
       "      <td>winter</td>\n",
       "      <td>зима</td>\n",
       "      <td>winterзима</td>\n",
       "      <td>0.03</td>\n",
       "    </tr>\n",
       "    <tr>\n",
       "      <th>470</th>\n",
       "      <td>130.15</td>\n",
       "      <td>winter</td>\n",
       "      <td>зима</td>\n",
       "      <td>winterзима</td>\n",
       "      <td>0.04</td>\n",
       "    </tr>\n",
       "    <tr>\n",
       "      <th>...</th>\n",
       "      <td>...</td>\n",
       "      <td>...</td>\n",
       "      <td>...</td>\n",
       "      <td>...</td>\n",
       "      <td>...</td>\n",
       "    </tr>\n",
       "    <tr>\n",
       "      <th>694</th>\n",
       "      <td>189.37</td>\n",
       "      <td>autumn</td>\n",
       "      <td>осень</td>\n",
       "      <td>autumnосень</td>\n",
       "      <td>-0.00</td>\n",
       "    </tr>\n",
       "    <tr>\n",
       "      <th>695</th>\n",
       "      <td>189.95</td>\n",
       "      <td>autumn</td>\n",
       "      <td>осень</td>\n",
       "      <td>autumnосень</td>\n",
       "      <td>-0.00</td>\n",
       "    </tr>\n",
       "    <tr>\n",
       "      <th>696</th>\n",
       "      <td>191.24</td>\n",
       "      <td>winter</td>\n",
       "      <td>зима</td>\n",
       "      <td>winterзима</td>\n",
       "      <td>0.01</td>\n",
       "    </tr>\n",
       "    <tr>\n",
       "      <th>697</th>\n",
       "      <td>189.43</td>\n",
       "      <td>winter</td>\n",
       "      <td>зима</td>\n",
       "      <td>winterзима</td>\n",
       "      <td>-0.00</td>\n",
       "    </tr>\n",
       "    <tr>\n",
       "      <th>698</th>\n",
       "      <td>193.25</td>\n",
       "      <td>winter</td>\n",
       "      <td>зима</td>\n",
       "      <td>winterзима</td>\n",
       "      <td>0.01</td>\n",
       "    </tr>\n",
       "  </tbody>\n",
       "</table>\n",
       "<p>233 rows × 5 columns</p>\n",
       "</div>"
      ],
      "text/plain": [
       "     price  season время года ru_eng_season  volume_pct_change\n",
       "466 125.07  winter       зима    winterзима               0.00\n",
       "467 126.36  winter       зима    winterзима               0.00\n",
       "468 125.02  winter       зима    winterзима              -0.00\n",
       "469 129.62  winter       зима    winterзима               0.03\n",
       "470 130.15  winter       зима    winterзима               0.04\n",
       "..     ...     ...        ...           ...                ...\n",
       "694 189.37  autumn      осень   autumnосень              -0.00\n",
       "695 189.95  autumn      осень   autumnосень              -0.00\n",
       "696 191.24  winter       зима    winterзима               0.01\n",
       "697 189.43  winter       зима    winterзима              -0.00\n",
       "698 193.25  winter       зима    winterзима               0.01\n",
       "\n",
       "[233 rows x 5 columns]"
      ]
     },
     "execution_count": 99,
     "metadata": {},
     "output_type": "execute_result"
    }
   ],
   "source": [
    "def concat_str(df):\n",
    "    df['ru_eng_season'] = df['season'] + df['время года']\n",
    "    return df\n",
    "\n",
    "def pct_change_price(df):\n",
    "    df['volume_pct_change'] = df['price'].pct_change(2).fillna(0)\n",
    "    return df\n",
    "\n",
    "test = aapl[['price', 'season', 'время года']].copy()\n",
    "test = test.pipe(concat_str).pipe(pct_change_price)\n",
    "test\n",
    "\n",
    "\n"
   ]
  }
 ],
 "metadata": {
  "kernelspec": {
   "display_name": "pandas_edu",
   "language": "python",
   "name": "pandas_edu"
  },
  "language_info": {
   "codemirror_mode": {
    "name": "ipython",
    "version": 3
   },
   "file_extension": ".py",
   "mimetype": "text/x-python",
   "name": "python",
   "nbconvert_exporter": "python",
   "pygments_lexer": "ipython3",
   "version": "3.12.0"
  }
 },
 "nbformat": 4,
 "nbformat_minor": 5
}
