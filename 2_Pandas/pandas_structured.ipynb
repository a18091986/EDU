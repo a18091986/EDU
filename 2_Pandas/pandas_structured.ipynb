{
 "cells": [
  {
   "cell_type": "code",
   "execution_count": 1,
   "id": "bf102a1b-a52c-4d8e-8491-f666a5dd25ea",
   "metadata": {},
   "outputs": [],
   "source": [
    "import pandas as pd\n",
    "import numpy as np"
   ]
  },
  {
   "cell_type": "code",
   "execution_count": null,
   "id": "fdd53e20-3acc-4e3d-a762-ee7c7bd11fc6",
   "metadata": {},
   "outputs": [],
   "source": []
  },
  {
   "cell_type": "code",
   "execution_count": null,
   "id": "aff5bdbe-60c8-464d-afaf-9468596c01c0",
   "metadata": {},
   "outputs": [],
   "source": []
  },
  {
   "cell_type": "markdown",
   "id": "c2cd1a78-8a2c-4597-a44d-62ca35125662",
   "metadata": {},
   "source": [
    "# Данные"
   ]
  },
  {
   "cell_type": "code",
   "execution_count": 2,
   "id": "312f28bc-87c6-49ab-925b-c21663214740",
   "metadata": {},
   "outputs": [
    {
     "data": {
      "text/html": [
       "<div>\n",
       "<style scoped>\n",
       "    .dataframe tbody tr th:only-of-type {\n",
       "        vertical-align: middle;\n",
       "    }\n",
       "\n",
       "    .dataframe tbody tr th {\n",
       "        vertical-align: top;\n",
       "    }\n",
       "\n",
       "    .dataframe thead th {\n",
       "        text-align: right;\n",
       "    }\n",
       "</style>\n",
       "<table border=\"1\" class=\"dataframe\">\n",
       "  <thead>\n",
       "    <tr style=\"text-align: right;\">\n",
       "      <th></th>\n",
       "      <th>V1</th>\n",
       "      <th>V2</th>\n",
       "      <th>V3</th>\n",
       "      <th>V4</th>\n",
       "    </tr>\n",
       "  </thead>\n",
       "  <tbody>\n",
       "    <tr>\n",
       "      <th>0</th>\n",
       "      <td>2</td>\n",
       "      <td>13.0</td>\n",
       "      <td>B</td>\n",
       "      <td>1.0</td>\n",
       "    </tr>\n",
       "  </tbody>\n",
       "</table>\n",
       "</div>"
      ],
      "text/plain": [
       "   V1    V2 V3   V4\n",
       "0   2  13.0  B  1.0"
      ]
     },
     "execution_count": 2,
     "metadata": {},
     "output_type": "execute_result"
    }
   ],
   "source": [
    "stat = pd.read_csv('https://stepik.org/media/attachments/course/4852/my_stat.csv')\n",
    "stat.head(1)"
   ]
  },
  {
   "cell_type": "markdown",
   "id": "6b18d6e4-76b9-4561-a260-14debb8146ce",
   "metadata": {},
   "source": [
    "# Конфигурирование"
   ]
  },
  {
   "cell_type": "code",
   "execution_count": null,
   "id": "cd101c5b-1616-4751-8fc0-91d6b0fccdea",
   "metadata": {},
   "outputs": [],
   "source": []
  },
  {
   "cell_type": "markdown",
   "id": "56748e7f-bb74-411e-a78c-b802b1be2844",
   "metadata": {},
   "source": [
    "# Series"
   ]
  },
  {
   "cell_type": "markdown",
   "id": "b5471853-f018-4049-ade9-ac12940ab635",
   "metadata": {},
   "source": [
    "## Способы создания"
   ]
  },
  {
   "cell_type": "code",
   "execution_count": null,
   "id": "a0176cb8-2079-4307-aaf6-517d6c2be071",
   "metadata": {},
   "outputs": [],
   "source": []
  },
  {
   "cell_type": "markdown",
   "id": "f0cfd4ca-1472-4e6e-ad2d-3a0c5a3d8c00",
   "metadata": {},
   "source": [
    "#"
   ]
  },
  {
   "cell_type": "markdown",
   "id": "94a0923b-2312-4a46-9da8-63c06d0e37ac",
   "metadata": {},
   "source": [
    "# DataFrame"
   ]
  },
  {
   "cell_type": "markdown",
   "id": "f664a0a9-74a0-43f2-a318-d231c2941e83",
   "metadata": {},
   "source": []
  },
  {
   "cell_type": "markdown",
   "id": "7f636857-6bff-4b14-bf12-d4e1c43d80d5",
   "metadata": {},
   "source": [
    "# Способы создания"
   ]
  },
  {
   "cell_type": "markdown",
   "id": "cb97ea5b-f401-4f27-8cba-33d177955c04",
   "metadata": {},
   "source": [
    "# Чтение данных из разных источников"
   ]
  },
  {
   "cell_type": "markdown",
   "id": "22c464be-3923-4bd7-a7e9-c9d4d2156500",
   "metadata": {},
   "source": [
    "### Интересные параметры"
   ]
  },
  {
   "cell_type": "code",
   "execution_count": 3,
   "id": "ed5f515e-1772-41cd-a4a9-81c4abc6c5b5",
   "metadata": {},
   "outputs": [],
   "source": [
    "# index_col - сообщаем какую колоку использовать в качестве индексной (по индексу или по названию)"
   ]
  },
  {
   "cell_type": "markdown",
   "id": "49787e94-5b09-422e-a80a-36deddb18a99",
   "metadata": {
    "jp-MarkdownHeadingCollapsed": true
   },
   "source": [
    "### JSON"
   ]
  },
  {
   "cell_type": "markdown",
   "id": "03112b3f-ebbc-4b3d-86f3-3b8f8d1a4ecc",
   "metadata": {
    "jp-MarkdownHeadingCollapsed": true
   },
   "source": [
    "### CSV"
   ]
  },
  {
   "cell_type": "markdown",
   "id": "d187d09d-8fe3-414c-b788-8256a6109476",
   "metadata": {
    "jp-MarkdownHeadingCollapsed": true
   },
   "source": [
    "### Excel"
   ]
  },
  {
   "cell_type": "markdown",
   "id": "8be6ee2c-311c-444d-8ddd-5f5181d27d8c",
   "metadata": {},
   "source": [
    "### SQL"
   ]
  },
  {
   "cell_type": "markdown",
   "id": "3d4435ae-16a9-47e7-8d94-fe10bde8332c",
   "metadata": {},
   "source": [
    "# Переименование столбцов, индексов"
   ]
  },
  {
   "cell_type": "code",
   "execution_count": 4,
   "id": "a291c574-3ff1-4cd4-b5ae-0c4de0415bb6",
   "metadata": {},
   "outputs": [],
   "source": [
    "#%timeit stat.columns = {'session_value':'V1', 'group':'V2', 'time':'V3', 'n_users':'V4'}\n",
    "#%timeit stat.columns = ['session_value','group','time','n_users']\n",
    "#%timeit stat.rename(columns={'V1': 'session_value', 'V2': 'group', 'V3': 'time', 'V4': 'n_users'})\n",
    "#%timeit stat.columns = ['V1','V2','V3','V4']"
   ]
  },
  {
   "cell_type": "code",
   "execution_count": 5,
   "id": "033a2a4b-3eba-437f-ba23-99ef6fa00fb1",
   "metadata": {},
   "outputs": [
    {
     "data": {
      "text/plain": [
       "Index(['V1', 'V2', 'V3', 'V4'], dtype='object')"
      ]
     },
     "execution_count": 5,
     "metadata": {},
     "output_type": "execute_result"
    }
   ],
   "source": [
    "stat.columns = {'session_value':'V1', 'group':'V2', 'time':'V3', 'n_users':'V4'}\n",
    "stat.columns = ['V1','V2','V3','V4']\n",
    "stat.columns"
   ]
  },
  {
   "cell_type": "markdown",
   "id": "d954bda2-f39a-4716-a420-a89be0c0f182",
   "metadata": {},
   "source": [
    "# Первичная обработка данных"
   ]
  },
  {
   "cell_type": "markdown",
   "id": "bd5ed29c-f30a-416d-8a01-9d15cc26ac86",
   "metadata": {},
   "source": [
    "## Дубликаты"
   ]
  },
  {
   "cell_type": "markdown",
   "id": "38712e27-1759-40a3-9642-64aad3593a31",
   "metadata": {},
   "source": [
    "## Пропуски"
   ]
  },
  {
   "cell_type": "code",
   "execution_count": 6,
   "id": "463923b9-4970-4380-b1a9-4a5b5a9ae8b4",
   "metadata": {},
   "outputs": [
    {
     "name": "stdout",
     "output_type": "stream",
     "text": [
      "V1    5\n",
      "V2    8\n",
      "V3    5\n",
      "V4    5\n",
      "dtype: int64\n",
      "V1    5\n",
      "V2    8\n",
      "V3    0\n",
      "V4    5\n",
      "dtype: int64\n",
      "V1    0\n",
      "V2    0\n",
      "V3    0\n",
      "V4    0\n",
      "dtype: int64\n"
     ]
    }
   ],
   "source": [
    "make_na_indexes = stat.sample(20).index\n",
    "stat.loc[stat.index.isin(make_na_indexes[:5]), 'V3'] = np.nan\n",
    "stat.loc[stat.index.isin(make_na_indexes[5:10]), 'V4'] = np.nan\n",
    "stat.loc[stat.index.isin(make_na_indexes[7:15]), 'V2'] = np.nan\n",
    "stat.loc[stat.index.isin(make_na_indexes[15:21]), 'V1'] = np.nan\n",
    "print(stat.isna().sum())\n",
    "stat.V3 = stat.V3.fillna(0)\n",
    "print(stat.isna().sum())\n",
    "stat = stat.fillna(value={'V1': stat.loc[stat['V1'] > 0, 'V1'].median(), 'V2': stat['V2'].max(), 'V3': stat['V3'].mode(), 'V4': 0})\n",
    "print(stat.isna().sum())"
   ]
  },
  {
   "cell_type": "markdown",
   "id": "23f49606-cc98-4ec5-82ee-cfa4879abe58",
   "metadata": {},
   "source": [
    "# Первичное исследование данных"
   ]
  },
  {
   "cell_type": "code",
   "execution_count": 7,
   "id": "5d3bb32a-e026-42c2-8820-18e2c4b5f45c",
   "metadata": {},
   "outputs": [],
   "source": [
    "# info, describe, unique, value_counts, "
   ]
  },
  {
   "cell_type": "markdown",
   "id": "1348230e-ff81-4c7a-94c8-fa18dd09b5d5",
   "metadata": {},
   "source": [
    "# Индексирование, срезы"
   ]
  },
  {
   "cell_type": "markdown",
   "id": "75582ccd-9154-4e84-bd4e-620db7ec9e05",
   "metadata": {},
   "source": [
    "# Замена данных"
   ]
  },
  {
   "cell_type": "code",
   "execution_count": null,
   "id": "ab433a18-ecb0-4dcc-92e3-6e8254a89501",
   "metadata": {},
   "outputs": [],
   "source": []
  },
  {
   "cell_type": "code",
   "execution_count": 8,
   "id": "be474e3e-32e5-468b-8b52-efb9bf584c3f",
   "metadata": {},
   "outputs": [
    {
     "name": "stdout",
     "output_type": "stream",
     "text": [
      "V1\n",
      " 0.0    193\n",
      " 1.0     86\n",
      "-1.0     72\n",
      "-2.0     48\n",
      " 2.0     43\n",
      " 3.0     24\n",
      "-3.0     16\n",
      " 4.0      6\n",
      " 5.0      4\n",
      "-4.0      4\n",
      " 6.0      1\n",
      "-5.0      1\n",
      "-6.0      1\n",
      " 7.0      1\n",
      "Name: count, dtype: int64\n",
      "V1\n",
      " 0.0    263\n",
      " 1.0     86\n",
      "-1.0     72\n",
      " 2.0     43\n",
      " 3.0     24\n",
      " 4.0      6\n",
      " 5.0      4\n",
      " 6.0      1\n",
      " 7.0      1\n",
      "Name: count, dtype: int64\n",
      "V1\n",
      " 100.0    428\n",
      "-1.0       72\n",
      "Name: count, dtype: int64\n",
      "V1\n",
      " 1000.0    428\n",
      "-1.0        72\n",
      "Name: count, dtype: int64\n"
     ]
    }
   ],
   "source": [
    "print(stat.V1.value_counts())\n",
    "stat.loc[stat.V1 < -1, 'V1'] = stat.query('V1 > -1')['V1'].median()\n",
    "print(stat.V1.value_counts())\n",
    "stat.V1 = stat.V1.where(stat.V1 == -1, 100)\n",
    "print(stat.V1.value_counts())\n",
    "stat.loc[stat.V1 == 100, 'V1'] = 1000\n",
    "print(stat.V1.value_counts())"
   ]
  },
  {
   "cell_type": "markdown",
   "id": "7932c756-7fff-463c-845a-9fd7104fee70",
   "metadata": {},
   "source": [
    "# Работа со строками"
   ]
  },
  {
   "cell_type": "markdown",
   "id": "27c87df6-a5f2-457f-9db6-01732c52152a",
   "metadata": {},
   "source": [
    "### Отсев строк по индексу"
   ]
  },
  {
   "cell_type": "code",
   "execution_count": 9,
   "id": "2cdce909-d996-4de6-b0ac-3e02da48aa6d",
   "metadata": {},
   "outputs": [
    {
     "data": {
      "text/html": [
       "<div>\n",
       "<style scoped>\n",
       "    .dataframe tbody tr th:only-of-type {\n",
       "        vertical-align: middle;\n",
       "    }\n",
       "\n",
       "    .dataframe tbody tr th {\n",
       "        vertical-align: top;\n",
       "    }\n",
       "\n",
       "    .dataframe thead th {\n",
       "        text-align: right;\n",
       "    }\n",
       "</style>\n",
       "<table border=\"1\" class=\"dataframe\">\n",
       "  <thead>\n",
       "    <tr style=\"text-align: right;\">\n",
       "      <th></th>\n",
       "      <th>V1</th>\n",
       "      <th>V2</th>\n",
       "    </tr>\n",
       "  </thead>\n",
       "  <tbody>\n",
       "    <tr>\n",
       "      <th>0</th>\n",
       "      <td>1000.0</td>\n",
       "      <td>13.0</td>\n",
       "    </tr>\n",
       "    <tr>\n",
       "      <th>2</th>\n",
       "      <td>1000.0</td>\n",
       "      <td>11.0</td>\n",
       "    </tr>\n",
       "    <tr>\n",
       "      <th>4</th>\n",
       "      <td>1000.0</td>\n",
       "      <td>10.0</td>\n",
       "    </tr>\n",
       "    <tr>\n",
       "      <th>5</th>\n",
       "      <td>1000.0</td>\n",
       "      <td>11.0</td>\n",
       "    </tr>\n",
       "    <tr>\n",
       "      <th>6</th>\n",
       "      <td>1000.0</td>\n",
       "      <td>9.0</td>\n",
       "    </tr>\n",
       "    <tr>\n",
       "      <th>...</th>\n",
       "      <td>...</td>\n",
       "      <td>...</td>\n",
       "    </tr>\n",
       "    <tr>\n",
       "      <th>495</th>\n",
       "      <td>1000.0</td>\n",
       "      <td>8.0</td>\n",
       "    </tr>\n",
       "    <tr>\n",
       "      <th>496</th>\n",
       "      <td>1000.0</td>\n",
       "      <td>8.0</td>\n",
       "    </tr>\n",
       "    <tr>\n",
       "      <th>497</th>\n",
       "      <td>-1.0</td>\n",
       "      <td>11.0</td>\n",
       "    </tr>\n",
       "    <tr>\n",
       "      <th>498</th>\n",
       "      <td>1000.0</td>\n",
       "      <td>13.0</td>\n",
       "    </tr>\n",
       "    <tr>\n",
       "      <th>499</th>\n",
       "      <td>1000.0</td>\n",
       "      <td>13.0</td>\n",
       "    </tr>\n",
       "  </tbody>\n",
       "</table>\n",
       "<p>498 rows × 2 columns</p>\n",
       "</div>"
      ],
      "text/plain": [
       "         V1    V2\n",
       "0    1000.0  13.0\n",
       "2    1000.0  11.0\n",
       "4    1000.0  10.0\n",
       "5    1000.0  11.0\n",
       "6    1000.0   9.0\n",
       "..      ...   ...\n",
       "495  1000.0   8.0\n",
       "496  1000.0   8.0\n",
       "497    -1.0  11.0\n",
       "498  1000.0  13.0\n",
       "499  1000.0  13.0\n",
       "\n",
       "[498 rows x 2 columns]"
      ]
     },
     "execution_count": 9,
     "metadata": {},
     "output_type": "execute_result"
    }
   ],
   "source": [
    "# отобрать из DF все строки кроме 2 и 4, колонки 1 и 2\n",
    "stat.iloc[~stat.index.isin([1,3]), :2]\n",
    "stat.iloc[:, :2].drop(labels=[1,3], axis=0)\n",
    "stat.drop(index=[1,3], columns=['V3', 'V4'])\n",
    "stat.iloc[:, :2].query('index != 1 and index != 3')"
   ]
  },
  {
   "cell_type": "markdown",
   "id": "899b2fbc-38e7-4d92-84d4-9714b6a01a2d",
   "metadata": {},
   "source": [
    "### Перебор строк DataFrame"
   ]
  },
  {
   "cell_type": "code",
   "execution_count": null,
   "id": "e48bf28e-5ef4-4d11-8d48-58d7330426ce",
   "metadata": {},
   "outputs": [],
   "source": []
  },
  {
   "cell_type": "markdown",
   "id": "ded19865-31f9-4013-b01f-44739252bea0",
   "metadata": {},
   "source": [
    "# Работа со столбцами"
   ]
  },
  {
   "cell_type": "markdown",
   "id": "f0c12ef6-5793-46f3-bc4e-9074180cf43c",
   "metadata": {},
   "source": [
    "# Фильтрация"
   ]
  },
  {
   "cell_type": "markdown",
   "id": "eae53ef7-5eda-459d-aec9-0ab30a0d2434",
   "metadata": {},
   "source": [
    "## По условию"
   ]
  },
  {
   "cell_type": "markdown",
   "id": "3aaed64c-1e74-4680-8dca-955c1f0d251f",
   "metadata": {},
   "source": [
    "### C помощью булевых масок"
   ]
  },
  {
   "cell_type": "code",
   "execution_count": 10,
   "id": "6e709f2e-5c32-4024-850f-85ac75b3d5c4",
   "metadata": {},
   "outputs": [
    {
     "data": {
      "text/html": [
       "<div>\n",
       "<style scoped>\n",
       "    .dataframe tbody tr th:only-of-type {\n",
       "        vertical-align: middle;\n",
       "    }\n",
       "\n",
       "    .dataframe tbody tr th {\n",
       "        vertical-align: top;\n",
       "    }\n",
       "\n",
       "    .dataframe thead th {\n",
       "        text-align: right;\n",
       "    }\n",
       "</style>\n",
       "<table border=\"1\" class=\"dataframe\">\n",
       "  <thead>\n",
       "    <tr style=\"text-align: right;\">\n",
       "      <th></th>\n",
       "      <th>V3</th>\n",
       "      <th>V4</th>\n",
       "    </tr>\n",
       "  </thead>\n",
       "  <tbody>\n",
       "    <tr>\n",
       "      <th>2</th>\n",
       "      <td>A</td>\n",
       "      <td>0.0</td>\n",
       "    </tr>\n",
       "    <tr>\n",
       "      <th>3</th>\n",
       "      <td>A</td>\n",
       "      <td>2.0</td>\n",
       "    </tr>\n",
       "    <tr>\n",
       "      <th>4</th>\n",
       "      <td>B</td>\n",
       "      <td>-1.0</td>\n",
       "    </tr>\n",
       "    <tr>\n",
       "      <th>5</th>\n",
       "      <td>A</td>\n",
       "      <td>0.0</td>\n",
       "    </tr>\n",
       "    <tr>\n",
       "      <th>9</th>\n",
       "      <td>A</td>\n",
       "      <td>0.0</td>\n",
       "    </tr>\n",
       "    <tr>\n",
       "      <th>...</th>\n",
       "      <td>...</td>\n",
       "      <td>...</td>\n",
       "    </tr>\n",
       "    <tr>\n",
       "      <th>487</th>\n",
       "      <td>B</td>\n",
       "      <td>-0.0</td>\n",
       "    </tr>\n",
       "    <tr>\n",
       "      <th>488</th>\n",
       "      <td>B</td>\n",
       "      <td>-0.0</td>\n",
       "    </tr>\n",
       "    <tr>\n",
       "      <th>489</th>\n",
       "      <td>A</td>\n",
       "      <td>-0.0</td>\n",
       "    </tr>\n",
       "    <tr>\n",
       "      <th>494</th>\n",
       "      <td>A</td>\n",
       "      <td>1.0</td>\n",
       "    </tr>\n",
       "    <tr>\n",
       "      <th>497</th>\n",
       "      <td>B</td>\n",
       "      <td>2.0</td>\n",
       "    </tr>\n",
       "  </tbody>\n",
       "</table>\n",
       "<p>304 rows × 2 columns</p>\n",
       "</div>"
      ],
      "text/plain": [
       "    V3   V4\n",
       "2    A  0.0\n",
       "3    A  2.0\n",
       "4    B -1.0\n",
       "5    A  0.0\n",
       "9    A  0.0\n",
       "..  ..  ...\n",
       "487  B -0.0\n",
       "488  B -0.0\n",
       "489  A -0.0\n",
       "494  A  1.0\n",
       "497  B  2.0\n",
       "\n",
       "[304 rows x 2 columns]"
      ]
     },
     "execution_count": 10,
     "metadata": {},
     "output_type": "execute_result"
    }
   ],
   "source": [
    "find_value = 'A'\n",
    "stat[(stat.V1 > 0) & (stat.V3 == find_value)]\n",
    "# отрицание (инвертирование)\n",
    "stat[~(stat.V2 == 10) & (stat.V4 >= 1)].shape\n",
    "# список значений\n",
    "stat.loc[stat.V2.isin([10, 11]), ['V3', 'V4']]"
   ]
  },
  {
   "cell_type": "markdown",
   "id": "df798771-3759-4e93-a1c2-d8c30cad5c52",
   "metadata": {},
   "source": [
    "### query"
   ]
  },
  {
   "cell_type": "code",
   "execution_count": 11,
   "id": "3a4f228f-4403-4e1f-b6a0-d4811b45ffd8",
   "metadata": {},
   "outputs": [
    {
     "data": {
      "text/plain": [
       "(214, 4)"
      ]
     },
     "execution_count": 11,
     "metadata": {},
     "output_type": "execute_result"
    }
   ],
   "source": [
    "find_value = 'A'\n",
    "subset_1 = stat.query('V1 > 0 and V3 == @find_value')\n",
    "subset_2 = stat.query('V2 != 10 and V4 >= 1')\n",
    "subset_2.shape"
   ]
  },
  {
   "cell_type": "markdown",
   "id": "4325496c-6080-41e7-88be-7ae8e6fd4ac3",
   "metadata": {},
   "source": [
    "## По названиям и индексам строк и столбцов"
   ]
  },
  {
   "cell_type": "code",
   "execution_count": 12,
   "id": "1c4877a2-439c-4452-8a86-05d78cf16b8e",
   "metadata": {},
   "outputs": [
    {
     "data": {
      "text/plain": [
       "(498, 2)"
      ]
     },
     "execution_count": 12,
     "metadata": {},
     "output_type": "execute_result"
    }
   ],
   "source": [
    "# отобрать из DF все строки кроме 2 и 4, колонки 1 и 2\n",
    "stat.iloc[~stat.index.isin([1,3]), :2]\n",
    "stat.iloc[:, :2].drop(labels=[1,3], axis=0)\n",
    "stat.drop(index=[1,3], columns=['V3', 'V4'])\n",
    "stat.iloc[:, :2].query('index != 1 and index != 3').shape"
   ]
  },
  {
   "cell_type": "markdown",
   "id": "fd83e92f-dc30-446e-8d8d-048aca5aa876",
   "metadata": {},
   "source": [
    "### По условию на значения в столбцах"
   ]
  },
  {
   "cell_type": "markdown",
   "id": "2a579e91-38d8-4bf8-8907-d87f37fd96fc",
   "metadata": {},
   "source": [
    "# Сортировка"
   ]
  },
  {
   "cell_type": "markdown",
   "id": "d2a4d3e7-51df-4534-84d3-cafd1c424599",
   "metadata": {},
   "source": [
    "# Применение функций"
   ]
  },
  {
   "cell_type": "markdown",
   "id": "2e2479de-1e15-4db6-bb21-a5e9dc1ee66f",
   "metadata": {},
   "source": [
    "# Столбцы"
   ]
  },
  {
   "cell_type": "code",
   "execution_count": 13,
   "id": "d5786851-cbf6-4254-981b-f11ef8bb7381",
   "metadata": {},
   "outputs": [],
   "source": [
    "def sum_col_with_two(col):\n",
    "    return col + 2"
   ]
  },
  {
   "cell_type": "markdown",
   "id": "e3c1ee74-cdbb-4a76-8631-a97ce5582120",
   "metadata": {},
   "source": [
    "### apply"
   ]
  },
  {
   "cell_type": "code",
   "execution_count": 14,
   "id": "1f4be8c1-27c1-4ce6-8cfc-8ff839f61e8c",
   "metadata": {},
   "outputs": [
    {
     "data": {
      "text/plain": [
       "0    1013.0\n",
       "dtype: float64"
      ]
     },
     "execution_count": 14,
     "metadata": {},
     "output_type": "execute_result"
    }
   ],
   "source": [
    "stat.apply(lambda x: x.V1 + x.V2, axis = 1).head(1)"
   ]
  },
  {
   "cell_type": "markdown",
   "id": "dceb7b6f-29d7-40ec-a91c-591e56e7826d",
   "metadata": {},
   "source": [
    "### assign"
   ]
  },
  {
   "cell_type": "code",
   "execution_count": 15,
   "id": "04f82f25-2eaf-4692-b5ab-7cd2913e4441",
   "metadata": {},
   "outputs": [
    {
     "data": {
      "text/html": [
       "<div>\n",
       "<style scoped>\n",
       "    .dataframe tbody tr th:only-of-type {\n",
       "        vertical-align: middle;\n",
       "    }\n",
       "\n",
       "    .dataframe tbody tr th {\n",
       "        vertical-align: top;\n",
       "    }\n",
       "\n",
       "    .dataframe thead th {\n",
       "        text-align: right;\n",
       "    }\n",
       "</style>\n",
       "<table border=\"1\" class=\"dataframe\">\n",
       "  <thead>\n",
       "    <tr style=\"text-align: right;\">\n",
       "      <th></th>\n",
       "      <th>V1</th>\n",
       "      <th>V2</th>\n",
       "      <th>V3</th>\n",
       "      <th>V4</th>\n",
       "      <th>new_1</th>\n",
       "      <th>new_2</th>\n",
       "      <th>new_3</th>\n",
       "      <th>new_4</th>\n",
       "      <th>new_5</th>\n",
       "    </tr>\n",
       "  </thead>\n",
       "  <tbody>\n",
       "    <tr>\n",
       "      <th>0</th>\n",
       "      <td>1000.0</td>\n",
       "      <td>13.0</td>\n",
       "      <td>B</td>\n",
       "      <td>1.0</td>\n",
       "      <td>15.0</td>\n",
       "      <td>1013.0</td>\n",
       "      <td>2.8</td>\n",
       "      <td>1013.0</td>\n",
       "      <td>2.564949</td>\n",
       "    </tr>\n",
       "    <tr>\n",
       "      <th>1</th>\n",
       "      <td>-1.0</td>\n",
       "      <td>7.0</td>\n",
       "      <td>B</td>\n",
       "      <td>1.0</td>\n",
       "      <td>9.0</td>\n",
       "      <td>6.0</td>\n",
       "      <td>2.8</td>\n",
       "      <td>6.0</td>\n",
       "      <td>1.945910</td>\n",
       "    </tr>\n",
       "    <tr>\n",
       "      <th>2</th>\n",
       "      <td>1000.0</td>\n",
       "      <td>11.0</td>\n",
       "      <td>A</td>\n",
       "      <td>0.0</td>\n",
       "      <td>13.0</td>\n",
       "      <td>1011.0</td>\n",
       "      <td>2.8</td>\n",
       "      <td>1011.0</td>\n",
       "      <td>2.397895</td>\n",
       "    </tr>\n",
       "    <tr>\n",
       "      <th>3</th>\n",
       "      <td>1000.0</td>\n",
       "      <td>11.0</td>\n",
       "      <td>A</td>\n",
       "      <td>2.0</td>\n",
       "      <td>13.0</td>\n",
       "      <td>1011.0</td>\n",
       "      <td>2.8</td>\n",
       "      <td>1011.0</td>\n",
       "      <td>2.397895</td>\n",
       "    </tr>\n",
       "    <tr>\n",
       "      <th>4</th>\n",
       "      <td>1000.0</td>\n",
       "      <td>10.0</td>\n",
       "      <td>B</td>\n",
       "      <td>-1.0</td>\n",
       "      <td>12.0</td>\n",
       "      <td>1010.0</td>\n",
       "      <td>2.8</td>\n",
       "      <td>1010.0</td>\n",
       "      <td>2.302585</td>\n",
       "    </tr>\n",
       "    <tr>\n",
       "      <th>...</th>\n",
       "      <td>...</td>\n",
       "      <td>...</td>\n",
       "      <td>...</td>\n",
       "      <td>...</td>\n",
       "      <td>...</td>\n",
       "      <td>...</td>\n",
       "      <td>...</td>\n",
       "      <td>...</td>\n",
       "      <td>...</td>\n",
       "    </tr>\n",
       "    <tr>\n",
       "      <th>495</th>\n",
       "      <td>1000.0</td>\n",
       "      <td>8.0</td>\n",
       "      <td>A</td>\n",
       "      <td>-1.0</td>\n",
       "      <td>10.0</td>\n",
       "      <td>1008.0</td>\n",
       "      <td>2.8</td>\n",
       "      <td>1008.0</td>\n",
       "      <td>2.079442</td>\n",
       "    </tr>\n",
       "    <tr>\n",
       "      <th>496</th>\n",
       "      <td>1000.0</td>\n",
       "      <td>8.0</td>\n",
       "      <td>A</td>\n",
       "      <td>1.0</td>\n",
       "      <td>10.0</td>\n",
       "      <td>1008.0</td>\n",
       "      <td>2.8</td>\n",
       "      <td>1008.0</td>\n",
       "      <td>2.079442</td>\n",
       "    </tr>\n",
       "    <tr>\n",
       "      <th>497</th>\n",
       "      <td>-1.0</td>\n",
       "      <td>11.0</td>\n",
       "      <td>B</td>\n",
       "      <td>2.0</td>\n",
       "      <td>13.0</td>\n",
       "      <td>10.0</td>\n",
       "      <td>2.8</td>\n",
       "      <td>10.0</td>\n",
       "      <td>2.397895</td>\n",
       "    </tr>\n",
       "    <tr>\n",
       "      <th>498</th>\n",
       "      <td>1000.0</td>\n",
       "      <td>13.0</td>\n",
       "      <td>A</td>\n",
       "      <td>2.0</td>\n",
       "      <td>15.0</td>\n",
       "      <td>1013.0</td>\n",
       "      <td>2.8</td>\n",
       "      <td>1013.0</td>\n",
       "      <td>2.564949</td>\n",
       "    </tr>\n",
       "    <tr>\n",
       "      <th>499</th>\n",
       "      <td>1000.0</td>\n",
       "      <td>13.0</td>\n",
       "      <td>B</td>\n",
       "      <td>0.0</td>\n",
       "      <td>15.0</td>\n",
       "      <td>1013.0</td>\n",
       "      <td>2.8</td>\n",
       "      <td>1013.0</td>\n",
       "      <td>2.564949</td>\n",
       "    </tr>\n",
       "  </tbody>\n",
       "</table>\n",
       "<p>500 rows × 9 columns</p>\n",
       "</div>"
      ],
      "text/plain": [
       "         V1    V2 V3   V4  new_1   new_2  new_3   new_4     new_5\n",
       "0    1000.0  13.0  B  1.0   15.0  1013.0    2.8  1013.0  2.564949\n",
       "1      -1.0   7.0  B  1.0    9.0     6.0    2.8     6.0  1.945910\n",
       "2    1000.0  11.0  A  0.0   13.0  1011.0    2.8  1011.0  2.397895\n",
       "3    1000.0  11.0  A  2.0   13.0  1011.0    2.8  1011.0  2.397895\n",
       "4    1000.0  10.0  B -1.0   12.0  1010.0    2.8  1010.0  2.302585\n",
       "..      ...   ... ..  ...    ...     ...    ...     ...       ...\n",
       "495  1000.0   8.0  A -1.0   10.0  1008.0    2.8  1008.0  2.079442\n",
       "496  1000.0   8.0  A  1.0   10.0  1008.0    2.8  1008.0  2.079442\n",
       "497    -1.0  11.0  B  2.0   13.0    10.0    2.8    10.0  2.397895\n",
       "498  1000.0  13.0  A  2.0   15.0  1013.0    2.8  1013.0  2.564949\n",
       "499  1000.0  13.0  B  0.0   15.0  1013.0    2.8  1013.0  2.564949\n",
       "\n",
       "[500 rows x 9 columns]"
      ]
     },
     "execution_count": 15,
     "metadata": {},
     "output_type": "execute_result"
    }
   ],
   "source": [
    "stat.assign(new_col = stat['V1'] + stat['V2']).head(1)\n",
    "stat.assign(new_col = sum_col_with_two(stat['V2'])).head(1)\n",
    "# несколько колонок\n",
    "stat.assign(new_1 = sum_col_with_two(stat['V2']), new_2 = lambda x: x.V1 + x.V2, new_3 = 2 + 4 / 5, new_4 = stat.V1 + stat.V2, new_5 = np.log(stat.V2))"
   ]
  },
  {
   "cell_type": "markdown",
   "id": "d0acc825-7182-4b37-8661-659696d8316c",
   "metadata": {},
   "source": [
    "### eval"
   ]
  },
  {
   "cell_type": "code",
   "execution_count": 16,
   "id": "4c3a0d33-549e-4357-90db-0d2b33d42bd3",
   "metadata": {},
   "outputs": [
    {
     "data": {
      "text/html": [
       "<div>\n",
       "<style scoped>\n",
       "    .dataframe tbody tr th:only-of-type {\n",
       "        vertical-align: middle;\n",
       "    }\n",
       "\n",
       "    .dataframe tbody tr th {\n",
       "        vertical-align: top;\n",
       "    }\n",
       "\n",
       "    .dataframe thead th {\n",
       "        text-align: right;\n",
       "    }\n",
       "</style>\n",
       "<table border=\"1\" class=\"dataframe\">\n",
       "  <thead>\n",
       "    <tr style=\"text-align: right;\">\n",
       "      <th></th>\n",
       "      <th>V1</th>\n",
       "      <th>V2</th>\n",
       "      <th>V3</th>\n",
       "      <th>V4</th>\n",
       "      <th>new_col</th>\n",
       "    </tr>\n",
       "  </thead>\n",
       "  <tbody>\n",
       "    <tr>\n",
       "      <th>0</th>\n",
       "      <td>1000.0</td>\n",
       "      <td>13.0</td>\n",
       "      <td>B</td>\n",
       "      <td>1.0</td>\n",
       "      <td>1013.0</td>\n",
       "    </tr>\n",
       "  </tbody>\n",
       "</table>\n",
       "</div>"
      ],
      "text/plain": [
       "       V1    V2 V3   V4  new_col\n",
       "0  1000.0  13.0  B  1.0   1013.0"
      ]
     },
     "execution_count": 16,
     "metadata": {},
     "output_type": "execute_result"
    }
   ],
   "source": [
    "# только для простых математических операций с колонками DF\n",
    "stat.eval('new_col = (V1 + V2) / V4').head(1)"
   ]
  },
  {
   "cell_type": "code",
   "execution_count": 17,
   "id": "fc05c507-00cb-473e-820c-742dc5b7edc0",
   "metadata": {},
   "outputs": [],
   "source": [
    "# df.sum(axis=1) - сумммирование по строкам \n",
    "# df.sum(axis=0) - суммирование по столбцам"
   ]
  },
  {
   "cell_type": "code",
   "execution_count": null,
   "id": "3ccf53c5-0fa5-4839-b763-fee78fb94673",
   "metadata": {},
   "outputs": [],
   "source": []
  },
  {
   "cell_type": "markdown",
   "id": "343cc690-d6dc-4f03-b13c-c807606819aa",
   "metadata": {},
   "source": [
    "# Группировка и агрегация"
   ]
  },
  {
   "cell_type": "markdown",
   "id": "34ed7278-8b1d-40f1-9e2e-d4472913048d",
   "metadata": {},
   "source": [
    "## Groupby"
   ]
  },
  {
   "cell_type": "markdown",
   "id": "cf171858-052d-4abb-b49b-df9740090e16",
   "metadata": {},
   "source": [
    "### Подсчет количества значений"
   ]
  },
  {
   "cell_type": "markdown",
   "id": "7f523d05-4dda-412b-8ea5-df2d12fd1a21",
   "metadata": {},
   "source": [
    "## agg"
   ]
  },
  {
   "cell_type": "code",
   "execution_count": 25,
   "id": "15878313-1055-45e9-8a5b-3f25e0f5a4a8",
   "metadata": {},
   "outputs": [
    {
     "data": {
      "text/html": [
       "<div>\n",
       "<style scoped>\n",
       "    .dataframe tbody tr th:only-of-type {\n",
       "        vertical-align: middle;\n",
       "    }\n",
       "\n",
       "    .dataframe tbody tr th {\n",
       "        vertical-align: top;\n",
       "    }\n",
       "\n",
       "    .dataframe thead th {\n",
       "        text-align: right;\n",
       "    }\n",
       "</style>\n",
       "<table border=\"1\" class=\"dataframe\">\n",
       "  <thead>\n",
       "    <tr style=\"text-align: right;\">\n",
       "      <th></th>\n",
       "      <th>V3</th>\n",
       "      <th>V2_mean</th>\n",
       "    </tr>\n",
       "  </thead>\n",
       "  <tbody>\n",
       "    <tr>\n",
       "      <th>0</th>\n",
       "      <td>0</td>\n",
       "      <td>10.200000</td>\n",
       "    </tr>\n",
       "    <tr>\n",
       "      <th>1</th>\n",
       "      <td>A</td>\n",
       "      <td>10.137652</td>\n",
       "    </tr>\n",
       "    <tr>\n",
       "      <th>2</th>\n",
       "      <td>B</td>\n",
       "      <td>10.040323</td>\n",
       "    </tr>\n",
       "  </tbody>\n",
       "</table>\n",
       "</div>"
      ],
      "text/plain": [
       "  V3    V2_mean\n",
       "0  0  10.200000\n",
       "1  A  10.137652\n",
       "2  B  10.040323"
      ]
     },
     "execution_count": 25,
     "metadata": {},
     "output_type": "execute_result"
    }
   ],
   "source": [
    "stat.groupby('V3', as_index = False).agg({'V2': 'mean'}).rename(columns={'V2':'V2_mean'})"
   ]
  },
  {
   "cell_type": "markdown",
   "id": "ffe27436-d065-4803-b85c-bb7b99d1bc9e",
   "metadata": {},
   "source": [
    "## aggregate"
   ]
  },
  {
   "cell_type": "markdown",
   "id": "8119785d-3230-4e35-b775-ea2a2e47654b",
   "metadata": {},
   "source": [
    "# Мультииндексы"
   ]
  },
  {
   "cell_type": "markdown",
   "id": "9336ab07-2114-4303-ba64-64efdc7de92e",
   "metadata": {},
   "source": [
    "# Объединение датафреймов"
   ]
  },
  {
   "cell_type": "code",
   "execution_count": 18,
   "id": "bfc7f232-1f2f-4993-b79d-937b89ed7902",
   "metadata": {},
   "outputs": [],
   "source": [
    "# concat, merge, "
   ]
  },
  {
   "cell_type": "markdown",
   "id": "1cf83b7b-2426-4bbe-b1e9-4a617e899e79",
   "metadata": {},
   "source": [
    "# Изменение формы таблицы"
   ]
  },
  {
   "cell_type": "code",
   "execution_count": 19,
   "id": "eddc3242-5658-4969-8349-4ae5cf7fd8a7",
   "metadata": {},
   "outputs": [],
   "source": [
    "# https://medium.com/swlh/reshape-pandas-data-frames-30c218ff07aa\n",
    "# https://python-school.ru/blog/pandas-reshaping/"
   ]
  },
  {
   "cell_type": "markdown",
   "id": "26a8dc33-72bc-4fa9-8e4a-b49728b3c574",
   "metadata": {},
   "source": [
    "## Stack"
   ]
  },
  {
   "cell_type": "markdown",
   "id": "c83e2c92-14e6-4065-88ff-ad1a3996dfeb",
   "metadata": {},
   "source": [
    "## Unstack"
   ]
  },
  {
   "cell_type": "markdown",
   "id": "9399c819-29ca-486f-85a1-6330981f5344",
   "metadata": {},
   "source": [
    "## Melt"
   ]
  },
  {
   "cell_type": "markdown",
   "id": "34f77bc6-86af-49a8-8637-8eac5047ec35",
   "metadata": {},
   "source": [
    "## Pivot table (сводная таблица)"
   ]
  },
  {
   "cell_type": "markdown",
   "id": "b53bd7ad-82d2-4fdb-8e66-13b4b405ed29",
   "metadata": {},
   "source": [
    "# Работа с временными рядами"
   ]
  },
  {
   "cell_type": "code",
   "execution_count": 26,
   "id": "cbb766d6-4e60-487a-9369-7634bdb36e4f",
   "metadata": {},
   "outputs": [],
   "source": [
    "# handle dates and times, perform time series analysis, generating data ranges and frequencies, \n",
    "# time series data resample, time series data shifting and rolling"
   ]
  },
  {
   "cell_type": "code",
   "execution_count": 35,
   "id": "fb100082-aee3-4f8e-b1a8-a7df0fc3d4ca",
   "metadata": {},
   "outputs": [
    {
     "name": "stdout",
     "output_type": "stream",
     "text": [
      "2023 10 31\n"
     ]
    }
   ],
   "source": [
    "time_period = pd.Period('2023-10-04', freq='M')\n",
    "year = time_period.year\n",
    "month = time_period.month\n",
    "day = time_period.day\n",
    "print(year, month, day)\n"
   ]
  },
  {
   "cell_type": "code",
   "execution_count": 37,
   "id": "7b1525be-e7c6-4240-abce-6d04ae464153",
   "metadata": {},
   "outputs": [
    {
     "name": "stdout",
     "output_type": "stream",
     "text": [
      "2025-12-24 10:00:00\n"
     ]
    }
   ],
   "source": [
    "timestamp = pd.Timestamp('2023-10-04 10:00:00')\n",
    "time_offset = pd.DateOffset(years=2, months=1, days=50)\n",
    "print(timestamp + time_offset)"
   ]
  },
  {
   "cell_type": "code",
   "execution_count": 39,
   "id": "761ccc04-3ef0-42e2-a028-843666b6de88",
   "metadata": {},
   "outputs": [
    {
     "data": {
      "text/plain": [
       "DatetimeIndex(['2011-01-01 00:00:00', '2011-01-01 01:00:00',\n",
       "               '2011-01-01 02:00:00', '2011-01-01 03:00:00',\n",
       "               '2011-01-01 04:00:00', '2011-01-01 05:00:00',\n",
       "               '2011-01-01 06:00:00', '2011-01-01 07:00:00',\n",
       "               '2011-01-01 08:00:00', '2011-01-01 09:00:00'],\n",
       "              dtype='datetime64[ns]', freq='H')"
      ]
     },
     "execution_count": 39,
     "metadata": {},
     "output_type": "execute_result"
    }
   ],
   "source": [
    "data = pd.date_range('1-1-2011', periods=10, freq='H')\n",
    "data"
   ]
  },
  {
   "cell_type": "code",
   "execution_count": 46,
   "id": "cd98523c-7096-441b-8377-e119f355bee6",
   "metadata": {},
   "outputs": [
    {
     "data": {
      "text/plain": [
       "2020"
      ]
     },
     "execution_count": 46,
     "metadata": {},
     "output_type": "execute_result"
    }
   ],
   "source": [
    "pd.to_datetime('10-10-2020 12:00:00').year"
   ]
  },
  {
   "cell_type": "code",
   "execution_count": 52,
   "id": "a13ea3d3-81a3-482c-9316-114841a50694",
   "metadata": {},
   "outputs": [
    {
     "name": "stdout",
     "output_type": "stream",
     "text": [
      "object\n",
      "0    22\n",
      "1    20\n",
      "Name: Time, dtype: int32\n",
      "datetime64[ns]\n"
     ]
    }
   ],
   "source": [
    "dt_df = pd.read_csv('http://bit.ly/uforeports')\n",
    "print(dt_df['Time'].dtype)\n",
    "print(pd.to_datetime(dt_df['Time']).dt.hour.head(2))\n",
    "dt_df = pd.read_csv('http://bit.ly/uforeports', parse_dates=['Time'])\n",
    "print(dt_df['Time'].dtype)"
   ]
  },
  {
   "cell_type": "markdown",
   "id": "a01dc54c-1dee-40f2-960b-8e313f8a374b",
   "metadata": {},
   "source": [
    "# Работа с текстовой информацией"
   ]
  },
  {
   "cell_type": "code",
   "execution_count": 21,
   "id": "ea92f067-2683-41fd-a7d9-a9d0fca733da",
   "metadata": {},
   "outputs": [],
   "source": [
    "# handle strings, perform text analysis, extraction information from text, regular expressions, \n",
    "# strings split and join with pandas, characters replace and removing with pandas"
   ]
  },
  {
   "cell_type": "markdown",
   "id": "08206ec6-c27e-4096-bf0b-f7f6d3013154",
   "metadata": {},
   "source": [
    "# Работа с категориальными данными"
   ]
  },
  {
   "cell_type": "code",
   "execution_count": 22,
   "id": "067d325b-dcd2-44e9-9595-22773177962e",
   "metadata": {},
   "outputs": [],
   "source": [
    "# categorical variables handling, categorical analysis, encode and decode categories with pandas,\n",
    "# compare and ordering categories \n",
    "# rename categories"
   ]
  },
  {
   "cell_type": "code",
   "execution_count": null,
   "id": "c57bd4da-1445-4a60-96c2-5bdfbe69596d",
   "metadata": {},
   "outputs": [],
   "source": []
  }
 ],
 "metadata": {
  "kernelspec": {
   "display_name": "Python 3 (ipykernel)",
   "language": "python",
   "name": "python3"
  },
  "language_info": {
   "codemirror_mode": {
    "name": "ipython",
    "version": 3
   },
   "file_extension": ".py",
   "mimetype": "text/x-python",
   "name": "python",
   "nbconvert_exporter": "python",
   "pygments_lexer": "ipython3",
   "version": "3.12.0"
  }
 },
 "nbformat": 4,
 "nbformat_minor": 5
}
