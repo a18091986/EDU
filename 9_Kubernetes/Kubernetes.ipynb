{
 "cells": [
  {
   "cell_type": "markdown",
   "id": "8c9be19d-cd49-4f9c-ac74-3dc9a0221160",
   "metadata": {
    "editable": true,
    "slideshow": {
     "slide_type": ""
    },
    "tags": []
   },
   "source": [
    "# Ресурсы"
   ]
  },
  {
   "cell_type": "markdown",
   "id": "64a53e7d-a077-4402-9301-ea56793f67db",
   "metadata": {
    "editable": true,
    "slideshow": {
     "slide_type": ""
    },
    "tags": []
   },
   "source": [
    "онлайн-песочницы\n",
    "- https://labs.play-with-k8s.com/"
   ]
  },
  {
   "cell_type": "code",
   "execution_count": null,
   "id": "e6b7bca0-591e-468a-ab3d-8dd1321f3d94",
   "metadata": {},
   "outputs": [],
   "source": []
  },
  {
   "cell_type": "markdown",
   "id": "9e1270d9-1152-4ae4-9c35-78960e77c94a",
   "metadata": {},
   "source": [
    "# Описание"
   ]
  },
  {
   "cell_type": "raw",
   "id": "2a867d64-a266-48e5-9946-a4945edca214",
   "metadata": {},
   "source": [
    "- Kubernetes - это один большой набор API, стандартизированный и простой во взаимодейтсвии. Он предоставляет нам богатейший инструментарий по взаимодействию с приложением. Если грубо, он управляет Нодами (узлами/серверами) и Подами.\n",
    "\n",
    "- Pod в Kubernetes - это минимальная единица, в составе Пода может быть несколько контейнеров. Подами можно управлять разными способами, об этом поговорим в дальнейшем.\n",
    "\n",
    "- Что можно сделать в Kubernetes?\n",
    "\n",
    "- Развернуть приложение\n",
    "- Настроить автоматический контроль количества реплик Вашего приложения\n",
    "- Ограничить приложение по ресурсам\n",
    "- Настроить автомасштабирование (горизонтальное или вертикальное) Вашего приложения, при повышении нагрузки\n",
    "- Настроить балансировку нагрузки\n",
    "- Настроить сетевые доступы к приложению и от него\n",
    "- Настроить доступы пользователей\n",
    "- Делать сине-зеленый деплой (чтиво)\n",
    "- Делать rollback (откат) в случае неудачного деплоя\n",
    "- Настроить канареечные релизы с помощью Istio (например, на новую версию приложения будет поступать 5% трафика, на старую 95%)\n",
    "- Настроить политики обновлений\n",
    "- Остановить трафик, попадающий на реплику приложения, не прошедшую health-check (проверка на работоспособность приложения)\n",
    "- Перезагружать приложение, не прошедшее health-check\n",
    "и т.д."
   ]
  },
  {
   "cell_type": "markdown",
   "id": "12cbdb90-7d80-400d-9cf6-cbdd2d506ea4",
   "metadata": {},
   "source": [
    "# Инфраструктура"
   ]
  },
  {
   "cell_type": "markdown",
   "id": "27d5d134-b95f-48e0-b3cc-630ebfce8e20",
   "metadata": {},
   "source": [
    "https://stepik.org/lesson/550236/step/2?unit=543873"
   ]
  },
  {
   "cell_type": "markdown",
   "id": "7d4cba17-d9c4-41a8-9e58-13f6d0d1a823",
   "metadata": {},
   "source": [
    "![title](haha.jpeg)"
   ]
  },
  {
   "cell_type": "markdown",
   "id": "eba76fe3-5b28-4efb-b196-c872a7daa5dd",
   "metadata": {},
   "source": [
    "# Minikube\n",
    "\n",
    "инструмент для запуска одноузлового кластера kubernetes"
   ]
  },
  {
   "cell_type": "markdown",
   "id": "ed64b42a-5700-4725-a4ec-a4e9175ca753",
   "metadata": {},
   "source": [
    "## Установка"
   ]
  },
  {
   "cell_type": "markdown",
   "id": "d6d380c8-ee43-48fc-ae28-11c94871e424",
   "metadata": {},
   "source": [
    "### Установка и настройка kubectl\n",
    "\n",
    "https://kubernetes.io/ru/docs/tasks/tools/install-kubectl/#%D1%83%D1%81%D1%82%D0%B0%D0%BD%D0%BE%D0%B2%D0%BA%D0%B0-kubectl-%D0%B2-linux"
   ]
  },
  {
   "cell_type": "code",
   "execution_count": null,
   "id": "13d56e64-2280-4255-a3e3-14211f18d764",
   "metadata": {},
   "outputs": [],
   "source": [
    "curl -LO https://dl.k8s.io/release/`curl -LS https://dl.k8s.io/release/stable.txt`/bin/linux/amd64/kubectl\n",
    "chmod +x ./kubectl\n",
    "sudo mv ./kubectl /usr/local/bin/kubectl\n",
    "kubectl version --client"
   ]
  },
  {
   "cell_type": "markdown",
   "id": "75307cd0-50d9-4c81-9105-b324d5e1512b",
   "metadata": {},
   "source": [
    "### Установка и настройка minicube\n",
    "https://kubernetes.io/ru/docs/tasks/tools/install-minikube/"
   ]
  },
  {
   "cell_type": "raw",
   "id": "5f8f5c05-601f-4a62-92f0-e5e6e8d14c37",
   "metadata": {},
   "source": [
    "- Чтобы проверить, поддерживается ли виртуализация в Linux, выполните следующую команду и проверьте, что вывод не пустой:\n",
    "grep -E --color 'vmx|svm' /proc/cpuinfo\n",
    "\n",
    "curl -Lo minikube https://storage.googleapis.com/minikube/releases/latest/minikube-linux-amd64 \\\n",
    "  && chmod +x minikube\n",
    "\n",
    "sudo mkdir -p /usr/local/bin/\n",
    "sudo install minikube /usr/local/bin/\n",
    "\n",
    "sudo apt-get install -y conntrack\n",
    "\n",
    "VERSION=\"v1.29.0\" \n",
    "curl -L https://github.com/kubernetes-sigs/cri-tools/releases/download/$VERSION/crictl-${VERSION}-linux-amd64.tar.gz --output crictl-${VERSION}-linux-amd64.tar.gz\n",
    "sudo tar zxvf crictl-$VERSION-linux-amd64.tar.gz -C /usr/local/bin\n",
    "rm -f crictl-$VERSION-linux-amd64.tar.gz\n",
    "\n",
    "minikube start\n",
    "minikube status\n"
   ]
  },
  {
   "cell_type": "code",
   "execution_count": null,
   "id": "57c6b977-6506-4346-b2db-a93f7a7bf815",
   "metadata": {},
   "outputs": [],
   "source": []
  }
 ],
 "metadata": {
  "kernelspec": {
   "display_name": "Python 3 (ipykernel)",
   "language": "python",
   "name": "python3"
  },
  "language_info": {
   "codemirror_mode": {
    "name": "ipython",
    "version": 3
   },
   "file_extension": ".py",
   "mimetype": "text/x-python",
   "name": "python",
   "nbconvert_exporter": "python",
   "pygments_lexer": "ipython3",
   "version": "3.12.0"
  }
 },
 "nbformat": 4,
 "nbformat_minor": 5
}
